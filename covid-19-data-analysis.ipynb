{
 "metadata": {
  "language_info": {
   "codemirror_mode": {
    "name": "ipython",
    "version": 3
   },
   "file_extension": ".py",
   "mimetype": "text/x-python",
   "name": "python",
   "nbconvert_exporter": "python",
   "pygments_lexer": "ipython3",
   "version": "3.8.2-final"
  },
  "orig_nbformat": 2,
  "kernelspec": {
   "name": "python38264bit68067ce15c1f4af9a39b21d3b83d88d6",
   "display_name": "Python 3.8.2 64-bit"
  }
 },
 "nbformat": 4,
 "nbformat_minor": 2,
 "cells": [
  {
   "cell_type": "code",
   "execution_count": 1,
   "metadata": {
    "tags": []
   },
   "outputs": [],
   "source": [
    "import pandas as pd\n",
    "import numpy as np\n",
    "import plotly.graph_objects as go\n",
    "import plotly.express as px"
   ]
  },
  {
   "cell_type": "code",
   "execution_count": 2,
   "metadata": {},
   "outputs": [],
   "source": [
    "country_cases_file_link = \"https://raw.githubusercontent.com/CSSEGISandData/COVID-19/web-data/data/cases_country.csv\"\n",
    "confirmed_cases_file_link = \"https://raw.githubusercontent.com/CSSEGISandData/COVID-19/master/csse_covid_19_data/csse_covid_19_time_series/time_series_covid19_confirmed_global.csv\"\n",
    "death_cases_file_link = \"https://raw.githubusercontent.com/CSSEGISandData/COVID-19/master/csse_covid_19_data/csse_covid_19_time_series/time_series_covid19_deaths_global.csv\"\n",
    "recovered_cases_file_link = \"https://raw.githubusercontent.com/CSSEGISandData/COVID-19/master/csse_covid_19_data/csse_covid_19_time_series/time_series_covid19_recovered_global.csv\""
   ]
  },
  {
   "cell_type": "code",
   "execution_count": 3,
   "metadata": {
    "tags": []
   },
   "outputs": [],
   "source": [
    "cases_country_df = pd.read_csv(country_cases_file_link)\n",
    "confirmed_df = pd.read_csv(confirmed_cases_file_link)\n",
    "death_df = pd.read_csv(death_cases_file_link)\n",
    "recovered_df = pd.read_csv(recovered_cases_file_link)"
   ]
  },
  {
   "cell_type": "code",
   "execution_count": 4,
   "metadata": {
    "tags": []
   },
   "outputs": [
    {
     "output_type": "execute_result",
     "data": {
      "text/plain": "<pandas.io.formats.style.Styler at 0x7fbc2cfcd520>",
      "text/html": "<style  type=\"text/css\" >\n</style><table id=\"T_fe8f6142_cdcd_11ea_b7fa_7989de7c49bf\" ><thead>    <tr>        <th class=\"blank level0\" ></th>        <th class=\"col_heading level0 col0\" >Confirmed</th>        <th class=\"col_heading level0 col1\" >Deaths</th>        <th class=\"col_heading level0 col2\" >Recovered</th>        <th class=\"col_heading level0 col3\" >Active</th>    </tr></thead><tbody>\n                <tr>\n                        <th id=\"T_fe8f6142_cdcd_11ea_b7fa_7989de7c49bflevel0_row0\" class=\"row_heading level0 row0\" >0</th>\n                        <td id=\"T_fe8f6142_cdcd_11ea_b7fa_7989de7c49bfrow0_col0\" class=\"data row0 col0\" >15,578,624</td>\n                        <td id=\"T_fe8f6142_cdcd_11ea_b7fa_7989de7c49bfrow0_col1\" class=\"data row0 col1\" >634,744</td>\n                        <td id=\"T_fe8f6142_cdcd_11ea_b7fa_7989de7c49bfrow0_col2\" class=\"data row0 col2\" >8,896,897</td>\n                        <td id=\"T_fe8f6142_cdcd_11ea_b7fa_7989de7c49bfrow0_col3\" class=\"data row0 col3\" >6,082,766</td>\n            </tr>\n    </tbody></table>"
     },
     "metadata": {},
     "execution_count": 4
    }
   ],
   "source": [
    "global_data = cases_country_df.copy().drop(['Country_Region', 'Last_Update', 'Lat', 'Long_','Incident_Rate', 'People_Tested','People_Hospitalized', 'Mortality_Rate', 'UID', 'ISO3'],axis=1)\n",
    "global_summary = pd.DataFrame(global_data.sum()).transpose()\n",
    "global_summary.style.format(\"{:,.0f}\")\n"
   ]
  },
  {
   "cell_type": "code",
   "execution_count": 5,
   "metadata": {
    "tags": []
   },
   "outputs": [],
   "source": [
    "confirmed_dropped = confirmed_df.copy().drop(['Lat', 'Long','Province/State'],axis=1)\n",
    "confirmed_dropped_summary = confirmed_dropped.sum()"
   ]
  },
  {
   "cell_type": "code",
   "execution_count": 8,
   "metadata": {},
   "outputs": [
    {
     "output_type": "display_data",
     "data": {
      "application/vnd.plotly.v1+json": {
       "config": {
        "plotlyServerURL": "https://plot.ly"
       },
       "data": [
        {
         "mode": "lines+markers",
         "type": "scatter",
         "x": [
          "Country/Region",
          "1/22/20",
          "1/23/20",
          "1/24/20",
          "1/25/20",
          "1/26/20",
          "1/27/20",
          "1/28/20",
          "1/29/20",
          "1/30/20",
          "1/31/20",
          "2/1/20",
          "2/2/20",
          "2/3/20",
          "2/4/20",
          "2/5/20",
          "2/6/20",
          "2/7/20",
          "2/8/20",
          "2/9/20",
          "2/10/20",
          "2/11/20",
          "2/12/20",
          "2/13/20",
          "2/14/20",
          "2/15/20",
          "2/16/20",
          "2/17/20",
          "2/18/20",
          "2/19/20",
          "2/20/20",
          "2/21/20",
          "2/22/20",
          "2/23/20",
          "2/24/20",
          "2/25/20",
          "2/26/20",
          "2/27/20",
          "2/28/20",
          "2/29/20",
          "3/1/20",
          "3/2/20",
          "3/3/20",
          "3/4/20",
          "3/5/20",
          "3/6/20",
          "3/7/20",
          "3/8/20",
          "3/9/20",
          "3/10/20",
          "3/11/20",
          "3/12/20",
          "3/13/20",
          "3/14/20",
          "3/15/20",
          "3/16/20",
          "3/17/20",
          "3/18/20",
          "3/19/20",
          "3/20/20",
          "3/21/20",
          "3/22/20",
          "3/23/20",
          "3/24/20",
          "3/25/20",
          "3/26/20",
          "3/27/20",
          "3/28/20",
          "3/29/20",
          "3/30/20",
          "3/31/20",
          "4/1/20",
          "4/2/20",
          "4/3/20",
          "4/4/20",
          "4/5/20",
          "4/6/20",
          "4/7/20",
          "4/8/20",
          "4/9/20",
          "4/10/20",
          "4/11/20",
          "4/12/20",
          "4/13/20",
          "4/14/20",
          "4/15/20",
          "4/16/20",
          "4/17/20",
          "4/18/20",
          "4/19/20",
          "4/20/20",
          "4/21/20",
          "4/22/20",
          "4/23/20",
          "4/24/20",
          "4/25/20",
          "4/26/20",
          "4/27/20",
          "4/28/20",
          "4/29/20",
          "4/30/20",
          "5/1/20",
          "5/2/20",
          "5/3/20",
          "5/4/20",
          "5/5/20",
          "5/6/20",
          "5/7/20",
          "5/8/20",
          "5/9/20",
          "5/10/20",
          "5/11/20",
          "5/12/20",
          "5/13/20",
          "5/14/20",
          "5/15/20",
          "5/16/20",
          "5/17/20",
          "5/18/20",
          "5/19/20",
          "5/20/20",
          "5/21/20",
          "5/22/20",
          "5/23/20",
          "5/24/20",
          "5/25/20",
          "5/26/20",
          "5/27/20",
          "5/28/20",
          "5/29/20",
          "5/30/20",
          "5/31/20",
          "6/1/20",
          "6/2/20",
          "6/3/20",
          "6/4/20",
          "6/5/20",
          "6/6/20",
          "6/7/20",
          "6/8/20",
          "6/9/20",
          "6/10/20",
          "6/11/20",
          "6/12/20",
          "6/13/20",
          "6/14/20",
          "6/15/20",
          "6/16/20",
          "6/17/20",
          "6/18/20",
          "6/19/20",
          "6/20/20",
          "6/21/20",
          "6/22/20",
          "6/23/20",
          "6/24/20",
          "6/25/20",
          "6/26/20",
          "6/27/20",
          "6/28/20",
          "6/29/20",
          "6/30/20",
          "7/1/20",
          "7/2/20",
          "7/3/20",
          "7/4/20",
          "7/5/20",
          "7/6/20",
          "7/7/20",
          "7/8/20",
          "7/9/20",
          "7/10/20",
          "7/11/20",
          "7/12/20",
          "7/13/20",
          "7/14/20",
          "7/15/20",
          "7/16/20",
          "7/17/20",
          "7/18/20",
          "7/19/20",
          "7/20/20",
          "7/21/20",
          "7/22/20",
          "7/23/20"
         ],
         "y": [
          "AfghanistanAlbaniaAlgeriaAndorraAngolaAntigua and BarbudaArgentinaArmeniaAustraliaAustraliaAustraliaAustraliaAustraliaAustraliaAustraliaAustraliaAustriaAzerbaijanBahamasBahrainBangladeshBarbadosBelarusBelgiumBeninBhutanBoliviaBosnia and HerzegovinaBrazilBruneiBulgariaBurkina FasoCabo VerdeCambodiaCameroonCanadaCanadaCanadaCanadaCanadaCanadaCanadaCanadaCanadaCanadaCanadaCentral African RepublicChadChileChinaChinaChinaChinaChinaChinaChinaChinaChinaChinaChinaChinaChinaChinaChinaChinaChinaChinaChinaChinaChinaChinaChinaChinaChinaChinaChinaChinaChinaChinaChinaChinaChinaColombiaCongo (Brazzaville)Congo (Kinshasa)Costa RicaCote d'IvoireCroatiaDiamond PrincessCubaCyprusCzechiaDenmarkDenmarkDenmarkDjiboutiDominican RepublicEcuadorEgyptEl SalvadorEquatorial GuineaEritreaEstoniaEswatiniEthiopiaFijiFinlandFranceFranceFranceFranceFranceFranceFranceFranceFranceFranceGabonGambiaGeorgiaGermanyGhanaGreeceGuatemalaGuineaGuyanaHaitiHoly SeeHondurasHungaryIcelandIndiaIndonesiaIranIraqIrelandIsraelItalyJamaicaJapanJordanKazakhstanKenyaKorea, SouthKuwaitKyrgyzstanLatviaLebanonLiberiaLiechtensteinLithuaniaLuxembourgMadagascarMalaysiaMaldivesMaltaMauritaniaMauritiusMexicoMoldovaMonacoMongoliaMontenegroMoroccoNamibiaNepalNetherlandsNetherlandsNetherlandsNetherlandsNew ZealandNicaraguaNigerNigeriaNorth MacedoniaNorwayOmanPakistanPanamaPapua New GuineaParaguayPeruPhilippinesPolandPortugalQatarRomaniaRussiaRwandaSaint LuciaSaint Vincent and the GrenadinesSan MarinoSaudi ArabiaSenegalSerbiaSeychellesSingaporeSlovakiaSloveniaSomaliaSouth AfricaSpainSri LankaSudanSurinameSwedenSwitzerlandTaiwan*TanzaniaThailandTogoTrinidad and TobagoTunisiaTurkeyUgandaUkraineUnited Arab EmiratesUnited KingdomUnited KingdomUnited KingdomUnited KingdomUnited KingdomUnited KingdomUnited KingdomUruguayUSUzbekistanVenezuelaVietnamZambiaZimbabweCanadaDominicaGrenadaMozambiqueSyriaTimor-LesteBelizeLaosLibyaWest Bank and GazaGuinea-BissauMaliSaint Kitts and NevisCanadaCanadaKosovoBurmaUnited KingdomUnited KingdomUnited KingdomMS ZaandamBotswanaBurundiSierra LeoneNetherlandsMalawiUnited KingdomFranceSouth SudanWestern SaharaSao Tome and PrincipeYemenComorosTajikistanLesotho",
          555,
          654,
          941,
          1434,
          2118,
          2927,
          5578,
          6166,
          8234,
          9927,
          12038,
          16787,
          19887,
          23898,
          27643,
          30802,
          34395,
          37129,
          40159,
          42768,
          44810,
          45228,
          60381,
          66908,
          69050,
          71234,
          73269,
          75151,
          75651,
          76211,
          76840,
          78601,
          78979,
          79543,
          80396,
          81373,
          82737,
          84114,
          86009,
          88386,
          90360,
          92938,
          95237,
          98028,
          101971,
          106009,
          109960,
          113860,
          118884,
          126547,
          132297,
          146704,
          157795,
          168941,
          183600,
          199444,
          219037,
          246955,
          276564,
          308842,
          342255,
          384420,
          425559,
          476376,
          539336,
          603736,
          671344,
          730921,
          795560,
          871976,
          948197,
          1029598,
          1112753,
          1193128,
          1264846,
          1337518,
          1414391,
          1498166,
          1584791,
          1672449,
          1749169,
          1845951,
          1915545,
          1985472,
          2066301,
          2163013,
          2250737,
          2324265,
          2404790,
          2478129,
          2553379,
          2630185,
          2719198,
          2806138,
          2890259,
          2963206,
          3031910,
          3107209,
          3184255,
          3267936,
          3354984,
          3435571,
          3513207,
          3589284,
          3669273,
          3759295,
          3848381,
          3939898,
          4023533,
          4099779,
          4176020,
          4259619,
          4344371,
          4441476,
          4537825,
          4629638,
          4708147,
          4796431,
          4892855,
          4995883,
          5102217,
          5209117,
          5308100,
          5403426,
          5490389,
          5582911,
          5685511,
          5804825,
          5925992,
          6054857,
          6162409,
          6257605,
          6378415,
          6497803,
          6624740,
          6755603,
          6882801,
          6995060,
          7097285,
          7221627,
          7355652,
          7493766,
          7622860,
          7757197,
          7890618,
          8010256,
          8151659,
          8327791,
          8467719,
          8648525,
          8806077,
          8934616,
          9072474,
          9237812,
          9408995,
          9586882,
          9778228,
          9956338,
          10117968,
          10276540,
          10450438,
          10668127,
          10875832,
          11079326,
          11272893,
          11455588,
          11622931,
          11833775,
          12045577,
          12273804,
          12506381,
          12722709,
          12915377,
          13108156,
          13329608,
          13560727,
          13813268,
          14055307,
          14292942,
          14507589,
          14714367,
          14947822,
          15228433,
          15511157
         ]
        }
       ],
       "layout": {
        "template": {
         "data": {
          "bar": [
           {
            "error_x": {
             "color": "#2a3f5f"
            },
            "error_y": {
             "color": "#2a3f5f"
            },
            "marker": {
             "line": {
              "color": "#E5ECF6",
              "width": 0.5
             }
            },
            "type": "bar"
           }
          ],
          "barpolar": [
           {
            "marker": {
             "line": {
              "color": "#E5ECF6",
              "width": 0.5
             }
            },
            "type": "barpolar"
           }
          ],
          "carpet": [
           {
            "aaxis": {
             "endlinecolor": "#2a3f5f",
             "gridcolor": "white",
             "linecolor": "white",
             "minorgridcolor": "white",
             "startlinecolor": "#2a3f5f"
            },
            "baxis": {
             "endlinecolor": "#2a3f5f",
             "gridcolor": "white",
             "linecolor": "white",
             "minorgridcolor": "white",
             "startlinecolor": "#2a3f5f"
            },
            "type": "carpet"
           }
          ],
          "choropleth": [
           {
            "colorbar": {
             "outlinewidth": 0,
             "ticks": ""
            },
            "type": "choropleth"
           }
          ],
          "contour": [
           {
            "colorbar": {
             "outlinewidth": 0,
             "ticks": ""
            },
            "colorscale": [
             [
              0,
              "#0d0887"
             ],
             [
              0.1111111111111111,
              "#46039f"
             ],
             [
              0.2222222222222222,
              "#7201a8"
             ],
             [
              0.3333333333333333,
              "#9c179e"
             ],
             [
              0.4444444444444444,
              "#bd3786"
             ],
             [
              0.5555555555555556,
              "#d8576b"
             ],
             [
              0.6666666666666666,
              "#ed7953"
             ],
             [
              0.7777777777777778,
              "#fb9f3a"
             ],
             [
              0.8888888888888888,
              "#fdca26"
             ],
             [
              1,
              "#f0f921"
             ]
            ],
            "type": "contour"
           }
          ],
          "contourcarpet": [
           {
            "colorbar": {
             "outlinewidth": 0,
             "ticks": ""
            },
            "type": "contourcarpet"
           }
          ],
          "heatmap": [
           {
            "colorbar": {
             "outlinewidth": 0,
             "ticks": ""
            },
            "colorscale": [
             [
              0,
              "#0d0887"
             ],
             [
              0.1111111111111111,
              "#46039f"
             ],
             [
              0.2222222222222222,
              "#7201a8"
             ],
             [
              0.3333333333333333,
              "#9c179e"
             ],
             [
              0.4444444444444444,
              "#bd3786"
             ],
             [
              0.5555555555555556,
              "#d8576b"
             ],
             [
              0.6666666666666666,
              "#ed7953"
             ],
             [
              0.7777777777777778,
              "#fb9f3a"
             ],
             [
              0.8888888888888888,
              "#fdca26"
             ],
             [
              1,
              "#f0f921"
             ]
            ],
            "type": "heatmap"
           }
          ],
          "heatmapgl": [
           {
            "colorbar": {
             "outlinewidth": 0,
             "ticks": ""
            },
            "colorscale": [
             [
              0,
              "#0d0887"
             ],
             [
              0.1111111111111111,
              "#46039f"
             ],
             [
              0.2222222222222222,
              "#7201a8"
             ],
             [
              0.3333333333333333,
              "#9c179e"
             ],
             [
              0.4444444444444444,
              "#bd3786"
             ],
             [
              0.5555555555555556,
              "#d8576b"
             ],
             [
              0.6666666666666666,
              "#ed7953"
             ],
             [
              0.7777777777777778,
              "#fb9f3a"
             ],
             [
              0.8888888888888888,
              "#fdca26"
             ],
             [
              1,
              "#f0f921"
             ]
            ],
            "type": "heatmapgl"
           }
          ],
          "histogram": [
           {
            "marker": {
             "colorbar": {
              "outlinewidth": 0,
              "ticks": ""
             }
            },
            "type": "histogram"
           }
          ],
          "histogram2d": [
           {
            "colorbar": {
             "outlinewidth": 0,
             "ticks": ""
            },
            "colorscale": [
             [
              0,
              "#0d0887"
             ],
             [
              0.1111111111111111,
              "#46039f"
             ],
             [
              0.2222222222222222,
              "#7201a8"
             ],
             [
              0.3333333333333333,
              "#9c179e"
             ],
             [
              0.4444444444444444,
              "#bd3786"
             ],
             [
              0.5555555555555556,
              "#d8576b"
             ],
             [
              0.6666666666666666,
              "#ed7953"
             ],
             [
              0.7777777777777778,
              "#fb9f3a"
             ],
             [
              0.8888888888888888,
              "#fdca26"
             ],
             [
              1,
              "#f0f921"
             ]
            ],
            "type": "histogram2d"
           }
          ],
          "histogram2dcontour": [
           {
            "colorbar": {
             "outlinewidth": 0,
             "ticks": ""
            },
            "colorscale": [
             [
              0,
              "#0d0887"
             ],
             [
              0.1111111111111111,
              "#46039f"
             ],
             [
              0.2222222222222222,
              "#7201a8"
             ],
             [
              0.3333333333333333,
              "#9c179e"
             ],
             [
              0.4444444444444444,
              "#bd3786"
             ],
             [
              0.5555555555555556,
              "#d8576b"
             ],
             [
              0.6666666666666666,
              "#ed7953"
             ],
             [
              0.7777777777777778,
              "#fb9f3a"
             ],
             [
              0.8888888888888888,
              "#fdca26"
             ],
             [
              1,
              "#f0f921"
             ]
            ],
            "type": "histogram2dcontour"
           }
          ],
          "mesh3d": [
           {
            "colorbar": {
             "outlinewidth": 0,
             "ticks": ""
            },
            "type": "mesh3d"
           }
          ],
          "parcoords": [
           {
            "line": {
             "colorbar": {
              "outlinewidth": 0,
              "ticks": ""
             }
            },
            "type": "parcoords"
           }
          ],
          "pie": [
           {
            "automargin": true,
            "type": "pie"
           }
          ],
          "scatter": [
           {
            "marker": {
             "colorbar": {
              "outlinewidth": 0,
              "ticks": ""
             }
            },
            "type": "scatter"
           }
          ],
          "scatter3d": [
           {
            "line": {
             "colorbar": {
              "outlinewidth": 0,
              "ticks": ""
             }
            },
            "marker": {
             "colorbar": {
              "outlinewidth": 0,
              "ticks": ""
             }
            },
            "type": "scatter3d"
           }
          ],
          "scattercarpet": [
           {
            "marker": {
             "colorbar": {
              "outlinewidth": 0,
              "ticks": ""
             }
            },
            "type": "scattercarpet"
           }
          ],
          "scattergeo": [
           {
            "marker": {
             "colorbar": {
              "outlinewidth": 0,
              "ticks": ""
             }
            },
            "type": "scattergeo"
           }
          ],
          "scattergl": [
           {
            "marker": {
             "colorbar": {
              "outlinewidth": 0,
              "ticks": ""
             }
            },
            "type": "scattergl"
           }
          ],
          "scattermapbox": [
           {
            "marker": {
             "colorbar": {
              "outlinewidth": 0,
              "ticks": ""
             }
            },
            "type": "scattermapbox"
           }
          ],
          "scatterpolar": [
           {
            "marker": {
             "colorbar": {
              "outlinewidth": 0,
              "ticks": ""
             }
            },
            "type": "scatterpolar"
           }
          ],
          "scatterpolargl": [
           {
            "marker": {
             "colorbar": {
              "outlinewidth": 0,
              "ticks": ""
             }
            },
            "type": "scatterpolargl"
           }
          ],
          "scatterternary": [
           {
            "marker": {
             "colorbar": {
              "outlinewidth": 0,
              "ticks": ""
             }
            },
            "type": "scatterternary"
           }
          ],
          "surface": [
           {
            "colorbar": {
             "outlinewidth": 0,
             "ticks": ""
            },
            "colorscale": [
             [
              0,
              "#0d0887"
             ],
             [
              0.1111111111111111,
              "#46039f"
             ],
             [
              0.2222222222222222,
              "#7201a8"
             ],
             [
              0.3333333333333333,
              "#9c179e"
             ],
             [
              0.4444444444444444,
              "#bd3786"
             ],
             [
              0.5555555555555556,
              "#d8576b"
             ],
             [
              0.6666666666666666,
              "#ed7953"
             ],
             [
              0.7777777777777778,
              "#fb9f3a"
             ],
             [
              0.8888888888888888,
              "#fdca26"
             ],
             [
              1,
              "#f0f921"
             ]
            ],
            "type": "surface"
           }
          ],
          "table": [
           {
            "cells": {
             "fill": {
              "color": "#EBF0F8"
             },
             "line": {
              "color": "white"
             }
            },
            "header": {
             "fill": {
              "color": "#C8D4E3"
             },
             "line": {
              "color": "white"
             }
            },
            "type": "table"
           }
          ]
         },
         "layout": {
          "annotationdefaults": {
           "arrowcolor": "#2a3f5f",
           "arrowhead": 0,
           "arrowwidth": 1
          },
          "coloraxis": {
           "colorbar": {
            "outlinewidth": 0,
            "ticks": ""
           }
          },
          "colorscale": {
           "diverging": [
            [
             0,
             "#8e0152"
            ],
            [
             0.1,
             "#c51b7d"
            ],
            [
             0.2,
             "#de77ae"
            ],
            [
             0.3,
             "#f1b6da"
            ],
            [
             0.4,
             "#fde0ef"
            ],
            [
             0.5,
             "#f7f7f7"
            ],
            [
             0.6,
             "#e6f5d0"
            ],
            [
             0.7,
             "#b8e186"
            ],
            [
             0.8,
             "#7fbc41"
            ],
            [
             0.9,
             "#4d9221"
            ],
            [
             1,
             "#276419"
            ]
           ],
           "sequential": [
            [
             0,
             "#0d0887"
            ],
            [
             0.1111111111111111,
             "#46039f"
            ],
            [
             0.2222222222222222,
             "#7201a8"
            ],
            [
             0.3333333333333333,
             "#9c179e"
            ],
            [
             0.4444444444444444,
             "#bd3786"
            ],
            [
             0.5555555555555556,
             "#d8576b"
            ],
            [
             0.6666666666666666,
             "#ed7953"
            ],
            [
             0.7777777777777778,
             "#fb9f3a"
            ],
            [
             0.8888888888888888,
             "#fdca26"
            ],
            [
             1,
             "#f0f921"
            ]
           ],
           "sequentialminus": [
            [
             0,
             "#0d0887"
            ],
            [
             0.1111111111111111,
             "#46039f"
            ],
            [
             0.2222222222222222,
             "#7201a8"
            ],
            [
             0.3333333333333333,
             "#9c179e"
            ],
            [
             0.4444444444444444,
             "#bd3786"
            ],
            [
             0.5555555555555556,
             "#d8576b"
            ],
            [
             0.6666666666666666,
             "#ed7953"
            ],
            [
             0.7777777777777778,
             "#fb9f3a"
            ],
            [
             0.8888888888888888,
             "#fdca26"
            ],
            [
             1,
             "#f0f921"
            ]
           ]
          },
          "colorway": [
           "#636efa",
           "#EF553B",
           "#00cc96",
           "#ab63fa",
           "#FFA15A",
           "#19d3f3",
           "#FF6692",
           "#B6E880",
           "#FF97FF",
           "#FECB52"
          ],
          "font": {
           "color": "#2a3f5f"
          },
          "geo": {
           "bgcolor": "white",
           "lakecolor": "white",
           "landcolor": "#E5ECF6",
           "showlakes": true,
           "showland": true,
           "subunitcolor": "white"
          },
          "hoverlabel": {
           "align": "left"
          },
          "hovermode": "closest",
          "mapbox": {
           "style": "light"
          },
          "paper_bgcolor": "white",
          "plot_bgcolor": "#E5ECF6",
          "polar": {
           "angularaxis": {
            "gridcolor": "white",
            "linecolor": "white",
            "ticks": ""
           },
           "bgcolor": "#E5ECF6",
           "radialaxis": {
            "gridcolor": "white",
            "linecolor": "white",
            "ticks": ""
           }
          },
          "scene": {
           "xaxis": {
            "backgroundcolor": "#E5ECF6",
            "gridcolor": "white",
            "gridwidth": 2,
            "linecolor": "white",
            "showbackground": true,
            "ticks": "",
            "zerolinecolor": "white"
           },
           "yaxis": {
            "backgroundcolor": "#E5ECF6",
            "gridcolor": "white",
            "gridwidth": 2,
            "linecolor": "white",
            "showbackground": true,
            "ticks": "",
            "zerolinecolor": "white"
           },
           "zaxis": {
            "backgroundcolor": "#E5ECF6",
            "gridcolor": "white",
            "gridwidth": 2,
            "linecolor": "white",
            "showbackground": true,
            "ticks": "",
            "zerolinecolor": "white"
           }
          },
          "shapedefaults": {
           "line": {
            "color": "#2a3f5f"
           }
          },
          "ternary": {
           "aaxis": {
            "gridcolor": "white",
            "linecolor": "white",
            "ticks": ""
           },
           "baxis": {
            "gridcolor": "white",
            "linecolor": "white",
            "ticks": ""
           },
           "bgcolor": "#E5ECF6",
           "caxis": {
            "gridcolor": "white",
            "linecolor": "white",
            "ticks": ""
           }
          },
          "title": {
           "x": 0.05
          },
          "xaxis": {
           "automargin": true,
           "gridcolor": "white",
           "linecolor": "white",
           "ticks": "",
           "title": {
            "standoff": 15
           },
           "zerolinecolor": "white",
           "zerolinewidth": 2
          },
          "yaxis": {
           "automargin": true,
           "gridcolor": "white",
           "linecolor": "white",
           "ticks": "",
           "title": {
            "standoff": 15
           },
           "zerolinecolor": "white",
           "zerolinewidth": 2
          }
         }
        },
        "title": {
         "text": "Total Confirmed CoronaVirus Cases(Globally)"
        },
        "xaxis": {
         "tickangle": -45
        },
        "yaxis": {
         "title": {
          "text": "Confirmed Cases"
         }
        }
       }
      }
     },
     "metadata": {}
    }
   ],
   "source": [
    "fig1 = go.Figure(data=go.Scatter(x=confirmed_dropped_summary.index,y=confirmed_dropped_summary.values,mode='lines+markers'))\n",
    "fig1.update_layout(title=\"Total Confirmed CoronaVirus Cases(Globally)\",yaxis_title=\"Confirmed Cases\",xaxis_tickangle=315)\n",
    "fig1.show()"
   ]
  },
  {
   "cell_type": "code",
   "execution_count": 7,
   "metadata": {
    "tags": []
   },
   "outputs": [
    {
     "output_type": "execute_result",
     "data": {
      "text/plain": "<pandas.io.formats.style.Styler at 0x7fbc012c5eb0>",
      "text/html": "<style  type=\"text/css\" >\n    #T_fe8f6143_cdcd_11ea_b7fa_7989de7c49bfrow0_col1 {\n            width:  10em;\n             height:  80%;\n            background:  linear-gradient(90deg,#d65f5f 98.0%, transparent 98.0%);\n        }    #T_fe8f6143_cdcd_11ea_b7fa_7989de7c49bfrow0_col2 {\n            width:  10em;\n             height:  80%;\n            background:  linear-gradient(90deg,#d65f5f 98.0%, transparent 98.0%);\n        }    #T_fe8f6143_cdcd_11ea_b7fa_7989de7c49bfrow0_col3 {\n            width:  10em;\n             height:  80%;\n            background:  linear-gradient(90deg,#d65f5f 72.6%, transparent 72.6%);\n        }    #T_fe8f6143_cdcd_11ea_b7fa_7989de7c49bfrow0_col4 {\n            width:  10em;\n             height:  80%;\n            background:  linear-gradient(90deg,#d65f5f 98.0%, transparent 98.0%);\n        }    #T_fe8f6143_cdcd_11ea_b7fa_7989de7c49bfrow1_col1 {\n            width:  10em;\n             height:  80%;\n            background:  linear-gradient(90deg,#d65f5f 55.2%, transparent 55.2%);\n        }    #T_fe8f6143_cdcd_11ea_b7fa_7989de7c49bfrow1_col2 {\n            width:  10em;\n             height:  80%;\n            background:  linear-gradient(90deg,#d65f5f 57.0%, transparent 57.0%);\n        }    #T_fe8f6143_cdcd_11ea_b7fa_7989de7c49bfrow1_col3 {\n            width:  10em;\n             height:  80%;\n            background:  linear-gradient(90deg,#d65f5f 98.0%, transparent 98.0%);\n        }    #T_fe8f6143_cdcd_11ea_b7fa_7989de7c49bfrow1_col4 {\n            width:  10em;\n             height:  80%;\n            background:  linear-gradient(90deg,#d65f5f 19.4%, transparent 19.4%);\n        }    #T_fe8f6143_cdcd_11ea_b7fa_7989de7c49bfrow2_col1 {\n            width:  10em;\n             height:  80%;\n            background:  linear-gradient(90deg,#d65f5f 31.1%, transparent 31.1%);\n        }    #T_fe8f6143_cdcd_11ea_b7fa_7989de7c49bfrow2_col2 {\n            width:  10em;\n             height:  80%;\n            background:  linear-gradient(90deg,#d65f5f 20.7%, transparent 20.7%);\n        }    #T_fe8f6143_cdcd_11ea_b7fa_7989de7c49bfrow2_col3 {\n            width:  10em;\n             height:  80%;\n            background:  linear-gradient(90deg,#d65f5f 48.1%, transparent 48.1%);\n        }    #T_fe8f6143_cdcd_11ea_b7fa_7989de7c49bfrow2_col4 {\n            width:  10em;\n             height:  80%;\n            background:  linear-gradient(90deg,#d65f5f 15.9%, transparent 15.9%);\n        }    #T_fe8f6143_cdcd_11ea_b7fa_7989de7c49bfrow3_col1 {\n            width:  10em;\n             height:  80%;\n            background:  linear-gradient(90deg,#d65f5f 19.3%, transparent 19.3%);\n        }    #T_fe8f6143_cdcd_11ea_b7fa_7989de7c49bfrow3_col2 {\n            width:  10em;\n             height:  80%;\n            background:  linear-gradient(90deg,#d65f5f 8.8%, transparent 8.8%);\n        }    #T_fe8f6143_cdcd_11ea_b7fa_7989de7c49bfrow3_col3 {\n            width:  10em;\n             height:  80%;\n            background:  linear-gradient(90deg,#d65f5f 34.6%, transparent 34.6%);\n        }    #T_fe8f6143_cdcd_11ea_b7fa_7989de7c49bfrow3_col4 {\n            width:  10em;\n             height:  80%;\n            background:  linear-gradient(90deg,#d65f5f 7.2%, transparent 7.2%);\n        }    #T_fe8f6143_cdcd_11ea_b7fa_7989de7c49bfrow4_col1 {\n            width:  10em;\n             height:  80%;\n            background:  linear-gradient(90deg,#d65f5f 9.8%, transparent 9.8%);\n        }    #T_fe8f6143_cdcd_11ea_b7fa_7989de7c49bfrow4_col2 {\n            width:  10em;\n             height:  80%;\n            background:  linear-gradient(90deg,#d65f5f 4.1%, transparent 4.1%);\n        }    #T_fe8f6143_cdcd_11ea_b7fa_7989de7c49bfrow4_col3 {\n            width:  10em;\n             height:  80%;\n            background:  linear-gradient(90deg,#d65f5f 13.9%, transparent 13.9%);\n        }    #T_fe8f6143_cdcd_11ea_b7fa_7989de7c49bfrow4_col4 {\n            width:  10em;\n             height:  80%;\n            background:  linear-gradient(90deg,#d65f5f 6.0%, transparent 6.0%);\n        }    #T_fe8f6143_cdcd_11ea_b7fa_7989de7c49bfrow5_col1 {\n            width:  10em;\n             height:  80%;\n            background:  linear-gradient(90deg,#d65f5f 9.0%, transparent 9.0%);\n        }    #T_fe8f6143_cdcd_11ea_b7fa_7989de7c49bfrow5_col2 {\n            width:  10em;\n             height:  80%;\n            background:  linear-gradient(90deg,#d65f5f 12.0%, transparent 12.0%);\n        }    #T_fe8f6143_cdcd_11ea_b7fa_7989de7c49bfrow5_col3 {\n            width:  10em;\n             height:  80%;\n            background:  linear-gradient(90deg,#d65f5f 15.1%, transparent 15.1%);\n        }    #T_fe8f6143_cdcd_11ea_b7fa_7989de7c49bfrow5_col4 {\n            width:  10em;\n             height:  80%;\n            background:  linear-gradient(90deg,#d65f5f 3.5%, transparent 3.5%);\n        }    #T_fe8f6143_cdcd_11ea_b7fa_7989de7c49bfrow6_col1 {\n            width:  10em;\n             height:  80%;\n            background:  linear-gradient(90deg,#d65f5f 8.9%, transparent 8.9%);\n        }    #T_fe8f6143_cdcd_11ea_b7fa_7989de7c49bfrow6_col2 {\n            width:  10em;\n             height:  80%;\n            background:  linear-gradient(90deg,#d65f5f 28.4%, transparent 28.4%);\n        }    #T_fe8f6143_cdcd_11ea_b7fa_7989de7c49bfrow6_col3 {\n            width:  10em;\n             height:  80%;\n            background:  linear-gradient(90deg,#d65f5f 16.2%, transparent 16.2%);\n        }    #T_fe8f6143_cdcd_11ea_b7fa_7989de7c49bfrow6_col4 {\n            width:  10em;\n             height:  80%;\n            background:  linear-gradient(90deg,#d65f5f 1.9%, transparent 1.9%);\n        }    #T_fe8f6143_cdcd_11ea_b7fa_7989de7c49bfrow7_col1 {\n            width:  10em;\n             height:  80%;\n            background:  linear-gradient(90deg,#d65f5f 8.2%, transparent 8.2%);\n        }    #T_fe8f6143_cdcd_11ea_b7fa_7989de7c49bfrow7_col2 {\n            width:  10em;\n             height:  80%;\n            background:  linear-gradient(90deg,#d65f5f 6.0%, transparent 6.0%);\n        }    #T_fe8f6143_cdcd_11ea_b7fa_7989de7c49bfrow7_col3 {\n            width:  10em;\n             height:  80%;\n            background:  linear-gradient(90deg,#d65f5f 18.3%, transparent 18.3%);\n        }    #T_fe8f6143_cdcd_11ea_b7fa_7989de7c49bfrow7_col4 {\n            width:  10em;\n             height:  80%;\n            background:  linear-gradient(90deg,#d65f5f 0.7%, transparent 0.7%);\n        }    #T_fe8f6143_cdcd_11ea_b7fa_7989de7c49bfrow8_col1 {\n            width:  10em;\n             height:  80%;\n            background:  linear-gradient(90deg,#d65f5f 7.2%, transparent 7.2%);\n        }    #T_fe8f6143_cdcd_11ea_b7fa_7989de7c49bfrow8_col2 {\n            width:  10em;\n             height:  80%;\n            background:  linear-gradient(90deg,#d65f5f 31.0%, transparent 31.0%);\n        }    #T_fe8f6143_cdcd_11ea_b7fa_7989de7c49bfrow8_col3 {\n            width:  10em;\n             height:  80%;\n            background:  linear-gradient(90deg,#d65f5f 0.1%, transparent 0.1%);\n        }    #T_fe8f6143_cdcd_11ea_b7fa_7989de7c49bfrow8_col4 {\n            width:  10em;\n             height:  80%;\n            background:  linear-gradient(90deg,#d65f5f 9.1%, transparent 9.1%);\n        }    #T_fe8f6143_cdcd_11ea_b7fa_7989de7c49bfrow9_col1 {\n            width:  10em;\n             height:  80%;\n            background:  linear-gradient(90deg,#d65f5f 6.9%, transparent 6.9%);\n        }    #T_fe8f6143_cdcd_11ea_b7fa_7989de7c49bfrow9_col2 {\n            width:  10em;\n             height:  80%;\n            background:  linear-gradient(90deg,#d65f5f 10.4%, transparent 10.4%);\n        }    #T_fe8f6143_cdcd_11ea_b7fa_7989de7c49bfrow9_col3 {\n            width:  10em;\n             height:  80%;\n            background:  linear-gradient(90deg,#d65f5f 14.7%, transparent 14.7%);\n        }    #T_fe8f6143_cdcd_11ea_b7fa_7989de7c49bfrow9_col4 {\n            width:  10em;\n             height:  80%;\n            background:  linear-gradient(90deg,#d65f5f 0.8%, transparent 0.8%);\n        }    #T_fe8f6143_cdcd_11ea_b7fa_7989de7c49bfrow10_col1 {\n            width:  10em;\n             height:  80%;\n            background:  linear-gradient(90deg,#d65f5f 6.6%, transparent 6.6%);\n        }    #T_fe8f6143_cdcd_11ea_b7fa_7989de7c49bfrow10_col2 {\n            width:  10em;\n             height:  80%;\n            background:  linear-gradient(90deg,#d65f5f 19.3%, transparent 19.3%);\n        }    #T_fe8f6143_cdcd_11ea_b7fa_7989de7c49bfrow10_col3 {\n            width:  10em;\n             height:  80%;\n            background:  linear-gradient(90deg,#d65f5f 8.9%, transparent 8.9%);\n        }    #T_fe8f6143_cdcd_11ea_b7fa_7989de7c49bfrow10_col4 {\n            width:  10em;\n             height:  80%;\n            background:  linear-gradient(90deg,#d65f5f 3.4%, transparent 3.4%);\n        }    #T_fe8f6143_cdcd_11ea_b7fa_7989de7c49bfrow11_col1 {\n            width:  10em;\n             height:  80%;\n            background:  linear-gradient(90deg,#d65f5f 6.5%, transparent 6.5%);\n        }    #T_fe8f6143_cdcd_11ea_b7fa_7989de7c49bfrow11_col2 {\n            width:  10em;\n             height:  80%;\n            background:  linear-gradient(90deg,#d65f5f 3.9%, transparent 3.9%);\n        }    #T_fe8f6143_cdcd_11ea_b7fa_7989de7c49bfrow11_col3 {\n            width:  10em;\n             height:  80%;\n            background:  linear-gradient(90deg,#d65f5f 12.9%, transparent 12.9%);\n        }    #T_fe8f6143_cdcd_11ea_b7fa_7989de7c49bfrow11_col4 {\n            width:  10em;\n             height:  80%;\n            background:  linear-gradient(90deg,#d65f5f 1.6%, transparent 1.6%);\n        }    #T_fe8f6143_cdcd_11ea_b7fa_7989de7c49bfrow12_col1 {\n            width:  10em;\n             height:  80%;\n            background:  linear-gradient(90deg,#d65f5f 6.3%, transparent 6.3%);\n        }    #T_fe8f6143_cdcd_11ea_b7fa_7989de7c49bfrow12_col2 {\n            width:  10em;\n             height:  80%;\n            background:  linear-gradient(90deg,#d65f5f 1.8%, transparent 1.8%);\n        }    #T_fe8f6143_cdcd_11ea_b7fa_7989de7c49bfrow12_col3 {\n            width:  10em;\n             height:  80%;\n            background:  linear-gradient(90deg,#d65f5f 12.7%, transparent 12.7%);\n        }    #T_fe8f6143_cdcd_11ea_b7fa_7989de7c49bfrow12_col4 {\n            width:  10em;\n             height:  80%;\n            background:  linear-gradient(90deg,#d65f5f 1.6%, transparent 1.6%);\n        }    #T_fe8f6143_cdcd_11ea_b7fa_7989de7c49bfrow13_col1 {\n            width:  10em;\n             height:  80%;\n            background:  linear-gradient(90deg,#d65f5f 5.9%, transparent 5.9%);\n        }    #T_fe8f6143_cdcd_11ea_b7fa_7989de7c49bfrow13_col2 {\n            width:  10em;\n             height:  80%;\n            background:  linear-gradient(90deg,#d65f5f 23.8%, transparent 23.8%);\n        }    #T_fe8f6143_cdcd_11ea_b7fa_7989de7c49bfrow13_col3 {\n            width:  10em;\n             height:  80%;\n            background:  linear-gradient(90deg,#d65f5f 11.7%, transparent 11.7%);\n        }    #T_fe8f6143_cdcd_11ea_b7fa_7989de7c49bfrow13_col4 {\n            width:  10em;\n             height:  80%;\n            background:  linear-gradient(90deg,#d65f5f 0.4%, transparent 0.4%);\n        }    #T_fe8f6143_cdcd_11ea_b7fa_7989de7c49bfrow14_col1 {\n            width:  10em;\n             height:  80%;\n            background:  linear-gradient(90deg,#d65f5f 5.5%, transparent 5.5%);\n        }    #T_fe8f6143_cdcd_11ea_b7fa_7989de7c49bfrow14_col2 {\n            width:  10em;\n             height:  80%;\n            background:  linear-gradient(90deg,#d65f5f 5.2%, transparent 5.2%);\n        }    #T_fe8f6143_cdcd_11ea_b7fa_7989de7c49bfrow14_col3 {\n            width:  10em;\n             height:  80%;\n            background:  linear-gradient(90deg,#d65f5f 6.4%, transparent 6.4%);\n        }    #T_fe8f6143_cdcd_11ea_b7fa_7989de7c49bfrow14_col4 {\n            width:  10em;\n             height:  80%;\n            background:  linear-gradient(90deg,#d65f5f 4.0%, transparent 4.0%);\n        }    #T_fe8f6143_cdcd_11ea_b7fa_7989de7c49bfrow15_col1 {\n            width:  10em;\n             height:  80%;\n            background:  linear-gradient(90deg,#d65f5f 5.4%, transparent 5.4%);\n        }    #T_fe8f6143_cdcd_11ea_b7fa_7989de7c49bfrow15_col2 {\n            width:  10em;\n             height:  80%;\n            background:  linear-gradient(90deg,#d65f5f 3.8%, transparent 3.8%);\n        }    #T_fe8f6143_cdcd_11ea_b7fa_7989de7c49bfrow15_col3 {\n            width:  10em;\n             height:  80%;\n            background:  linear-gradient(90deg,#d65f5f 12.2%, transparent 12.2%);\n        }    #T_fe8f6143_cdcd_11ea_b7fa_7989de7c49bfrow15_col4 {\n            width:  10em;\n             height:  80%;\n            background:  linear-gradient(90deg,#d65f5f 0.4%, transparent 0.4%);\n        }    #T_fe8f6143_cdcd_11ea_b7fa_7989de7c49bfrow16_col1 {\n            width:  10em;\n             height:  80%;\n            background:  linear-gradient(90deg,#d65f5f 5.3%, transparent 5.3%);\n        }    #T_fe8f6143_cdcd_11ea_b7fa_7989de7c49bfrow16_col2 {\n            width:  10em;\n             height:  80%;\n            background:  linear-gradient(90deg,#d65f5f 1.9%, transparent 1.9%);\n        }    #T_fe8f6143_cdcd_11ea_b7fa_7989de7c49bfrow16_col3 {\n            width:  10em;\n             height:  80%;\n            background:  linear-gradient(90deg,#d65f5f 7.1%, transparent 7.1%);\n        }    #T_fe8f6143_cdcd_11ea_b7fa_7989de7c49bfrow16_col4 {\n            width:  10em;\n             height:  80%;\n            background:  linear-gradient(90deg,#d65f5f 3.4%, transparent 3.4%);\n        }    #T_fe8f6143_cdcd_11ea_b7fa_7989de7c49bfrow17_col1 {\n            width:  10em;\n             height:  80%;\n            background:  linear-gradient(90deg,#d65f5f 5.3%, transparent 5.3%);\n        }    #T_fe8f6143_cdcd_11ea_b7fa_7989de7c49bfrow17_col2 {\n            width:  10em;\n             height:  80%;\n            background:  linear-gradient(90deg,#d65f5f 20.5%, transparent 20.5%);\n        }    #T_fe8f6143_cdcd_11ea_b7fa_7989de7c49bfrow17_col3 {\n            width:  10em;\n             height:  80%;\n            background:  linear-gradient(90deg,#d65f5f 4.8%, transparent 4.8%);\n        }    #T_fe8f6143_cdcd_11ea_b7fa_7989de7c49bfrow17_col4 {\n            width:  10em;\n             height:  80%;\n            background:  linear-gradient(90deg,#d65f5f 3.8%, transparent 3.8%);\n        }    #T_fe8f6143_cdcd_11ea_b7fa_7989de7c49bfrow18_col1 {\n            width:  10em;\n             height:  80%;\n            background:  linear-gradient(90deg,#d65f5f 5.0%, transparent 5.0%);\n        }    #T_fe8f6143_cdcd_11ea_b7fa_7989de7c49bfrow18_col2 {\n            width:  10em;\n             height:  80%;\n            background:  linear-gradient(90deg,#d65f5f 6.2%, transparent 6.2%);\n        }    #T_fe8f6143_cdcd_11ea_b7fa_7989de7c49bfrow18_col3 {\n            width:  10em;\n             height:  80%;\n            background:  linear-gradient(90deg,#d65f5f 11.2%, transparent 11.2%);\n        }    #T_fe8f6143_cdcd_11ea_b7fa_7989de7c49bfrow18_col4 {\n            width:  10em;\n             height:  80%;\n            background:  linear-gradient(90deg,#d65f5f 0.2%, transparent 0.2%);\n        }    #T_fe8f6143_cdcd_11ea_b7fa_7989de7c49bfrow19_col1 {\n            width:  10em;\n             height:  80%;\n            background:  linear-gradient(90deg,#d65f5f 3.6%, transparent 3.6%);\n        }    #T_fe8f6143_cdcd_11ea_b7fa_7989de7c49bfrow19_col2 {\n            width:  10em;\n             height:  80%;\n            background:  linear-gradient(90deg,#d65f5f 1.8%, transparent 1.8%);\n        }    #T_fe8f6143_cdcd_11ea_b7fa_7989de7c49bfrow19_col3 {\n            width:  10em;\n             height:  80%;\n            background:  linear-gradient(90deg,#d65f5f 3.9%, transparent 3.9%);\n        }    #T_fe8f6143_cdcd_11ea_b7fa_7989de7c49bfrow19_col4 {\n            width:  10em;\n             height:  80%;\n            background:  linear-gradient(90deg,#d65f5f 2.9%, transparent 2.9%);\n        }    #T_fe8f6143_cdcd_11ea_b7fa_7989de7c49bfrow20_col1 {\n            width:  10em;\n             height:  80%;\n            background:  linear-gradient(90deg,#d65f5f 2.8%, transparent 2.8%);\n        }    #T_fe8f6143_cdcd_11ea_b7fa_7989de7c49bfrow20_col2 {\n            width:  10em;\n             height:  80%;\n            background:  linear-gradient(90deg,#d65f5f 6.0%, transparent 6.0%);\n        }    #T_fe8f6143_cdcd_11ea_b7fa_7989de7c49bfrow20_col3 {\n            width:  10em;\n             height:  80%;\n            background:  linear-gradient(90deg,#d65f5f 5.9%, transparent 5.9%);\n        }    #T_fe8f6143_cdcd_11ea_b7fa_7989de7c49bfrow20_col4 {\n            width:  10em;\n             height:  80%;\n            background:  linear-gradient(90deg,#d65f5f 0.2%, transparent 0.2%);\n        }    #T_fe8f6143_cdcd_11ea_b7fa_7989de7c49bfrow21_col1 {\n            width:  10em;\n             height:  80%;\n            background:  linear-gradient(90deg,#d65f5f 2.6%, transparent 2.6%);\n        }    #T_fe8f6143_cdcd_11ea_b7fa_7989de7c49bfrow21_col2 {\n            width:  10em;\n             height:  80%;\n            background:  linear-gradient(90deg,#d65f5f 0.1%, transparent 0.1%);\n        }    #T_fe8f6143_cdcd_11ea_b7fa_7989de7c49bfrow21_col3 {\n            width:  10em;\n             height:  80%;\n            background:  linear-gradient(90deg,#d65f5f 6.2%, transparent 6.2%);\n        }    #T_fe8f6143_cdcd_11ea_b7fa_7989de7c49bfrow21_col4 {\n            width:  10em;\n             height:  80%;\n            background:  linear-gradient(90deg,#d65f5f 0.1%, transparent 0.1%);\n        }    #T_fe8f6143_cdcd_11ea_b7fa_7989de7c49bfrow22_col1 {\n            width:  10em;\n             height:  80%;\n            background:  linear-gradient(90deg,#d65f5f 2.5%, transparent 2.5%);\n        }    #T_fe8f6143_cdcd_11ea_b7fa_7989de7c49bfrow22_col2 {\n            width:  10em;\n             height:  80%;\n            background:  linear-gradient(90deg,#d65f5f 2.9%, transparent 2.9%);\n        }    #T_fe8f6143_cdcd_11ea_b7fa_7989de7c49bfrow22_col3 {\n            width:  10em;\n             height:  80%;\n            background:  linear-gradient(90deg,#d65f5f 4.2%, transparent 4.2%);\n        }    #T_fe8f6143_cdcd_11ea_b7fa_7989de7c49bfrow22_col4 {\n            width:  10em;\n             height:  80%;\n            background:  linear-gradient(90deg,#d65f5f 1.1%, transparent 1.1%);\n        }    #T_fe8f6143_cdcd_11ea_b7fa_7989de7c49bfrow23_col1 {\n            width:  10em;\n             height:  80%;\n            background:  linear-gradient(90deg,#d65f5f 2.3%, transparent 2.3%);\n        }    #T_fe8f6143_cdcd_11ea_b7fa_7989de7c49bfrow23_col2 {\n            width:  10em;\n             height:  80%;\n            background:  linear-gradient(90deg,#d65f5f 3.2%, transparent 3.2%);\n        }    #T_fe8f6143_cdcd_11ea_b7fa_7989de7c49bfrow23_col3 {\n            width:  10em;\n             height:  80%;\n            background:  linear-gradient(90deg,#d65f5f 3.2%, transparent 3.2%);\n        }    #T_fe8f6143_cdcd_11ea_b7fa_7989de7c49bfrow23_col4 {\n            width:  10em;\n             height:  80%;\n            background:  linear-gradient(90deg,#d65f5f 1.3%, transparent 1.3%);\n        }    #T_fe8f6143_cdcd_11ea_b7fa_7989de7c49bfrow24_col1 {\n            width:  10em;\n             height:  80%;\n            background:  linear-gradient(90deg,#d65f5f 2.2%, transparent 2.2%);\n        }    #T_fe8f6143_cdcd_11ea_b7fa_7989de7c49bfrow24_col2 {\n            width:  10em;\n             height:  80%;\n            background:  linear-gradient(90deg,#d65f5f 3.0%, transparent 3.0%);\n        }    #T_fe8f6143_cdcd_11ea_b7fa_7989de7c49bfrow24_col3 {\n            width:  10em;\n             height:  80%;\n            background:  linear-gradient(90deg,#d65f5f 1.8%, transparent 1.8%);\n        }    #T_fe8f6143_cdcd_11ea_b7fa_7989de7c49bfrow24_col4 {\n            width:  10em;\n             height:  80%;\n            background:  linear-gradient(90deg,#d65f5f 2.0%, transparent 2.0%);\n        }    #T_fe8f6143_cdcd_11ea_b7fa_7989de7c49bfrow25_col1 {\n            width:  10em;\n             height:  80%;\n            background:  linear-gradient(90deg,#d65f5f 2.1%, transparent 2.1%);\n        }    #T_fe8f6143_cdcd_11ea_b7fa_7989de7c49bfrow25_col2 {\n            width:  10em;\n             height:  80%;\n            background:  linear-gradient(90deg,#d65f5f 3.2%, transparent 3.2%);\n        }    #T_fe8f6143_cdcd_11ea_b7fa_7989de7c49bfrow25_col3 {\n            width:  10em;\n             height:  80%;\n            background:  linear-gradient(90deg,#d65f5f 4.7%, transparent 4.7%);\n        }    #T_fe8f6143_cdcd_11ea_b7fa_7989de7c49bfrow25_col4 {\n            width:  10em;\n             height:  80%;\n            background:  linear-gradient(90deg,#d65f5f 0.0%, transparent 0.0%);\n        }    #T_fe8f6143_cdcd_11ea_b7fa_7989de7c49bfrow26_col1 {\n            width:  10em;\n             height:  80%;\n            background:  linear-gradient(90deg,#d65f5f 1.9%, transparent 1.9%);\n        }    #T_fe8f6143_cdcd_11ea_b7fa_7989de7c49bfrow26_col2 {\n            width:  10em;\n             height:  80%;\n            background:  linear-gradient(90deg,#d65f5f 3.9%, transparent 3.9%);\n        }    #T_fe8f6143_cdcd_11ea_b7fa_7989de7c49bfrow26_col4 {\n            width:  10em;\n             height:  80%;\n            background:  linear-gradient(90deg,#d65f5f 2.6%, transparent 2.6%);\n        }    #T_fe8f6143_cdcd_11ea_b7fa_7989de7c49bfrow27_col1 {\n            width:  10em;\n             height:  80%;\n            background:  linear-gradient(90deg,#d65f5f 1.9%, transparent 1.9%);\n        }    #T_fe8f6143_cdcd_11ea_b7fa_7989de7c49bfrow27_col2 {\n            width:  10em;\n             height:  80%;\n            background:  linear-gradient(90deg,#d65f5f 0.4%, transparent 0.4%);\n        }    #T_fe8f6143_cdcd_11ea_b7fa_7989de7c49bfrow27_col3 {\n            width:  10em;\n             height:  80%;\n            background:  linear-gradient(90deg,#d65f5f 2.9%, transparent 2.9%);\n        }    #T_fe8f6143_cdcd_11ea_b7fa_7989de7c49bfrow27_col4 {\n            width:  10em;\n             height:  80%;\n            background:  linear-gradient(90deg,#d65f5f 1.0%, transparent 1.0%);\n        }    #T_fe8f6143_cdcd_11ea_b7fa_7989de7c49bfrow28_col1 {\n            width:  10em;\n             height:  80%;\n            background:  linear-gradient(90deg,#d65f5f 1.9%, transparent 1.9%);\n        }    #T_fe8f6143_cdcd_11ea_b7fa_7989de7c49bfrow28_col2 {\n            width:  10em;\n             height:  80%;\n            background:  linear-gradient(90deg,#d65f5f 3.7%, transparent 3.7%);\n        }    #T_fe8f6143_cdcd_11ea_b7fa_7989de7c49bfrow28_col3 {\n            width:  10em;\n             height:  80%;\n            background:  linear-gradient(90deg,#d65f5f 2.0%, transparent 2.0%);\n        }    #T_fe8f6143_cdcd_11ea_b7fa_7989de7c49bfrow28_col4 {\n            width:  10em;\n             height:  80%;\n            background:  linear-gradient(90deg,#d65f5f 1.4%, transparent 1.4%);\n        }    #T_fe8f6143_cdcd_11ea_b7fa_7989de7c49bfrow29_col1 {\n            width:  10em;\n             height:  80%;\n            background:  linear-gradient(90deg,#d65f5f 1.8%, transparent 1.8%);\n        }    #T_fe8f6143_cdcd_11ea_b7fa_7989de7c49bfrow29_col2 {\n            width:  10em;\n             height:  80%;\n            background:  linear-gradient(90deg,#d65f5f 1.3%, transparent 1.3%);\n        }    #T_fe8f6143_cdcd_11ea_b7fa_7989de7c49bfrow29_col3 {\n            width:  10em;\n             height:  80%;\n            background:  linear-gradient(90deg,#d65f5f 1.4%, transparent 1.4%);\n        }    #T_fe8f6143_cdcd_11ea_b7fa_7989de7c49bfrow29_col4 {\n            width:  10em;\n             height:  80%;\n            background:  linear-gradient(90deg,#d65f5f 1.8%, transparent 1.8%);\n        }    #T_fe8f6143_cdcd_11ea_b7fa_7989de7c49bfrow30_col1 {\n            width:  10em;\n             height:  80%;\n            background:  linear-gradient(90deg,#d65f5f 1.8%, transparent 1.8%);\n        }    #T_fe8f6143_cdcd_11ea_b7fa_7989de7c49bfrow30_col2 {\n            width:  10em;\n             height:  80%;\n            background:  linear-gradient(90deg,#d65f5f 0.2%, transparent 0.2%);\n        }    #T_fe8f6143_cdcd_11ea_b7fa_7989de7c49bfrow30_col3 {\n            width:  10em;\n             height:  80%;\n            background:  linear-gradient(90deg,#d65f5f 3.1%, transparent 3.1%);\n        }    #T_fe8f6143_cdcd_11ea_b7fa_7989de7c49bfrow30_col4 {\n            width:  10em;\n             height:  80%;\n            background:  linear-gradient(90deg,#d65f5f 0.7%, transparent 0.7%);\n        }    #T_fe8f6143_cdcd_11ea_b7fa_7989de7c49bfrow31_col1 {\n            width:  10em;\n             height:  80%;\n            background:  linear-gradient(90deg,#d65f5f 1.6%, transparent 1.6%);\n        }    #T_fe8f6143_cdcd_11ea_b7fa_7989de7c49bfrow31_col2 {\n            width:  10em;\n             height:  80%;\n            background:  linear-gradient(90deg,#d65f5f 0.4%, transparent 0.4%);\n        }    #T_fe8f6143_cdcd_11ea_b7fa_7989de7c49bfrow31_col3 {\n            width:  10em;\n             height:  80%;\n            background:  linear-gradient(90deg,#d65f5f 3.5%, transparent 3.5%);\n        }    #T_fe8f6143_cdcd_11ea_b7fa_7989de7c49bfrow31_col4 {\n            width:  10em;\n             height:  80%;\n            background:  linear-gradient(90deg,#d65f5f 0.2%, transparent 0.2%);\n        }    #T_fe8f6143_cdcd_11ea_b7fa_7989de7c49bfrow32_col1 {\n            width:  10em;\n             height:  80%;\n            background:  linear-gradient(90deg,#d65f5f 1.6%, transparent 1.6%);\n        }    #T_fe8f6143_cdcd_11ea_b7fa_7989de7c49bfrow32_col2 {\n            width:  10em;\n             height:  80%;\n            background:  linear-gradient(90deg,#d65f5f 1.6%, transparent 1.6%);\n        }    #T_fe8f6143_cdcd_11ea_b7fa_7989de7c49bfrow32_col3 {\n            width:  10em;\n             height:  80%;\n            background:  linear-gradient(90deg,#d65f5f 1.2%, transparent 1.2%);\n        }    #T_fe8f6143_cdcd_11ea_b7fa_7989de7c49bfrow32_col4 {\n            width:  10em;\n             height:  80%;\n            background:  linear-gradient(90deg,#d65f5f 1.5%, transparent 1.5%);\n        }    #T_fe8f6143_cdcd_11ea_b7fa_7989de7c49bfrow33_col1 {\n            width:  10em;\n             height:  80%;\n            background:  linear-gradient(90deg,#d65f5f 1.6%, transparent 1.6%);\n        }    #T_fe8f6143_cdcd_11ea_b7fa_7989de7c49bfrow33_col2 {\n            width:  10em;\n             height:  80%;\n            background:  linear-gradient(90deg,#d65f5f 6.7%, transparent 6.7%);\n        }    #T_fe8f6143_cdcd_11ea_b7fa_7989de7c49bfrow33_col3 {\n            width:  10em;\n             height:  80%;\n            background:  linear-gradient(90deg,#d65f5f 1.0%, transparent 1.0%);\n        }    #T_fe8f6143_cdcd_11ea_b7fa_7989de7c49bfrow33_col4 {\n            width:  10em;\n             height:  80%;\n            background:  linear-gradient(90deg,#d65f5f 1.4%, transparent 1.4%);\n        }    #T_fe8f6143_cdcd_11ea_b7fa_7989de7c49bfrow34_col1 {\n            width:  10em;\n             height:  80%;\n            background:  linear-gradient(90deg,#d65f5f 1.5%, transparent 1.5%);\n        }    #T_fe8f6143_cdcd_11ea_b7fa_7989de7c49bfrow34_col2 {\n            width:  10em;\n             height:  80%;\n            background:  linear-gradient(90deg,#d65f5f 1.1%, transparent 1.1%);\n        }    #T_fe8f6143_cdcd_11ea_b7fa_7989de7c49bfrow34_col3 {\n            width:  10em;\n             height:  80%;\n            background:  linear-gradient(90deg,#d65f5f 2.1%, transparent 2.1%);\n        }    #T_fe8f6143_cdcd_11ea_b7fa_7989de7c49bfrow34_col4 {\n            width:  10em;\n             height:  80%;\n            background:  linear-gradient(90deg,#d65f5f 1.0%, transparent 1.0%);\n        }    #T_fe8f6143_cdcd_11ea_b7fa_7989de7c49bfrow35_col1 {\n            width:  10em;\n             height:  80%;\n            background:  linear-gradient(90deg,#d65f5f 1.5%, transparent 1.5%);\n        }    #T_fe8f6143_cdcd_11ea_b7fa_7989de7c49bfrow35_col2 {\n            width:  10em;\n             height:  80%;\n            background:  linear-gradient(90deg,#d65f5f 0.3%, transparent 0.3%);\n        }    #T_fe8f6143_cdcd_11ea_b7fa_7989de7c49bfrow35_col3 {\n            width:  10em;\n             height:  80%;\n            background:  linear-gradient(90deg,#d65f5f 3.1%, transparent 3.1%);\n        }    #T_fe8f6143_cdcd_11ea_b7fa_7989de7c49bfrow35_col4 {\n            width:  10em;\n             height:  80%;\n            background:  linear-gradient(90deg,#d65f5f 0.3%, transparent 0.3%);\n        }    #T_fe8f6143_cdcd_11ea_b7fa_7989de7c49bfrow36_col1 {\n            width:  10em;\n             height:  80%;\n            background:  linear-gradient(90deg,#d65f5f 1.4%, transparent 1.4%);\n        }    #T_fe8f6143_cdcd_11ea_b7fa_7989de7c49bfrow36_col2 {\n            width:  10em;\n             height:  80%;\n            background:  linear-gradient(90deg,#d65f5f 0.3%, transparent 0.3%);\n        }    #T_fe8f6143_cdcd_11ea_b7fa_7989de7c49bfrow36_col3 {\n            width:  10em;\n             height:  80%;\n            background:  linear-gradient(90deg,#d65f5f 1.6%, transparent 1.6%);\n        }    #T_fe8f6143_cdcd_11ea_b7fa_7989de7c49bfrow36_col4 {\n            width:  10em;\n             height:  80%;\n            background:  linear-gradient(90deg,#d65f5f 1.2%, transparent 1.2%);\n        }    #T_fe8f6143_cdcd_11ea_b7fa_7989de7c49bfrow37_col1 {\n            width:  10em;\n             height:  80%;\n            background:  linear-gradient(90deg,#d65f5f 1.4%, transparent 1.4%);\n        }    #T_fe8f6143_cdcd_11ea_b7fa_7989de7c49bfrow37_col2 {\n            width:  10em;\n             height:  80%;\n            background:  linear-gradient(90deg,#d65f5f 0.7%, transparent 0.7%);\n        }    #T_fe8f6143_cdcd_11ea_b7fa_7989de7c49bfrow37_col3 {\n            width:  10em;\n             height:  80%;\n            background:  linear-gradient(90deg,#d65f5f 1.6%, transparent 1.6%);\n        }    #T_fe8f6143_cdcd_11ea_b7fa_7989de7c49bfrow37_col4 {\n            width:  10em;\n             height:  80%;\n            background:  linear-gradient(90deg,#d65f5f 1.1%, transparent 1.1%);\n        }    #T_fe8f6143_cdcd_11ea_b7fa_7989de7c49bfrow38_col1 {\n            width:  10em;\n             height:  80%;\n            background:  linear-gradient(90deg,#d65f5f 1.4%, transparent 1.4%);\n        }    #T_fe8f6143_cdcd_11ea_b7fa_7989de7c49bfrow38_col2 {\n            width:  10em;\n             height:  80%;\n            background:  linear-gradient(90deg,#d65f5f 0.2%, transparent 0.2%);\n        }    #T_fe8f6143_cdcd_11ea_b7fa_7989de7c49bfrow38_col3 {\n            width:  10em;\n             height:  80%;\n            background:  linear-gradient(90deg,#d65f5f 3.0%, transparent 3.0%);\n        }    #T_fe8f6143_cdcd_11ea_b7fa_7989de7c49bfrow38_col4 {\n            width:  10em;\n             height:  80%;\n            background:  linear-gradient(90deg,#d65f5f 0.2%, transparent 0.2%);\n        }    #T_fe8f6143_cdcd_11ea_b7fa_7989de7c49bfrow39_col1 {\n            width:  10em;\n             height:  80%;\n            background:  linear-gradient(90deg,#d65f5f 1.4%, transparent 1.4%);\n        }    #T_fe8f6143_cdcd_11ea_b7fa_7989de7c49bfrow39_col2 {\n            width:  10em;\n             height:  80%;\n            background:  linear-gradient(90deg,#d65f5f 0.8%, transparent 0.8%);\n        }    #T_fe8f6143_cdcd_11ea_b7fa_7989de7c49bfrow39_col3 {\n            width:  10em;\n             height:  80%;\n            background:  linear-gradient(90deg,#d65f5f 1.9%, transparent 1.9%);\n        }    #T_fe8f6143_cdcd_11ea_b7fa_7989de7c49bfrow39_col4 {\n            width:  10em;\n             height:  80%;\n            background:  linear-gradient(90deg,#d65f5f 0.9%, transparent 0.9%);\n        }    #T_fe8f6143_cdcd_11ea_b7fa_7989de7c49bfrow40_col1 {\n            width:  10em;\n             height:  80%;\n            background:  linear-gradient(90deg,#d65f5f 1.3%, transparent 1.3%);\n        }    #T_fe8f6143_cdcd_11ea_b7fa_7989de7c49bfrow40_col2 {\n            width:  10em;\n             height:  80%;\n            background:  linear-gradient(90deg,#d65f5f 4.2%, transparent 4.2%);\n        }    #T_fe8f6143_cdcd_11ea_b7fa_7989de7c49bfrow40_col3 {\n            width:  10em;\n             height:  80%;\n            background:  linear-gradient(90deg,#d65f5f 0.0%, transparent 0.0%);\n        }    #T_fe8f6143_cdcd_11ea_b7fa_7989de7c49bfrow40_col4 {\n            width:  10em;\n             height:  80%;\n            background:  linear-gradient(90deg,#d65f5f 1.7%, transparent 1.7%);\n        }    #T_fe8f6143_cdcd_11ea_b7fa_7989de7c49bfrow41_col1 {\n            width:  10em;\n             height:  80%;\n            background:  linear-gradient(90deg,#d65f5f 1.2%, transparent 1.2%);\n        }    #T_fe8f6143_cdcd_11ea_b7fa_7989de7c49bfrow41_col2 {\n            width:  10em;\n             height:  80%;\n            background:  linear-gradient(90deg,#d65f5f 1.2%, transparent 1.2%);\n        }    #T_fe8f6143_cdcd_11ea_b7fa_7989de7c49bfrow41_col3 {\n            width:  10em;\n             height:  80%;\n            background:  linear-gradient(90deg,#d65f5f 2.0%, transparent 2.0%);\n        }    #T_fe8f6143_cdcd_11ea_b7fa_7989de7c49bfrow41_col4 {\n            width:  10em;\n             height:  80%;\n            background:  linear-gradient(90deg,#d65f5f 0.5%, transparent 0.5%);\n        }    #T_fe8f6143_cdcd_11ea_b7fa_7989de7c49bfrow42_col1 {\n            width:  10em;\n             height:  80%;\n            background:  linear-gradient(90deg,#d65f5f 1.2%, transparent 1.2%);\n        }    #T_fe8f6143_cdcd_11ea_b7fa_7989de7c49bfrow42_col2 {\n            width:  10em;\n             height:  80%;\n            background:  linear-gradient(90deg,#d65f5f 0.0%, transparent 0.0%);\n        }    #T_fe8f6143_cdcd_11ea_b7fa_7989de7c49bfrow42_col3 {\n            width:  10em;\n             height:  80%;\n            background:  linear-gradient(90deg,#d65f5f 2.7%, transparent 2.7%);\n        }    #T_fe8f6143_cdcd_11ea_b7fa_7989de7c49bfrow42_col4 {\n            width:  10em;\n             height:  80%;\n            background:  linear-gradient(90deg,#d65f5f 0.2%, transparent 0.2%);\n        }    #T_fe8f6143_cdcd_11ea_b7fa_7989de7c49bfrow43_col1 {\n            width:  10em;\n             height:  80%;\n            background:  linear-gradient(90deg,#d65f5f 1.0%, transparent 1.0%);\n        }    #T_fe8f6143_cdcd_11ea_b7fa_7989de7c49bfrow43_col2 {\n            width:  10em;\n             height:  80%;\n            background:  linear-gradient(90deg,#d65f5f 1.1%, transparent 1.1%);\n        }    #T_fe8f6143_cdcd_11ea_b7fa_7989de7c49bfrow43_col3 {\n            width:  10em;\n             height:  80%;\n            background:  linear-gradient(90deg,#d65f5f 1.8%, transparent 1.8%);\n        }    #T_fe8f6143_cdcd_11ea_b7fa_7989de7c49bfrow43_col4 {\n            width:  10em;\n             height:  80%;\n            background:  linear-gradient(90deg,#d65f5f 0.4%, transparent 0.4%);\n        }    #T_fe8f6143_cdcd_11ea_b7fa_7989de7c49bfrow44_col1 {\n            width:  10em;\n             height:  80%;\n            background:  linear-gradient(90deg,#d65f5f 1.0%, transparent 1.0%);\n        }    #T_fe8f6143_cdcd_11ea_b7fa_7989de7c49bfrow44_col2 {\n            width:  10em;\n             height:  80%;\n            background:  linear-gradient(90deg,#d65f5f 1.5%, transparent 1.5%);\n        }    #T_fe8f6143_cdcd_11ea_b7fa_7989de7c49bfrow44_col3 {\n            width:  10em;\n             height:  80%;\n            background:  linear-gradient(90deg,#d65f5f 1.5%, transparent 1.5%);\n        }    #T_fe8f6143_cdcd_11ea_b7fa_7989de7c49bfrow44_col4 {\n            width:  10em;\n             height:  80%;\n            background:  linear-gradient(90deg,#d65f5f 0.5%, transparent 0.5%);\n        }    #T_fe8f6143_cdcd_11ea_b7fa_7989de7c49bfrow45_col1 {\n            width:  10em;\n             height:  80%;\n            background:  linear-gradient(90deg,#d65f5f 1.0%, transparent 1.0%);\n        }    #T_fe8f6143_cdcd_11ea_b7fa_7989de7c49bfrow45_col2 {\n            width:  10em;\n             height:  80%;\n            background:  linear-gradient(90deg,#d65f5f 1.1%, transparent 1.1%);\n        }    #T_fe8f6143_cdcd_11ea_b7fa_7989de7c49bfrow45_col3 {\n            width:  10em;\n             height:  80%;\n            background:  linear-gradient(90deg,#d65f5f 1.9%, transparent 1.9%);\n        }    #T_fe8f6143_cdcd_11ea_b7fa_7989de7c49bfrow45_col4 {\n            width:  10em;\n             height:  80%;\n            background:  linear-gradient(90deg,#d65f5f 0.3%, transparent 0.3%);\n        }    #T_fe8f6143_cdcd_11ea_b7fa_7989de7c49bfrow46_col1 {\n            width:  10em;\n             height:  80%;\n            background:  linear-gradient(90deg,#d65f5f 0.9%, transparent 0.9%);\n        }    #T_fe8f6143_cdcd_11ea_b7fa_7989de7c49bfrow46_col2 {\n            width:  10em;\n             height:  80%;\n            background:  linear-gradient(90deg,#d65f5f 0.6%, transparent 0.6%);\n        }    #T_fe8f6143_cdcd_11ea_b7fa_7989de7c49bfrow46_col3 {\n            width:  10em;\n             height:  80%;\n            background:  linear-gradient(90deg,#d65f5f 0.9%, transparent 0.9%);\n        }    #T_fe8f6143_cdcd_11ea_b7fa_7989de7c49bfrow46_col4 {\n            width:  10em;\n             height:  80%;\n            background:  linear-gradient(90deg,#d65f5f 0.8%, transparent 0.8%);\n        }    #T_fe8f6143_cdcd_11ea_b7fa_7989de7c49bfrow47_col1 {\n            width:  10em;\n             height:  80%;\n            background:  linear-gradient(90deg,#d65f5f 0.9%, transparent 0.9%);\n        }    #T_fe8f6143_cdcd_11ea_b7fa_7989de7c49bfrow47_col2 {\n            width:  10em;\n             height:  80%;\n            background:  linear-gradient(90deg,#d65f5f 0.1%, transparent 0.1%);\n        }    #T_fe8f6143_cdcd_11ea_b7fa_7989de7c49bfrow47_col3 {\n            width:  10em;\n             height:  80%;\n            background:  linear-gradient(90deg,#d65f5f 2.0%, transparent 2.0%);\n        }    #T_fe8f6143_cdcd_11ea_b7fa_7989de7c49bfrow47_col4 {\n            width:  10em;\n             height:  80%;\n            background:  linear-gradient(90deg,#d65f5f 0.1%, transparent 0.1%);\n        }    #T_fe8f6143_cdcd_11ea_b7fa_7989de7c49bfrow48_col1 {\n            width:  10em;\n             height:  80%;\n            background:  linear-gradient(90deg,#d65f5f 0.9%, transparent 0.9%);\n        }    #T_fe8f6143_cdcd_11ea_b7fa_7989de7c49bfrow48_col2 {\n            width:  10em;\n             height:  80%;\n            background:  linear-gradient(90deg,#d65f5f 0.7%, transparent 0.7%);\n        }    #T_fe8f6143_cdcd_11ea_b7fa_7989de7c49bfrow48_col3 {\n            width:  10em;\n             height:  80%;\n            background:  linear-gradient(90deg,#d65f5f 0.3%, transparent 0.3%);\n        }    #T_fe8f6143_cdcd_11ea_b7fa_7989de7c49bfrow48_col4 {\n            width:  10em;\n             height:  80%;\n            background:  linear-gradient(90deg,#d65f5f 1.1%, transparent 1.1%);\n        }    #T_fe8f6143_cdcd_11ea_b7fa_7989de7c49bfrow49_col1 {\n            width:  10em;\n             height:  80%;\n            background:  linear-gradient(90deg,#d65f5f 0.9%, transparent 0.9%);\n        }    #T_fe8f6143_cdcd_11ea_b7fa_7989de7c49bfrow49_col2 {\n            width:  10em;\n             height:  80%;\n            background:  linear-gradient(90deg,#d65f5f 0.5%, transparent 0.5%);\n        }    #T_fe8f6143_cdcd_11ea_b7fa_7989de7c49bfrow49_col3 {\n            width:  10em;\n             height:  80%;\n            background:  linear-gradient(90deg,#d65f5f 1.5%, transparent 1.5%);\n        }    #T_fe8f6143_cdcd_11ea_b7fa_7989de7c49bfrow49_col4 {\n            width:  10em;\n             height:  80%;\n            background:  linear-gradient(90deg,#d65f5f 0.4%, transparent 0.4%);\n        }    #T_fe8f6143_cdcd_11ea_b7fa_7989de7c49bfrow50_col1 {\n            width:  10em;\n             height:  80%;\n            background:  linear-gradient(90deg,#d65f5f 0.9%, transparent 0.9%);\n        }    #T_fe8f6143_cdcd_11ea_b7fa_7989de7c49bfrow50_col2 {\n            width:  10em;\n             height:  80%;\n            background:  linear-gradient(90deg,#d65f5f 0.8%, transparent 0.8%);\n        }    #T_fe8f6143_cdcd_11ea_b7fa_7989de7c49bfrow50_col3 {\n            width:  10em;\n             height:  80%;\n            background:  linear-gradient(90deg,#d65f5f 1.4%, transparent 1.4%);\n        }    #T_fe8f6143_cdcd_11ea_b7fa_7989de7c49bfrow50_col4 {\n            width:  10em;\n             height:  80%;\n            background:  linear-gradient(90deg,#d65f5f 0.4%, transparent 0.4%);\n        }    #T_fe8f6143_cdcd_11ea_b7fa_7989de7c49bfrow51_col1 {\n            width:  10em;\n             height:  80%;\n            background:  linear-gradient(90deg,#d65f5f 0.8%, transparent 0.8%);\n        }    #T_fe8f6143_cdcd_11ea_b7fa_7989de7c49bfrow51_col2 {\n            width:  10em;\n             height:  80%;\n            background:  linear-gradient(90deg,#d65f5f 1.3%, transparent 1.3%);\n        }    #T_fe8f6143_cdcd_11ea_b7fa_7989de7c49bfrow51_col3 {\n            width:  10em;\n             height:  80%;\n            background:  linear-gradient(90deg,#d65f5f 1.8%, transparent 1.8%);\n        }    #T_fe8f6143_cdcd_11ea_b7fa_7989de7c49bfrow51_col4 {\n            width:  10em;\n             height:  80%;\n            background:  linear-gradient(90deg,#d65f5f 0.1%, transparent 0.1%);\n        }    #T_fe8f6143_cdcd_11ea_b7fa_7989de7c49bfrow52_col1 {\n            width:  10em;\n             height:  80%;\n            background:  linear-gradient(90deg,#d65f5f 0.8%, transparent 0.8%);\n        }    #T_fe8f6143_cdcd_11ea_b7fa_7989de7c49bfrow52_col2 {\n            width:  10em;\n             height:  80%;\n            background:  linear-gradient(90deg,#d65f5f 0.8%, transparent 0.8%);\n        }    #T_fe8f6143_cdcd_11ea_b7fa_7989de7c49bfrow52_col3 {\n            width:  10em;\n             height:  80%;\n            background:  linear-gradient(90deg,#d65f5f 1.1%, transparent 1.1%);\n        }    #T_fe8f6143_cdcd_11ea_b7fa_7989de7c49bfrow52_col4 {\n            width:  10em;\n             height:  80%;\n            background:  linear-gradient(90deg,#d65f5f 0.4%, transparent 0.4%);\n        }    #T_fe8f6143_cdcd_11ea_b7fa_7989de7c49bfrow53_col1 {\n            width:  10em;\n             height:  80%;\n            background:  linear-gradient(90deg,#d65f5f 0.7%, transparent 0.7%);\n        }    #T_fe8f6143_cdcd_11ea_b7fa_7989de7c49bfrow53_col2 {\n            width:  10em;\n             height:  80%;\n            background:  linear-gradient(90deg,#d65f5f 0.1%, transparent 0.1%);\n        }    #T_fe8f6143_cdcd_11ea_b7fa_7989de7c49bfrow53_col3 {\n            width:  10em;\n             height:  80%;\n            background:  linear-gradient(90deg,#d65f5f 1.6%, transparent 1.6%);\n        }    #T_fe8f6143_cdcd_11ea_b7fa_7989de7c49bfrow53_col4 {\n            width:  10em;\n             height:  80%;\n            background:  linear-gradient(90deg,#d65f5f 0.1%, transparent 0.1%);\n        }    #T_fe8f6143_cdcd_11ea_b7fa_7989de7c49bfrow54_col1 {\n            width:  10em;\n             height:  80%;\n            background:  linear-gradient(90deg,#d65f5f 0.7%, transparent 0.7%);\n        }    #T_fe8f6143_cdcd_11ea_b7fa_7989de7c49bfrow54_col2 {\n            width:  10em;\n             height:  80%;\n            background:  linear-gradient(90deg,#d65f5f 0.3%, transparent 0.3%);\n        }    #T_fe8f6143_cdcd_11ea_b7fa_7989de7c49bfrow54_col3 {\n            width:  10em;\n             height:  80%;\n            background:  linear-gradient(90deg,#d65f5f 1.3%, transparent 1.3%);\n        }    #T_fe8f6143_cdcd_11ea_b7fa_7989de7c49bfrow54_col4 {\n            width:  10em;\n             height:  80%;\n            background:  linear-gradient(90deg,#d65f5f 0.3%, transparent 0.3%);\n        }    #T_fe8f6143_cdcd_11ea_b7fa_7989de7c49bfrow55_col1 {\n            width:  10em;\n             height:  80%;\n            background:  linear-gradient(90deg,#d65f5f 0.7%, transparent 0.7%);\n        }    #T_fe8f6143_cdcd_11ea_b7fa_7989de7c49bfrow55_col2 {\n            width:  10em;\n             height:  80%;\n            background:  linear-gradient(90deg,#d65f5f 0.7%, transparent 0.7%);\n        }    #T_fe8f6143_cdcd_11ea_b7fa_7989de7c49bfrow55_col3 {\n            width:  10em;\n             height:  80%;\n            background:  linear-gradient(90deg,#d65f5f 1.2%, transparent 1.2%);\n        }    #T_fe8f6143_cdcd_11ea_b7fa_7989de7c49bfrow55_col4 {\n            width:  10em;\n             height:  80%;\n            background:  linear-gradient(90deg,#d65f5f 0.2%, transparent 0.2%);\n        }    #T_fe8f6143_cdcd_11ea_b7fa_7989de7c49bfrow56_col1 {\n            width:  10em;\n             height:  80%;\n            background:  linear-gradient(90deg,#d65f5f 0.6%, transparent 0.6%);\n        }    #T_fe8f6143_cdcd_11ea_b7fa_7989de7c49bfrow56_col2 {\n            width:  10em;\n             height:  80%;\n            background:  linear-gradient(90deg,#d65f5f 0.8%, transparent 0.8%);\n        }    #T_fe8f6143_cdcd_11ea_b7fa_7989de7c49bfrow56_col3 {\n            width:  10em;\n             height:  80%;\n            background:  linear-gradient(90deg,#d65f5f 1.0%, transparent 1.0%);\n        }    #T_fe8f6143_cdcd_11ea_b7fa_7989de7c49bfrow56_col4 {\n            width:  10em;\n             height:  80%;\n            background:  linear-gradient(90deg,#d65f5f 0.3%, transparent 0.3%);\n        }    #T_fe8f6143_cdcd_11ea_b7fa_7989de7c49bfrow57_col1 {\n            width:  10em;\n             height:  80%;\n            background:  linear-gradient(90deg,#d65f5f 0.6%, transparent 0.6%);\n        }    #T_fe8f6143_cdcd_11ea_b7fa_7989de7c49bfrow57_col2 {\n            width:  10em;\n             height:  80%;\n            background:  linear-gradient(90deg,#d65f5f 1.2%, transparent 1.2%);\n        }    #T_fe8f6143_cdcd_11ea_b7fa_7989de7c49bfrow57_col3 {\n            width:  10em;\n             height:  80%;\n            background:  linear-gradient(90deg,#d65f5f 1.4%, transparent 1.4%);\n        }    #T_fe8f6143_cdcd_11ea_b7fa_7989de7c49bfrow57_col4 {\n            width:  10em;\n             height:  80%;\n            background:  linear-gradient(90deg,#d65f5f 0.0%, transparent 0.0%);\n        }    #T_fe8f6143_cdcd_11ea_b7fa_7989de7c49bfrow58_col1 {\n            width:  10em;\n             height:  80%;\n            background:  linear-gradient(90deg,#d65f5f 0.6%, transparent 0.6%);\n        }    #T_fe8f6143_cdcd_11ea_b7fa_7989de7c49bfrow58_col2 {\n            width:  10em;\n             height:  80%;\n            background:  linear-gradient(90deg,#d65f5f 0.4%, transparent 0.4%);\n        }    #T_fe8f6143_cdcd_11ea_b7fa_7989de7c49bfrow58_col4 {\n            width:  10em;\n             height:  80%;\n            background:  linear-gradient(90deg,#d65f5f 0.8%, transparent 0.8%);\n        }    #T_fe8f6143_cdcd_11ea_b7fa_7989de7c49bfrow59_col1 {\n            width:  10em;\n             height:  80%;\n            background:  linear-gradient(90deg,#d65f5f 0.5%, transparent 0.5%);\n        }    #T_fe8f6143_cdcd_11ea_b7fa_7989de7c49bfrow59_col2 {\n            width:  10em;\n             height:  80%;\n            background:  linear-gradient(90deg,#d65f5f 0.5%, transparent 0.5%);\n        }    #T_fe8f6143_cdcd_11ea_b7fa_7989de7c49bfrow59_col3 {\n            width:  10em;\n             height:  80%;\n            background:  linear-gradient(90deg,#d65f5f 0.9%, transparent 0.9%);\n        }    #T_fe8f6143_cdcd_11ea_b7fa_7989de7c49bfrow59_col4 {\n            width:  10em;\n             height:  80%;\n            background:  linear-gradient(90deg,#d65f5f 0.2%, transparent 0.2%);\n        }    #T_fe8f6143_cdcd_11ea_b7fa_7989de7c49bfrow60_col1 {\n            width:  10em;\n             height:  80%;\n            background:  linear-gradient(90deg,#d65f5f 0.5%, transparent 0.5%);\n        }    #T_fe8f6143_cdcd_11ea_b7fa_7989de7c49bfrow60_col2 {\n            width:  10em;\n             height:  80%;\n            background:  linear-gradient(90deg,#d65f5f 0.5%, transparent 0.5%);\n        }    #T_fe8f6143_cdcd_11ea_b7fa_7989de7c49bfrow60_col3 {\n            width:  10em;\n             height:  80%;\n            background:  linear-gradient(90deg,#d65f5f 1.1%, transparent 1.1%);\n        }    #T_fe8f6143_cdcd_11ea_b7fa_7989de7c49bfrow60_col4 {\n            width:  10em;\n             height:  80%;\n            background:  linear-gradient(90deg,#d65f5f 0.1%, transparent 0.1%);\n        }    #T_fe8f6143_cdcd_11ea_b7fa_7989de7c49bfrow61_col1 {\n            width:  10em;\n             height:  80%;\n            background:  linear-gradient(90deg,#d65f5f 0.5%, transparent 0.5%);\n        }    #T_fe8f6143_cdcd_11ea_b7fa_7989de7c49bfrow61_col2 {\n            width:  10em;\n             height:  80%;\n            background:  linear-gradient(90deg,#d65f5f 0.1%, transparent 0.1%);\n        }    #T_fe8f6143_cdcd_11ea_b7fa_7989de7c49bfrow61_col3 {\n            width:  10em;\n             height:  80%;\n            background:  linear-gradient(90deg,#d65f5f 0.6%, transparent 0.6%);\n        }    #T_fe8f6143_cdcd_11ea_b7fa_7989de7c49bfrow61_col4 {\n            width:  10em;\n             height:  80%;\n            background:  linear-gradient(90deg,#d65f5f 0.3%, transparent 0.3%);\n        }    #T_fe8f6143_cdcd_11ea_b7fa_7989de7c49bfrow62_col1 {\n            width:  10em;\n             height:  80%;\n            background:  linear-gradient(90deg,#d65f5f 0.4%, transparent 0.4%);\n        }    #T_fe8f6143_cdcd_11ea_b7fa_7989de7c49bfrow62_col2 {\n            width:  10em;\n             height:  80%;\n            background:  linear-gradient(90deg,#d65f5f 0.0%, transparent 0.0%);\n        }    #T_fe8f6143_cdcd_11ea_b7fa_7989de7c49bfrow62_col3 {\n            width:  10em;\n             height:  80%;\n            background:  linear-gradient(90deg,#d65f5f 0.8%, transparent 0.8%);\n        }    #T_fe8f6143_cdcd_11ea_b7fa_7989de7c49bfrow62_col4 {\n            width:  10em;\n             height:  80%;\n            background:  linear-gradient(90deg,#d65f5f 0.2%, transparent 0.2%);\n        }    #T_fe8f6143_cdcd_11ea_b7fa_7989de7c49bfrow63_col1 {\n            width:  10em;\n             height:  80%;\n            background:  linear-gradient(90deg,#d65f5f 0.4%, transparent 0.4%);\n        }    #T_fe8f6143_cdcd_11ea_b7fa_7989de7c49bfrow63_col2 {\n            width:  10em;\n             height:  80%;\n            background:  linear-gradient(90deg,#d65f5f 0.2%, transparent 0.2%);\n        }    #T_fe8f6143_cdcd_11ea_b7fa_7989de7c49bfrow63_col3 {\n            width:  10em;\n             height:  80%;\n            background:  linear-gradient(90deg,#d65f5f 0.9%, transparent 0.9%);\n        }    #T_fe8f6143_cdcd_11ea_b7fa_7989de7c49bfrow63_col4 {\n            width:  10em;\n             height:  80%;\n            background:  linear-gradient(90deg,#d65f5f 0.1%, transparent 0.1%);\n        }    #T_fe8f6143_cdcd_11ea_b7fa_7989de7c49bfrow64_col1 {\n            width:  10em;\n             height:  80%;\n            background:  linear-gradient(90deg,#d65f5f 0.4%, transparent 0.4%);\n        }    #T_fe8f6143_cdcd_11ea_b7fa_7989de7c49bfrow64_col2 {\n            width:  10em;\n             height:  80%;\n            background:  linear-gradient(90deg,#d65f5f 0.3%, transparent 0.3%);\n        }    #T_fe8f6143_cdcd_11ea_b7fa_7989de7c49bfrow64_col3 {\n            width:  10em;\n             height:  80%;\n            background:  linear-gradient(90deg,#d65f5f 0.9%, transparent 0.9%);\n        }    #T_fe8f6143_cdcd_11ea_b7fa_7989de7c49bfrow64_col4 {\n            width:  10em;\n             height:  80%;\n            background:  linear-gradient(90deg,#d65f5f 0.1%, transparent 0.1%);\n        }    #T_fe8f6143_cdcd_11ea_b7fa_7989de7c49bfrow65_col1 {\n            width:  10em;\n             height:  80%;\n            background:  linear-gradient(90deg,#d65f5f 0.4%, transparent 0.4%);\n        }    #T_fe8f6143_cdcd_11ea_b7fa_7989de7c49bfrow65_col2 {\n            width:  10em;\n             height:  80%;\n            background:  linear-gradient(90deg,#d65f5f 0.2%, transparent 0.2%);\n        }    #T_fe8f6143_cdcd_11ea_b7fa_7989de7c49bfrow65_col3 {\n            width:  10em;\n             height:  80%;\n            background:  linear-gradient(90deg,#d65f5f 0.4%, transparent 0.4%);\n        }    #T_fe8f6143_cdcd_11ea_b7fa_7989de7c49bfrow65_col4 {\n            width:  10em;\n             height:  80%;\n            background:  linear-gradient(90deg,#d65f5f 0.3%, transparent 0.3%);\n        }    #T_fe8f6143_cdcd_11ea_b7fa_7989de7c49bfrow66_col1 {\n            width:  10em;\n             height:  80%;\n            background:  linear-gradient(90deg,#d65f5f 0.4%, transparent 0.4%);\n        }    #T_fe8f6143_cdcd_11ea_b7fa_7989de7c49bfrow66_col2 {\n            width:  10em;\n             height:  80%;\n            background:  linear-gradient(90deg,#d65f5f 0.1%, transparent 0.1%);\n        }    #T_fe8f6143_cdcd_11ea_b7fa_7989de7c49bfrow66_col3 {\n            width:  10em;\n             height:  80%;\n            background:  linear-gradient(90deg,#d65f5f 0.5%, transparent 0.5%);\n        }    #T_fe8f6143_cdcd_11ea_b7fa_7989de7c49bfrow66_col4 {\n            width:  10em;\n             height:  80%;\n            background:  linear-gradient(90deg,#d65f5f 0.2%, transparent 0.2%);\n        }    #T_fe8f6143_cdcd_11ea_b7fa_7989de7c49bfrow67_col1 {\n            width:  10em;\n             height:  80%;\n            background:  linear-gradient(90deg,#d65f5f 0.4%, transparent 0.4%);\n        }    #T_fe8f6143_cdcd_11ea_b7fa_7989de7c49bfrow67_col2 {\n            width:  10em;\n             height:  80%;\n            background:  linear-gradient(90deg,#d65f5f 0.2%, transparent 0.2%);\n        }    #T_fe8f6143_cdcd_11ea_b7fa_7989de7c49bfrow67_col3 {\n            width:  10em;\n             height:  80%;\n            background:  linear-gradient(90deg,#d65f5f 0.6%, transparent 0.6%);\n        }    #T_fe8f6143_cdcd_11ea_b7fa_7989de7c49bfrow67_col4 {\n            width:  10em;\n             height:  80%;\n            background:  linear-gradient(90deg,#d65f5f 0.2%, transparent 0.2%);\n        }    #T_fe8f6143_cdcd_11ea_b7fa_7989de7c49bfrow68_col1 {\n            width:  10em;\n             height:  80%;\n            background:  linear-gradient(90deg,#d65f5f 0.3%, transparent 0.3%);\n        }    #T_fe8f6143_cdcd_11ea_b7fa_7989de7c49bfrow68_col2 {\n            width:  10em;\n             height:  80%;\n            background:  linear-gradient(90deg,#d65f5f 0.2%, transparent 0.2%);\n        }    #T_fe8f6143_cdcd_11ea_b7fa_7989de7c49bfrow68_col3 {\n            width:  10em;\n             height:  80%;\n            background:  linear-gradient(90deg,#d65f5f 0.8%, transparent 0.8%);\n        }    #T_fe8f6143_cdcd_11ea_b7fa_7989de7c49bfrow68_col4 {\n            width:  10em;\n             height:  80%;\n            background:  linear-gradient(90deg,#d65f5f 0.0%, transparent 0.0%);\n        }    #T_fe8f6143_cdcd_11ea_b7fa_7989de7c49bfrow69_col1 {\n            width:  10em;\n             height:  80%;\n            background:  linear-gradient(90deg,#d65f5f 0.3%, transparent 0.3%);\n        }    #T_fe8f6143_cdcd_11ea_b7fa_7989de7c49bfrow69_col2 {\n            width:  10em;\n             height:  80%;\n            background:  linear-gradient(90deg,#d65f5f 0.3%, transparent 0.3%);\n        }    #T_fe8f6143_cdcd_11ea_b7fa_7989de7c49bfrow69_col3 {\n            width:  10em;\n             height:  80%;\n            background:  linear-gradient(90deg,#d65f5f 0.4%, transparent 0.4%);\n        }    #T_fe8f6143_cdcd_11ea_b7fa_7989de7c49bfrow69_col4 {\n            width:  10em;\n             height:  80%;\n            background:  linear-gradient(90deg,#d65f5f 0.2%, transparent 0.2%);\n        }    #T_fe8f6143_cdcd_11ea_b7fa_7989de7c49bfrow70_col1 {\n            width:  10em;\n             height:  80%;\n            background:  linear-gradient(90deg,#d65f5f 0.3%, transparent 0.3%);\n        }    #T_fe8f6143_cdcd_11ea_b7fa_7989de7c49bfrow70_col2 {\n            width:  10em;\n             height:  80%;\n            background:  linear-gradient(90deg,#d65f5f 0.4%, transparent 0.4%);\n        }    #T_fe8f6143_cdcd_11ea_b7fa_7989de7c49bfrow70_col3 {\n            width:  10em;\n             height:  80%;\n            background:  linear-gradient(90deg,#d65f5f 0.7%, transparent 0.7%);\n        }    #T_fe8f6143_cdcd_11ea_b7fa_7989de7c49bfrow70_col4 {\n            width:  10em;\n             height:  80%;\n            background:  linear-gradient(90deg,#d65f5f 0.0%, transparent 0.0%);\n        }    #T_fe8f6143_cdcd_11ea_b7fa_7989de7c49bfrow71_col1 {\n            width:  10em;\n             height:  80%;\n            background:  linear-gradient(90deg,#d65f5f 0.3%, transparent 0.3%);\n        }    #T_fe8f6143_cdcd_11ea_b7fa_7989de7c49bfrow71_col2 {\n            width:  10em;\n             height:  80%;\n            background:  linear-gradient(90deg,#d65f5f 0.1%, transparent 0.1%);\n        }    #T_fe8f6143_cdcd_11ea_b7fa_7989de7c49bfrow71_col3 {\n            width:  10em;\n             height:  80%;\n            background:  linear-gradient(90deg,#d65f5f 0.5%, transparent 0.5%);\n        }    #T_fe8f6143_cdcd_11ea_b7fa_7989de7c49bfrow71_col4 {\n            width:  10em;\n             height:  80%;\n            background:  linear-gradient(90deg,#d65f5f 0.2%, transparent 0.2%);\n        }    #T_fe8f6143_cdcd_11ea_b7fa_7989de7c49bfrow72_col1 {\n            width:  10em;\n             height:  80%;\n            background:  linear-gradient(90deg,#d65f5f 0.3%, transparent 0.3%);\n        }    #T_fe8f6143_cdcd_11ea_b7fa_7989de7c49bfrow72_col2 {\n            width:  10em;\n             height:  80%;\n            background:  linear-gradient(90deg,#d65f5f 0.1%, transparent 0.1%);\n        }    #T_fe8f6143_cdcd_11ea_b7fa_7989de7c49bfrow72_col3 {\n            width:  10em;\n             height:  80%;\n            background:  linear-gradient(90deg,#d65f5f 0.5%, transparent 0.5%);\n        }    #T_fe8f6143_cdcd_11ea_b7fa_7989de7c49bfrow72_col4 {\n            width:  10em;\n             height:  80%;\n            background:  linear-gradient(90deg,#d65f5f 0.2%, transparent 0.2%);\n        }    #T_fe8f6143_cdcd_11ea_b7fa_7989de7c49bfrow73_col1 {\n            width:  10em;\n             height:  80%;\n            background:  linear-gradient(90deg,#d65f5f 0.3%, transparent 0.3%);\n        }    #T_fe8f6143_cdcd_11ea_b7fa_7989de7c49bfrow73_col2 {\n            width:  10em;\n             height:  80%;\n            background:  linear-gradient(90deg,#d65f5f 0.1%, transparent 0.1%);\n        }    #T_fe8f6143_cdcd_11ea_b7fa_7989de7c49bfrow73_col3 {\n            width:  10em;\n             height:  80%;\n            background:  linear-gradient(90deg,#d65f5f 0.2%, transparent 0.2%);\n        }    #T_fe8f6143_cdcd_11ea_b7fa_7989de7c49bfrow73_col4 {\n            width:  10em;\n             height:  80%;\n            background:  linear-gradient(90deg,#d65f5f 0.3%, transparent 0.3%);\n        }    #T_fe8f6143_cdcd_11ea_b7fa_7989de7c49bfrow74_col1 {\n            width:  10em;\n             height:  80%;\n            background:  linear-gradient(90deg,#d65f5f 0.3%, transparent 0.3%);\n        }    #T_fe8f6143_cdcd_11ea_b7fa_7989de7c49bfrow74_col2 {\n            width:  10em;\n             height:  80%;\n            background:  linear-gradient(90deg,#d65f5f 0.1%, transparent 0.1%);\n        }    #T_fe8f6143_cdcd_11ea_b7fa_7989de7c49bfrow74_col3 {\n            width:  10em;\n             height:  80%;\n            background:  linear-gradient(90deg,#d65f5f 0.3%, transparent 0.3%);\n        }    #T_fe8f6143_cdcd_11ea_b7fa_7989de7c49bfrow74_col4 {\n            width:  10em;\n             height:  80%;\n            background:  linear-gradient(90deg,#d65f5f 0.2%, transparent 0.2%);\n        }    #T_fe8f6143_cdcd_11ea_b7fa_7989de7c49bfrow75_col1 {\n            width:  10em;\n             height:  80%;\n            background:  linear-gradient(90deg,#d65f5f 0.3%, transparent 0.3%);\n        }    #T_fe8f6143_cdcd_11ea_b7fa_7989de7c49bfrow75_col2 {\n            width:  10em;\n             height:  80%;\n            background:  linear-gradient(90deg,#d65f5f 0.5%, transparent 0.5%);\n        }    #T_fe8f6143_cdcd_11ea_b7fa_7989de7c49bfrow75_col3 {\n            width:  10em;\n             height:  80%;\n            background:  linear-gradient(90deg,#d65f5f 0.3%, transparent 0.3%);\n        }    #T_fe8f6143_cdcd_11ea_b7fa_7989de7c49bfrow75_col4 {\n            width:  10em;\n             height:  80%;\n            background:  linear-gradient(90deg,#d65f5f 0.2%, transparent 0.2%);\n        }    #T_fe8f6143_cdcd_11ea_b7fa_7989de7c49bfrow76_col1 {\n            width:  10em;\n             height:  80%;\n            background:  linear-gradient(90deg,#d65f5f 0.2%, transparent 0.2%);\n        }    #T_fe8f6143_cdcd_11ea_b7fa_7989de7c49bfrow76_col2 {\n            width:  10em;\n             height:  80%;\n            background:  linear-gradient(90deg,#d65f5f 0.0%, transparent 0.0%);\n        }    #T_fe8f6143_cdcd_11ea_b7fa_7989de7c49bfrow76_col3 {\n            width:  10em;\n             height:  80%;\n            background:  linear-gradient(90deg,#d65f5f 0.2%, transparent 0.2%);\n        }    #T_fe8f6143_cdcd_11ea_b7fa_7989de7c49bfrow76_col4 {\n            width:  10em;\n             height:  80%;\n            background:  linear-gradient(90deg,#d65f5f 0.3%, transparent 0.3%);\n        }    #T_fe8f6143_cdcd_11ea_b7fa_7989de7c49bfrow77_col1 {\n            width:  10em;\n             height:  80%;\n            background:  linear-gradient(90deg,#d65f5f 0.2%, transparent 0.2%);\n        }    #T_fe8f6143_cdcd_11ea_b7fa_7989de7c49bfrow77_col2 {\n            width:  10em;\n             height:  80%;\n            background:  linear-gradient(90deg,#d65f5f 0.2%, transparent 0.2%);\n        }    #T_fe8f6143_cdcd_11ea_b7fa_7989de7c49bfrow77_col3 {\n            width:  10em;\n             height:  80%;\n            background:  linear-gradient(90deg,#d65f5f 0.3%, transparent 0.3%);\n        }    #T_fe8f6143_cdcd_11ea_b7fa_7989de7c49bfrow77_col4 {\n            width:  10em;\n             height:  80%;\n            background:  linear-gradient(90deg,#d65f5f 0.2%, transparent 0.2%);\n        }    #T_fe8f6143_cdcd_11ea_b7fa_7989de7c49bfrow78_col1 {\n            width:  10em;\n             height:  80%;\n            background:  linear-gradient(90deg,#d65f5f 0.2%, transparent 0.2%);\n        }    #T_fe8f6143_cdcd_11ea_b7fa_7989de7c49bfrow78_col2 {\n            width:  10em;\n             height:  80%;\n            background:  linear-gradient(90deg,#d65f5f 0.3%, transparent 0.3%);\n        }    #T_fe8f6143_cdcd_11ea_b7fa_7989de7c49bfrow78_col3 {\n            width:  10em;\n             height:  80%;\n            background:  linear-gradient(90deg,#d65f5f 0.3%, transparent 0.3%);\n        }    #T_fe8f6143_cdcd_11ea_b7fa_7989de7c49bfrow78_col4 {\n            width:  10em;\n             height:  80%;\n            background:  linear-gradient(90deg,#d65f5f 0.1%, transparent 0.1%);\n        }    #T_fe8f6143_cdcd_11ea_b7fa_7989de7c49bfrow79_col1 {\n            width:  10em;\n             height:  80%;\n            background:  linear-gradient(90deg,#d65f5f 0.2%, transparent 0.2%);\n        }    #T_fe8f6143_cdcd_11ea_b7fa_7989de7c49bfrow79_col2 {\n            width:  10em;\n             height:  80%;\n            background:  linear-gradient(90deg,#d65f5f 0.2%, transparent 0.2%);\n        }    #T_fe8f6143_cdcd_11ea_b7fa_7989de7c49bfrow79_col3 {\n            width:  10em;\n             height:  80%;\n            background:  linear-gradient(90deg,#d65f5f 0.3%, transparent 0.3%);\n        }    #T_fe8f6143_cdcd_11ea_b7fa_7989de7c49bfrow79_col4 {\n            width:  10em;\n             height:  80%;\n            background:  linear-gradient(90deg,#d65f5f 0.2%, transparent 0.2%);\n        }    #T_fe8f6143_cdcd_11ea_b7fa_7989de7c49bfrow80_col1 {\n            width:  10em;\n             height:  80%;\n            background:  linear-gradient(90deg,#d65f5f 0.2%, transparent 0.2%);\n        }    #T_fe8f6143_cdcd_11ea_b7fa_7989de7c49bfrow80_col2 {\n            width:  10em;\n             height:  80%;\n            background:  linear-gradient(90deg,#d65f5f 0.1%, transparent 0.1%);\n        }    #T_fe8f6143_cdcd_11ea_b7fa_7989de7c49bfrow80_col3 {\n            width:  10em;\n             height:  80%;\n            background:  linear-gradient(90deg,#d65f5f 0.4%, transparent 0.4%);\n        }    #T_fe8f6143_cdcd_11ea_b7fa_7989de7c49bfrow80_col4 {\n            width:  10em;\n             height:  80%;\n            background:  linear-gradient(90deg,#d65f5f 0.1%, transparent 0.1%);\n        }    #T_fe8f6143_cdcd_11ea_b7fa_7989de7c49bfrow81_col1 {\n            width:  10em;\n             height:  80%;\n            background:  linear-gradient(90deg,#d65f5f 0.2%, transparent 0.2%);\n        }    #T_fe8f6143_cdcd_11ea_b7fa_7989de7c49bfrow81_col2 {\n            width:  10em;\n             height:  80%;\n            background:  linear-gradient(90deg,#d65f5f 0.2%, transparent 0.2%);\n        }    #T_fe8f6143_cdcd_11ea_b7fa_7989de7c49bfrow81_col3 {\n            width:  10em;\n             height:  80%;\n            background:  linear-gradient(90deg,#d65f5f 0.5%, transparent 0.5%);\n        }    #T_fe8f6143_cdcd_11ea_b7fa_7989de7c49bfrow81_col4 {\n            width:  10em;\n             height:  80%;\n            background:  linear-gradient(90deg,#d65f5f 0.0%, transparent 0.0%);\n        }    #T_fe8f6143_cdcd_11ea_b7fa_7989de7c49bfrow82_col1 {\n            width:  10em;\n             height:  80%;\n            background:  linear-gradient(90deg,#d65f5f 0.2%, transparent 0.2%);\n        }    #T_fe8f6143_cdcd_11ea_b7fa_7989de7c49bfrow82_col2 {\n            width:  10em;\n             height:  80%;\n            background:  linear-gradient(90deg,#d65f5f 0.1%, transparent 0.1%);\n        }    #T_fe8f6143_cdcd_11ea_b7fa_7989de7c49bfrow82_col3 {\n            width:  10em;\n             height:  80%;\n            background:  linear-gradient(90deg,#d65f5f 0.5%, transparent 0.5%);\n        }    #T_fe8f6143_cdcd_11ea_b7fa_7989de7c49bfrow82_col4 {\n            width:  10em;\n             height:  80%;\n            background:  linear-gradient(90deg,#d65f5f 0.0%, transparent 0.0%);\n        }    #T_fe8f6143_cdcd_11ea_b7fa_7989de7c49bfrow83_col1 {\n            width:  10em;\n             height:  80%;\n            background:  linear-gradient(90deg,#d65f5f 0.2%, transparent 0.2%);\n        }    #T_fe8f6143_cdcd_11ea_b7fa_7989de7c49bfrow83_col2 {\n            width:  10em;\n             height:  80%;\n            background:  linear-gradient(90deg,#d65f5f 0.1%, transparent 0.1%);\n        }    #T_fe8f6143_cdcd_11ea_b7fa_7989de7c49bfrow83_col3 {\n            width:  10em;\n             height:  80%;\n            background:  linear-gradient(90deg,#d65f5f 0.3%, transparent 0.3%);\n        }    #T_fe8f6143_cdcd_11ea_b7fa_7989de7c49bfrow83_col4 {\n            width:  10em;\n             height:  80%;\n            background:  linear-gradient(90deg,#d65f5f 0.1%, transparent 0.1%);\n        }    #T_fe8f6143_cdcd_11ea_b7fa_7989de7c49bfrow84_col1 {\n            width:  10em;\n             height:  80%;\n            background:  linear-gradient(90deg,#d65f5f 0.2%, transparent 0.2%);\n        }    #T_fe8f6143_cdcd_11ea_b7fa_7989de7c49bfrow84_col2 {\n            width:  10em;\n             height:  80%;\n            background:  linear-gradient(90deg,#d65f5f 0.1%, transparent 0.1%);\n        }    #T_fe8f6143_cdcd_11ea_b7fa_7989de7c49bfrow84_col3 {\n            width:  10em;\n             height:  80%;\n            background:  linear-gradient(90deg,#d65f5f 0.3%, transparent 0.3%);\n        }    #T_fe8f6143_cdcd_11ea_b7fa_7989de7c49bfrow84_col4 {\n            width:  10em;\n             height:  80%;\n            background:  linear-gradient(90deg,#d65f5f 0.1%, transparent 0.1%);\n        }    #T_fe8f6143_cdcd_11ea_b7fa_7989de7c49bfrow85_col1 {\n            width:  10em;\n             height:  80%;\n            background:  linear-gradient(90deg,#d65f5f 0.2%, transparent 0.2%);\n        }    #T_fe8f6143_cdcd_11ea_b7fa_7989de7c49bfrow85_col2 {\n            width:  10em;\n             height:  80%;\n            background:  linear-gradient(90deg,#d65f5f 0.2%, transparent 0.2%);\n        }    #T_fe8f6143_cdcd_11ea_b7fa_7989de7c49bfrow85_col3 {\n            width:  10em;\n             height:  80%;\n            background:  linear-gradient(90deg,#d65f5f 0.4%, transparent 0.4%);\n        }    #T_fe8f6143_cdcd_11ea_b7fa_7989de7c49bfrow85_col4 {\n            width:  10em;\n             height:  80%;\n            background:  linear-gradient(90deg,#d65f5f 0.0%, transparent 0.0%);\n        }    #T_fe8f6143_cdcd_11ea_b7fa_7989de7c49bfrow86_col1 {\n            width:  10em;\n             height:  80%;\n            background:  linear-gradient(90deg,#d65f5f 0.2%, transparent 0.2%);\n        }    #T_fe8f6143_cdcd_11ea_b7fa_7989de7c49bfrow86_col2 {\n            width:  10em;\n             height:  80%;\n            background:  linear-gradient(90deg,#d65f5f 0.1%, transparent 0.1%);\n        }    #T_fe8f6143_cdcd_11ea_b7fa_7989de7c49bfrow86_col3 {\n            width:  10em;\n             height:  80%;\n            background:  linear-gradient(90deg,#d65f5f 0.2%, transparent 0.2%);\n        }    #T_fe8f6143_cdcd_11ea_b7fa_7989de7c49bfrow86_col4 {\n            width:  10em;\n             height:  80%;\n            background:  linear-gradient(90deg,#d65f5f 0.1%, transparent 0.1%);\n        }    #T_fe8f6143_cdcd_11ea_b7fa_7989de7c49bfrow87_col1 {\n            width:  10em;\n             height:  80%;\n            background:  linear-gradient(90deg,#d65f5f 0.2%, transparent 0.2%);\n        }    #T_fe8f6143_cdcd_11ea_b7fa_7989de7c49bfrow87_col2 {\n            width:  10em;\n             height:  80%;\n            background:  linear-gradient(90deg,#d65f5f 0.0%, transparent 0.0%);\n        }    #T_fe8f6143_cdcd_11ea_b7fa_7989de7c49bfrow87_col3 {\n            width:  10em;\n             height:  80%;\n            background:  linear-gradient(90deg,#d65f5f 0.3%, transparent 0.3%);\n        }    #T_fe8f6143_cdcd_11ea_b7fa_7989de7c49bfrow87_col4 {\n            width:  10em;\n             height:  80%;\n            background:  linear-gradient(90deg,#d65f5f 0.0%, transparent 0.0%);\n        }    #T_fe8f6143_cdcd_11ea_b7fa_7989de7c49bfrow88_col1 {\n            width:  10em;\n             height:  80%;\n            background:  linear-gradient(90deg,#d65f5f 0.2%, transparent 0.2%);\n        }    #T_fe8f6143_cdcd_11ea_b7fa_7989de7c49bfrow88_col2 {\n            width:  10em;\n             height:  80%;\n            background:  linear-gradient(90deg,#d65f5f 0.0%, transparent 0.0%);\n        }    #T_fe8f6143_cdcd_11ea_b7fa_7989de7c49bfrow88_col3 {\n            width:  10em;\n             height:  80%;\n            background:  linear-gradient(90deg,#d65f5f 0.4%, transparent 0.4%);\n        }    #T_fe8f6143_cdcd_11ea_b7fa_7989de7c49bfrow88_col4 {\n            width:  10em;\n             height:  80%;\n            background:  linear-gradient(90deg,#d65f5f 0.0%, transparent 0.0%);\n        }    #T_fe8f6143_cdcd_11ea_b7fa_7989de7c49bfrow89_col1 {\n            width:  10em;\n             height:  80%;\n            background:  linear-gradient(90deg,#d65f5f 0.2%, transparent 0.2%);\n        }    #T_fe8f6143_cdcd_11ea_b7fa_7989de7c49bfrow89_col2 {\n            width:  10em;\n             height:  80%;\n            background:  linear-gradient(90deg,#d65f5f 0.0%, transparent 0.0%);\n        }    #T_fe8f6143_cdcd_11ea_b7fa_7989de7c49bfrow89_col3 {\n            width:  10em;\n             height:  80%;\n            background:  linear-gradient(90deg,#d65f5f 0.2%, transparent 0.2%);\n        }    #T_fe8f6143_cdcd_11ea_b7fa_7989de7c49bfrow89_col4 {\n            width:  10em;\n             height:  80%;\n            background:  linear-gradient(90deg,#d65f5f 0.1%, transparent 0.1%);\n        }    #T_fe8f6143_cdcd_11ea_b7fa_7989de7c49bfrow90_col1 {\n            width:  10em;\n             height:  80%;\n            background:  linear-gradient(90deg,#d65f5f 0.2%, transparent 0.2%);\n        }    #T_fe8f6143_cdcd_11ea_b7fa_7989de7c49bfrow90_col2 {\n            width:  10em;\n             height:  80%;\n            background:  linear-gradient(90deg,#d65f5f 0.1%, transparent 0.1%);\n        }    #T_fe8f6143_cdcd_11ea_b7fa_7989de7c49bfrow90_col3 {\n            width:  10em;\n             height:  80%;\n            background:  linear-gradient(90deg,#d65f5f 0.2%, transparent 0.2%);\n        }    #T_fe8f6143_cdcd_11ea_b7fa_7989de7c49bfrow90_col4 {\n            width:  10em;\n             height:  80%;\n            background:  linear-gradient(90deg,#d65f5f 0.1%, transparent 0.1%);\n        }    #T_fe8f6143_cdcd_11ea_b7fa_7989de7c49bfrow91_col1 {\n            width:  10em;\n             height:  80%;\n            background:  linear-gradient(90deg,#d65f5f 0.1%, transparent 0.1%);\n        }    #T_fe8f6143_cdcd_11ea_b7fa_7989de7c49bfrow91_col2 {\n            width:  10em;\n             height:  80%;\n            background:  linear-gradient(90deg,#d65f5f 0.1%, transparent 0.1%);\n        }    #T_fe8f6143_cdcd_11ea_b7fa_7989de7c49bfrow91_col3 {\n            width:  10em;\n             height:  80%;\n            background:  linear-gradient(90deg,#d65f5f 0.2%, transparent 0.2%);\n        }    #T_fe8f6143_cdcd_11ea_b7fa_7989de7c49bfrow91_col4 {\n            width:  10em;\n             height:  80%;\n            background:  linear-gradient(90deg,#d65f5f 0.1%, transparent 0.1%);\n        }    #T_fe8f6143_cdcd_11ea_b7fa_7989de7c49bfrow92_col1 {\n            width:  10em;\n             height:  80%;\n            background:  linear-gradient(90deg,#d65f5f 0.1%, transparent 0.1%);\n        }    #T_fe8f6143_cdcd_11ea_b7fa_7989de7c49bfrow92_col2 {\n            width:  10em;\n             height:  80%;\n            background:  linear-gradient(90deg,#d65f5f 0.1%, transparent 0.1%);\n        }    #T_fe8f6143_cdcd_11ea_b7fa_7989de7c49bfrow92_col3 {\n            width:  10em;\n             height:  80%;\n            background:  linear-gradient(90deg,#d65f5f 0.3%, transparent 0.3%);\n        }    #T_fe8f6143_cdcd_11ea_b7fa_7989de7c49bfrow92_col4 {\n            width:  10em;\n             height:  80%;\n            background:  linear-gradient(90deg,#d65f5f 0.0%, transparent 0.0%);\n        }    #T_fe8f6143_cdcd_11ea_b7fa_7989de7c49bfrow93_col1 {\n            width:  10em;\n             height:  80%;\n            background:  linear-gradient(90deg,#d65f5f 0.1%, transparent 0.1%);\n        }    #T_fe8f6143_cdcd_11ea_b7fa_7989de7c49bfrow93_col2 {\n            width:  10em;\n             height:  80%;\n            background:  linear-gradient(90deg,#d65f5f 0.0%, transparent 0.0%);\n        }    #T_fe8f6143_cdcd_11ea_b7fa_7989de7c49bfrow93_col3 {\n            width:  10em;\n             height:  80%;\n            background:  linear-gradient(90deg,#d65f5f 0.3%, transparent 0.3%);\n        }    #T_fe8f6143_cdcd_11ea_b7fa_7989de7c49bfrow93_col4 {\n            width:  10em;\n             height:  80%;\n            background:  linear-gradient(90deg,#d65f5f 0.0%, transparent 0.0%);\n        }    #T_fe8f6143_cdcd_11ea_b7fa_7989de7c49bfrow94_col1 {\n            width:  10em;\n             height:  80%;\n            background:  linear-gradient(90deg,#d65f5f 0.1%, transparent 0.1%);\n        }    #T_fe8f6143_cdcd_11ea_b7fa_7989de7c49bfrow94_col2 {\n            width:  10em;\n             height:  80%;\n            background:  linear-gradient(90deg,#d65f5f 0.1%, transparent 0.1%);\n        }    #T_fe8f6143_cdcd_11ea_b7fa_7989de7c49bfrow94_col3 {\n            width:  10em;\n             height:  80%;\n            background:  linear-gradient(90deg,#d65f5f 0.2%, transparent 0.2%);\n        }    #T_fe8f6143_cdcd_11ea_b7fa_7989de7c49bfrow94_col4 {\n            width:  10em;\n             height:  80%;\n            background:  linear-gradient(90deg,#d65f5f 0.0%, transparent 0.0%);\n        }    #T_fe8f6143_cdcd_11ea_b7fa_7989de7c49bfrow95_col1 {\n            width:  10em;\n             height:  80%;\n            background:  linear-gradient(90deg,#d65f5f 0.1%, transparent 0.1%);\n        }    #T_fe8f6143_cdcd_11ea_b7fa_7989de7c49bfrow95_col2 {\n            width:  10em;\n             height:  80%;\n            background:  linear-gradient(90deg,#d65f5f 0.0%, transparent 0.0%);\n        }    #T_fe8f6143_cdcd_11ea_b7fa_7989de7c49bfrow95_col3 {\n            width:  10em;\n             height:  80%;\n            background:  linear-gradient(90deg,#d65f5f 0.1%, transparent 0.1%);\n        }    #T_fe8f6143_cdcd_11ea_b7fa_7989de7c49bfrow95_col4 {\n            width:  10em;\n             height:  80%;\n            background:  linear-gradient(90deg,#d65f5f 0.1%, transparent 0.1%);\n        }    #T_fe8f6143_cdcd_11ea_b7fa_7989de7c49bfrow96_col1 {\n            width:  10em;\n             height:  80%;\n            background:  linear-gradient(90deg,#d65f5f 0.1%, transparent 0.1%);\n        }    #T_fe8f6143_cdcd_11ea_b7fa_7989de7c49bfrow96_col2 {\n            width:  10em;\n             height:  80%;\n            background:  linear-gradient(90deg,#d65f5f 0.1%, transparent 0.1%);\n        }    #T_fe8f6143_cdcd_11ea_b7fa_7989de7c49bfrow96_col3 {\n            width:  10em;\n             height:  80%;\n            background:  linear-gradient(90deg,#d65f5f 0.2%, transparent 0.2%);\n        }    #T_fe8f6143_cdcd_11ea_b7fa_7989de7c49bfrow96_col4 {\n            width:  10em;\n             height:  80%;\n            background:  linear-gradient(90deg,#d65f5f 0.1%, transparent 0.1%);\n        }    #T_fe8f6143_cdcd_11ea_b7fa_7989de7c49bfrow97_col1 {\n            width:  10em;\n             height:  80%;\n            background:  linear-gradient(90deg,#d65f5f 0.1%, transparent 0.1%);\n        }    #T_fe8f6143_cdcd_11ea_b7fa_7989de7c49bfrow97_col2 {\n            width:  10em;\n             height:  80%;\n            background:  linear-gradient(90deg,#d65f5f 0.4%, transparent 0.4%);\n        }    #T_fe8f6143_cdcd_11ea_b7fa_7989de7c49bfrow97_col3 {\n            width:  10em;\n             height:  80%;\n            background:  linear-gradient(90deg,#d65f5f 0.2%, transparent 0.2%);\n        }    #T_fe8f6143_cdcd_11ea_b7fa_7989de7c49bfrow97_col4 {\n            width:  10em;\n             height:  80%;\n            background:  linear-gradient(90deg,#d65f5f 0.0%, transparent 0.0%);\n        }    #T_fe8f6143_cdcd_11ea_b7fa_7989de7c49bfrow98_col1 {\n            width:  10em;\n             height:  80%;\n            background:  linear-gradient(90deg,#d65f5f 0.1%, transparent 0.1%);\n        }    #T_fe8f6143_cdcd_11ea_b7fa_7989de7c49bfrow98_col2 {\n            width:  10em;\n             height:  80%;\n            background:  linear-gradient(90deg,#d65f5f 0.1%, transparent 0.1%);\n        }    #T_fe8f6143_cdcd_11ea_b7fa_7989de7c49bfrow98_col3 {\n            width:  10em;\n             height:  80%;\n            background:  linear-gradient(90deg,#d65f5f 0.1%, transparent 0.1%);\n        }    #T_fe8f6143_cdcd_11ea_b7fa_7989de7c49bfrow98_col4 {\n            width:  10em;\n             height:  80%;\n            background:  linear-gradient(90deg,#d65f5f 0.1%, transparent 0.1%);\n        }    #T_fe8f6143_cdcd_11ea_b7fa_7989de7c49bfrow99_col1 {\n            width:  10em;\n             height:  80%;\n            background:  linear-gradient(90deg,#d65f5f 0.1%, transparent 0.1%);\n        }    #T_fe8f6143_cdcd_11ea_b7fa_7989de7c49bfrow99_col2 {\n            width:  10em;\n             height:  80%;\n            background:  linear-gradient(90deg,#d65f5f 0.0%, transparent 0.0%);\n        }    #T_fe8f6143_cdcd_11ea_b7fa_7989de7c49bfrow99_col3 {\n            width:  10em;\n             height:  80%;\n            background:  linear-gradient(90deg,#d65f5f 0.1%, transparent 0.1%);\n        }    #T_fe8f6143_cdcd_11ea_b7fa_7989de7c49bfrow99_col4 {\n            width:  10em;\n             height:  80%;\n            background:  linear-gradient(90deg,#d65f5f 0.1%, transparent 0.1%);\n        }    #T_fe8f6143_cdcd_11ea_b7fa_7989de7c49bfrow100_col1 {\n            width:  10em;\n             height:  80%;\n            background:  linear-gradient(90deg,#d65f5f 0.1%, transparent 0.1%);\n        }    #T_fe8f6143_cdcd_11ea_b7fa_7989de7c49bfrow100_col2 {\n            width:  10em;\n             height:  80%;\n            background:  linear-gradient(90deg,#d65f5f 0.1%, transparent 0.1%);\n        }    #T_fe8f6143_cdcd_11ea_b7fa_7989de7c49bfrow100_col3 {\n            width:  10em;\n             height:  80%;\n            background:  linear-gradient(90deg,#d65f5f 0.1%, transparent 0.1%);\n        }    #T_fe8f6143_cdcd_11ea_b7fa_7989de7c49bfrow100_col4 {\n            width:  10em;\n             height:  80%;\n            background:  linear-gradient(90deg,#d65f5f 0.1%, transparent 0.1%);\n        }    #T_fe8f6143_cdcd_11ea_b7fa_7989de7c49bfrow101_col1 {\n            width:  10em;\n             height:  80%;\n            background:  linear-gradient(90deg,#d65f5f 0.1%, transparent 0.1%);\n        }    #T_fe8f6143_cdcd_11ea_b7fa_7989de7c49bfrow101_col2 {\n            width:  10em;\n             height:  80%;\n            background:  linear-gradient(90deg,#d65f5f 0.1%, transparent 0.1%);\n        }    #T_fe8f6143_cdcd_11ea_b7fa_7989de7c49bfrow101_col3 {\n            width:  10em;\n             height:  80%;\n            background:  linear-gradient(90deg,#d65f5f 0.1%, transparent 0.1%);\n        }    #T_fe8f6143_cdcd_11ea_b7fa_7989de7c49bfrow101_col4 {\n            width:  10em;\n             height:  80%;\n            background:  linear-gradient(90deg,#d65f5f 0.0%, transparent 0.0%);\n        }    #T_fe8f6143_cdcd_11ea_b7fa_7989de7c49bfrow102_col1 {\n            width:  10em;\n             height:  80%;\n            background:  linear-gradient(90deg,#d65f5f 0.1%, transparent 0.1%);\n        }    #T_fe8f6143_cdcd_11ea_b7fa_7989de7c49bfrow102_col2 {\n            width:  10em;\n             height:  80%;\n            background:  linear-gradient(90deg,#d65f5f 0.1%, transparent 0.1%);\n        }    #T_fe8f6143_cdcd_11ea_b7fa_7989de7c49bfrow102_col3 {\n            width:  10em;\n             height:  80%;\n            background:  linear-gradient(90deg,#d65f5f 0.1%, transparent 0.1%);\n        }    #T_fe8f6143_cdcd_11ea_b7fa_7989de7c49bfrow102_col4 {\n            width:  10em;\n             height:  80%;\n            background:  linear-gradient(90deg,#d65f5f 0.1%, transparent 0.1%);\n        }    #T_fe8f6143_cdcd_11ea_b7fa_7989de7c49bfrow103_col1 {\n            width:  10em;\n             height:  80%;\n            background:  linear-gradient(90deg,#d65f5f 0.1%, transparent 0.1%);\n        }    #T_fe8f6143_cdcd_11ea_b7fa_7989de7c49bfrow103_col2 {\n            width:  10em;\n             height:  80%;\n            background:  linear-gradient(90deg,#d65f5f 0.0%, transparent 0.0%);\n        }    #T_fe8f6143_cdcd_11ea_b7fa_7989de7c49bfrow103_col3 {\n            width:  10em;\n             height:  80%;\n            background:  linear-gradient(90deg,#d65f5f 0.2%, transparent 0.2%);\n        }    #T_fe8f6143_cdcd_11ea_b7fa_7989de7c49bfrow103_col4 {\n            width:  10em;\n             height:  80%;\n            background:  linear-gradient(90deg,#d65f5f 0.0%, transparent 0.0%);\n        }    #T_fe8f6143_cdcd_11ea_b7fa_7989de7c49bfrow104_col1 {\n            width:  10em;\n             height:  80%;\n            background:  linear-gradient(90deg,#d65f5f 0.1%, transparent 0.1%);\n        }    #T_fe8f6143_cdcd_11ea_b7fa_7989de7c49bfrow104_col2 {\n            width:  10em;\n             height:  80%;\n            background:  linear-gradient(90deg,#d65f5f 0.0%, transparent 0.0%);\n        }    #T_fe8f6143_cdcd_11ea_b7fa_7989de7c49bfrow104_col3 {\n            width:  10em;\n             height:  80%;\n            background:  linear-gradient(90deg,#d65f5f 0.1%, transparent 0.1%);\n        }    #T_fe8f6143_cdcd_11ea_b7fa_7989de7c49bfrow104_col4 {\n            width:  10em;\n             height:  80%;\n            background:  linear-gradient(90deg,#d65f5f 0.1%, transparent 0.1%);\n        }    #T_fe8f6143_cdcd_11ea_b7fa_7989de7c49bfrow105_col1 {\n            width:  10em;\n             height:  80%;\n            background:  linear-gradient(90deg,#d65f5f 0.1%, transparent 0.1%);\n        }    #T_fe8f6143_cdcd_11ea_b7fa_7989de7c49bfrow105_col2 {\n            width:  10em;\n             height:  80%;\n            background:  linear-gradient(90deg,#d65f5f 0.1%, transparent 0.1%);\n        }    #T_fe8f6143_cdcd_11ea_b7fa_7989de7c49bfrow105_col3 {\n            width:  10em;\n             height:  80%;\n            background:  linear-gradient(90deg,#d65f5f 0.1%, transparent 0.1%);\n        }    #T_fe8f6143_cdcd_11ea_b7fa_7989de7c49bfrow105_col4 {\n            width:  10em;\n             height:  80%;\n            background:  linear-gradient(90deg,#d65f5f 0.1%, transparent 0.1%);\n        }    #T_fe8f6143_cdcd_11ea_b7fa_7989de7c49bfrow106_col1 {\n            width:  10em;\n             height:  80%;\n            background:  linear-gradient(90deg,#d65f5f 0.1%, transparent 0.1%);\n        }    #T_fe8f6143_cdcd_11ea_b7fa_7989de7c49bfrow106_col2 {\n            width:  10em;\n             height:  80%;\n            background:  linear-gradient(90deg,#d65f5f 0.0%, transparent 0.0%);\n        }    #T_fe8f6143_cdcd_11ea_b7fa_7989de7c49bfrow106_col3 {\n            width:  10em;\n             height:  80%;\n            background:  linear-gradient(90deg,#d65f5f 0.1%, transparent 0.1%);\n        }    #T_fe8f6143_cdcd_11ea_b7fa_7989de7c49bfrow106_col4 {\n            width:  10em;\n             height:  80%;\n            background:  linear-gradient(90deg,#d65f5f 0.0%, transparent 0.0%);\n        }    #T_fe8f6143_cdcd_11ea_b7fa_7989de7c49bfrow107_col1 {\n            width:  10em;\n             height:  80%;\n            background:  linear-gradient(90deg,#d65f5f 0.1%, transparent 0.1%);\n        }    #T_fe8f6143_cdcd_11ea_b7fa_7989de7c49bfrow107_col2 {\n            width:  10em;\n             height:  80%;\n            background:  linear-gradient(90deg,#d65f5f 0.0%, transparent 0.0%);\n        }    #T_fe8f6143_cdcd_11ea_b7fa_7989de7c49bfrow107_col3 {\n            width:  10em;\n             height:  80%;\n            background:  linear-gradient(90deg,#d65f5f 0.0%, transparent 0.0%);\n        }    #T_fe8f6143_cdcd_11ea_b7fa_7989de7c49bfrow107_col4 {\n            width:  10em;\n             height:  80%;\n            background:  linear-gradient(90deg,#d65f5f 0.1%, transparent 0.1%);\n        }    #T_fe8f6143_cdcd_11ea_b7fa_7989de7c49bfrow108_col1 {\n            width:  10em;\n             height:  80%;\n            background:  linear-gradient(90deg,#d65f5f 0.1%, transparent 0.1%);\n        }    #T_fe8f6143_cdcd_11ea_b7fa_7989de7c49bfrow108_col2 {\n            width:  10em;\n             height:  80%;\n            background:  linear-gradient(90deg,#d65f5f 0.0%, transparent 0.0%);\n        }    #T_fe8f6143_cdcd_11ea_b7fa_7989de7c49bfrow108_col3 {\n            width:  10em;\n             height:  80%;\n            background:  linear-gradient(90deg,#d65f5f 0.0%, transparent 0.0%);\n        }    #T_fe8f6143_cdcd_11ea_b7fa_7989de7c49bfrow108_col4 {\n            width:  10em;\n             height:  80%;\n            background:  linear-gradient(90deg,#d65f5f 0.1%, transparent 0.1%);\n        }    #T_fe8f6143_cdcd_11ea_b7fa_7989de7c49bfrow109_col1 {\n            width:  10em;\n             height:  80%;\n            background:  linear-gradient(90deg,#d65f5f 0.1%, transparent 0.1%);\n        }    #T_fe8f6143_cdcd_11ea_b7fa_7989de7c49bfrow109_col2 {\n            width:  10em;\n             height:  80%;\n            background:  linear-gradient(90deg,#d65f5f 0.0%, transparent 0.0%);\n        }    #T_fe8f6143_cdcd_11ea_b7fa_7989de7c49bfrow109_col3 {\n            width:  10em;\n             height:  80%;\n            background:  linear-gradient(90deg,#d65f5f 0.1%, transparent 0.1%);\n        }    #T_fe8f6143_cdcd_11ea_b7fa_7989de7c49bfrow109_col4 {\n            width:  10em;\n             height:  80%;\n            background:  linear-gradient(90deg,#d65f5f 0.0%, transparent 0.0%);\n        }    #T_fe8f6143_cdcd_11ea_b7fa_7989de7c49bfrow110_col1 {\n            width:  10em;\n             height:  80%;\n            background:  linear-gradient(90deg,#d65f5f 0.1%, transparent 0.1%);\n        }    #T_fe8f6143_cdcd_11ea_b7fa_7989de7c49bfrow110_col2 {\n            width:  10em;\n             height:  80%;\n            background:  linear-gradient(90deg,#d65f5f 0.0%, transparent 0.0%);\n        }    #T_fe8f6143_cdcd_11ea_b7fa_7989de7c49bfrow110_col3 {\n            width:  10em;\n             height:  80%;\n            background:  linear-gradient(90deg,#d65f5f 0.0%, transparent 0.0%);\n        }    #T_fe8f6143_cdcd_11ea_b7fa_7989de7c49bfrow110_col4 {\n            width:  10em;\n             height:  80%;\n            background:  linear-gradient(90deg,#d65f5f 0.1%, transparent 0.1%);\n        }    #T_fe8f6143_cdcd_11ea_b7fa_7989de7c49bfrow111_col1 {\n            width:  10em;\n             height:  80%;\n            background:  linear-gradient(90deg,#d65f5f 0.1%, transparent 0.1%);\n        }    #T_fe8f6143_cdcd_11ea_b7fa_7989de7c49bfrow111_col2 {\n            width:  10em;\n             height:  80%;\n            background:  linear-gradient(90deg,#d65f5f 0.1%, transparent 0.1%);\n        }    #T_fe8f6143_cdcd_11ea_b7fa_7989de7c49bfrow111_col3 {\n            width:  10em;\n             height:  80%;\n            background:  linear-gradient(90deg,#d65f5f 0.1%, transparent 0.1%);\n        }    #T_fe8f6143_cdcd_11ea_b7fa_7989de7c49bfrow111_col4 {\n            width:  10em;\n             height:  80%;\n            background:  linear-gradient(90deg,#d65f5f 0.0%, transparent 0.0%);\n        }    #T_fe8f6143_cdcd_11ea_b7fa_7989de7c49bfrow112_col1 {\n            width:  10em;\n             height:  80%;\n            background:  linear-gradient(90deg,#d65f5f 0.1%, transparent 0.1%);\n        }    #T_fe8f6143_cdcd_11ea_b7fa_7989de7c49bfrow112_col2 {\n            width:  10em;\n             height:  80%;\n            background:  linear-gradient(90deg,#d65f5f 0.1%, transparent 0.1%);\n        }    #T_fe8f6143_cdcd_11ea_b7fa_7989de7c49bfrow112_col3 {\n            width:  10em;\n             height:  80%;\n            background:  linear-gradient(90deg,#d65f5f 0.1%, transparent 0.1%);\n        }    #T_fe8f6143_cdcd_11ea_b7fa_7989de7c49bfrow112_col4 {\n            width:  10em;\n             height:  80%;\n            background:  linear-gradient(90deg,#d65f5f 0.0%, transparent 0.0%);\n        }    #T_fe8f6143_cdcd_11ea_b7fa_7989de7c49bfrow113_col1 {\n            width:  10em;\n             height:  80%;\n            background:  linear-gradient(90deg,#d65f5f 0.1%, transparent 0.1%);\n        }    #T_fe8f6143_cdcd_11ea_b7fa_7989de7c49bfrow113_col2 {\n            width:  10em;\n             height:  80%;\n            background:  linear-gradient(90deg,#d65f5f 0.0%, transparent 0.0%);\n        }    #T_fe8f6143_cdcd_11ea_b7fa_7989de7c49bfrow113_col3 {\n            width:  10em;\n             height:  80%;\n            background:  linear-gradient(90deg,#d65f5f 0.0%, transparent 0.0%);\n        }    #T_fe8f6143_cdcd_11ea_b7fa_7989de7c49bfrow113_col4 {\n            width:  10em;\n             height:  80%;\n            background:  linear-gradient(90deg,#d65f5f 0.1%, transparent 0.1%);\n        }    #T_fe8f6143_cdcd_11ea_b7fa_7989de7c49bfrow114_col1 {\n            width:  10em;\n             height:  80%;\n            background:  linear-gradient(90deg,#d65f5f 0.1%, transparent 0.1%);\n        }    #T_fe8f6143_cdcd_11ea_b7fa_7989de7c49bfrow114_col2 {\n            width:  10em;\n             height:  80%;\n            background:  linear-gradient(90deg,#d65f5f 0.0%, transparent 0.0%);\n        }    #T_fe8f6143_cdcd_11ea_b7fa_7989de7c49bfrow114_col3 {\n            width:  10em;\n             height:  80%;\n            background:  linear-gradient(90deg,#d65f5f 0.1%, transparent 0.1%);\n        }    #T_fe8f6143_cdcd_11ea_b7fa_7989de7c49bfrow114_col4 {\n            width:  10em;\n             height:  80%;\n            background:  linear-gradient(90deg,#d65f5f 0.0%, transparent 0.0%);\n        }    #T_fe8f6143_cdcd_11ea_b7fa_7989de7c49bfrow115_col1 {\n            width:  10em;\n             height:  80%;\n            background:  linear-gradient(90deg,#d65f5f 0.1%, transparent 0.1%);\n        }    #T_fe8f6143_cdcd_11ea_b7fa_7989de7c49bfrow115_col2 {\n            width:  10em;\n             height:  80%;\n            background:  linear-gradient(90deg,#d65f5f 0.0%, transparent 0.0%);\n        }    #T_fe8f6143_cdcd_11ea_b7fa_7989de7c49bfrow115_col3 {\n            width:  10em;\n             height:  80%;\n            background:  linear-gradient(90deg,#d65f5f 0.1%, transparent 0.1%);\n        }    #T_fe8f6143_cdcd_11ea_b7fa_7989de7c49bfrow115_col4 {\n            width:  10em;\n             height:  80%;\n            background:  linear-gradient(90deg,#d65f5f 0.0%, transparent 0.0%);\n        }    #T_fe8f6143_cdcd_11ea_b7fa_7989de7c49bfrow116_col1 {\n            width:  10em;\n             height:  80%;\n            background:  linear-gradient(90deg,#d65f5f 0.1%, transparent 0.1%);\n        }    #T_fe8f6143_cdcd_11ea_b7fa_7989de7c49bfrow116_col2 {\n            width:  10em;\n             height:  80%;\n            background:  linear-gradient(90deg,#d65f5f 0.0%, transparent 0.0%);\n        }    #T_fe8f6143_cdcd_11ea_b7fa_7989de7c49bfrow116_col3 {\n            width:  10em;\n             height:  80%;\n            background:  linear-gradient(90deg,#d65f5f 0.0%, transparent 0.0%);\n        }    #T_fe8f6143_cdcd_11ea_b7fa_7989de7c49bfrow116_col4 {\n            width:  10em;\n             height:  80%;\n            background:  linear-gradient(90deg,#d65f5f 0.1%, transparent 0.1%);\n        }    #T_fe8f6143_cdcd_11ea_b7fa_7989de7c49bfrow117_col1 {\n            width:  10em;\n             height:  80%;\n            background:  linear-gradient(90deg,#d65f5f 0.1%, transparent 0.1%);\n        }    #T_fe8f6143_cdcd_11ea_b7fa_7989de7c49bfrow117_col2 {\n            width:  10em;\n             height:  80%;\n            background:  linear-gradient(90deg,#d65f5f 0.0%, transparent 0.0%);\n        }    #T_fe8f6143_cdcd_11ea_b7fa_7989de7c49bfrow117_col3 {\n            width:  10em;\n             height:  80%;\n            background:  linear-gradient(90deg,#d65f5f 0.1%, transparent 0.1%);\n        }    #T_fe8f6143_cdcd_11ea_b7fa_7989de7c49bfrow117_col4 {\n            width:  10em;\n             height:  80%;\n            background:  linear-gradient(90deg,#d65f5f 0.0%, transparent 0.0%);\n        }    #T_fe8f6143_cdcd_11ea_b7fa_7989de7c49bfrow118_col1 {\n            width:  10em;\n             height:  80%;\n            background:  linear-gradient(90deg,#d65f5f 0.0%, transparent 0.0%);\n        }    #T_fe8f6143_cdcd_11ea_b7fa_7989de7c49bfrow118_col2 {\n            width:  10em;\n             height:  80%;\n            background:  linear-gradient(90deg,#d65f5f 0.1%, transparent 0.1%);\n        }    #T_fe8f6143_cdcd_11ea_b7fa_7989de7c49bfrow118_col3 {\n            width:  10em;\n             height:  80%;\n            background:  linear-gradient(90deg,#d65f5f 0.1%, transparent 0.1%);\n        }    #T_fe8f6143_cdcd_11ea_b7fa_7989de7c49bfrow118_col4 {\n            width:  10em;\n             height:  80%;\n            background:  linear-gradient(90deg,#d65f5f 0.0%, transparent 0.0%);\n        }    #T_fe8f6143_cdcd_11ea_b7fa_7989de7c49bfrow119_col1 {\n            width:  10em;\n             height:  80%;\n            background:  linear-gradient(90deg,#d65f5f 0.0%, transparent 0.0%);\n        }    #T_fe8f6143_cdcd_11ea_b7fa_7989de7c49bfrow119_col2 {\n            width:  10em;\n             height:  80%;\n            background:  linear-gradient(90deg,#d65f5f 0.0%, transparent 0.0%);\n        }    #T_fe8f6143_cdcd_11ea_b7fa_7989de7c49bfrow119_col3 {\n            width:  10em;\n             height:  80%;\n            background:  linear-gradient(90deg,#d65f5f 0.1%, transparent 0.1%);\n        }    #T_fe8f6143_cdcd_11ea_b7fa_7989de7c49bfrow119_col4 {\n            width:  10em;\n             height:  80%;\n            background:  linear-gradient(90deg,#d65f5f 0.0%, transparent 0.0%);\n        }    #T_fe8f6143_cdcd_11ea_b7fa_7989de7c49bfrow120_col1 {\n            width:  10em;\n             height:  80%;\n            background:  linear-gradient(90deg,#d65f5f 0.0%, transparent 0.0%);\n        }    #T_fe8f6143_cdcd_11ea_b7fa_7989de7c49bfrow120_col2 {\n            width:  10em;\n             height:  80%;\n            background:  linear-gradient(90deg,#d65f5f 0.0%, transparent 0.0%);\n        }    #T_fe8f6143_cdcd_11ea_b7fa_7989de7c49bfrow120_col3 {\n            width:  10em;\n             height:  80%;\n            background:  linear-gradient(90deg,#d65f5f 0.1%, transparent 0.1%);\n        }    #T_fe8f6143_cdcd_11ea_b7fa_7989de7c49bfrow120_col4 {\n            width:  10em;\n             height:  80%;\n            background:  linear-gradient(90deg,#d65f5f 0.0%, transparent 0.0%);\n        }    #T_fe8f6143_cdcd_11ea_b7fa_7989de7c49bfrow121_col1 {\n            width:  10em;\n             height:  80%;\n            background:  linear-gradient(90deg,#d65f5f 0.0%, transparent 0.0%);\n        }    #T_fe8f6143_cdcd_11ea_b7fa_7989de7c49bfrow121_col2 {\n            width:  10em;\n             height:  80%;\n            background:  linear-gradient(90deg,#d65f5f 0.1%, transparent 0.1%);\n        }    #T_fe8f6143_cdcd_11ea_b7fa_7989de7c49bfrow121_col3 {\n            width:  10em;\n             height:  80%;\n            background:  linear-gradient(90deg,#d65f5f 0.1%, transparent 0.1%);\n        }    #T_fe8f6143_cdcd_11ea_b7fa_7989de7c49bfrow121_col4 {\n            width:  10em;\n             height:  80%;\n            background:  linear-gradient(90deg,#d65f5f 0.0%, transparent 0.0%);\n        }    #T_fe8f6143_cdcd_11ea_b7fa_7989de7c49bfrow122_col1 {\n            width:  10em;\n             height:  80%;\n            background:  linear-gradient(90deg,#d65f5f 0.0%, transparent 0.0%);\n        }    #T_fe8f6143_cdcd_11ea_b7fa_7989de7c49bfrow122_col2 {\n            width:  10em;\n             height:  80%;\n            background:  linear-gradient(90deg,#d65f5f 0.0%, transparent 0.0%);\n        }    #T_fe8f6143_cdcd_11ea_b7fa_7989de7c49bfrow122_col3 {\n            width:  10em;\n             height:  80%;\n            background:  linear-gradient(90deg,#d65f5f 0.0%, transparent 0.0%);\n        }    #T_fe8f6143_cdcd_11ea_b7fa_7989de7c49bfrow122_col4 {\n            width:  10em;\n             height:  80%;\n            background:  linear-gradient(90deg,#d65f5f 0.0%, transparent 0.0%);\n        }    #T_fe8f6143_cdcd_11ea_b7fa_7989de7c49bfrow123_col1 {\n            width:  10em;\n             height:  80%;\n            background:  linear-gradient(90deg,#d65f5f 0.0%, transparent 0.0%);\n        }    #T_fe8f6143_cdcd_11ea_b7fa_7989de7c49bfrow123_col2 {\n            width:  10em;\n             height:  80%;\n            background:  linear-gradient(90deg,#d65f5f 0.0%, transparent 0.0%);\n        }    #T_fe8f6143_cdcd_11ea_b7fa_7989de7c49bfrow123_col3 {\n            width:  10em;\n             height:  80%;\n            background:  linear-gradient(90deg,#d65f5f 0.1%, transparent 0.1%);\n        }    #T_fe8f6143_cdcd_11ea_b7fa_7989de7c49bfrow123_col4 {\n            width:  10em;\n             height:  80%;\n            background:  linear-gradient(90deg,#d65f5f 0.0%, transparent 0.0%);\n        }    #T_fe8f6143_cdcd_11ea_b7fa_7989de7c49bfrow124_col1 {\n            width:  10em;\n             height:  80%;\n            background:  linear-gradient(90deg,#d65f5f 0.0%, transparent 0.0%);\n        }    #T_fe8f6143_cdcd_11ea_b7fa_7989de7c49bfrow124_col2 {\n            width:  10em;\n             height:  80%;\n            background:  linear-gradient(90deg,#d65f5f 0.0%, transparent 0.0%);\n        }    #T_fe8f6143_cdcd_11ea_b7fa_7989de7c49bfrow124_col3 {\n            width:  10em;\n             height:  80%;\n            background:  linear-gradient(90deg,#d65f5f 0.1%, transparent 0.1%);\n        }    #T_fe8f6143_cdcd_11ea_b7fa_7989de7c49bfrow124_col4 {\n            width:  10em;\n             height:  80%;\n            background:  linear-gradient(90deg,#d65f5f 0.0%, transparent 0.0%);\n        }    #T_fe8f6143_cdcd_11ea_b7fa_7989de7c49bfrow125_col1 {\n            width:  10em;\n             height:  80%;\n            background:  linear-gradient(90deg,#d65f5f 0.0%, transparent 0.0%);\n        }    #T_fe8f6143_cdcd_11ea_b7fa_7989de7c49bfrow125_col2 {\n            width:  10em;\n             height:  80%;\n            background:  linear-gradient(90deg,#d65f5f 0.0%, transparent 0.0%);\n        }    #T_fe8f6143_cdcd_11ea_b7fa_7989de7c49bfrow125_col3 {\n            width:  10em;\n             height:  80%;\n            background:  linear-gradient(90deg,#d65f5f 0.1%, transparent 0.1%);\n        }    #T_fe8f6143_cdcd_11ea_b7fa_7989de7c49bfrow125_col4 {\n            width:  10em;\n             height:  80%;\n            background:  linear-gradient(90deg,#d65f5f 0.0%, transparent 0.0%);\n        }    #T_fe8f6143_cdcd_11ea_b7fa_7989de7c49bfrow126_col1 {\n            width:  10em;\n             height:  80%;\n            background:  linear-gradient(90deg,#d65f5f 0.0%, transparent 0.0%);\n        }    #T_fe8f6143_cdcd_11ea_b7fa_7989de7c49bfrow126_col2 {\n            width:  10em;\n             height:  80%;\n            background:  linear-gradient(90deg,#d65f5f 0.0%, transparent 0.0%);\n        }    #T_fe8f6143_cdcd_11ea_b7fa_7989de7c49bfrow126_col3 {\n            width:  10em;\n             height:  80%;\n            background:  linear-gradient(90deg,#d65f5f 0.1%, transparent 0.1%);\n        }    #T_fe8f6143_cdcd_11ea_b7fa_7989de7c49bfrow126_col4 {\n            width:  10em;\n             height:  80%;\n            background:  linear-gradient(90deg,#d65f5f 0.0%, transparent 0.0%);\n        }    #T_fe8f6143_cdcd_11ea_b7fa_7989de7c49bfrow127_col1 {\n            width:  10em;\n             height:  80%;\n            background:  linear-gradient(90deg,#d65f5f 0.0%, transparent 0.0%);\n        }    #T_fe8f6143_cdcd_11ea_b7fa_7989de7c49bfrow127_col2 {\n            width:  10em;\n             height:  80%;\n            background:  linear-gradient(90deg,#d65f5f 0.3%, transparent 0.3%);\n        }    #T_fe8f6143_cdcd_11ea_b7fa_7989de7c49bfrow127_col3 {\n            width:  10em;\n             height:  80%;\n            background:  linear-gradient(90deg,#d65f5f 0.0%, transparent 0.0%);\n        }    #T_fe8f6143_cdcd_11ea_b7fa_7989de7c49bfrow127_col4 {\n            width:  10em;\n             height:  80%;\n            background:  linear-gradient(90deg,#d65f5f 0.0%, transparent 0.0%);\n        }    #T_fe8f6143_cdcd_11ea_b7fa_7989de7c49bfrow128_col1 {\n            width:  10em;\n             height:  80%;\n            background:  linear-gradient(90deg,#d65f5f 0.0%, transparent 0.0%);\n        }    #T_fe8f6143_cdcd_11ea_b7fa_7989de7c49bfrow128_col2 {\n            width:  10em;\n             height:  80%;\n            background:  linear-gradient(90deg,#d65f5f 0.0%, transparent 0.0%);\n        }    #T_fe8f6143_cdcd_11ea_b7fa_7989de7c49bfrow128_col3 {\n            width:  10em;\n             height:  80%;\n            background:  linear-gradient(90deg,#d65f5f 0.0%, transparent 0.0%);\n        }    #T_fe8f6143_cdcd_11ea_b7fa_7989de7c49bfrow128_col4 {\n            width:  10em;\n             height:  80%;\n            background:  linear-gradient(90deg,#d65f5f 0.1%, transparent 0.1%);\n        }    #T_fe8f6143_cdcd_11ea_b7fa_7989de7c49bfrow129_col1 {\n            width:  10em;\n             height:  80%;\n            background:  linear-gradient(90deg,#d65f5f 0.0%, transparent 0.0%);\n        }    #T_fe8f6143_cdcd_11ea_b7fa_7989de7c49bfrow129_col2 {\n            width:  10em;\n             height:  80%;\n            background:  linear-gradient(90deg,#d65f5f 0.0%, transparent 0.0%);\n        }    #T_fe8f6143_cdcd_11ea_b7fa_7989de7c49bfrow129_col3 {\n            width:  10em;\n             height:  80%;\n            background:  linear-gradient(90deg,#d65f5f 0.0%, transparent 0.0%);\n        }    #T_fe8f6143_cdcd_11ea_b7fa_7989de7c49bfrow129_col4 {\n            width:  10em;\n             height:  80%;\n            background:  linear-gradient(90deg,#d65f5f 0.0%, transparent 0.0%);\n        }    #T_fe8f6143_cdcd_11ea_b7fa_7989de7c49bfrow130_col1 {\n            width:  10em;\n             height:  80%;\n            background:  linear-gradient(90deg,#d65f5f 0.0%, transparent 0.0%);\n        }    #T_fe8f6143_cdcd_11ea_b7fa_7989de7c49bfrow130_col2 {\n            width:  10em;\n             height:  80%;\n            background:  linear-gradient(90deg,#d65f5f 0.0%, transparent 0.0%);\n        }    #T_fe8f6143_cdcd_11ea_b7fa_7989de7c49bfrow130_col3 {\n            width:  10em;\n             height:  80%;\n            background:  linear-gradient(90deg,#d65f5f 0.1%, transparent 0.1%);\n        }    #T_fe8f6143_cdcd_11ea_b7fa_7989de7c49bfrow130_col4 {\n            width:  10em;\n             height:  80%;\n            background:  linear-gradient(90deg,#d65f5f 0.0%, transparent 0.0%);\n        }    #T_fe8f6143_cdcd_11ea_b7fa_7989de7c49bfrow131_col1 {\n            width:  10em;\n             height:  80%;\n            background:  linear-gradient(90deg,#d65f5f 0.0%, transparent 0.0%);\n        }    #T_fe8f6143_cdcd_11ea_b7fa_7989de7c49bfrow131_col2 {\n            width:  10em;\n             height:  80%;\n            background:  linear-gradient(90deg,#d65f5f 0.0%, transparent 0.0%);\n        }    #T_fe8f6143_cdcd_11ea_b7fa_7989de7c49bfrow131_col3 {\n            width:  10em;\n             height:  80%;\n            background:  linear-gradient(90deg,#d65f5f 0.1%, transparent 0.1%);\n        }    #T_fe8f6143_cdcd_11ea_b7fa_7989de7c49bfrow131_col4 {\n            width:  10em;\n             height:  80%;\n            background:  linear-gradient(90deg,#d65f5f 0.0%, transparent 0.0%);\n        }    #T_fe8f6143_cdcd_11ea_b7fa_7989de7c49bfrow132_col1 {\n            width:  10em;\n             height:  80%;\n            background:  linear-gradient(90deg,#d65f5f 0.0%, transparent 0.0%);\n        }    #T_fe8f6143_cdcd_11ea_b7fa_7989de7c49bfrow132_col2 {\n            width:  10em;\n             height:  80%;\n            background:  linear-gradient(90deg,#d65f5f 0.0%, transparent 0.0%);\n        }    #T_fe8f6143_cdcd_11ea_b7fa_7989de7c49bfrow132_col3 {\n            width:  10em;\n             height:  80%;\n            background:  linear-gradient(90deg,#d65f5f 0.0%, transparent 0.0%);\n        }    #T_fe8f6143_cdcd_11ea_b7fa_7989de7c49bfrow132_col4 {\n            width:  10em;\n             height:  80%;\n            background:  linear-gradient(90deg,#d65f5f 0.0%, transparent 0.0%);\n        }    #T_fe8f6143_cdcd_11ea_b7fa_7989de7c49bfrow133_col1 {\n            width:  10em;\n             height:  80%;\n            background:  linear-gradient(90deg,#d65f5f 0.0%, transparent 0.0%);\n        }    #T_fe8f6143_cdcd_11ea_b7fa_7989de7c49bfrow133_col2 {\n            width:  10em;\n             height:  80%;\n            background:  linear-gradient(90deg,#d65f5f 0.0%, transparent 0.0%);\n        }    #T_fe8f6143_cdcd_11ea_b7fa_7989de7c49bfrow133_col3 {\n            width:  10em;\n             height:  80%;\n            background:  linear-gradient(90deg,#d65f5f 0.1%, transparent 0.1%);\n        }    #T_fe8f6143_cdcd_11ea_b7fa_7989de7c49bfrow133_col4 {\n            width:  10em;\n             height:  80%;\n            background:  linear-gradient(90deg,#d65f5f 0.0%, transparent 0.0%);\n        }    #T_fe8f6143_cdcd_11ea_b7fa_7989de7c49bfrow134_col1 {\n            width:  10em;\n             height:  80%;\n            background:  linear-gradient(90deg,#d65f5f 0.0%, transparent 0.0%);\n        }    #T_fe8f6143_cdcd_11ea_b7fa_7989de7c49bfrow134_col2 {\n            width:  10em;\n             height:  80%;\n            background:  linear-gradient(90deg,#d65f5f 0.0%, transparent 0.0%);\n        }    #T_fe8f6143_cdcd_11ea_b7fa_7989de7c49bfrow134_col3 {\n            width:  10em;\n             height:  80%;\n            background:  linear-gradient(90deg,#d65f5f 0.1%, transparent 0.1%);\n        }    #T_fe8f6143_cdcd_11ea_b7fa_7989de7c49bfrow134_col4 {\n            width:  10em;\n             height:  80%;\n            background:  linear-gradient(90deg,#d65f5f 0.0%, transparent 0.0%);\n        }    #T_fe8f6143_cdcd_11ea_b7fa_7989de7c49bfrow135_col1 {\n            width:  10em;\n             height:  80%;\n            background:  linear-gradient(90deg,#d65f5f 0.0%, transparent 0.0%);\n        }    #T_fe8f6143_cdcd_11ea_b7fa_7989de7c49bfrow135_col2 {\n            width:  10em;\n             height:  80%;\n            background:  linear-gradient(90deg,#d65f5f 0.0%, transparent 0.0%);\n        }    #T_fe8f6143_cdcd_11ea_b7fa_7989de7c49bfrow135_col3 {\n            width:  10em;\n             height:  80%;\n            background:  linear-gradient(90deg,#d65f5f 0.0%, transparent 0.0%);\n        }    #T_fe8f6143_cdcd_11ea_b7fa_7989de7c49bfrow135_col4 {\n            width:  10em;\n             height:  80%;\n            background:  linear-gradient(90deg,#d65f5f 0.0%, transparent 0.0%);\n        }    #T_fe8f6143_cdcd_11ea_b7fa_7989de7c49bfrow136_col1 {\n            width:  10em;\n             height:  80%;\n            background:  linear-gradient(90deg,#d65f5f 0.0%, transparent 0.0%);\n        }    #T_fe8f6143_cdcd_11ea_b7fa_7989de7c49bfrow136_col2 {\n            width:  10em;\n             height:  80%;\n            background:  linear-gradient(90deg,#d65f5f 0.0%, transparent 0.0%);\n        }    #T_fe8f6143_cdcd_11ea_b7fa_7989de7c49bfrow136_col3 {\n            width:  10em;\n             height:  80%;\n            background:  linear-gradient(90deg,#d65f5f 0.1%, transparent 0.1%);\n        }    #T_fe8f6143_cdcd_11ea_b7fa_7989de7c49bfrow136_col4 {\n            width:  10em;\n             height:  80%;\n            background:  linear-gradient(90deg,#d65f5f 0.0%, transparent 0.0%);\n        }    #T_fe8f6143_cdcd_11ea_b7fa_7989de7c49bfrow137_col1 {\n            width:  10em;\n             height:  80%;\n            background:  linear-gradient(90deg,#d65f5f 0.0%, transparent 0.0%);\n        }    #T_fe8f6143_cdcd_11ea_b7fa_7989de7c49bfrow137_col2 {\n            width:  10em;\n             height:  80%;\n            background:  linear-gradient(90deg,#d65f5f 0.0%, transparent 0.0%);\n        }    #T_fe8f6143_cdcd_11ea_b7fa_7989de7c49bfrow137_col3 {\n            width:  10em;\n             height:  80%;\n            background:  linear-gradient(90deg,#d65f5f 0.1%, transparent 0.1%);\n        }    #T_fe8f6143_cdcd_11ea_b7fa_7989de7c49bfrow137_col4 {\n            width:  10em;\n             height:  80%;\n            background:  linear-gradient(90deg,#d65f5f 0.0%, transparent 0.0%);\n        }    #T_fe8f6143_cdcd_11ea_b7fa_7989de7c49bfrow138_col1 {\n            width:  10em;\n             height:  80%;\n            background:  linear-gradient(90deg,#d65f5f 0.0%, transparent 0.0%);\n        }    #T_fe8f6143_cdcd_11ea_b7fa_7989de7c49bfrow138_col2 {\n            width:  10em;\n             height:  80%;\n            background:  linear-gradient(90deg,#d65f5f 0.0%, transparent 0.0%);\n        }    #T_fe8f6143_cdcd_11ea_b7fa_7989de7c49bfrow138_col3 {\n            width:  10em;\n             height:  80%;\n            background:  linear-gradient(90deg,#d65f5f 0.1%, transparent 0.1%);\n        }    #T_fe8f6143_cdcd_11ea_b7fa_7989de7c49bfrow138_col4 {\n            width:  10em;\n             height:  80%;\n            background:  linear-gradient(90deg,#d65f5f 0.0%, transparent 0.0%);\n        }    #T_fe8f6143_cdcd_11ea_b7fa_7989de7c49bfrow139_col1 {\n            width:  10em;\n             height:  80%;\n            background:  linear-gradient(90deg,#d65f5f 0.0%, transparent 0.0%);\n        }    #T_fe8f6143_cdcd_11ea_b7fa_7989de7c49bfrow139_col2 {\n            width:  10em;\n             height:  80%;\n            background:  linear-gradient(90deg,#d65f5f 0.0%, transparent 0.0%);\n        }    #T_fe8f6143_cdcd_11ea_b7fa_7989de7c49bfrow139_col3 {\n            width:  10em;\n             height:  80%;\n            background:  linear-gradient(90deg,#d65f5f 0.1%, transparent 0.1%);\n        }    #T_fe8f6143_cdcd_11ea_b7fa_7989de7c49bfrow139_col4 {\n            width:  10em;\n             height:  80%;\n            background:  linear-gradient(90deg,#d65f5f 0.0%, transparent 0.0%);\n        }    #T_fe8f6143_cdcd_11ea_b7fa_7989de7c49bfrow140_col1 {\n            width:  10em;\n             height:  80%;\n            background:  linear-gradient(90deg,#d65f5f 0.0%, transparent 0.0%);\n        }    #T_fe8f6143_cdcd_11ea_b7fa_7989de7c49bfrow140_col2 {\n            width:  10em;\n             height:  80%;\n            background:  linear-gradient(90deg,#d65f5f 0.0%, transparent 0.0%);\n        }    #T_fe8f6143_cdcd_11ea_b7fa_7989de7c49bfrow140_col3 {\n            width:  10em;\n             height:  80%;\n            background:  linear-gradient(90deg,#d65f5f 0.1%, transparent 0.1%);\n        }    #T_fe8f6143_cdcd_11ea_b7fa_7989de7c49bfrow140_col4 {\n            width:  10em;\n             height:  80%;\n            background:  linear-gradient(90deg,#d65f5f 0.0%, transparent 0.0%);\n        }    #T_fe8f6143_cdcd_11ea_b7fa_7989de7c49bfrow141_col1 {\n            width:  10em;\n             height:  80%;\n            background:  linear-gradient(90deg,#d65f5f 0.0%, transparent 0.0%);\n        }    #T_fe8f6143_cdcd_11ea_b7fa_7989de7c49bfrow141_col2 {\n            width:  10em;\n             height:  80%;\n            background:  linear-gradient(90deg,#d65f5f 0.0%, transparent 0.0%);\n        }    #T_fe8f6143_cdcd_11ea_b7fa_7989de7c49bfrow141_col3 {\n            width:  10em;\n             height:  80%;\n            background:  linear-gradient(90deg,#d65f5f 0.0%, transparent 0.0%);\n        }    #T_fe8f6143_cdcd_11ea_b7fa_7989de7c49bfrow141_col4 {\n            width:  10em;\n             height:  80%;\n            background:  linear-gradient(90deg,#d65f5f 0.0%, transparent 0.0%);\n        }    #T_fe8f6143_cdcd_11ea_b7fa_7989de7c49bfrow142_col1 {\n            width:  10em;\n             height:  80%;\n            background:  linear-gradient(90deg,#d65f5f 0.0%, transparent 0.0%);\n        }    #T_fe8f6143_cdcd_11ea_b7fa_7989de7c49bfrow142_col2 {\n            width:  10em;\n             height:  80%;\n            background:  linear-gradient(90deg,#d65f5f 0.1%, transparent 0.1%);\n        }    #T_fe8f6143_cdcd_11ea_b7fa_7989de7c49bfrow142_col3 {\n            width:  10em;\n             height:  80%;\n            background:  linear-gradient(90deg,#d65f5f 0.0%, transparent 0.0%);\n        }    #T_fe8f6143_cdcd_11ea_b7fa_7989de7c49bfrow142_col4 {\n            width:  10em;\n             height:  80%;\n            background:  linear-gradient(90deg,#d65f5f 0.0%, transparent 0.0%);\n        }    #T_fe8f6143_cdcd_11ea_b7fa_7989de7c49bfrow143_col1 {\n            width:  10em;\n             height:  80%;\n            background:  linear-gradient(90deg,#d65f5f 0.0%, transparent 0.0%);\n        }    #T_fe8f6143_cdcd_11ea_b7fa_7989de7c49bfrow143_col2 {\n            width:  10em;\n             height:  80%;\n            background:  linear-gradient(90deg,#d65f5f 0.0%, transparent 0.0%);\n        }    #T_fe8f6143_cdcd_11ea_b7fa_7989de7c49bfrow143_col3 {\n            width:  10em;\n             height:  80%;\n            background:  linear-gradient(90deg,#d65f5f 0.0%, transparent 0.0%);\n        }    #T_fe8f6143_cdcd_11ea_b7fa_7989de7c49bfrow143_col4 {\n            width:  10em;\n             height:  80%;\n            background:  linear-gradient(90deg,#d65f5f 0.0%, transparent 0.0%);\n        }    #T_fe8f6143_cdcd_11ea_b7fa_7989de7c49bfrow144_col1 {\n            width:  10em;\n             height:  80%;\n            background:  linear-gradient(90deg,#d65f5f 0.0%, transparent 0.0%);\n        }    #T_fe8f6143_cdcd_11ea_b7fa_7989de7c49bfrow144_col2 {\n            width:  10em;\n             height:  80%;\n            background:  linear-gradient(90deg,#d65f5f 0.0%, transparent 0.0%);\n        }    #T_fe8f6143_cdcd_11ea_b7fa_7989de7c49bfrow144_col3 {\n            width:  10em;\n             height:  80%;\n            background:  linear-gradient(90deg,#d65f5f 0.0%, transparent 0.0%);\n        }    #T_fe8f6143_cdcd_11ea_b7fa_7989de7c49bfrow144_col4 {\n            width:  10em;\n             height:  80%;\n            background:  linear-gradient(90deg,#d65f5f 0.0%, transparent 0.0%);\n        }    #T_fe8f6143_cdcd_11ea_b7fa_7989de7c49bfrow145_col1 {\n            width:  10em;\n             height:  80%;\n            background:  linear-gradient(90deg,#d65f5f 0.0%, transparent 0.0%);\n        }    #T_fe8f6143_cdcd_11ea_b7fa_7989de7c49bfrow145_col2 {\n            width:  10em;\n             height:  80%;\n            background:  linear-gradient(90deg,#d65f5f 0.0%, transparent 0.0%);\n        }    #T_fe8f6143_cdcd_11ea_b7fa_7989de7c49bfrow145_col3 {\n            width:  10em;\n             height:  80%;\n            background:  linear-gradient(90deg,#d65f5f 0.0%, transparent 0.0%);\n        }    #T_fe8f6143_cdcd_11ea_b7fa_7989de7c49bfrow145_col4 {\n            width:  10em;\n             height:  80%;\n            background:  linear-gradient(90deg,#d65f5f 0.0%, transparent 0.0%);\n        }    #T_fe8f6143_cdcd_11ea_b7fa_7989de7c49bfrow146_col1 {\n            width:  10em;\n             height:  80%;\n            background:  linear-gradient(90deg,#d65f5f 0.0%, transparent 0.0%);\n        }    #T_fe8f6143_cdcd_11ea_b7fa_7989de7c49bfrow146_col2 {\n            width:  10em;\n             height:  80%;\n            background:  linear-gradient(90deg,#d65f5f 0.0%, transparent 0.0%);\n        }    #T_fe8f6143_cdcd_11ea_b7fa_7989de7c49bfrow146_col3 {\n            width:  10em;\n             height:  80%;\n            background:  linear-gradient(90deg,#d65f5f 0.0%, transparent 0.0%);\n        }    #T_fe8f6143_cdcd_11ea_b7fa_7989de7c49bfrow146_col4 {\n            width:  10em;\n             height:  80%;\n            background:  linear-gradient(90deg,#d65f5f 0.0%, transparent 0.0%);\n        }    #T_fe8f6143_cdcd_11ea_b7fa_7989de7c49bfrow147_col1 {\n            width:  10em;\n             height:  80%;\n            background:  linear-gradient(90deg,#d65f5f 0.0%, transparent 0.0%);\n        }    #T_fe8f6143_cdcd_11ea_b7fa_7989de7c49bfrow147_col2 {\n            width:  10em;\n             height:  80%;\n            background:  linear-gradient(90deg,#d65f5f 0.0%, transparent 0.0%);\n        }    #T_fe8f6143_cdcd_11ea_b7fa_7989de7c49bfrow147_col3 {\n            width:  10em;\n             height:  80%;\n            background:  linear-gradient(90deg,#d65f5f 0.0%, transparent 0.0%);\n        }    #T_fe8f6143_cdcd_11ea_b7fa_7989de7c49bfrow147_col4 {\n            width:  10em;\n             height:  80%;\n            background:  linear-gradient(90deg,#d65f5f 0.0%, transparent 0.0%);\n        }    #T_fe8f6143_cdcd_11ea_b7fa_7989de7c49bfrow148_col1 {\n            width:  10em;\n             height:  80%;\n            background:  linear-gradient(90deg,#d65f5f 0.0%, transparent 0.0%);\n        }    #T_fe8f6143_cdcd_11ea_b7fa_7989de7c49bfrow148_col2 {\n            width:  10em;\n             height:  80%;\n            background:  linear-gradient(90deg,#d65f5f 0.0%, transparent 0.0%);\n        }    #T_fe8f6143_cdcd_11ea_b7fa_7989de7c49bfrow148_col3 {\n            width:  10em;\n             height:  80%;\n            background:  linear-gradient(90deg,#d65f5f 0.0%, transparent 0.0%);\n        }    #T_fe8f6143_cdcd_11ea_b7fa_7989de7c49bfrow148_col4 {\n            width:  10em;\n             height:  80%;\n            background:  linear-gradient(90deg,#d65f5f 0.0%, transparent 0.0%);\n        }    #T_fe8f6143_cdcd_11ea_b7fa_7989de7c49bfrow149_col1 {\n            width:  10em;\n             height:  80%;\n            background:  linear-gradient(90deg,#d65f5f 0.0%, transparent 0.0%);\n        }    #T_fe8f6143_cdcd_11ea_b7fa_7989de7c49bfrow149_col2 {\n            width:  10em;\n             height:  80%;\n            background:  linear-gradient(90deg,#d65f5f 0.0%, transparent 0.0%);\n        }    #T_fe8f6143_cdcd_11ea_b7fa_7989de7c49bfrow149_col3 {\n            width:  10em;\n             height:  80%;\n            background:  linear-gradient(90deg,#d65f5f 0.0%, transparent 0.0%);\n        }    #T_fe8f6143_cdcd_11ea_b7fa_7989de7c49bfrow149_col4 {\n            width:  10em;\n             height:  80%;\n        }    #T_fe8f6143_cdcd_11ea_b7fa_7989de7c49bfrow150_col1 {\n            width:  10em;\n             height:  80%;\n            background:  linear-gradient(90deg,#d65f5f 0.0%, transparent 0.0%);\n        }    #T_fe8f6143_cdcd_11ea_b7fa_7989de7c49bfrow150_col2 {\n            width:  10em;\n             height:  80%;\n            background:  linear-gradient(90deg,#d65f5f 0.0%, transparent 0.0%);\n        }    #T_fe8f6143_cdcd_11ea_b7fa_7989de7c49bfrow150_col3 {\n            width:  10em;\n             height:  80%;\n            background:  linear-gradient(90deg,#d65f5f 0.0%, transparent 0.0%);\n        }    #T_fe8f6143_cdcd_11ea_b7fa_7989de7c49bfrow150_col4 {\n            width:  10em;\n             height:  80%;\n            background:  linear-gradient(90deg,#d65f5f 0.0%, transparent 0.0%);\n        }    #T_fe8f6143_cdcd_11ea_b7fa_7989de7c49bfrow151_col1 {\n            width:  10em;\n             height:  80%;\n            background:  linear-gradient(90deg,#d65f5f 0.0%, transparent 0.0%);\n        }    #T_fe8f6143_cdcd_11ea_b7fa_7989de7c49bfrow151_col2 {\n            width:  10em;\n             height:  80%;\n            background:  linear-gradient(90deg,#d65f5f 0.0%, transparent 0.0%);\n        }    #T_fe8f6143_cdcd_11ea_b7fa_7989de7c49bfrow151_col3 {\n            width:  10em;\n             height:  80%;\n            background:  linear-gradient(90deg,#d65f5f 0.0%, transparent 0.0%);\n        }    #T_fe8f6143_cdcd_11ea_b7fa_7989de7c49bfrow151_col4 {\n            width:  10em;\n             height:  80%;\n            background:  linear-gradient(90deg,#d65f5f 0.0%, transparent 0.0%);\n        }    #T_fe8f6143_cdcd_11ea_b7fa_7989de7c49bfrow152_col1 {\n            width:  10em;\n             height:  80%;\n            background:  linear-gradient(90deg,#d65f5f 0.0%, transparent 0.0%);\n        }    #T_fe8f6143_cdcd_11ea_b7fa_7989de7c49bfrow152_col2 {\n            width:  10em;\n             height:  80%;\n            background:  linear-gradient(90deg,#d65f5f 0.0%, transparent 0.0%);\n        }    #T_fe8f6143_cdcd_11ea_b7fa_7989de7c49bfrow152_col3 {\n            width:  10em;\n             height:  80%;\n            background:  linear-gradient(90deg,#d65f5f 0.0%, transparent 0.0%);\n        }    #T_fe8f6143_cdcd_11ea_b7fa_7989de7c49bfrow152_col4 {\n            width:  10em;\n             height:  80%;\n            background:  linear-gradient(90deg,#d65f5f 0.0%, transparent 0.0%);\n        }    #T_fe8f6143_cdcd_11ea_b7fa_7989de7c49bfrow153_col1 {\n            width:  10em;\n             height:  80%;\n            background:  linear-gradient(90deg,#d65f5f 0.0%, transparent 0.0%);\n        }    #T_fe8f6143_cdcd_11ea_b7fa_7989de7c49bfrow153_col2 {\n            width:  10em;\n             height:  80%;\n            background:  linear-gradient(90deg,#d65f5f 0.0%, transparent 0.0%);\n        }    #T_fe8f6143_cdcd_11ea_b7fa_7989de7c49bfrow153_col3 {\n            width:  10em;\n             height:  80%;\n            background:  linear-gradient(90deg,#d65f5f 0.0%, transparent 0.0%);\n        }    #T_fe8f6143_cdcd_11ea_b7fa_7989de7c49bfrow153_col4 {\n            width:  10em;\n             height:  80%;\n            background:  linear-gradient(90deg,#d65f5f 0.0%, transparent 0.0%);\n        }    #T_fe8f6143_cdcd_11ea_b7fa_7989de7c49bfrow154_col1 {\n            width:  10em;\n             height:  80%;\n            background:  linear-gradient(90deg,#d65f5f 0.0%, transparent 0.0%);\n        }    #T_fe8f6143_cdcd_11ea_b7fa_7989de7c49bfrow154_col2 {\n            width:  10em;\n             height:  80%;\n            background:  linear-gradient(90deg,#d65f5f 0.0%, transparent 0.0%);\n        }    #T_fe8f6143_cdcd_11ea_b7fa_7989de7c49bfrow154_col3 {\n            width:  10em;\n             height:  80%;\n            background:  linear-gradient(90deg,#d65f5f 0.0%, transparent 0.0%);\n        }    #T_fe8f6143_cdcd_11ea_b7fa_7989de7c49bfrow154_col4 {\n            width:  10em;\n             height:  80%;\n            background:  linear-gradient(90deg,#d65f5f 0.0%, transparent 0.0%);\n        }    #T_fe8f6143_cdcd_11ea_b7fa_7989de7c49bfrow155_col1 {\n            width:  10em;\n             height:  80%;\n            background:  linear-gradient(90deg,#d65f5f 0.0%, transparent 0.0%);\n        }    #T_fe8f6143_cdcd_11ea_b7fa_7989de7c49bfrow155_col2 {\n            width:  10em;\n             height:  80%;\n        }    #T_fe8f6143_cdcd_11ea_b7fa_7989de7c49bfrow155_col3 {\n            width:  10em;\n             height:  80%;\n            background:  linear-gradient(90deg,#d65f5f 0.0%, transparent 0.0%);\n        }    #T_fe8f6143_cdcd_11ea_b7fa_7989de7c49bfrow155_col4 {\n            width:  10em;\n             height:  80%;\n            background:  linear-gradient(90deg,#d65f5f 0.0%, transparent 0.0%);\n        }    #T_fe8f6143_cdcd_11ea_b7fa_7989de7c49bfrow156_col1 {\n            width:  10em;\n             height:  80%;\n            background:  linear-gradient(90deg,#d65f5f 0.0%, transparent 0.0%);\n        }    #T_fe8f6143_cdcd_11ea_b7fa_7989de7c49bfrow156_col2 {\n            width:  10em;\n             height:  80%;\n            background:  linear-gradient(90deg,#d65f5f 0.0%, transparent 0.0%);\n        }    #T_fe8f6143_cdcd_11ea_b7fa_7989de7c49bfrow156_col3 {\n            width:  10em;\n             height:  80%;\n            background:  linear-gradient(90deg,#d65f5f 0.0%, transparent 0.0%);\n        }    #T_fe8f6143_cdcd_11ea_b7fa_7989de7c49bfrow156_col4 {\n            width:  10em;\n             height:  80%;\n            background:  linear-gradient(90deg,#d65f5f 0.0%, transparent 0.0%);\n        }    #T_fe8f6143_cdcd_11ea_b7fa_7989de7c49bfrow157_col1 {\n            width:  10em;\n             height:  80%;\n            background:  linear-gradient(90deg,#d65f5f 0.0%, transparent 0.0%);\n        }    #T_fe8f6143_cdcd_11ea_b7fa_7989de7c49bfrow157_col2 {\n            width:  10em;\n             height:  80%;\n            background:  linear-gradient(90deg,#d65f5f 0.0%, transparent 0.0%);\n        }    #T_fe8f6143_cdcd_11ea_b7fa_7989de7c49bfrow157_col3 {\n            width:  10em;\n             height:  80%;\n            background:  linear-gradient(90deg,#d65f5f 0.0%, transparent 0.0%);\n        }    #T_fe8f6143_cdcd_11ea_b7fa_7989de7c49bfrow157_col4 {\n            width:  10em;\n             height:  80%;\n            background:  linear-gradient(90deg,#d65f5f 0.0%, transparent 0.0%);\n        }    #T_fe8f6143_cdcd_11ea_b7fa_7989de7c49bfrow158_col1 {\n            width:  10em;\n             height:  80%;\n            background:  linear-gradient(90deg,#d65f5f 0.0%, transparent 0.0%);\n        }    #T_fe8f6143_cdcd_11ea_b7fa_7989de7c49bfrow158_col2 {\n            width:  10em;\n             height:  80%;\n            background:  linear-gradient(90deg,#d65f5f 0.0%, transparent 0.0%);\n        }    #T_fe8f6143_cdcd_11ea_b7fa_7989de7c49bfrow158_col3 {\n            width:  10em;\n             height:  80%;\n            background:  linear-gradient(90deg,#d65f5f 0.0%, transparent 0.0%);\n        }    #T_fe8f6143_cdcd_11ea_b7fa_7989de7c49bfrow158_col4 {\n            width:  10em;\n             height:  80%;\n            background:  linear-gradient(90deg,#d65f5f 0.0%, transparent 0.0%);\n        }    #T_fe8f6143_cdcd_11ea_b7fa_7989de7c49bfrow159_col1 {\n            width:  10em;\n             height:  80%;\n            background:  linear-gradient(90deg,#d65f5f 0.0%, transparent 0.0%);\n        }    #T_fe8f6143_cdcd_11ea_b7fa_7989de7c49bfrow159_col2 {\n            width:  10em;\n             height:  80%;\n            background:  linear-gradient(90deg,#d65f5f 0.0%, transparent 0.0%);\n        }    #T_fe8f6143_cdcd_11ea_b7fa_7989de7c49bfrow159_col3 {\n            width:  10em;\n             height:  80%;\n            background:  linear-gradient(90deg,#d65f5f 0.0%, transparent 0.0%);\n        }    #T_fe8f6143_cdcd_11ea_b7fa_7989de7c49bfrow159_col4 {\n            width:  10em;\n             height:  80%;\n            background:  linear-gradient(90deg,#d65f5f 0.0%, transparent 0.0%);\n        }    #T_fe8f6143_cdcd_11ea_b7fa_7989de7c49bfrow160_col1 {\n            width:  10em;\n             height:  80%;\n            background:  linear-gradient(90deg,#d65f5f 0.0%, transparent 0.0%);\n        }    #T_fe8f6143_cdcd_11ea_b7fa_7989de7c49bfrow160_col2 {\n            width:  10em;\n             height:  80%;\n            background:  linear-gradient(90deg,#d65f5f 0.0%, transparent 0.0%);\n        }    #T_fe8f6143_cdcd_11ea_b7fa_7989de7c49bfrow160_col3 {\n            width:  10em;\n             height:  80%;\n            background:  linear-gradient(90deg,#d65f5f 0.0%, transparent 0.0%);\n        }    #T_fe8f6143_cdcd_11ea_b7fa_7989de7c49bfrow160_col4 {\n            width:  10em;\n             height:  80%;\n            background:  linear-gradient(90deg,#d65f5f 0.0%, transparent 0.0%);\n        }    #T_fe8f6143_cdcd_11ea_b7fa_7989de7c49bfrow161_col1 {\n            width:  10em;\n             height:  80%;\n            background:  linear-gradient(90deg,#d65f5f 0.0%, transparent 0.0%);\n        }    #T_fe8f6143_cdcd_11ea_b7fa_7989de7c49bfrow161_col2 {\n            width:  10em;\n             height:  80%;\n            background:  linear-gradient(90deg,#d65f5f 0.0%, transparent 0.0%);\n        }    #T_fe8f6143_cdcd_11ea_b7fa_7989de7c49bfrow161_col3 {\n            width:  10em;\n             height:  80%;\n            background:  linear-gradient(90deg,#d65f5f 0.0%, transparent 0.0%);\n        }    #T_fe8f6143_cdcd_11ea_b7fa_7989de7c49bfrow161_col4 {\n            width:  10em;\n             height:  80%;\n            background:  linear-gradient(90deg,#d65f5f 0.0%, transparent 0.0%);\n        }    #T_fe8f6143_cdcd_11ea_b7fa_7989de7c49bfrow162_col1 {\n            width:  10em;\n             height:  80%;\n            background:  linear-gradient(90deg,#d65f5f 0.0%, transparent 0.0%);\n        }    #T_fe8f6143_cdcd_11ea_b7fa_7989de7c49bfrow162_col2 {\n            width:  10em;\n             height:  80%;\n        }    #T_fe8f6143_cdcd_11ea_b7fa_7989de7c49bfrow162_col3 {\n            width:  10em;\n             height:  80%;\n            background:  linear-gradient(90deg,#d65f5f 0.0%, transparent 0.0%);\n        }    #T_fe8f6143_cdcd_11ea_b7fa_7989de7c49bfrow162_col4 {\n            width:  10em;\n             height:  80%;\n            background:  linear-gradient(90deg,#d65f5f 0.0%, transparent 0.0%);\n        }    #T_fe8f6143_cdcd_11ea_b7fa_7989de7c49bfrow163_col1 {\n            width:  10em;\n             height:  80%;\n            background:  linear-gradient(90deg,#d65f5f 0.0%, transparent 0.0%);\n        }    #T_fe8f6143_cdcd_11ea_b7fa_7989de7c49bfrow163_col2 {\n            width:  10em;\n             height:  80%;\n            background:  linear-gradient(90deg,#d65f5f 0.0%, transparent 0.0%);\n        }    #T_fe8f6143_cdcd_11ea_b7fa_7989de7c49bfrow163_col3 {\n            width:  10em;\n             height:  80%;\n            background:  linear-gradient(90deg,#d65f5f 0.0%, transparent 0.0%);\n        }    #T_fe8f6143_cdcd_11ea_b7fa_7989de7c49bfrow163_col4 {\n            width:  10em;\n             height:  80%;\n            background:  linear-gradient(90deg,#d65f5f 0.0%, transparent 0.0%);\n        }    #T_fe8f6143_cdcd_11ea_b7fa_7989de7c49bfrow164_col1 {\n            width:  10em;\n             height:  80%;\n            background:  linear-gradient(90deg,#d65f5f 0.0%, transparent 0.0%);\n        }    #T_fe8f6143_cdcd_11ea_b7fa_7989de7c49bfrow164_col2 {\n            width:  10em;\n             height:  80%;\n        }    #T_fe8f6143_cdcd_11ea_b7fa_7989de7c49bfrow164_col3 {\n            width:  10em;\n             height:  80%;\n            background:  linear-gradient(90deg,#d65f5f 0.0%, transparent 0.0%);\n        }    #T_fe8f6143_cdcd_11ea_b7fa_7989de7c49bfrow164_col4 {\n            width:  10em;\n             height:  80%;\n            background:  linear-gradient(90deg,#d65f5f 0.0%, transparent 0.0%);\n        }    #T_fe8f6143_cdcd_11ea_b7fa_7989de7c49bfrow165_col1 {\n            width:  10em;\n             height:  80%;\n            background:  linear-gradient(90deg,#d65f5f 0.0%, transparent 0.0%);\n        }    #T_fe8f6143_cdcd_11ea_b7fa_7989de7c49bfrow165_col2 {\n            width:  10em;\n             height:  80%;\n        }    #T_fe8f6143_cdcd_11ea_b7fa_7989de7c49bfrow165_col3 {\n            width:  10em;\n             height:  80%;\n            background:  linear-gradient(90deg,#d65f5f 0.0%, transparent 0.0%);\n        }    #T_fe8f6143_cdcd_11ea_b7fa_7989de7c49bfrow165_col4 {\n            width:  10em;\n             height:  80%;\n            background:  linear-gradient(90deg,#d65f5f 0.0%, transparent 0.0%);\n        }    #T_fe8f6143_cdcd_11ea_b7fa_7989de7c49bfrow166_col1 {\n            width:  10em;\n             height:  80%;\n            background:  linear-gradient(90deg,#d65f5f 0.0%, transparent 0.0%);\n        }    #T_fe8f6143_cdcd_11ea_b7fa_7989de7c49bfrow166_col2 {\n            width:  10em;\n             height:  80%;\n            background:  linear-gradient(90deg,#d65f5f 0.0%, transparent 0.0%);\n        }    #T_fe8f6143_cdcd_11ea_b7fa_7989de7c49bfrow166_col3 {\n            width:  10em;\n             height:  80%;\n            background:  linear-gradient(90deg,#d65f5f 0.0%, transparent 0.0%);\n        }    #T_fe8f6143_cdcd_11ea_b7fa_7989de7c49bfrow166_col4 {\n            width:  10em;\n             height:  80%;\n            background:  linear-gradient(90deg,#d65f5f 0.0%, transparent 0.0%);\n        }    #T_fe8f6143_cdcd_11ea_b7fa_7989de7c49bfrow167_col1 {\n            width:  10em;\n             height:  80%;\n            background:  linear-gradient(90deg,#d65f5f 0.0%, transparent 0.0%);\n        }    #T_fe8f6143_cdcd_11ea_b7fa_7989de7c49bfrow167_col2 {\n            width:  10em;\n             height:  80%;\n            background:  linear-gradient(90deg,#d65f5f 0.0%, transparent 0.0%);\n        }    #T_fe8f6143_cdcd_11ea_b7fa_7989de7c49bfrow167_col3 {\n            width:  10em;\n             height:  80%;\n            background:  linear-gradient(90deg,#d65f5f 0.0%, transparent 0.0%);\n        }    #T_fe8f6143_cdcd_11ea_b7fa_7989de7c49bfrow167_col4 {\n            width:  10em;\n             height:  80%;\n            background:  linear-gradient(90deg,#d65f5f 0.0%, transparent 0.0%);\n        }    #T_fe8f6143_cdcd_11ea_b7fa_7989de7c49bfrow168_col1 {\n            width:  10em;\n             height:  80%;\n            background:  linear-gradient(90deg,#d65f5f 0.0%, transparent 0.0%);\n        }    #T_fe8f6143_cdcd_11ea_b7fa_7989de7c49bfrow168_col2 {\n            width:  10em;\n             height:  80%;\n            background:  linear-gradient(90deg,#d65f5f 0.0%, transparent 0.0%);\n        }    #T_fe8f6143_cdcd_11ea_b7fa_7989de7c49bfrow168_col3 {\n            width:  10em;\n             height:  80%;\n            background:  linear-gradient(90deg,#d65f5f 0.0%, transparent 0.0%);\n        }    #T_fe8f6143_cdcd_11ea_b7fa_7989de7c49bfrow168_col4 {\n            width:  10em;\n             height:  80%;\n        }    #T_fe8f6143_cdcd_11ea_b7fa_7989de7c49bfrow169_col1 {\n            width:  10em;\n             height:  80%;\n            background:  linear-gradient(90deg,#d65f5f 0.0%, transparent 0.0%);\n        }    #T_fe8f6143_cdcd_11ea_b7fa_7989de7c49bfrow169_col2 {\n            width:  10em;\n             height:  80%;\n            background:  linear-gradient(90deg,#d65f5f 0.0%, transparent 0.0%);\n        }    #T_fe8f6143_cdcd_11ea_b7fa_7989de7c49bfrow169_col3 {\n            width:  10em;\n             height:  80%;\n            background:  linear-gradient(90deg,#d65f5f 0.0%, transparent 0.0%);\n        }    #T_fe8f6143_cdcd_11ea_b7fa_7989de7c49bfrow169_col4 {\n            width:  10em;\n             height:  80%;\n            background:  linear-gradient(90deg,#d65f5f 0.0%, transparent 0.0%);\n        }    #T_fe8f6143_cdcd_11ea_b7fa_7989de7c49bfrow170_col1 {\n            width:  10em;\n             height:  80%;\n            background:  linear-gradient(90deg,#d65f5f 0.0%, transparent 0.0%);\n        }    #T_fe8f6143_cdcd_11ea_b7fa_7989de7c49bfrow170_col2 {\n            width:  10em;\n             height:  80%;\n        }    #T_fe8f6143_cdcd_11ea_b7fa_7989de7c49bfrow170_col3 {\n            width:  10em;\n             height:  80%;\n            background:  linear-gradient(90deg,#d65f5f 0.0%, transparent 0.0%);\n        }    #T_fe8f6143_cdcd_11ea_b7fa_7989de7c49bfrow170_col4 {\n            width:  10em;\n             height:  80%;\n            background:  linear-gradient(90deg,#d65f5f 0.0%, transparent 0.0%);\n        }    #T_fe8f6143_cdcd_11ea_b7fa_7989de7c49bfrow171_col1 {\n            width:  10em;\n             height:  80%;\n            background:  linear-gradient(90deg,#d65f5f 0.0%, transparent 0.0%);\n        }    #T_fe8f6143_cdcd_11ea_b7fa_7989de7c49bfrow171_col2 {\n            width:  10em;\n             height:  80%;\n            background:  linear-gradient(90deg,#d65f5f 0.0%, transparent 0.0%);\n        }    #T_fe8f6143_cdcd_11ea_b7fa_7989de7c49bfrow171_col3 {\n            width:  10em;\n             height:  80%;\n            background:  linear-gradient(90deg,#d65f5f 0.0%, transparent 0.0%);\n        }    #T_fe8f6143_cdcd_11ea_b7fa_7989de7c49bfrow171_col4 {\n            width:  10em;\n             height:  80%;\n            background:  linear-gradient(90deg,#d65f5f 0.0%, transparent 0.0%);\n        }    #T_fe8f6143_cdcd_11ea_b7fa_7989de7c49bfrow172_col1 {\n            width:  10em;\n             height:  80%;\n            background:  linear-gradient(90deg,#d65f5f 0.0%, transparent 0.0%);\n        }    #T_fe8f6143_cdcd_11ea_b7fa_7989de7c49bfrow172_col2 {\n            width:  10em;\n             height:  80%;\n        }    #T_fe8f6143_cdcd_11ea_b7fa_7989de7c49bfrow172_col3 {\n            width:  10em;\n             height:  80%;\n            background:  linear-gradient(90deg,#d65f5f 0.0%, transparent 0.0%);\n        }    #T_fe8f6143_cdcd_11ea_b7fa_7989de7c49bfrow172_col4 {\n            width:  10em;\n             height:  80%;\n            background:  linear-gradient(90deg,#d65f5f 0.0%, transparent 0.0%);\n        }    #T_fe8f6143_cdcd_11ea_b7fa_7989de7c49bfrow173_col1 {\n            width:  10em;\n             height:  80%;\n            background:  linear-gradient(90deg,#d65f5f 0.0%, transparent 0.0%);\n        }    #T_fe8f6143_cdcd_11ea_b7fa_7989de7c49bfrow173_col2 {\n            width:  10em;\n             height:  80%;\n            background:  linear-gradient(90deg,#d65f5f 0.0%, transparent 0.0%);\n        }    #T_fe8f6143_cdcd_11ea_b7fa_7989de7c49bfrow173_col3 {\n            width:  10em;\n             height:  80%;\n            background:  linear-gradient(90deg,#d65f5f 0.0%, transparent 0.0%);\n        }    #T_fe8f6143_cdcd_11ea_b7fa_7989de7c49bfrow173_col4 {\n            width:  10em;\n             height:  80%;\n            background:  linear-gradient(90deg,#d65f5f 0.0%, transparent 0.0%);\n        }    #T_fe8f6143_cdcd_11ea_b7fa_7989de7c49bfrow174_col1 {\n            width:  10em;\n             height:  80%;\n            background:  linear-gradient(90deg,#d65f5f 0.0%, transparent 0.0%);\n        }    #T_fe8f6143_cdcd_11ea_b7fa_7989de7c49bfrow174_col2 {\n            width:  10em;\n             height:  80%;\n            background:  linear-gradient(90deg,#d65f5f 0.0%, transparent 0.0%);\n        }    #T_fe8f6143_cdcd_11ea_b7fa_7989de7c49bfrow174_col3 {\n            width:  10em;\n             height:  80%;\n            background:  linear-gradient(90deg,#d65f5f 0.0%, transparent 0.0%);\n        }    #T_fe8f6143_cdcd_11ea_b7fa_7989de7c49bfrow174_col4 {\n            width:  10em;\n             height:  80%;\n            background:  linear-gradient(90deg,#d65f5f 0.0%, transparent 0.0%);\n        }    #T_fe8f6143_cdcd_11ea_b7fa_7989de7c49bfrow175_col1 {\n            width:  10em;\n             height:  80%;\n            background:  linear-gradient(90deg,#d65f5f 0.0%, transparent 0.0%);\n        }    #T_fe8f6143_cdcd_11ea_b7fa_7989de7c49bfrow175_col2 {\n            width:  10em;\n             height:  80%;\n        }    #T_fe8f6143_cdcd_11ea_b7fa_7989de7c49bfrow175_col3 {\n            width:  10em;\n             height:  80%;\n            background:  linear-gradient(90deg,#d65f5f 0.0%, transparent 0.0%);\n        }    #T_fe8f6143_cdcd_11ea_b7fa_7989de7c49bfrow175_col4 {\n            width:  10em;\n             height:  80%;\n            background:  linear-gradient(90deg,#d65f5f 0.0%, transparent 0.0%);\n        }    #T_fe8f6143_cdcd_11ea_b7fa_7989de7c49bfrow176_col1 {\n            width:  10em;\n             height:  80%;\n            background:  linear-gradient(90deg,#d65f5f 0.0%, transparent 0.0%);\n        }    #T_fe8f6143_cdcd_11ea_b7fa_7989de7c49bfrow176_col2 {\n            width:  10em;\n             height:  80%;\n            background:  linear-gradient(90deg,#d65f5f 0.0%, transparent 0.0%);\n        }    #T_fe8f6143_cdcd_11ea_b7fa_7989de7c49bfrow176_col3 {\n            width:  10em;\n             height:  80%;\n            background:  linear-gradient(90deg,#d65f5f 0.0%, transparent 0.0%);\n        }    #T_fe8f6143_cdcd_11ea_b7fa_7989de7c49bfrow176_col4 {\n            width:  10em;\n             height:  80%;\n            background:  linear-gradient(90deg,#d65f5f 0.0%, transparent 0.0%);\n        }    #T_fe8f6143_cdcd_11ea_b7fa_7989de7c49bfrow177_col1 {\n            width:  10em;\n             height:  80%;\n            background:  linear-gradient(90deg,#d65f5f 0.0%, transparent 0.0%);\n        }    #T_fe8f6143_cdcd_11ea_b7fa_7989de7c49bfrow177_col2 {\n            width:  10em;\n             height:  80%;\n        }    #T_fe8f6143_cdcd_11ea_b7fa_7989de7c49bfrow177_col3 {\n            width:  10em;\n             height:  80%;\n            background:  linear-gradient(90deg,#d65f5f 0.0%, transparent 0.0%);\n        }    #T_fe8f6143_cdcd_11ea_b7fa_7989de7c49bfrow177_col4 {\n            width:  10em;\n             height:  80%;\n            background:  linear-gradient(90deg,#d65f5f 0.0%, transparent 0.0%);\n        }    #T_fe8f6143_cdcd_11ea_b7fa_7989de7c49bfrow178_col1 {\n            width:  10em;\n             height:  80%;\n            background:  linear-gradient(90deg,#d65f5f 0.0%, transparent 0.0%);\n        }    #T_fe8f6143_cdcd_11ea_b7fa_7989de7c49bfrow178_col2 {\n            width:  10em;\n             height:  80%;\n        }    #T_fe8f6143_cdcd_11ea_b7fa_7989de7c49bfrow178_col3 {\n            width:  10em;\n             height:  80%;\n            background:  linear-gradient(90deg,#d65f5f 0.0%, transparent 0.0%);\n        }    #T_fe8f6143_cdcd_11ea_b7fa_7989de7c49bfrow178_col4 {\n            width:  10em;\n             height:  80%;\n            background:  linear-gradient(90deg,#d65f5f 0.0%, transparent 0.0%);\n        }    #T_fe8f6143_cdcd_11ea_b7fa_7989de7c49bfrow179_col1 {\n            width:  10em;\n             height:  80%;\n            background:  linear-gradient(90deg,#d65f5f 0.0%, transparent 0.0%);\n        }    #T_fe8f6143_cdcd_11ea_b7fa_7989de7c49bfrow179_col2 {\n            width:  10em;\n             height:  80%;\n        }    #T_fe8f6143_cdcd_11ea_b7fa_7989de7c49bfrow179_col3 {\n            width:  10em;\n             height:  80%;\n            background:  linear-gradient(90deg,#d65f5f 0.0%, transparent 0.0%);\n        }    #T_fe8f6143_cdcd_11ea_b7fa_7989de7c49bfrow179_col4 {\n            width:  10em;\n             height:  80%;\n            background:  linear-gradient(90deg,#d65f5f 0.0%, transparent 0.0%);\n        }    #T_fe8f6143_cdcd_11ea_b7fa_7989de7c49bfrow180_col1 {\n            width:  10em;\n             height:  80%;\n            background:  linear-gradient(90deg,#d65f5f 0.0%, transparent 0.0%);\n        }    #T_fe8f6143_cdcd_11ea_b7fa_7989de7c49bfrow180_col2 {\n            width:  10em;\n             height:  80%;\n        }    #T_fe8f6143_cdcd_11ea_b7fa_7989de7c49bfrow180_col3 {\n            width:  10em;\n             height:  80%;\n            background:  linear-gradient(90deg,#d65f5f 0.0%, transparent 0.0%);\n        }    #T_fe8f6143_cdcd_11ea_b7fa_7989de7c49bfrow180_col4 {\n            width:  10em;\n             height:  80%;\n        }    #T_fe8f6143_cdcd_11ea_b7fa_7989de7c49bfrow181_col1 {\n            width:  10em;\n             height:  80%;\n            background:  linear-gradient(90deg,#d65f5f 0.0%, transparent 0.0%);\n        }    #T_fe8f6143_cdcd_11ea_b7fa_7989de7c49bfrow181_col2 {\n            width:  10em;\n             height:  80%;\n        }    #T_fe8f6143_cdcd_11ea_b7fa_7989de7c49bfrow181_col3 {\n            width:  10em;\n             height:  80%;\n            background:  linear-gradient(90deg,#d65f5f 0.0%, transparent 0.0%);\n        }    #T_fe8f6143_cdcd_11ea_b7fa_7989de7c49bfrow181_col4 {\n            width:  10em;\n             height:  80%;\n        }    #T_fe8f6143_cdcd_11ea_b7fa_7989de7c49bfrow182_col1 {\n            width:  10em;\n             height:  80%;\n            background:  linear-gradient(90deg,#d65f5f 0.0%, transparent 0.0%);\n        }    #T_fe8f6143_cdcd_11ea_b7fa_7989de7c49bfrow182_col2 {\n            width:  10em;\n             height:  80%;\n        }    #T_fe8f6143_cdcd_11ea_b7fa_7989de7c49bfrow182_col3 {\n            width:  10em;\n             height:  80%;\n            background:  linear-gradient(90deg,#d65f5f 0.0%, transparent 0.0%);\n        }    #T_fe8f6143_cdcd_11ea_b7fa_7989de7c49bfrow182_col4 {\n            width:  10em;\n             height:  80%;\n            background:  linear-gradient(90deg,#d65f5f 0.0%, transparent 0.0%);\n        }    #T_fe8f6143_cdcd_11ea_b7fa_7989de7c49bfrow183_col1 {\n            width:  10em;\n             height:  80%;\n            background:  linear-gradient(90deg,#d65f5f 0.0%, transparent 0.0%);\n        }    #T_fe8f6143_cdcd_11ea_b7fa_7989de7c49bfrow183_col2 {\n            width:  10em;\n             height:  80%;\n        }    #T_fe8f6143_cdcd_11ea_b7fa_7989de7c49bfrow183_col3 {\n            width:  10em;\n             height:  80%;\n            background:  linear-gradient(90deg,#d65f5f 0.0%, transparent 0.0%);\n        }    #T_fe8f6143_cdcd_11ea_b7fa_7989de7c49bfrow183_col4 {\n            width:  10em;\n             height:  80%;\n        }    #T_fe8f6143_cdcd_11ea_b7fa_7989de7c49bfrow184_col1 {\n            width:  10em;\n             height:  80%;\n            background:  linear-gradient(90deg,#d65f5f 0.0%, transparent 0.0%);\n        }    #T_fe8f6143_cdcd_11ea_b7fa_7989de7c49bfrow184_col2 {\n            width:  10em;\n             height:  80%;\n        }    #T_fe8f6143_cdcd_11ea_b7fa_7989de7c49bfrow184_col3 {\n            width:  10em;\n             height:  80%;\n            background:  linear-gradient(90deg,#d65f5f 0.0%, transparent 0.0%);\n        }    #T_fe8f6143_cdcd_11ea_b7fa_7989de7c49bfrow184_col4 {\n            width:  10em;\n             height:  80%;\n            background:  linear-gradient(90deg,#d65f5f 0.0%, transparent 0.0%);\n        }    #T_fe8f6143_cdcd_11ea_b7fa_7989de7c49bfrow185_col1 {\n            width:  10em;\n             height:  80%;\n            background:  linear-gradient(90deg,#d65f5f 0.0%, transparent 0.0%);\n        }    #T_fe8f6143_cdcd_11ea_b7fa_7989de7c49bfrow185_col2 {\n            width:  10em;\n             height:  80%;\n        }    #T_fe8f6143_cdcd_11ea_b7fa_7989de7c49bfrow185_col3 {\n            width:  10em;\n             height:  80%;\n            background:  linear-gradient(90deg,#d65f5f 0.0%, transparent 0.0%);\n        }    #T_fe8f6143_cdcd_11ea_b7fa_7989de7c49bfrow185_col4 {\n            width:  10em;\n             height:  80%;\n        }    #T_fe8f6143_cdcd_11ea_b7fa_7989de7c49bfrow186_col1 {\n            width:  10em;\n             height:  80%;\n            background:  linear-gradient(90deg,#d65f5f 0.0%, transparent 0.0%);\n        }    #T_fe8f6143_cdcd_11ea_b7fa_7989de7c49bfrow186_col2 {\n            width:  10em;\n             height:  80%;\n            background:  linear-gradient(90deg,#d65f5f 0.0%, transparent 0.0%);\n        }    #T_fe8f6143_cdcd_11ea_b7fa_7989de7c49bfrow186_col3 {\n            width:  10em;\n             height:  80%;\n        }    #T_fe8f6143_cdcd_11ea_b7fa_7989de7c49bfrow186_col4 {\n            width:  10em;\n             height:  80%;\n            background:  linear-gradient(90deg,#d65f5f 0.0%, transparent 0.0%);\n        }    #T_fe8f6143_cdcd_11ea_b7fa_7989de7c49bfrow187_col1 {\n            width:  10em;\n             height:  80%;\n        }    #T_fe8f6143_cdcd_11ea_b7fa_7989de7c49bfrow187_col2 {\n            width:  10em;\n             height:  80%;\n            background:  linear-gradient(90deg,#d65f5f 0.0%, transparent 0.0%);\n        }    #T_fe8f6143_cdcd_11ea_b7fa_7989de7c49bfrow187_col4 {\n            width:  10em;\n             height:  80%;\n            background:  linear-gradient(90deg,#d65f5f 0.0%, transparent 0.0%);\n        }</style><table id=\"T_fe8f6143_cdcd_11ea_b7fa_7989de7c49bf\" ><thead>    <tr>        <th class=\"blank level0\" ></th>        <th class=\"col_heading level0 col0\" >Country_Region</th>        <th class=\"col_heading level0 col1\" >Confirmed</th>        <th class=\"col_heading level0 col2\" >Deaths</th>        <th class=\"col_heading level0 col3\" >Recovered</th>        <th class=\"col_heading level0 col4\" >Active</th>    </tr></thead><tbody>\n                <tr>\n                        <th id=\"T_fe8f6143_cdcd_11ea_b7fa_7989de7c49bflevel0_row0\" class=\"row_heading level0 row0\" >0</th>\n                        <td id=\"T_fe8f6143_cdcd_11ea_b7fa_7989de7c49bfrow0_col0\" class=\"data row0 col0\" >US</td>\n                        <td id=\"T_fe8f6143_cdcd_11ea_b7fa_7989de7c49bfrow0_col1\" class=\"data row0 col1\" >4061925.000000</td>\n                        <td id=\"T_fe8f6143_cdcd_11ea_b7fa_7989de7c49bfrow0_col2\" class=\"data row0 col2\" >144552.000000</td>\n                        <td id=\"T_fe8f6143_cdcd_11ea_b7fa_7989de7c49bfrow0_col3\" class=\"data row0 col3\" >1233269.000000</td>\n                        <td id=\"T_fe8f6143_cdcd_11ea_b7fa_7989de7c49bfrow0_col4\" class=\"data row0 col4\" >2719886.000000</td>\n            </tr>\n            <tr>\n                        <th id=\"T_fe8f6143_cdcd_11ea_b7fa_7989de7c49bflevel0_row1\" class=\"row_heading level0 row1\" >1</th>\n                        <td id=\"T_fe8f6143_cdcd_11ea_b7fa_7989de7c49bfrow1_col0\" class=\"data row1 col0\" >Brazil</td>\n                        <td id=\"T_fe8f6143_cdcd_11ea_b7fa_7989de7c49bfrow1_col1\" class=\"data row1 col1\" >2287475.000000</td>\n                        <td id=\"T_fe8f6143_cdcd_11ea_b7fa_7989de7c49bfrow1_col2\" class=\"data row1 col2\" >84082.000000</td>\n                        <td id=\"T_fe8f6143_cdcd_11ea_b7fa_7989de7c49bfrow1_col3\" class=\"data row1 col3\" >1664391.000000</td>\n                        <td id=\"T_fe8f6143_cdcd_11ea_b7fa_7989de7c49bfrow1_col4\" class=\"data row1 col4\" >539002.000000</td>\n            </tr>\n            <tr>\n                        <th id=\"T_fe8f6143_cdcd_11ea_b7fa_7989de7c49bflevel0_row2\" class=\"row_heading level0 row2\" >2</th>\n                        <td id=\"T_fe8f6143_cdcd_11ea_b7fa_7989de7c49bfrow2_col0\" class=\"data row2 col0\" >India</td>\n                        <td id=\"T_fe8f6143_cdcd_11ea_b7fa_7989de7c49bfrow2_col1\" class=\"data row2 col1\" >1288108.000000</td>\n                        <td id=\"T_fe8f6143_cdcd_11ea_b7fa_7989de7c49bfrow2_col2\" class=\"data row2 col2\" >30601.000000</td>\n                        <td id=\"T_fe8f6143_cdcd_11ea_b7fa_7989de7c49bfrow2_col3\" class=\"data row2 col3\" >817209.000000</td>\n                        <td id=\"T_fe8f6143_cdcd_11ea_b7fa_7989de7c49bfrow2_col4\" class=\"data row2 col4\" >440298.000000</td>\n            </tr>\n            <tr>\n                        <th id=\"T_fe8f6143_cdcd_11ea_b7fa_7989de7c49bflevel0_row3\" class=\"row_heading level0 row3\" >3</th>\n                        <td id=\"T_fe8f6143_cdcd_11ea_b7fa_7989de7c49bfrow3_col0\" class=\"data row3 col0\" >Russia</td>\n                        <td id=\"T_fe8f6143_cdcd_11ea_b7fa_7989de7c49bfrow3_col1\" class=\"data row3 col1\" >799499.000000</td>\n                        <td id=\"T_fe8f6143_cdcd_11ea_b7fa_7989de7c49bfrow3_col2\" class=\"data row3 col2\" >13026.000000</td>\n                        <td id=\"T_fe8f6143_cdcd_11ea_b7fa_7989de7c49bfrow3_col3\" class=\"data row3 col3\" >587728.000000</td>\n                        <td id=\"T_fe8f6143_cdcd_11ea_b7fa_7989de7c49bfrow3_col4\" class=\"data row3 col4\" >198745.000000</td>\n            </tr>\n            <tr>\n                        <th id=\"T_fe8f6143_cdcd_11ea_b7fa_7989de7c49bflevel0_row4\" class=\"row_heading level0 row4\" >4</th>\n                        <td id=\"T_fe8f6143_cdcd_11ea_b7fa_7989de7c49bfrow4_col0\" class=\"data row4 col0\" >South Africa</td>\n                        <td id=\"T_fe8f6143_cdcd_11ea_b7fa_7989de7c49bfrow4_col1\" class=\"data row4 col1\" >408052.000000</td>\n                        <td id=\"T_fe8f6143_cdcd_11ea_b7fa_7989de7c49bfrow4_col2\" class=\"data row4 col2\" >6093.000000</td>\n                        <td id=\"T_fe8f6143_cdcd_11ea_b7fa_7989de7c49bfrow4_col3\" class=\"data row4 col3\" >236260.000000</td>\n                        <td id=\"T_fe8f6143_cdcd_11ea_b7fa_7989de7c49bfrow4_col4\" class=\"data row4 col4\" >165699.000000</td>\n            </tr>\n            <tr>\n                        <th id=\"T_fe8f6143_cdcd_11ea_b7fa_7989de7c49bflevel0_row5\" class=\"row_heading level0 row5\" >5</th>\n                        <td id=\"T_fe8f6143_cdcd_11ea_b7fa_7989de7c49bfrow5_col0\" class=\"data row5 col0\" >Peru</td>\n                        <td id=\"T_fe8f6143_cdcd_11ea_b7fa_7989de7c49bfrow5_col1\" class=\"data row5 col1\" >371096.000000</td>\n                        <td id=\"T_fe8f6143_cdcd_11ea_b7fa_7989de7c49bfrow5_col2\" class=\"data row5 col2\" >17654.000000</td>\n                        <td id=\"T_fe8f6143_cdcd_11ea_b7fa_7989de7c49bfrow5_col3\" class=\"data row5 col3\" >255945.000000</td>\n                        <td id=\"T_fe8f6143_cdcd_11ea_b7fa_7989de7c49bfrow5_col4\" class=\"data row5 col4\" >97497.000000</td>\n            </tr>\n            <tr>\n                        <th id=\"T_fe8f6143_cdcd_11ea_b7fa_7989de7c49bflevel0_row6\" class=\"row_heading level0 row6\" >6</th>\n                        <td id=\"T_fe8f6143_cdcd_11ea_b7fa_7989de7c49bfrow6_col0\" class=\"data row6 col0\" >Mexico</td>\n                        <td id=\"T_fe8f6143_cdcd_11ea_b7fa_7989de7c49bfrow6_col1\" class=\"data row6 col1\" >370712.000000</td>\n                        <td id=\"T_fe8f6143_cdcd_11ea_b7fa_7989de7c49bfrow6_col2\" class=\"data row6 col2\" >41908.000000</td>\n                        <td id=\"T_fe8f6143_cdcd_11ea_b7fa_7989de7c49bfrow6_col3\" class=\"data row6 col3\" >275454.000000</td>\n                        <td id=\"T_fe8f6143_cdcd_11ea_b7fa_7989de7c49bfrow6_col4\" class=\"data row6 col4\" >53350.000000</td>\n            </tr>\n            <tr>\n                        <th id=\"T_fe8f6143_cdcd_11ea_b7fa_7989de7c49bflevel0_row7\" class=\"row_heading level0 row7\" >7</th>\n                        <td id=\"T_fe8f6143_cdcd_11ea_b7fa_7989de7c49bfrow7_col0\" class=\"data row7 col0\" >Chile</td>\n                        <td id=\"T_fe8f6143_cdcd_11ea_b7fa_7989de7c49bfrow7_col1\" class=\"data row7 col1\" >338759.000000</td>\n                        <td id=\"T_fe8f6143_cdcd_11ea_b7fa_7989de7c49bfrow7_col2\" class=\"data row7 col2\" >8838.000000</td>\n                        <td id=\"T_fe8f6143_cdcd_11ea_b7fa_7989de7c49bfrow7_col3\" class=\"data row7 col3\" >311431.000000</td>\n                        <td id=\"T_fe8f6143_cdcd_11ea_b7fa_7989de7c49bfrow7_col4\" class=\"data row7 col4\" >18490.000000</td>\n            </tr>\n            <tr>\n                        <th id=\"T_fe8f6143_cdcd_11ea_b7fa_7989de7c49bflevel0_row8\" class=\"row_heading level0 row8\" >8</th>\n                        <td id=\"T_fe8f6143_cdcd_11ea_b7fa_7989de7c49bfrow8_col0\" class=\"data row8 col0\" >United Kingdom</td>\n                        <td id=\"T_fe8f6143_cdcd_11ea_b7fa_7989de7c49bfrow8_col1\" class=\"data row8 col1\" >299499.000000</td>\n                        <td id=\"T_fe8f6143_cdcd_11ea_b7fa_7989de7c49bfrow8_col2\" class=\"data row8 col2\" >45762.000000</td>\n                        <td id=\"T_fe8f6143_cdcd_11ea_b7fa_7989de7c49bfrow8_col3\" class=\"data row8 col3\" >1425.000000</td>\n                        <td id=\"T_fe8f6143_cdcd_11ea_b7fa_7989de7c49bfrow8_col4\" class=\"data row8 col4\" >252312.000000</td>\n            </tr>\n            <tr>\n                        <th id=\"T_fe8f6143_cdcd_11ea_b7fa_7989de7c49bflevel0_row9\" class=\"row_heading level0 row9\" >9</th>\n                        <td id=\"T_fe8f6143_cdcd_11ea_b7fa_7989de7c49bfrow9_col0\" class=\"data row9 col0\" >Iran</td>\n                        <td id=\"T_fe8f6143_cdcd_11ea_b7fa_7989de7c49bfrow9_col1\" class=\"data row9 col1\" >286523.000000</td>\n                        <td id=\"T_fe8f6143_cdcd_11ea_b7fa_7989de7c49bfrow9_col2\" class=\"data row9 col2\" >15289.000000</td>\n                        <td id=\"T_fe8f6143_cdcd_11ea_b7fa_7989de7c49bfrow9_col3\" class=\"data row9 col3\" >249212.000000</td>\n                        <td id=\"T_fe8f6143_cdcd_11ea_b7fa_7989de7c49bfrow9_col4\" class=\"data row9 col4\" >22022.000000</td>\n            </tr>\n            <tr>\n                        <th id=\"T_fe8f6143_cdcd_11ea_b7fa_7989de7c49bflevel0_row10\" class=\"row_heading level0 row10\" >10</th>\n                        <td id=\"T_fe8f6143_cdcd_11ea_b7fa_7989de7c49bfrow10_col0\" class=\"data row10 col0\" >Spain</td>\n                        <td id=\"T_fe8f6143_cdcd_11ea_b7fa_7989de7c49bfrow10_col1\" class=\"data row10 col1\" >272421.000000</td>\n                        <td id=\"T_fe8f6143_cdcd_11ea_b7fa_7989de7c49bfrow10_col2\" class=\"data row10 col2\" >28432.000000</td>\n                        <td id=\"T_fe8f6143_cdcd_11ea_b7fa_7989de7c49bfrow10_col3\" class=\"data row10 col3\" >150376.000000</td>\n                        <td id=\"T_fe8f6143_cdcd_11ea_b7fa_7989de7c49bfrow10_col4\" class=\"data row10 col4\" >93613.000000</td>\n            </tr>\n            <tr>\n                        <th id=\"T_fe8f6143_cdcd_11ea_b7fa_7989de7c49bflevel0_row11\" class=\"row_heading level0 row11\" >11</th>\n                        <td id=\"T_fe8f6143_cdcd_11ea_b7fa_7989de7c49bfrow11_col0\" class=\"data row11 col0\" >Pakistan</td>\n                        <td id=\"T_fe8f6143_cdcd_11ea_b7fa_7989de7c49bfrow11_col1\" class=\"data row11 col1\" >270400.000000</td>\n                        <td id=\"T_fe8f6143_cdcd_11ea_b7fa_7989de7c49bfrow11_col2\" class=\"data row11 col2\" >5763.000000</td>\n                        <td id=\"T_fe8f6143_cdcd_11ea_b7fa_7989de7c49bfrow11_col3\" class=\"data row11 col3\" >219783.000000</td>\n                        <td id=\"T_fe8f6143_cdcd_11ea_b7fa_7989de7c49bfrow11_col4\" class=\"data row11 col4\" >44854.000000</td>\n            </tr>\n            <tr>\n                        <th id=\"T_fe8f6143_cdcd_11ea_b7fa_7989de7c49bflevel0_row12\" class=\"row_heading level0 row12\" >12</th>\n                        <td id=\"T_fe8f6143_cdcd_11ea_b7fa_7989de7c49bfrow12_col0\" class=\"data row12 col0\" >Saudi Arabia</td>\n                        <td id=\"T_fe8f6143_cdcd_11ea_b7fa_7989de7c49bfrow12_col1\" class=\"data row12 col1\" >262772.000000</td>\n                        <td id=\"T_fe8f6143_cdcd_11ea_b7fa_7989de7c49bfrow12_col2\" class=\"data row12 col2\" >2672.000000</td>\n                        <td id=\"T_fe8f6143_cdcd_11ea_b7fa_7989de7c49bfrow12_col3\" class=\"data row12 col3\" >215731.000000</td>\n                        <td id=\"T_fe8f6143_cdcd_11ea_b7fa_7989de7c49bfrow12_col4\" class=\"data row12 col4\" >44369.000000</td>\n            </tr>\n            <tr>\n                        <th id=\"T_fe8f6143_cdcd_11ea_b7fa_7989de7c49bflevel0_row13\" class=\"row_heading level0 row13\" >13</th>\n                        <td id=\"T_fe8f6143_cdcd_11ea_b7fa_7989de7c49bfrow13_col0\" class=\"data row13 col0\" >Italy</td>\n                        <td id=\"T_fe8f6143_cdcd_11ea_b7fa_7989de7c49bfrow13_col1\" class=\"data row13 col1\" >245590.000000</td>\n                        <td id=\"T_fe8f6143_cdcd_11ea_b7fa_7989de7c49bfrow13_col2\" class=\"data row13 col2\" >35097.000000</td>\n                        <td id=\"T_fe8f6143_cdcd_11ea_b7fa_7989de7c49bfrow13_col3\" class=\"data row13 col3\" >198192.000000</td>\n                        <td id=\"T_fe8f6143_cdcd_11ea_b7fa_7989de7c49bfrow13_col4\" class=\"data row13 col4\" >12301.000000</td>\n            </tr>\n            <tr>\n                        <th id=\"T_fe8f6143_cdcd_11ea_b7fa_7989de7c49bflevel0_row14\" class=\"row_heading level0 row14\" >14</th>\n                        <td id=\"T_fe8f6143_cdcd_11ea_b7fa_7989de7c49bfrow14_col0\" class=\"data row14 col0\" >Colombia</td>\n                        <td id=\"T_fe8f6143_cdcd_11ea_b7fa_7989de7c49bfrow14_col1\" class=\"data row14 col1\" >226373.000000</td>\n                        <td id=\"T_fe8f6143_cdcd_11ea_b7fa_7989de7c49bfrow14_col2\" class=\"data row14 col2\" >7688.000000</td>\n                        <td id=\"T_fe8f6143_cdcd_11ea_b7fa_7989de7c49bfrow14_col3\" class=\"data row14 col3\" >107951.000000</td>\n                        <td id=\"T_fe8f6143_cdcd_11ea_b7fa_7989de7c49bfrow14_col4\" class=\"data row14 col4\" >110734.000000</td>\n            </tr>\n            <tr>\n                        <th id=\"T_fe8f6143_cdcd_11ea_b7fa_7989de7c49bflevel0_row15\" class=\"row_heading level0 row15\" >15</th>\n                        <td id=\"T_fe8f6143_cdcd_11ea_b7fa_7989de7c49bfrow15_col0\" class=\"data row15 col0\" >Turkey</td>\n                        <td id=\"T_fe8f6143_cdcd_11ea_b7fa_7989de7c49bfrow15_col1\" class=\"data row15 col1\" >224252.000000</td>\n                        <td id=\"T_fe8f6143_cdcd_11ea_b7fa_7989de7c49bfrow15_col2\" class=\"data row15 col2\" >5580.000000</td>\n                        <td id=\"T_fe8f6143_cdcd_11ea_b7fa_7989de7c49bfrow15_col3\" class=\"data row15 col3\" >207374.000000</td>\n                        <td id=\"T_fe8f6143_cdcd_11ea_b7fa_7989de7c49bfrow15_col4\" class=\"data row15 col4\" >11298.000000</td>\n            </tr>\n            <tr>\n                        <th id=\"T_fe8f6143_cdcd_11ea_b7fa_7989de7c49bflevel0_row16\" class=\"row_heading level0 row16\" >16</th>\n                        <td id=\"T_fe8f6143_cdcd_11ea_b7fa_7989de7c49bfrow16_col0\" class=\"data row16 col0\" >Bangladesh</td>\n                        <td id=\"T_fe8f6143_cdcd_11ea_b7fa_7989de7c49bfrow16_col1\" class=\"data row16 col1\" >218658.000000</td>\n                        <td id=\"T_fe8f6143_cdcd_11ea_b7fa_7989de7c49bfrow16_col2\" class=\"data row16 col2\" >2836.000000</td>\n                        <td id=\"T_fe8f6143_cdcd_11ea_b7fa_7989de7c49bfrow16_col3\" class=\"data row16 col3\" >120976.000000</td>\n                        <td id=\"T_fe8f6143_cdcd_11ea_b7fa_7989de7c49bfrow16_col4\" class=\"data row16 col4\" >94846.000000</td>\n            </tr>\n            <tr>\n                        <th id=\"T_fe8f6143_cdcd_11ea_b7fa_7989de7c49bflevel0_row17\" class=\"row_heading level0 row17\" >17</th>\n                        <td id=\"T_fe8f6143_cdcd_11ea_b7fa_7989de7c49bfrow17_col0\" class=\"data row17 col0\" >France</td>\n                        <td id=\"T_fe8f6143_cdcd_11ea_b7fa_7989de7c49bfrow17_col1\" class=\"data row17 col1\" >217797.000000</td>\n                        <td id=\"T_fe8f6143_cdcd_11ea_b7fa_7989de7c49bfrow17_col2\" class=\"data row17 col2\" >30195.000000</td>\n                        <td id=\"T_fe8f6143_cdcd_11ea_b7fa_7989de7c49bfrow17_col3\" class=\"data row17 col3\" >80943.000000</td>\n                        <td id=\"T_fe8f6143_cdcd_11ea_b7fa_7989de7c49bfrow17_col4\" class=\"data row17 col4\" >106659.000000</td>\n            </tr>\n            <tr>\n                        <th id=\"T_fe8f6143_cdcd_11ea_b7fa_7989de7c49bflevel0_row18\" class=\"row_heading level0 row18\" >18</th>\n                        <td id=\"T_fe8f6143_cdcd_11ea_b7fa_7989de7c49bfrow18_col0\" class=\"data row18 col0\" >Germany</td>\n                        <td id=\"T_fe8f6143_cdcd_11ea_b7fa_7989de7c49bfrow18_col1\" class=\"data row18 col1\" >205405.000000</td>\n                        <td id=\"T_fe8f6143_cdcd_11ea_b7fa_7989de7c49bfrow18_col2\" class=\"data row18 col2\" >9117.000000</td>\n                        <td id=\"T_fe8f6143_cdcd_11ea_b7fa_7989de7c49bfrow18_col3\" class=\"data row18 col3\" >189664.000000</td>\n                        <td id=\"T_fe8f6143_cdcd_11ea_b7fa_7989de7c49bfrow18_col4\" class=\"data row18 col4\" >6624.000000</td>\n            </tr>\n            <tr>\n                        <th id=\"T_fe8f6143_cdcd_11ea_b7fa_7989de7c49bflevel0_row19\" class=\"row_heading level0 row19\" >19</th>\n                        <td id=\"T_fe8f6143_cdcd_11ea_b7fa_7989de7c49bfrow19_col0\" class=\"data row19 col0\" >Argentina</td>\n                        <td id=\"T_fe8f6143_cdcd_11ea_b7fa_7989de7c49bfrow19_col1\" class=\"data row19 col1\" >148027.000000</td>\n                        <td id=\"T_fe8f6143_cdcd_11ea_b7fa_7989de7c49bfrow19_col2\" class=\"data row19 col2\" >2722.000000</td>\n                        <td id=\"T_fe8f6143_cdcd_11ea_b7fa_7989de7c49bfrow19_col3\" class=\"data row19 col3\" >65447.000000</td>\n                        <td id=\"T_fe8f6143_cdcd_11ea_b7fa_7989de7c49bfrow19_col4\" class=\"data row19 col4\" >79858.000000</td>\n            </tr>\n            <tr>\n                        <th id=\"T_fe8f6143_cdcd_11ea_b7fa_7989de7c49bflevel0_row20\" class=\"row_heading level0 row20\" >20</th>\n                        <td id=\"T_fe8f6143_cdcd_11ea_b7fa_7989de7c49bfrow20_col0\" class=\"data row20 col0\" >Canada</td>\n                        <td id=\"T_fe8f6143_cdcd_11ea_b7fa_7989de7c49bfrow20_col1\" class=\"data row20 col1\" >114661.000000</td>\n                        <td id=\"T_fe8f6143_cdcd_11ea_b7fa_7989de7c49bfrow20_col2\" class=\"data row20 col2\" >8918.000000</td>\n                        <td id=\"T_fe8f6143_cdcd_11ea_b7fa_7989de7c49bfrow20_col3\" class=\"data row20 col3\" >100110.000000</td>\n                        <td id=\"T_fe8f6143_cdcd_11ea_b7fa_7989de7c49bfrow20_col4\" class=\"data row20 col4\" >5634.000000</td>\n            </tr>\n            <tr>\n                        <th id=\"T_fe8f6143_cdcd_11ea_b7fa_7989de7c49bflevel0_row21\" class=\"row_heading level0 row21\" >21</th>\n                        <td id=\"T_fe8f6143_cdcd_11ea_b7fa_7989de7c49bfrow21_col0\" class=\"data row21 col0\" >Qatar</td>\n                        <td id=\"T_fe8f6143_cdcd_11ea_b7fa_7989de7c49bfrow21_col1\" class=\"data row21 col1\" >108638.000000</td>\n                        <td id=\"T_fe8f6143_cdcd_11ea_b7fa_7989de7c49bfrow21_col2\" class=\"data row21 col2\" >164.000000</td>\n                        <td id=\"T_fe8f6143_cdcd_11ea_b7fa_7989de7c49bfrow21_col3\" class=\"data row21 col3\" >105420.000000</td>\n                        <td id=\"T_fe8f6143_cdcd_11ea_b7fa_7989de7c49bfrow21_col4\" class=\"data row21 col4\" >3054.000000</td>\n            </tr>\n            <tr>\n                        <th id=\"T_fe8f6143_cdcd_11ea_b7fa_7989de7c49bflevel0_row22\" class=\"row_heading level0 row22\" >22</th>\n                        <td id=\"T_fe8f6143_cdcd_11ea_b7fa_7989de7c49bfrow22_col0\" class=\"data row22 col0\" >Iraq</td>\n                        <td id=\"T_fe8f6143_cdcd_11ea_b7fa_7989de7c49bfrow22_col1\" class=\"data row22 col1\" >104711.000000</td>\n                        <td id=\"T_fe8f6143_cdcd_11ea_b7fa_7989de7c49bfrow22_col2\" class=\"data row22 col2\" >4212.000000</td>\n                        <td id=\"T_fe8f6143_cdcd_11ea_b7fa_7989de7c49bfrow22_col3\" class=\"data row22 col3\" >71268.000000</td>\n                        <td id=\"T_fe8f6143_cdcd_11ea_b7fa_7989de7c49bfrow22_col4\" class=\"data row22 col4\" >29231.000000</td>\n            </tr>\n            <tr>\n                        <th id=\"T_fe8f6143_cdcd_11ea_b7fa_7989de7c49bflevel0_row23\" class=\"row_heading level0 row23\" >23</th>\n                        <td id=\"T_fe8f6143_cdcd_11ea_b7fa_7989de7c49bfrow23_col0\" class=\"data row23 col0\" >Indonesia</td>\n                        <td id=\"T_fe8f6143_cdcd_11ea_b7fa_7989de7c49bfrow23_col1\" class=\"data row23 col1\" >95418.000000</td>\n                        <td id=\"T_fe8f6143_cdcd_11ea_b7fa_7989de7c49bfrow23_col2\" class=\"data row23 col2\" >4665.000000</td>\n                        <td id=\"T_fe8f6143_cdcd_11ea_b7fa_7989de7c49bfrow23_col3\" class=\"data row23 col3\" >53945.000000</td>\n                        <td id=\"T_fe8f6143_cdcd_11ea_b7fa_7989de7c49bfrow23_col4\" class=\"data row23 col4\" >36808.000000</td>\n            </tr>\n            <tr>\n                        <th id=\"T_fe8f6143_cdcd_11ea_b7fa_7989de7c49bflevel0_row24\" class=\"row_heading level0 row24\" >24</th>\n                        <td id=\"T_fe8f6143_cdcd_11ea_b7fa_7989de7c49bfrow24_col0\" class=\"data row24 col0\" >Egypt</td>\n                        <td id=\"T_fe8f6143_cdcd_11ea_b7fa_7989de7c49bfrow24_col1\" class=\"data row24 col1\" >90413.000000</td>\n                        <td id=\"T_fe8f6143_cdcd_11ea_b7fa_7989de7c49bfrow24_col2\" class=\"data row24 col2\" >4480.000000</td>\n                        <td id=\"T_fe8f6143_cdcd_11ea_b7fa_7989de7c49bfrow24_col3\" class=\"data row24 col3\" >31066.000000</td>\n                        <td id=\"T_fe8f6143_cdcd_11ea_b7fa_7989de7c49bfrow24_col4\" class=\"data row24 col4\" >54867.000000</td>\n            </tr>\n            <tr>\n                        <th id=\"T_fe8f6143_cdcd_11ea_b7fa_7989de7c49bflevel0_row25\" class=\"row_heading level0 row25\" >25</th>\n                        <td id=\"T_fe8f6143_cdcd_11ea_b7fa_7989de7c49bfrow25_col0\" class=\"data row25 col0\" >China</td>\n                        <td id=\"T_fe8f6143_cdcd_11ea_b7fa_7989de7c49bfrow25_col1\" class=\"data row25 col1\" >86177.000000</td>\n                        <td id=\"T_fe8f6143_cdcd_11ea_b7fa_7989de7c49bfrow25_col2\" class=\"data row25 col2\" >4650.000000</td>\n                        <td id=\"T_fe8f6143_cdcd_11ea_b7fa_7989de7c49bfrow25_col3\" class=\"data row25 col3\" >80325.000000</td>\n                        <td id=\"T_fe8f6143_cdcd_11ea_b7fa_7989de7c49bfrow25_col4\" class=\"data row25 col4\" >1202.000000</td>\n            </tr>\n            <tr>\n                        <th id=\"T_fe8f6143_cdcd_11ea_b7fa_7989de7c49bflevel0_row26\" class=\"row_heading level0 row26\" >26</th>\n                        <td id=\"T_fe8f6143_cdcd_11ea_b7fa_7989de7c49bfrow26_col0\" class=\"data row26 col0\" >Sweden</td>\n                        <td id=\"T_fe8f6143_cdcd_11ea_b7fa_7989de7c49bfrow26_col1\" class=\"data row26 col1\" >78997.000000</td>\n                        <td id=\"T_fe8f6143_cdcd_11ea_b7fa_7989de7c49bfrow26_col2\" class=\"data row26 col2\" >5697.000000</td>\n                        <td id=\"T_fe8f6143_cdcd_11ea_b7fa_7989de7c49bfrow26_col3\" class=\"data row26 col3\" >nan</td>\n                        <td id=\"T_fe8f6143_cdcd_11ea_b7fa_7989de7c49bfrow26_col4\" class=\"data row26 col4\" >73300.000000</td>\n            </tr>\n            <tr>\n                        <th id=\"T_fe8f6143_cdcd_11ea_b7fa_7989de7c49bflevel0_row27\" class=\"row_heading level0 row27\" >27</th>\n                        <td id=\"T_fe8f6143_cdcd_11ea_b7fa_7989de7c49bfrow27_col0\" class=\"data row27 col0\" >Kazakhstan</td>\n                        <td id=\"T_fe8f6143_cdcd_11ea_b7fa_7989de7c49bfrow27_col1\" class=\"data row27 col1\" >78486.000000</td>\n                        <td id=\"T_fe8f6143_cdcd_11ea_b7fa_7989de7c49bfrow27_col2\" class=\"data row27 col2\" >585.000000</td>\n                        <td id=\"T_fe8f6143_cdcd_11ea_b7fa_7989de7c49bfrow27_col3\" class=\"data row27 col3\" >49488.000000</td>\n                        <td id=\"T_fe8f6143_cdcd_11ea_b7fa_7989de7c49bfrow27_col4\" class=\"data row27 col4\" >28413.000000</td>\n            </tr>\n            <tr>\n                        <th id=\"T_fe8f6143_cdcd_11ea_b7fa_7989de7c49bflevel0_row28\" class=\"row_heading level0 row28\" >28</th>\n                        <td id=\"T_fe8f6143_cdcd_11ea_b7fa_7989de7c49bfrow28_col0\" class=\"data row28 col0\" >Ecuador</td>\n                        <td id=\"T_fe8f6143_cdcd_11ea_b7fa_7989de7c49bfrow28_col1\" class=\"data row28 col1\" >78148.000000</td>\n                        <td id=\"T_fe8f6143_cdcd_11ea_b7fa_7989de7c49bfrow28_col2\" class=\"data row28 col2\" >5439.000000</td>\n                        <td id=\"T_fe8f6143_cdcd_11ea_b7fa_7989de7c49bfrow28_col3\" class=\"data row28 col3\" >33455.000000</td>\n                        <td id=\"T_fe8f6143_cdcd_11ea_b7fa_7989de7c49bfrow28_col4\" class=\"data row28 col4\" >39254.000000</td>\n            </tr>\n            <tr>\n                        <th id=\"T_fe8f6143_cdcd_11ea_b7fa_7989de7c49bflevel0_row29\" class=\"row_heading level0 row29\" >29</th>\n                        <td id=\"T_fe8f6143_cdcd_11ea_b7fa_7989de7c49bfrow29_col0\" class=\"data row29 col0\" >Philippines</td>\n                        <td id=\"T_fe8f6143_cdcd_11ea_b7fa_7989de7c49bfrow29_col1\" class=\"data row29 col1\" >76444.000000</td>\n                        <td id=\"T_fe8f6143_cdcd_11ea_b7fa_7989de7c49bfrow29_col2\" class=\"data row29 col2\" >1879.000000</td>\n                        <td id=\"T_fe8f6143_cdcd_11ea_b7fa_7989de7c49bfrow29_col3\" class=\"data row29 col3\" >24502.000000</td>\n                        <td id=\"T_fe8f6143_cdcd_11ea_b7fa_7989de7c49bfrow29_col4\" class=\"data row29 col4\" >50063.000000</td>\n            </tr>\n            <tr>\n                        <th id=\"T_fe8f6143_cdcd_11ea_b7fa_7989de7c49bflevel0_row30\" class=\"row_heading level0 row30\" >30</th>\n                        <td id=\"T_fe8f6143_cdcd_11ea_b7fa_7989de7c49bfrow30_col0\" class=\"data row30 col0\" >Oman</td>\n                        <td id=\"T_fe8f6143_cdcd_11ea_b7fa_7989de7c49bfrow30_col1\" class=\"data row30 col1\" >73791.000000</td>\n                        <td id=\"T_fe8f6143_cdcd_11ea_b7fa_7989de7c49bfrow30_col2\" class=\"data row30 col2\" >359.000000</td>\n                        <td id=\"T_fe8f6143_cdcd_11ea_b7fa_7989de7c49bfrow30_col3\" class=\"data row30 col3\" >53007.000000</td>\n                        <td id=\"T_fe8f6143_cdcd_11ea_b7fa_7989de7c49bfrow30_col4\" class=\"data row30 col4\" >20425.000000</td>\n            </tr>\n            <tr>\n                        <th id=\"T_fe8f6143_cdcd_11ea_b7fa_7989de7c49bflevel0_row31\" class=\"row_heading level0 row31\" >31</th>\n                        <td id=\"T_fe8f6143_cdcd_11ea_b7fa_7989de7c49bfrow31_col0\" class=\"data row31 col0\" >Belarus</td>\n                        <td id=\"T_fe8f6143_cdcd_11ea_b7fa_7989de7c49bfrow31_col1\" class=\"data row31 col1\" >66846.000000</td>\n                        <td id=\"T_fe8f6143_cdcd_11ea_b7fa_7989de7c49bfrow31_col2\" class=\"data row31 col2\" >524.000000</td>\n                        <td id=\"T_fe8f6143_cdcd_11ea_b7fa_7989de7c49bfrow31_col3\" class=\"data row31 col3\" >59755.000000</td>\n                        <td id=\"T_fe8f6143_cdcd_11ea_b7fa_7989de7c49bfrow31_col4\" class=\"data row31 col4\" >6567.000000</td>\n            </tr>\n            <tr>\n                        <th id=\"T_fe8f6143_cdcd_11ea_b7fa_7989de7c49bflevel0_row32\" class=\"row_heading level0 row32\" >32</th>\n                        <td id=\"T_fe8f6143_cdcd_11ea_b7fa_7989de7c49bfrow32_col0\" class=\"data row32 col0\" >Bolivia</td>\n                        <td id=\"T_fe8f6143_cdcd_11ea_b7fa_7989de7c49bfrow32_col1\" class=\"data row32 col1\" >65252.000000</td>\n                        <td id=\"T_fe8f6143_cdcd_11ea_b7fa_7989de7c49bfrow32_col2\" class=\"data row32 col2\" >2407.000000</td>\n                        <td id=\"T_fe8f6143_cdcd_11ea_b7fa_7989de7c49bfrow32_col3\" class=\"data row32 col3\" >20030.000000</td>\n                        <td id=\"T_fe8f6143_cdcd_11ea_b7fa_7989de7c49bfrow32_col4\" class=\"data row32 col4\" >42815.000000</td>\n            </tr>\n            <tr>\n                        <th id=\"T_fe8f6143_cdcd_11ea_b7fa_7989de7c49bflevel0_row33\" class=\"row_heading level0 row33\" >33</th>\n                        <td id=\"T_fe8f6143_cdcd_11ea_b7fa_7989de7c49bfrow33_col0\" class=\"data row33 col0\" >Belgium</td>\n                        <td id=\"T_fe8f6143_cdcd_11ea_b7fa_7989de7c49bfrow33_col1\" class=\"data row33 col1\" >64847.000000</td>\n                        <td id=\"T_fe8f6143_cdcd_11ea_b7fa_7989de7c49bfrow33_col2\" class=\"data row33 col2\" >9812.000000</td>\n                        <td id=\"T_fe8f6143_cdcd_11ea_b7fa_7989de7c49bfrow33_col3\" class=\"data row33 col3\" >17369.000000</td>\n                        <td id=\"T_fe8f6143_cdcd_11ea_b7fa_7989de7c49bfrow33_col4\" class=\"data row33 col4\" >37666.000000</td>\n            </tr>\n            <tr>\n                        <th id=\"T_fe8f6143_cdcd_11ea_b7fa_7989de7c49bflevel0_row34\" class=\"row_heading level0 row34\" >34</th>\n                        <td id=\"T_fe8f6143_cdcd_11ea_b7fa_7989de7c49bfrow34_col0\" class=\"data row34 col0\" >Ukraine</td>\n                        <td id=\"T_fe8f6143_cdcd_11ea_b7fa_7989de7c49bfrow34_col1\" class=\"data row34 col1\" >64173.000000</td>\n                        <td id=\"T_fe8f6143_cdcd_11ea_b7fa_7989de7c49bfrow34_col2\" class=\"data row34 col2\" >1591.000000</td>\n                        <td id=\"T_fe8f6143_cdcd_11ea_b7fa_7989de7c49bfrow34_col3\" class=\"data row34 col3\" >35932.000000</td>\n                        <td id=\"T_fe8f6143_cdcd_11ea_b7fa_7989de7c49bfrow34_col4\" class=\"data row34 col4\" >26650.000000</td>\n            </tr>\n            <tr>\n                        <th id=\"T_fe8f6143_cdcd_11ea_b7fa_7989de7c49bflevel0_row35\" class=\"row_heading level0 row35\" >35</th>\n                        <td id=\"T_fe8f6143_cdcd_11ea_b7fa_7989de7c49bfrow35_col0\" class=\"data row35 col0\" >Kuwait</td>\n                        <td id=\"T_fe8f6143_cdcd_11ea_b7fa_7989de7c49bfrow35_col1\" class=\"data row35 col1\" >62625.000000</td>\n                        <td id=\"T_fe8f6143_cdcd_11ea_b7fa_7989de7c49bfrow35_col2\" class=\"data row35 col2\" >425.000000</td>\n                        <td id=\"T_fe8f6143_cdcd_11ea_b7fa_7989de7c49bfrow35_col3\" class=\"data row35 col3\" >52915.000000</td>\n                        <td id=\"T_fe8f6143_cdcd_11ea_b7fa_7989de7c49bfrow35_col4\" class=\"data row35 col4\" >9285.000000</td>\n            </tr>\n            <tr>\n                        <th id=\"T_fe8f6143_cdcd_11ea_b7fa_7989de7c49bflevel0_row36\" class=\"row_heading level0 row36\" >36</th>\n                        <td id=\"T_fe8f6143_cdcd_11ea_b7fa_7989de7c49bfrow36_col0\" class=\"data row36 col0\" >Israel</td>\n                        <td id=\"T_fe8f6143_cdcd_11ea_b7fa_7989de7c49bfrow36_col1\" class=\"data row36 col1\" >59475.000000</td>\n                        <td id=\"T_fe8f6143_cdcd_11ea_b7fa_7989de7c49bfrow36_col2\" class=\"data row36 col2\" >448.000000</td>\n                        <td id=\"T_fe8f6143_cdcd_11ea_b7fa_7989de7c49bfrow36_col3\" class=\"data row36 col3\" >26797.000000</td>\n                        <td id=\"T_fe8f6143_cdcd_11ea_b7fa_7989de7c49bfrow36_col4\" class=\"data row36 col4\" >32230.000000</td>\n            </tr>\n            <tr>\n                        <th id=\"T_fe8f6143_cdcd_11ea_b7fa_7989de7c49bflevel0_row37\" class=\"row_heading level0 row37\" >37</th>\n                        <td id=\"T_fe8f6143_cdcd_11ea_b7fa_7989de7c49bfrow37_col0\" class=\"data row37 col0\" >Dominican Republic</td>\n                        <td id=\"T_fe8f6143_cdcd_11ea_b7fa_7989de7c49bfrow37_col1\" class=\"data row37 col1\" >59077.000000</td>\n                        <td id=\"T_fe8f6143_cdcd_11ea_b7fa_7989de7c49bfrow37_col2\" class=\"data row37 col2\" >1036.000000</td>\n                        <td id=\"T_fe8f6143_cdcd_11ea_b7fa_7989de7c49bfrow37_col3\" class=\"data row37 col3\" >27625.000000</td>\n                        <td id=\"T_fe8f6143_cdcd_11ea_b7fa_7989de7c49bfrow37_col4\" class=\"data row37 col4\" >30416.000000</td>\n            </tr>\n            <tr>\n                        <th id=\"T_fe8f6143_cdcd_11ea_b7fa_7989de7c49bflevel0_row38\" class=\"row_heading level0 row38\" >38</th>\n                        <td id=\"T_fe8f6143_cdcd_11ea_b7fa_7989de7c49bfrow38_col0\" class=\"data row38 col0\" >United Arab Emirates</td>\n                        <td id=\"T_fe8f6143_cdcd_11ea_b7fa_7989de7c49bfrow38_col1\" class=\"data row38 col1\" >58249.000000</td>\n                        <td id=\"T_fe8f6143_cdcd_11ea_b7fa_7989de7c49bfrow38_col2\" class=\"data row38 col2\" >343.000000</td>\n                        <td id=\"T_fe8f6143_cdcd_11ea_b7fa_7989de7c49bfrow38_col3\" class=\"data row38 col3\" >51235.000000</td>\n                        <td id=\"T_fe8f6143_cdcd_11ea_b7fa_7989de7c49bfrow38_col4\" class=\"data row38 col4\" >6671.000000</td>\n            </tr>\n            <tr>\n                        <th id=\"T_fe8f6143_cdcd_11ea_b7fa_7989de7c49bflevel0_row39\" class=\"row_heading level0 row39\" >39</th>\n                        <td id=\"T_fe8f6143_cdcd_11ea_b7fa_7989de7c49bfrow39_col0\" class=\"data row39 col0\" >Panama</td>\n                        <td id=\"T_fe8f6143_cdcd_11ea_b7fa_7989de7c49bfrow39_col1\" class=\"data row39 col1\" >56817.000000</td>\n                        <td id=\"T_fe8f6143_cdcd_11ea_b7fa_7989de7c49bfrow39_col2\" class=\"data row39 col2\" >1209.000000</td>\n                        <td id=\"T_fe8f6143_cdcd_11ea_b7fa_7989de7c49bfrow39_col3\" class=\"data row39 col3\" >31828.000000</td>\n                        <td id=\"T_fe8f6143_cdcd_11ea_b7fa_7989de7c49bfrow39_col4\" class=\"data row39 col4\" >23780.000000</td>\n            </tr>\n            <tr>\n                        <th id=\"T_fe8f6143_cdcd_11ea_b7fa_7989de7c49bflevel0_row40\" class=\"row_heading level0 row40\" >40</th>\n                        <td id=\"T_fe8f6143_cdcd_11ea_b7fa_7989de7c49bfrow40_col0\" class=\"data row40 col0\" >Netherlands</td>\n                        <td id=\"T_fe8f6143_cdcd_11ea_b7fa_7989de7c49bfrow40_col1\" class=\"data row40 col1\" >52834.000000</td>\n                        <td id=\"T_fe8f6143_cdcd_11ea_b7fa_7989de7c49bfrow40_col2\" class=\"data row40 col2\" >6158.000000</td>\n                        <td id=\"T_fe8f6143_cdcd_11ea_b7fa_7989de7c49bfrow40_col3\" class=\"data row40 col3\" >195.000000</td>\n                        <td id=\"T_fe8f6143_cdcd_11ea_b7fa_7989de7c49bfrow40_col4\" class=\"data row40 col4\" >46481.000000</td>\n            </tr>\n            <tr>\n                        <th id=\"T_fe8f6143_cdcd_11ea_b7fa_7989de7c49bflevel0_row41\" class=\"row_heading level0 row41\" >41</th>\n                        <td id=\"T_fe8f6143_cdcd_11ea_b7fa_7989de7c49bfrow41_col0\" class=\"data row41 col0\" >Portugal</td>\n                        <td id=\"T_fe8f6143_cdcd_11ea_b7fa_7989de7c49bfrow41_col1\" class=\"data row41 col1\" >49692.000000</td>\n                        <td id=\"T_fe8f6143_cdcd_11ea_b7fa_7989de7c49bfrow41_col2\" class=\"data row41 col2\" >1712.000000</td>\n                        <td id=\"T_fe8f6143_cdcd_11ea_b7fa_7989de7c49bfrow41_col3\" class=\"data row41 col3\" >34687.000000</td>\n                        <td id=\"T_fe8f6143_cdcd_11ea_b7fa_7989de7c49bfrow41_col4\" class=\"data row41 col4\" >13293.000000</td>\n            </tr>\n            <tr>\n                        <th id=\"T_fe8f6143_cdcd_11ea_b7fa_7989de7c49bflevel0_row42\" class=\"row_heading level0 row42\" >42</th>\n                        <td id=\"T_fe8f6143_cdcd_11ea_b7fa_7989de7c49bfrow42_col0\" class=\"data row42 col0\" >Singapore</td>\n                        <td id=\"T_fe8f6143_cdcd_11ea_b7fa_7989de7c49bfrow42_col1\" class=\"data row42 col1\" >49375.000000</td>\n                        <td id=\"T_fe8f6143_cdcd_11ea_b7fa_7989de7c49bfrow42_col2\" class=\"data row42 col2\" >27.000000</td>\n                        <td id=\"T_fe8f6143_cdcd_11ea_b7fa_7989de7c49bfrow42_col3\" class=\"data row42 col3\" >45015.000000</td>\n                        <td id=\"T_fe8f6143_cdcd_11ea_b7fa_7989de7c49bfrow42_col4\" class=\"data row42 col4\" >4333.000000</td>\n            </tr>\n            <tr>\n                        <th id=\"T_fe8f6143_cdcd_11ea_b7fa_7989de7c49bflevel0_row43\" class=\"row_heading level0 row43\" >43</th>\n                        <td id=\"T_fe8f6143_cdcd_11ea_b7fa_7989de7c49bfrow43_col0\" class=\"data row43 col0\" >Guatemala</td>\n                        <td id=\"T_fe8f6143_cdcd_11ea_b7fa_7989de7c49bfrow43_col1\" class=\"data row43 col1\" >43283.000000</td>\n                        <td id=\"T_fe8f6143_cdcd_11ea_b7fa_7989de7c49bfrow43_col2\" class=\"data row43 col2\" >1669.000000</td>\n                        <td id=\"T_fe8f6143_cdcd_11ea_b7fa_7989de7c49bfrow43_col3\" class=\"data row43 col3\" >30150.000000</td>\n                        <td id=\"T_fe8f6143_cdcd_11ea_b7fa_7989de7c49bfrow43_col4\" class=\"data row43 col4\" >11464.000000</td>\n            </tr>\n            <tr>\n                        <th id=\"T_fe8f6143_cdcd_11ea_b7fa_7989de7c49bflevel0_row44\" class=\"row_heading level0 row44\" >44</th>\n                        <td id=\"T_fe8f6143_cdcd_11ea_b7fa_7989de7c49bfrow44_col0\" class=\"data row44 col0\" >Romania</td>\n                        <td id=\"T_fe8f6143_cdcd_11ea_b7fa_7989de7c49bfrow44_col1\" class=\"data row44 col1\" >42394.000000</td>\n                        <td id=\"T_fe8f6143_cdcd_11ea_b7fa_7989de7c49bfrow44_col2\" class=\"data row44 col2\" >2150.000000</td>\n                        <td id=\"T_fe8f6143_cdcd_11ea_b7fa_7989de7c49bfrow44_col3\" class=\"data row44 col3\" >25349.000000</td>\n                        <td id=\"T_fe8f6143_cdcd_11ea_b7fa_7989de7c49bfrow44_col4\" class=\"data row44 col4\" >14895.000000</td>\n            </tr>\n            <tr>\n                        <th id=\"T_fe8f6143_cdcd_11ea_b7fa_7989de7c49bflevel0_row45\" class=\"row_heading level0 row45\" >45</th>\n                        <td id=\"T_fe8f6143_cdcd_11ea_b7fa_7989de7c49bfrow45_col0\" class=\"data row45 col0\" >Poland</td>\n                        <td id=\"T_fe8f6143_cdcd_11ea_b7fa_7989de7c49bfrow45_col1\" class=\"data row45 col1\" >42038.000000</td>\n                        <td id=\"T_fe8f6143_cdcd_11ea_b7fa_7989de7c49bfrow45_col2\" class=\"data row45 col2\" >1655.000000</td>\n                        <td id=\"T_fe8f6143_cdcd_11ea_b7fa_7989de7c49bfrow45_col3\" class=\"data row45 col3\" >31997.000000</td>\n                        <td id=\"T_fe8f6143_cdcd_11ea_b7fa_7989de7c49bfrow45_col4\" class=\"data row45 col4\" >8386.000000</td>\n            </tr>\n            <tr>\n                        <th id=\"T_fe8f6143_cdcd_11ea_b7fa_7989de7c49bflevel0_row46\" class=\"row_heading level0 row46\" >46</th>\n                        <td id=\"T_fe8f6143_cdcd_11ea_b7fa_7989de7c49bfrow46_col0\" class=\"data row46 col0\" >Nigeria</td>\n                        <td id=\"T_fe8f6143_cdcd_11ea_b7fa_7989de7c49bfrow46_col1\" class=\"data row46 col1\" >38948.000000</td>\n                        <td id=\"T_fe8f6143_cdcd_11ea_b7fa_7989de7c49bfrow46_col2\" class=\"data row46 col2\" >833.000000</td>\n                        <td id=\"T_fe8f6143_cdcd_11ea_b7fa_7989de7c49bfrow46_col3\" class=\"data row46 col3\" >16061.000000</td>\n                        <td id=\"T_fe8f6143_cdcd_11ea_b7fa_7989de7c49bfrow46_col4\" class=\"data row46 col4\" >22054.000000</td>\n            </tr>\n            <tr>\n                        <th id=\"T_fe8f6143_cdcd_11ea_b7fa_7989de7c49bflevel0_row47\" class=\"row_heading level0 row47\" >47</th>\n                        <td id=\"T_fe8f6143_cdcd_11ea_b7fa_7989de7c49bfrow47_col0\" class=\"data row47 col0\" >Bahrain</td>\n                        <td id=\"T_fe8f6143_cdcd_11ea_b7fa_7989de7c49bfrow47_col1\" class=\"data row47 col1\" >37996.000000</td>\n                        <td id=\"T_fe8f6143_cdcd_11ea_b7fa_7989de7c49bfrow47_col2\" class=\"data row47 col2\" >136.000000</td>\n                        <td id=\"T_fe8f6143_cdcd_11ea_b7fa_7989de7c49bfrow47_col3\" class=\"data row47 col3\" >34412.000000</td>\n                        <td id=\"T_fe8f6143_cdcd_11ea_b7fa_7989de7c49bfrow47_col4\" class=\"data row47 col4\" >3448.000000</td>\n            </tr>\n            <tr>\n                        <th id=\"T_fe8f6143_cdcd_11ea_b7fa_7989de7c49bflevel0_row48\" class=\"row_heading level0 row48\" >48</th>\n                        <td id=\"T_fe8f6143_cdcd_11ea_b7fa_7989de7c49bfrow48_col0\" class=\"data row48 col0\" >Honduras</td>\n                        <td id=\"T_fe8f6143_cdcd_11ea_b7fa_7989de7c49bfrow48_col1\" class=\"data row48 col1\" >36902.000000</td>\n                        <td id=\"T_fe8f6143_cdcd_11ea_b7fa_7989de7c49bfrow48_col2\" class=\"data row48 col2\" >1011.000000</td>\n                        <td id=\"T_fe8f6143_cdcd_11ea_b7fa_7989de7c49bfrow48_col3\" class=\"data row48 col3\" >4448.000000</td>\n                        <td id=\"T_fe8f6143_cdcd_11ea_b7fa_7989de7c49bfrow48_col4\" class=\"data row48 col4\" >31443.000000</td>\n            </tr>\n            <tr>\n                        <th id=\"T_fe8f6143_cdcd_11ea_b7fa_7989de7c49bflevel0_row49\" class=\"row_heading level0 row49\" >49</th>\n                        <td id=\"T_fe8f6143_cdcd_11ea_b7fa_7989de7c49bfrow49_col0\" class=\"data row49 col0\" >Armenia</td>\n                        <td id=\"T_fe8f6143_cdcd_11ea_b7fa_7989de7c49bfrow49_col1\" class=\"data row49 col1\" >36613.000000</td>\n                        <td id=\"T_fe8f6143_cdcd_11ea_b7fa_7989de7c49bfrow49_col2\" class=\"data row49 col2\" >692.000000</td>\n                        <td id=\"T_fe8f6143_cdcd_11ea_b7fa_7989de7c49bfrow49_col3\" class=\"data row49 col3\" >25734.000000</td>\n                        <td id=\"T_fe8f6143_cdcd_11ea_b7fa_7989de7c49bfrow49_col4\" class=\"data row49 col4\" >10187.000000</td>\n            </tr>\n            <tr>\n                        <th id=\"T_fe8f6143_cdcd_11ea_b7fa_7989de7c49bflevel0_row50\" class=\"row_heading level0 row50\" >50</th>\n                        <td id=\"T_fe8f6143_cdcd_11ea_b7fa_7989de7c49bfrow50_col0\" class=\"data row50 col0\" >Afghanistan</td>\n                        <td id=\"T_fe8f6143_cdcd_11ea_b7fa_7989de7c49bfrow50_col1\" class=\"data row50 col1\" >35981.000000</td>\n                        <td id=\"T_fe8f6143_cdcd_11ea_b7fa_7989de7c49bfrow50_col2\" class=\"data row50 col2\" >1225.000000</td>\n                        <td id=\"T_fe8f6143_cdcd_11ea_b7fa_7989de7c49bfrow50_col3\" class=\"data row50 col3\" >24602.000000</td>\n                        <td id=\"T_fe8f6143_cdcd_11ea_b7fa_7989de7c49bfrow50_col4\" class=\"data row50 col4\" >10154.000000</td>\n            </tr>\n            <tr>\n                        <th id=\"T_fe8f6143_cdcd_11ea_b7fa_7989de7c49bflevel0_row51\" class=\"row_heading level0 row51\" >51</th>\n                        <td id=\"T_fe8f6143_cdcd_11ea_b7fa_7989de7c49bfrow51_col0\" class=\"data row51 col0\" >Switzerland</td>\n                        <td id=\"T_fe8f6143_cdcd_11ea_b7fa_7989de7c49bfrow51_col1\" class=\"data row51 col1\" >34154.000000</td>\n                        <td id=\"T_fe8f6143_cdcd_11ea_b7fa_7989de7c49bfrow51_col2\" class=\"data row51 col2\" >1977.000000</td>\n                        <td id=\"T_fe8f6143_cdcd_11ea_b7fa_7989de7c49bfrow51_col3\" class=\"data row51 col3\" >30500.000000</td>\n                        <td id=\"T_fe8f6143_cdcd_11ea_b7fa_7989de7c49bfrow51_col4\" class=\"data row51 col4\" >1677.000000</td>\n            </tr>\n            <tr>\n                        <th id=\"T_fe8f6143_cdcd_11ea_b7fa_7989de7c49bflevel0_row52\" class=\"row_heading level0 row52\" >52</th>\n                        <td id=\"T_fe8f6143_cdcd_11ea_b7fa_7989de7c49bfrow52_col0\" class=\"data row52 col0\" >Kyrgyzstan</td>\n                        <td id=\"T_fe8f6143_cdcd_11ea_b7fa_7989de7c49bfrow52_col1\" class=\"data row52 col1\" >31247.000000</td>\n                        <td id=\"T_fe8f6143_cdcd_11ea_b7fa_7989de7c49bfrow52_col2\" class=\"data row52 col2\" >1211.000000</td>\n                        <td id=\"T_fe8f6143_cdcd_11ea_b7fa_7989de7c49bfrow52_col3\" class=\"data row52 col3\" >18038.000000</td>\n                        <td id=\"T_fe8f6143_cdcd_11ea_b7fa_7989de7c49bfrow52_col4\" class=\"data row52 col4\" >11998.000000</td>\n            </tr>\n            <tr>\n                        <th id=\"T_fe8f6143_cdcd_11ea_b7fa_7989de7c49bflevel0_row53\" class=\"row_heading level0 row53\" >53</th>\n                        <td id=\"T_fe8f6143_cdcd_11ea_b7fa_7989de7c49bfrow53_col0\" class=\"data row53 col0\" >Ghana</td>\n                        <td id=\"T_fe8f6143_cdcd_11ea_b7fa_7989de7c49bfrow53_col1\" class=\"data row53 col1\" >30366.000000</td>\n                        <td id=\"T_fe8f6143_cdcd_11ea_b7fa_7989de7c49bfrow53_col2\" class=\"data row53 col2\" >153.000000</td>\n                        <td id=\"T_fe8f6143_cdcd_11ea_b7fa_7989de7c49bfrow53_col3\" class=\"data row53 col3\" >26687.000000</td>\n                        <td id=\"T_fe8f6143_cdcd_11ea_b7fa_7989de7c49bfrow53_col4\" class=\"data row53 col4\" >3526.000000</td>\n            </tr>\n            <tr>\n                        <th id=\"T_fe8f6143_cdcd_11ea_b7fa_7989de7c49bflevel0_row54\" class=\"row_heading level0 row54\" >54</th>\n                        <td id=\"T_fe8f6143_cdcd_11ea_b7fa_7989de7c49bfrow54_col0\" class=\"data row54 col0\" >Azerbaijan</td>\n                        <td id=\"T_fe8f6143_cdcd_11ea_b7fa_7989de7c49bfrow54_col1\" class=\"data row54 col1\" >29312.000000</td>\n                        <td id=\"T_fe8f6143_cdcd_11ea_b7fa_7989de7c49bfrow54_col2\" class=\"data row54 col2\" >400.000000</td>\n                        <td id=\"T_fe8f6143_cdcd_11ea_b7fa_7989de7c49bfrow54_col3\" class=\"data row54 col3\" >21547.000000</td>\n                        <td id=\"T_fe8f6143_cdcd_11ea_b7fa_7989de7c49bfrow54_col4\" class=\"data row54 col4\" >7365.000000</td>\n            </tr>\n            <tr>\n                        <th id=\"T_fe8f6143_cdcd_11ea_b7fa_7989de7c49bflevel0_row55\" class=\"row_heading level0 row55\" >55</th>\n                        <td id=\"T_fe8f6143_cdcd_11ea_b7fa_7989de7c49bfrow55_col0\" class=\"data row55 col0\" >Japan</td>\n                        <td id=\"T_fe8f6143_cdcd_11ea_b7fa_7989de7c49bfrow55_col1\" class=\"data row55 col1\" >28874.000000</td>\n                        <td id=\"T_fe8f6143_cdcd_11ea_b7fa_7989de7c49bfrow55_col2\" class=\"data row55 col2\" >994.000000</td>\n                        <td id=\"T_fe8f6143_cdcd_11ea_b7fa_7989de7c49bfrow55_col3\" class=\"data row55 col3\" >21173.000000</td>\n                        <td id=\"T_fe8f6143_cdcd_11ea_b7fa_7989de7c49bfrow55_col4\" class=\"data row55 col4\" >6707.000000</td>\n            </tr>\n            <tr>\n                        <th id=\"T_fe8f6143_cdcd_11ea_b7fa_7989de7c49bflevel0_row56\" class=\"row_heading level0 row56\" >56</th>\n                        <td id=\"T_fe8f6143_cdcd_11ea_b7fa_7989de7c49bfrow56_col0\" class=\"data row56 col0\" >Algeria</td>\n                        <td id=\"T_fe8f6143_cdcd_11ea_b7fa_7989de7c49bfrow56_col1\" class=\"data row56 col1\" >26159.000000</td>\n                        <td id=\"T_fe8f6143_cdcd_11ea_b7fa_7989de7c49bfrow56_col2\" class=\"data row56 col2\" >1136.000000</td>\n                        <td id=\"T_fe8f6143_cdcd_11ea_b7fa_7989de7c49bfrow56_col3\" class=\"data row56 col3\" >17369.000000</td>\n                        <td id=\"T_fe8f6143_cdcd_11ea_b7fa_7989de7c49bfrow56_col4\" class=\"data row56 col4\" >7654.000000</td>\n            </tr>\n            <tr>\n                        <th id=\"T_fe8f6143_cdcd_11ea_b7fa_7989de7c49bflevel0_row57\" class=\"row_heading level0 row57\" >57</th>\n                        <td id=\"T_fe8f6143_cdcd_11ea_b7fa_7989de7c49bfrow57_col0\" class=\"data row57 col0\" >Ireland</td>\n                        <td id=\"T_fe8f6143_cdcd_11ea_b7fa_7989de7c49bfrow57_col1\" class=\"data row57 col1\" >25826.000000</td>\n                        <td id=\"T_fe8f6143_cdcd_11ea_b7fa_7989de7c49bfrow57_col2\" class=\"data row57 col2\" >1763.000000</td>\n                        <td id=\"T_fe8f6143_cdcd_11ea_b7fa_7989de7c49bfrow57_col3\" class=\"data row57 col3\" >23364.000000</td>\n                        <td id=\"T_fe8f6143_cdcd_11ea_b7fa_7989de7c49bfrow57_col4\" class=\"data row57 col4\" >699.000000</td>\n            </tr>\n            <tr>\n                        <th id=\"T_fe8f6143_cdcd_11ea_b7fa_7989de7c49bflevel0_row58\" class=\"row_heading level0 row58\" >58</th>\n                        <td id=\"T_fe8f6143_cdcd_11ea_b7fa_7989de7c49bfrow58_col0\" class=\"data row58 col0\" >Serbia</td>\n                        <td id=\"T_fe8f6143_cdcd_11ea_b7fa_7989de7c49bfrow58_col1\" class=\"data row58 col1\" >22852.000000</td>\n                        <td id=\"T_fe8f6143_cdcd_11ea_b7fa_7989de7c49bfrow58_col2\" class=\"data row58 col2\" >518.000000</td>\n                        <td id=\"T_fe8f6143_cdcd_11ea_b7fa_7989de7c49bfrow58_col3\" class=\"data row58 col3\" >nan</td>\n                        <td id=\"T_fe8f6143_cdcd_11ea_b7fa_7989de7c49bfrow58_col4\" class=\"data row58 col4\" >22334.000000</td>\n            </tr>\n            <tr>\n                        <th id=\"T_fe8f6143_cdcd_11ea_b7fa_7989de7c49bflevel0_row59\" class=\"row_heading level0 row59\" >59</th>\n                        <td id=\"T_fe8f6143_cdcd_11ea_b7fa_7989de7c49bfrow59_col0\" class=\"data row59 col0\" >Moldova</td>\n                        <td id=\"T_fe8f6143_cdcd_11ea_b7fa_7989de7c49bfrow59_col1\" class=\"data row59 col1\" >22483.000000</td>\n                        <td id=\"T_fe8f6143_cdcd_11ea_b7fa_7989de7c49bfrow59_col2\" class=\"data row59 col2\" >726.000000</td>\n                        <td id=\"T_fe8f6143_cdcd_11ea_b7fa_7989de7c49bfrow59_col3\" class=\"data row59 col3\" >15407.000000</td>\n                        <td id=\"T_fe8f6143_cdcd_11ea_b7fa_7989de7c49bfrow59_col4\" class=\"data row59 col4\" >6350.000000</td>\n            </tr>\n            <tr>\n                        <th id=\"T_fe8f6143_cdcd_11ea_b7fa_7989de7c49bflevel0_row60\" class=\"row_heading level0 row60\" >60</th>\n                        <td id=\"T_fe8f6143_cdcd_11ea_b7fa_7989de7c49bfrow60_col0\" class=\"data row60 col0\" >Austria</td>\n                        <td id=\"T_fe8f6143_cdcd_11ea_b7fa_7989de7c49bfrow60_col1\" class=\"data row60 col1\" >20214.000000</td>\n                        <td id=\"T_fe8f6143_cdcd_11ea_b7fa_7989de7c49bfrow60_col2\" class=\"data row60 col2\" >711.000000</td>\n                        <td id=\"T_fe8f6143_cdcd_11ea_b7fa_7989de7c49bfrow60_col3\" class=\"data row60 col3\" >18042.000000</td>\n                        <td id=\"T_fe8f6143_cdcd_11ea_b7fa_7989de7c49bfrow60_col4\" class=\"data row60 col4\" >1461.000000</td>\n            </tr>\n            <tr>\n                        <th id=\"T_fe8f6143_cdcd_11ea_b7fa_7989de7c49bflevel0_row61\" class=\"row_heading level0 row61\" >61</th>\n                        <td id=\"T_fe8f6143_cdcd_11ea_b7fa_7989de7c49bfrow61_col0\" class=\"data row61 col0\" >Uzbekistan</td>\n                        <td id=\"T_fe8f6143_cdcd_11ea_b7fa_7989de7c49bfrow61_col1\" class=\"data row61 col1\" >18986.000000</td>\n                        <td id=\"T_fe8f6143_cdcd_11ea_b7fa_7989de7c49bfrow61_col2\" class=\"data row61 col2\" >103.000000</td>\n                        <td id=\"T_fe8f6143_cdcd_11ea_b7fa_7989de7c49bfrow61_col3\" class=\"data row61 col3\" >10149.000000</td>\n                        <td id=\"T_fe8f6143_cdcd_11ea_b7fa_7989de7c49bfrow61_col4\" class=\"data row61 col4\" >8734.000000</td>\n            </tr>\n            <tr>\n                        <th id=\"T_fe8f6143_cdcd_11ea_b7fa_7989de7c49bflevel0_row62\" class=\"row_heading level0 row62\" >62</th>\n                        <td id=\"T_fe8f6143_cdcd_11ea_b7fa_7989de7c49bfrow62_col0\" class=\"data row62 col0\" >Nepal</td>\n                        <td id=\"T_fe8f6143_cdcd_11ea_b7fa_7989de7c49bfrow62_col1\" class=\"data row62 col1\" >18374.000000</td>\n                        <td id=\"T_fe8f6143_cdcd_11ea_b7fa_7989de7c49bfrow62_col2\" class=\"data row62 col2\" >44.000000</td>\n                        <td id=\"T_fe8f6143_cdcd_11ea_b7fa_7989de7c49bfrow62_col3\" class=\"data row62 col3\" >12947.000000</td>\n                        <td id=\"T_fe8f6143_cdcd_11ea_b7fa_7989de7c49bfrow62_col4\" class=\"data row62 col4\" >5383.000000</td>\n            </tr>\n            <tr>\n                        <th id=\"T_fe8f6143_cdcd_11ea_b7fa_7989de7c49bflevel0_row63\" class=\"row_heading level0 row63\" >63</th>\n                        <td id=\"T_fe8f6143_cdcd_11ea_b7fa_7989de7c49bfrow63_col0\" class=\"data row63 col0\" >Morocco</td>\n                        <td id=\"T_fe8f6143_cdcd_11ea_b7fa_7989de7c49bfrow63_col1\" class=\"data row63 col1\" >18264.000000</td>\n                        <td id=\"T_fe8f6143_cdcd_11ea_b7fa_7989de7c49bfrow63_col2\" class=\"data row63 col2\" >292.000000</td>\n                        <td id=\"T_fe8f6143_cdcd_11ea_b7fa_7989de7c49bfrow63_col3\" class=\"data row63 col3\" >15872.000000</td>\n                        <td id=\"T_fe8f6143_cdcd_11ea_b7fa_7989de7c49bfrow63_col4\" class=\"data row63 col4\" >2100.000000</td>\n            </tr>\n            <tr>\n                        <th id=\"T_fe8f6143_cdcd_11ea_b7fa_7989de7c49bflevel0_row64\" class=\"row_heading level0 row64\" >64</th>\n                        <td id=\"T_fe8f6143_cdcd_11ea_b7fa_7989de7c49bfrow64_col0\" class=\"data row64 col0\" >Cameroon</td>\n                        <td id=\"T_fe8f6143_cdcd_11ea_b7fa_7989de7c49bfrow64_col1\" class=\"data row64 col1\" >16708.000000</td>\n                        <td id=\"T_fe8f6143_cdcd_11ea_b7fa_7989de7c49bfrow64_col2\" class=\"data row64 col2\" >385.000000</td>\n                        <td id=\"T_fe8f6143_cdcd_11ea_b7fa_7989de7c49bfrow64_col3\" class=\"data row64 col3\" >14539.000000</td>\n                        <td id=\"T_fe8f6143_cdcd_11ea_b7fa_7989de7c49bfrow64_col4\" class=\"data row64 col4\" >1784.000000</td>\n            </tr>\n            <tr>\n                        <th id=\"T_fe8f6143_cdcd_11ea_b7fa_7989de7c49bflevel0_row65\" class=\"row_heading level0 row65\" >65</th>\n                        <td id=\"T_fe8f6143_cdcd_11ea_b7fa_7989de7c49bfrow65_col0\" class=\"data row65 col0\" >Kenya</td>\n                        <td id=\"T_fe8f6143_cdcd_11ea_b7fa_7989de7c49bfrow65_col1\" class=\"data row65 col1\" >15601.000000</td>\n                        <td id=\"T_fe8f6143_cdcd_11ea_b7fa_7989de7c49bfrow65_col2\" class=\"data row65 col2\" >263.000000</td>\n                        <td id=\"T_fe8f6143_cdcd_11ea_b7fa_7989de7c49bfrow65_col3\" class=\"data row65 col3\" >7135.000000</td>\n                        <td id=\"T_fe8f6143_cdcd_11ea_b7fa_7989de7c49bfrow65_col4\" class=\"data row65 col4\" >8203.000000</td>\n            </tr>\n            <tr>\n                        <th id=\"T_fe8f6143_cdcd_11ea_b7fa_7989de7c49bflevel0_row66\" class=\"row_heading level0 row66\" >66</th>\n                        <td id=\"T_fe8f6143_cdcd_11ea_b7fa_7989de7c49bfrow66_col0\" class=\"data row66 col0\" >Cote d'Ivoire</td>\n                        <td id=\"T_fe8f6143_cdcd_11ea_b7fa_7989de7c49bfrow66_col1\" class=\"data row66 col1\" >15001.000000</td>\n                        <td id=\"T_fe8f6143_cdcd_11ea_b7fa_7989de7c49bfrow66_col2\" class=\"data row66 col2\" >93.000000</td>\n                        <td id=\"T_fe8f6143_cdcd_11ea_b7fa_7989de7c49bfrow66_col3\" class=\"data row66 col3\" >9282.000000</td>\n                        <td id=\"T_fe8f6143_cdcd_11ea_b7fa_7989de7c49bfrow66_col4\" class=\"data row66 col4\" >5626.000000</td>\n            </tr>\n            <tr>\n                        <th id=\"T_fe8f6143_cdcd_11ea_b7fa_7989de7c49bflevel0_row67\" class=\"row_heading level0 row67\" >67</th>\n                        <td id=\"T_fe8f6143_cdcd_11ea_b7fa_7989de7c49bfrow67_col0\" class=\"data row67 col0\" >Czechia</td>\n                        <td id=\"T_fe8f6143_cdcd_11ea_b7fa_7989de7c49bfrow67_col1\" class=\"data row67 col1\" >14924.000000</td>\n                        <td id=\"T_fe8f6143_cdcd_11ea_b7fa_7989de7c49bfrow67_col2\" class=\"data row67 col2\" >368.000000</td>\n                        <td id=\"T_fe8f6143_cdcd_11ea_b7fa_7989de7c49bfrow67_col3\" class=\"data row67 col3\" >9402.000000</td>\n                        <td id=\"T_fe8f6143_cdcd_11ea_b7fa_7989de7c49bfrow67_col4\" class=\"data row67 col4\" >5154.000000</td>\n            </tr>\n            <tr>\n                        <th id=\"T_fe8f6143_cdcd_11ea_b7fa_7989de7c49bflevel0_row68\" class=\"row_heading level0 row68\" >68</th>\n                        <td id=\"T_fe8f6143_cdcd_11ea_b7fa_7989de7c49bfrow68_col0\" class=\"data row68 col0\" >Korea, South</td>\n                        <td id=\"T_fe8f6143_cdcd_11ea_b7fa_7989de7c49bfrow68_col1\" class=\"data row68 col1\" >13979.000000</td>\n                        <td id=\"T_fe8f6143_cdcd_11ea_b7fa_7989de7c49bfrow68_col2\" class=\"data row68 col2\" >298.000000</td>\n                        <td id=\"T_fe8f6143_cdcd_11ea_b7fa_7989de7c49bfrow68_col3\" class=\"data row68 col3\" >12817.000000</td>\n                        <td id=\"T_fe8f6143_cdcd_11ea_b7fa_7989de7c49bfrow68_col4\" class=\"data row68 col4\" >864.000000</td>\n            </tr>\n            <tr>\n                        <th id=\"T_fe8f6143_cdcd_11ea_b7fa_7989de7c49bflevel0_row69\" class=\"row_heading level0 row69\" >69</th>\n                        <td id=\"T_fe8f6143_cdcd_11ea_b7fa_7989de7c49bfrow69_col0\" class=\"data row69 col0\" >El Salvador</td>\n                        <td id=\"T_fe8f6143_cdcd_11ea_b7fa_7989de7c49bfrow69_col1\" class=\"data row69 col1\" >13792.000000</td>\n                        <td id=\"T_fe8f6143_cdcd_11ea_b7fa_7989de7c49bfrow69_col2\" class=\"data row69 col2\" >379.000000</td>\n                        <td id=\"T_fe8f6143_cdcd_11ea_b7fa_7989de7c49bfrow69_col3\" class=\"data row69 col3\" >7415.000000</td>\n                        <td id=\"T_fe8f6143_cdcd_11ea_b7fa_7989de7c49bfrow69_col4\" class=\"data row69 col4\" >5998.000000</td>\n            </tr>\n            <tr>\n                        <th id=\"T_fe8f6143_cdcd_11ea_b7fa_7989de7c49bflevel0_row70\" class=\"row_heading level0 row70\" >70</th>\n                        <td id=\"T_fe8f6143_cdcd_11ea_b7fa_7989de7c49bfrow70_col0\" class=\"data row70 col0\" >Denmark</td>\n                        <td id=\"T_fe8f6143_cdcd_11ea_b7fa_7989de7c49bfrow70_col1\" class=\"data row70 col1\" >13642.000000</td>\n                        <td id=\"T_fe8f6143_cdcd_11ea_b7fa_7989de7c49bfrow70_col2\" class=\"data row70 col2\" >613.000000</td>\n                        <td id=\"T_fe8f6143_cdcd_11ea_b7fa_7989de7c49bfrow70_col3\" class=\"data row70 col3\" >12541.000000</td>\n                        <td id=\"T_fe8f6143_cdcd_11ea_b7fa_7989de7c49bfrow70_col4\" class=\"data row70 col4\" >488.000000</td>\n            </tr>\n            <tr>\n                        <th id=\"T_fe8f6143_cdcd_11ea_b7fa_7989de7c49bflevel0_row71\" class=\"row_heading level0 row71\" >71</th>\n                        <td id=\"T_fe8f6143_cdcd_11ea_b7fa_7989de7c49bfrow71_col0\" class=\"data row71 col0\" >Venezuela</td>\n                        <td id=\"T_fe8f6143_cdcd_11ea_b7fa_7989de7c49bfrow71_col1\" class=\"data row71 col1\" >13613.000000</td>\n                        <td id=\"T_fe8f6143_cdcd_11ea_b7fa_7989de7c49bfrow71_col2\" class=\"data row71 col2\" >129.000000</td>\n                        <td id=\"T_fe8f6143_cdcd_11ea_b7fa_7989de7c49bfrow71_col3\" class=\"data row71 col3\" >7752.000000</td>\n                        <td id=\"T_fe8f6143_cdcd_11ea_b7fa_7989de7c49bfrow71_col4\" class=\"data row71 col4\" >5732.000000</td>\n            </tr>\n            <tr>\n                        <th id=\"T_fe8f6143_cdcd_11ea_b7fa_7989de7c49bflevel0_row72\" class=\"row_heading level0 row72\" >72</th>\n                        <td id=\"T_fe8f6143_cdcd_11ea_b7fa_7989de7c49bfrow72_col0\" class=\"data row72 col0\" >Australia</td>\n                        <td id=\"T_fe8f6143_cdcd_11ea_b7fa_7989de7c49bfrow72_col1\" class=\"data row72 col1\" >13595.000000</td>\n                        <td id=\"T_fe8f6143_cdcd_11ea_b7fa_7989de7c49bfrow72_col2\" class=\"data row72 col2\" >140.000000</td>\n                        <td id=\"T_fe8f6143_cdcd_11ea_b7fa_7989de7c49bfrow72_col3\" class=\"data row72 col3\" >8929.000000</td>\n                        <td id=\"T_fe8f6143_cdcd_11ea_b7fa_7989de7c49bfrow72_col4\" class=\"data row72 col4\" >4526.000000</td>\n            </tr>\n            <tr>\n                        <th id=\"T_fe8f6143_cdcd_11ea_b7fa_7989de7c49bflevel0_row73\" class=\"row_heading level0 row73\" >73</th>\n                        <td id=\"T_fe8f6143_cdcd_11ea_b7fa_7989de7c49bfrow73_col0\" class=\"data row73 col0\" >Costa Rica</td>\n                        <td id=\"T_fe8f6143_cdcd_11ea_b7fa_7989de7c49bfrow73_col1\" class=\"data row73 col1\" >13129.000000</td>\n                        <td id=\"T_fe8f6143_cdcd_11ea_b7fa_7989de7c49bfrow73_col2\" class=\"data row73 col2\" >80.000000</td>\n                        <td id=\"T_fe8f6143_cdcd_11ea_b7fa_7989de7c49bfrow73_col3\" class=\"data row73 col3\" >3448.000000</td>\n                        <td id=\"T_fe8f6143_cdcd_11ea_b7fa_7989de7c49bfrow73_col4\" class=\"data row73 col4\" >9601.000000</td>\n            </tr>\n            <tr>\n                        <th id=\"T_fe8f6143_cdcd_11ea_b7fa_7989de7c49bflevel0_row74\" class=\"row_heading level0 row74\" >74</th>\n                        <td id=\"T_fe8f6143_cdcd_11ea_b7fa_7989de7c49bfrow74_col0\" class=\"data row74 col0\" >Ethiopia</td>\n                        <td id=\"T_fe8f6143_cdcd_11ea_b7fa_7989de7c49bfrow74_col1\" class=\"data row74 col1\" >12693.000000</td>\n                        <td id=\"T_fe8f6143_cdcd_11ea_b7fa_7989de7c49bfrow74_col2\" class=\"data row74 col2\" >200.000000</td>\n                        <td id=\"T_fe8f6143_cdcd_11ea_b7fa_7989de7c49bfrow74_col3\" class=\"data row74 col3\" >5785.000000</td>\n                        <td id=\"T_fe8f6143_cdcd_11ea_b7fa_7989de7c49bfrow74_col4\" class=\"data row74 col4\" >6708.000000</td>\n            </tr>\n            <tr>\n                        <th id=\"T_fe8f6143_cdcd_11ea_b7fa_7989de7c49bflevel0_row75\" class=\"row_heading level0 row75\" >75</th>\n                        <td id=\"T_fe8f6143_cdcd_11ea_b7fa_7989de7c49bfrow75_col0\" class=\"data row75 col0\" >Sudan</td>\n                        <td id=\"T_fe8f6143_cdcd_11ea_b7fa_7989de7c49bfrow75_col1\" class=\"data row75 col1\" >11302.000000</td>\n                        <td id=\"T_fe8f6143_cdcd_11ea_b7fa_7989de7c49bfrow75_col2\" class=\"data row75 col2\" >715.000000</td>\n                        <td id=\"T_fe8f6143_cdcd_11ea_b7fa_7989de7c49bfrow75_col3\" class=\"data row75 col3\" >5855.000000</td>\n                        <td id=\"T_fe8f6143_cdcd_11ea_b7fa_7989de7c49bfrow75_col4\" class=\"data row75 col4\" >4732.000000</td>\n            </tr>\n            <tr>\n                        <th id=\"T_fe8f6143_cdcd_11ea_b7fa_7989de7c49bflevel0_row76\" class=\"row_heading level0 row76\" >76</th>\n                        <td id=\"T_fe8f6143_cdcd_11ea_b7fa_7989de7c49bfrow76_col0\" class=\"data row76 col0\" >West Bank and Gaza</td>\n                        <td id=\"T_fe8f6143_cdcd_11ea_b7fa_7989de7c49bfrow76_col1\" class=\"data row76 col1\" >10093.000000</td>\n                        <td id=\"T_fe8f6143_cdcd_11ea_b7fa_7989de7c49bfrow76_col2\" class=\"data row76 col2\" >70.000000</td>\n                        <td id=\"T_fe8f6143_cdcd_11ea_b7fa_7989de7c49bfrow76_col3\" class=\"data row76 col3\" >2720.000000</td>\n                        <td id=\"T_fe8f6143_cdcd_11ea_b7fa_7989de7c49bfrow76_col4\" class=\"data row76 col4\" >7303.000000</td>\n            </tr>\n            <tr>\n                        <th id=\"T_fe8f6143_cdcd_11ea_b7fa_7989de7c49bflevel0_row77\" class=\"row_heading level0 row77\" >77</th>\n                        <td id=\"T_fe8f6143_cdcd_11ea_b7fa_7989de7c49bfrow77_col0\" class=\"data row77 col0\" >Bulgaria</td>\n                        <td id=\"T_fe8f6143_cdcd_11ea_b7fa_7989de7c49bfrow77_col1\" class=\"data row77 col1\" >9853.000000</td>\n                        <td id=\"T_fe8f6143_cdcd_11ea_b7fa_7989de7c49bfrow77_col2\" class=\"data row77 col2\" >329.000000</td>\n                        <td id=\"T_fe8f6143_cdcd_11ea_b7fa_7989de7c49bfrow77_col3\" class=\"data row77 col3\" >5031.000000</td>\n                        <td id=\"T_fe8f6143_cdcd_11ea_b7fa_7989de7c49bfrow77_col4\" class=\"data row77 col4\" >4493.000000</td>\n            </tr>\n            <tr>\n                        <th id=\"T_fe8f6143_cdcd_11ea_b7fa_7989de7c49bflevel0_row78\" class=\"row_heading level0 row78\" >78</th>\n                        <td id=\"T_fe8f6143_cdcd_11ea_b7fa_7989de7c49bfrow78_col0\" class=\"data row78 col0\" >North Macedonia</td>\n                        <td id=\"T_fe8f6143_cdcd_11ea_b7fa_7989de7c49bfrow78_col1\" class=\"data row78 col1\" >9797.000000</td>\n                        <td id=\"T_fe8f6143_cdcd_11ea_b7fa_7989de7c49bfrow78_col2\" class=\"data row78 col2\" >451.000000</td>\n                        <td id=\"T_fe8f6143_cdcd_11ea_b7fa_7989de7c49bfrow78_col3\" class=\"data row78 col3\" >5254.000000</td>\n                        <td id=\"T_fe8f6143_cdcd_11ea_b7fa_7989de7c49bfrow78_col4\" class=\"data row78 col4\" >4092.000000</td>\n            </tr>\n            <tr>\n                        <th id=\"T_fe8f6143_cdcd_11ea_b7fa_7989de7c49bflevel0_row79\" class=\"row_heading level0 row79\" >79</th>\n                        <td id=\"T_fe8f6143_cdcd_11ea_b7fa_7989de7c49bfrow79_col0\" class=\"data row79 col0\" >Bosnia and Herzegovina</td>\n                        <td id=\"T_fe8f6143_cdcd_11ea_b7fa_7989de7c49bfrow79_col1\" class=\"data row79 col1\" >9767.000000</td>\n                        <td id=\"T_fe8f6143_cdcd_11ea_b7fa_7989de7c49bfrow79_col2\" class=\"data row79 col2\" >280.000000</td>\n                        <td id=\"T_fe8f6143_cdcd_11ea_b7fa_7989de7c49bfrow79_col3\" class=\"data row79 col3\" >4555.000000</td>\n                        <td id=\"T_fe8f6143_cdcd_11ea_b7fa_7989de7c49bfrow79_col4\" class=\"data row79 col4\" >4932.000000</td>\n            </tr>\n            <tr>\n                        <th id=\"T_fe8f6143_cdcd_11ea_b7fa_7989de7c49bflevel0_row80\" class=\"row_heading level0 row80\" >80</th>\n                        <td id=\"T_fe8f6143_cdcd_11ea_b7fa_7989de7c49bfrow80_col0\" class=\"data row80 col0\" >Senegal</td>\n                        <td id=\"T_fe8f6143_cdcd_11ea_b7fa_7989de7c49bfrow80_col1\" class=\"data row80 col1\" >9422.000000</td>\n                        <td id=\"T_fe8f6143_cdcd_11ea_b7fa_7989de7c49bfrow80_col2\" class=\"data row80 col2\" >182.000000</td>\n                        <td id=\"T_fe8f6143_cdcd_11ea_b7fa_7989de7c49bfrow80_col3\" class=\"data row80 col3\" >6291.000000</td>\n                        <td id=\"T_fe8f6143_cdcd_11ea_b7fa_7989de7c49bfrow80_col4\" class=\"data row80 col4\" >2949.000000</td>\n            </tr>\n            <tr>\n                        <th id=\"T_fe8f6143_cdcd_11ea_b7fa_7989de7c49bflevel0_row81\" class=\"row_heading level0 row81\" >81</th>\n                        <td id=\"T_fe8f6143_cdcd_11ea_b7fa_7989de7c49bfrow81_col0\" class=\"data row81 col0\" >Norway</td>\n                        <td id=\"T_fe8f6143_cdcd_11ea_b7fa_7989de7c49bfrow81_col1\" class=\"data row81 col1\" >9088.000000</td>\n                        <td id=\"T_fe8f6143_cdcd_11ea_b7fa_7989de7c49bfrow81_col2\" class=\"data row81 col2\" >255.000000</td>\n                        <td id=\"T_fe8f6143_cdcd_11ea_b7fa_7989de7c49bfrow81_col3\" class=\"data row81 col3\" >8674.000000</td>\n                        <td id=\"T_fe8f6143_cdcd_11ea_b7fa_7989de7c49bfrow81_col4\" class=\"data row81 col4\" >159.000000</td>\n            </tr>\n            <tr>\n                        <th id=\"T_fe8f6143_cdcd_11ea_b7fa_7989de7c49bflevel0_row82\" class=\"row_heading level0 row82\" >82</th>\n                        <td id=\"T_fe8f6143_cdcd_11ea_b7fa_7989de7c49bfrow82_col0\" class=\"data row82 col0\" >Malaysia</td>\n                        <td id=\"T_fe8f6143_cdcd_11ea_b7fa_7989de7c49bfrow82_col1\" class=\"data row82 col1\" >8861.000000</td>\n                        <td id=\"T_fe8f6143_cdcd_11ea_b7fa_7989de7c49bfrow82_col2\" class=\"data row82 col2\" >123.000000</td>\n                        <td id=\"T_fe8f6143_cdcd_11ea_b7fa_7989de7c49bfrow82_col3\" class=\"data row82 col3\" >8577.000000</td>\n                        <td id=\"T_fe8f6143_cdcd_11ea_b7fa_7989de7c49bfrow82_col4\" class=\"data row82 col4\" >161.000000</td>\n            </tr>\n            <tr>\n                        <th id=\"T_fe8f6143_cdcd_11ea_b7fa_7989de7c49bflevel0_row83\" class=\"row_heading level0 row83\" >83</th>\n                        <td id=\"T_fe8f6143_cdcd_11ea_b7fa_7989de7c49bfrow83_col0\" class=\"data row83 col0\" >Congo (Kinshasa)</td>\n                        <td id=\"T_fe8f6143_cdcd_11ea_b7fa_7989de7c49bfrow83_col1\" class=\"data row83 col1\" >8767.000000</td>\n                        <td id=\"T_fe8f6143_cdcd_11ea_b7fa_7989de7c49bfrow83_col2\" class=\"data row83 col2\" >201.000000</td>\n                        <td id=\"T_fe8f6143_cdcd_11ea_b7fa_7989de7c49bfrow83_col3\" class=\"data row83 col3\" >5109.000000</td>\n                        <td id=\"T_fe8f6143_cdcd_11ea_b7fa_7989de7c49bfrow83_col4\" class=\"data row83 col4\" >3457.000000</td>\n            </tr>\n            <tr>\n                        <th id=\"T_fe8f6143_cdcd_11ea_b7fa_7989de7c49bflevel0_row84\" class=\"row_heading level0 row84\" >84</th>\n                        <td id=\"T_fe8f6143_cdcd_11ea_b7fa_7989de7c49bfrow84_col0\" class=\"data row84 col0\" >Madagascar</td>\n                        <td id=\"T_fe8f6143_cdcd_11ea_b7fa_7989de7c49bfrow84_col1\" class=\"data row84 col1\" >8741.000000</td>\n                        <td id=\"T_fe8f6143_cdcd_11ea_b7fa_7989de7c49bfrow84_col2\" class=\"data row84 col2\" >76.000000</td>\n                        <td id=\"T_fe8f6143_cdcd_11ea_b7fa_7989de7c49bfrow84_col3\" class=\"data row84 col3\" >5522.000000</td>\n                        <td id=\"T_fe8f6143_cdcd_11ea_b7fa_7989de7c49bfrow84_col4\" class=\"data row84 col4\" >3143.000000</td>\n            </tr>\n            <tr>\n                        <th id=\"T_fe8f6143_cdcd_11ea_b7fa_7989de7c49bflevel0_row85\" class=\"row_heading level0 row85\" >85</th>\n                        <td id=\"T_fe8f6143_cdcd_11ea_b7fa_7989de7c49bfrow85_col0\" class=\"data row85 col0\" >Finland</td>\n                        <td id=\"T_fe8f6143_cdcd_11ea_b7fa_7989de7c49bfrow85_col1\" class=\"data row85 col1\" >7380.000000</td>\n                        <td id=\"T_fe8f6143_cdcd_11ea_b7fa_7989de7c49bfrow85_col2\" class=\"data row85 col2\" >329.000000</td>\n                        <td id=\"T_fe8f6143_cdcd_11ea_b7fa_7989de7c49bfrow85_col3\" class=\"data row85 col3\" >6920.000000</td>\n                        <td id=\"T_fe8f6143_cdcd_11ea_b7fa_7989de7c49bfrow85_col4\" class=\"data row85 col4\" >131.000000</td>\n            </tr>\n            <tr>\n                        <th id=\"T_fe8f6143_cdcd_11ea_b7fa_7989de7c49bflevel0_row86\" class=\"row_heading level0 row86\" >86</th>\n                        <td id=\"T_fe8f6143_cdcd_11ea_b7fa_7989de7c49bfrow86_col0\" class=\"data row86 col0\" >Haiti</td>\n                        <td id=\"T_fe8f6143_cdcd_11ea_b7fa_7989de7c49bfrow86_col1\" class=\"data row86 col1\" >7197.000000</td>\n                        <td id=\"T_fe8f6143_cdcd_11ea_b7fa_7989de7c49bfrow86_col2\" class=\"data row86 col2\" >154.000000</td>\n                        <td id=\"T_fe8f6143_cdcd_11ea_b7fa_7989de7c49bfrow86_col3\" class=\"data row86 col3\" >4236.000000</td>\n                        <td id=\"T_fe8f6143_cdcd_11ea_b7fa_7989de7c49bfrow86_col4\" class=\"data row86 col4\" >2807.000000</td>\n            </tr>\n            <tr>\n                        <th id=\"T_fe8f6143_cdcd_11ea_b7fa_7989de7c49bflevel0_row87\" class=\"row_heading level0 row87\" >87</th>\n                        <td id=\"T_fe8f6143_cdcd_11ea_b7fa_7989de7c49bfrow87_col0\" class=\"data row87 col0\" >Tajikistan</td>\n                        <td id=\"T_fe8f6143_cdcd_11ea_b7fa_7989de7c49bfrow87_col1\" class=\"data row87 col1\" >7104.000000</td>\n                        <td id=\"T_fe8f6143_cdcd_11ea_b7fa_7989de7c49bfrow87_col2\" class=\"data row87 col2\" >58.000000</td>\n                        <td id=\"T_fe8f6143_cdcd_11ea_b7fa_7989de7c49bfrow87_col3\" class=\"data row87 col3\" >5851.000000</td>\n                        <td id=\"T_fe8f6143_cdcd_11ea_b7fa_7989de7c49bfrow87_col4\" class=\"data row87 col4\" >1195.000000</td>\n            </tr>\n            <tr>\n                        <th id=\"T_fe8f6143_cdcd_11ea_b7fa_7989de7c49bflevel0_row88\" class=\"row_heading level0 row88\" >88</th>\n                        <td id=\"T_fe8f6143_cdcd_11ea_b7fa_7989de7c49bfrow88_col0\" class=\"data row88 col0\" >Guinea</td>\n                        <td id=\"T_fe8f6143_cdcd_11ea_b7fa_7989de7c49bfrow88_col1\" class=\"data row88 col1\" >6806.000000</td>\n                        <td id=\"T_fe8f6143_cdcd_11ea_b7fa_7989de7c49bfrow88_col2\" class=\"data row88 col2\" >42.000000</td>\n                        <td id=\"T_fe8f6143_cdcd_11ea_b7fa_7989de7c49bfrow88_col3\" class=\"data row88 col3\" >5999.000000</td>\n                        <td id=\"T_fe8f6143_cdcd_11ea_b7fa_7989de7c49bfrow88_col4\" class=\"data row88 col4\" >765.000000</td>\n            </tr>\n            <tr>\n                        <th id=\"T_fe8f6143_cdcd_11ea_b7fa_7989de7c49bflevel0_row89\" class=\"row_heading level0 row89\" >89</th>\n                        <td id=\"T_fe8f6143_cdcd_11ea_b7fa_7989de7c49bfrow89_col0\" class=\"data row89 col0\" >Gabon</td>\n                        <td id=\"T_fe8f6143_cdcd_11ea_b7fa_7989de7c49bfrow89_col1\" class=\"data row89 col1\" >6588.000000</td>\n                        <td id=\"T_fe8f6143_cdcd_11ea_b7fa_7989de7c49bfrow89_col2\" class=\"data row89 col2\" >47.000000</td>\n                        <td id=\"T_fe8f6143_cdcd_11ea_b7fa_7989de7c49bfrow89_col3\" class=\"data row89 col3\" >4235.000000</td>\n                        <td id=\"T_fe8f6143_cdcd_11ea_b7fa_7989de7c49bfrow89_col4\" class=\"data row89 col4\" >2306.000000</td>\n            </tr>\n            <tr>\n                        <th id=\"T_fe8f6143_cdcd_11ea_b7fa_7989de7c49bflevel0_row90\" class=\"row_heading level0 row90\" >90</th>\n                        <td id=\"T_fe8f6143_cdcd_11ea_b7fa_7989de7c49bfrow90_col0\" class=\"data row90 col0\" >Kosovo</td>\n                        <td id=\"T_fe8f6143_cdcd_11ea_b7fa_7989de7c49bfrow90_col1\" class=\"data row90 col1\" >6467.000000</td>\n                        <td id=\"T_fe8f6143_cdcd_11ea_b7fa_7989de7c49bfrow90_col2\" class=\"data row90 col2\" >158.000000</td>\n                        <td id=\"T_fe8f6143_cdcd_11ea_b7fa_7989de7c49bfrow90_col3\" class=\"data row90 col3\" >3505.000000</td>\n                        <td id=\"T_fe8f6143_cdcd_11ea_b7fa_7989de7c49bfrow90_col4\" class=\"data row90 col4\" >2804.000000</td>\n            </tr>\n            <tr>\n                        <th id=\"T_fe8f6143_cdcd_11ea_b7fa_7989de7c49bflevel0_row91\" class=\"row_heading level0 row91\" >91</th>\n                        <td id=\"T_fe8f6143_cdcd_11ea_b7fa_7989de7c49bfrow91_col0\" class=\"data row91 col0\" >Mauritania</td>\n                        <td id=\"T_fe8f6143_cdcd_11ea_b7fa_7989de7c49bfrow91_col1\" class=\"data row91 col1\" >6067.000000</td>\n                        <td id=\"T_fe8f6143_cdcd_11ea_b7fa_7989de7c49bfrow91_col2\" class=\"data row91 col2\" >156.000000</td>\n                        <td id=\"T_fe8f6143_cdcd_11ea_b7fa_7989de7c49bfrow91_col3\" class=\"data row91 col3\" >4086.000000</td>\n                        <td id=\"T_fe8f6143_cdcd_11ea_b7fa_7989de7c49bfrow91_col4\" class=\"data row91 col4\" >1825.000000</td>\n            </tr>\n            <tr>\n                        <th id=\"T_fe8f6143_cdcd_11ea_b7fa_7989de7c49bflevel0_row92\" class=\"row_heading level0 row92\" >92</th>\n                        <td id=\"T_fe8f6143_cdcd_11ea_b7fa_7989de7c49bfrow92_col0\" class=\"data row92 col0\" >Luxembourg</td>\n                        <td id=\"T_fe8f6143_cdcd_11ea_b7fa_7989de7c49bfrow92_col1\" class=\"data row92 col1\" >6056.000000</td>\n                        <td id=\"T_fe8f6143_cdcd_11ea_b7fa_7989de7c49bfrow92_col2\" class=\"data row92 col2\" >112.000000</td>\n                        <td id=\"T_fe8f6143_cdcd_11ea_b7fa_7989de7c49bfrow92_col3\" class=\"data row92 col3\" >4647.000000</td>\n                        <td id=\"T_fe8f6143_cdcd_11ea_b7fa_7989de7c49bfrow92_col4\" class=\"data row92 col4\" >1297.000000</td>\n            </tr>\n            <tr>\n                        <th id=\"T_fe8f6143_cdcd_11ea_b7fa_7989de7c49bflevel0_row93\" class=\"row_heading level0 row93\" >93</th>\n                        <td id=\"T_fe8f6143_cdcd_11ea_b7fa_7989de7c49bfrow93_col0\" class=\"data row93 col0\" >Djibouti</td>\n                        <td id=\"T_fe8f6143_cdcd_11ea_b7fa_7989de7c49bfrow93_col1\" class=\"data row93 col1\" >5039.000000</td>\n                        <td id=\"T_fe8f6143_cdcd_11ea_b7fa_7989de7c49bfrow93_col2\" class=\"data row93 col2\" >58.000000</td>\n                        <td id=\"T_fe8f6143_cdcd_11ea_b7fa_7989de7c49bfrow93_col3\" class=\"data row93 col3\" >4949.000000</td>\n                        <td id=\"T_fe8f6143_cdcd_11ea_b7fa_7989de7c49bfrow93_col4\" class=\"data row93 col4\" >32.000000</td>\n            </tr>\n            <tr>\n                        <th id=\"T_fe8f6143_cdcd_11ea_b7fa_7989de7c49bflevel0_row94\" class=\"row_heading level0 row94\" >94</th>\n                        <td id=\"T_fe8f6143_cdcd_11ea_b7fa_7989de7c49bfrow94_col0\" class=\"data row94 col0\" >Croatia</td>\n                        <td id=\"T_fe8f6143_cdcd_11ea_b7fa_7989de7c49bfrow94_col1\" class=\"data row94 col1\" >4715.000000</td>\n                        <td id=\"T_fe8f6143_cdcd_11ea_b7fa_7989de7c49bfrow94_col2\" class=\"data row94 col2\" >128.000000</td>\n                        <td id=\"T_fe8f6143_cdcd_11ea_b7fa_7989de7c49bfrow94_col3\" class=\"data row94 col3\" >3555.000000</td>\n                        <td id=\"T_fe8f6143_cdcd_11ea_b7fa_7989de7c49bfrow94_col4\" class=\"data row94 col4\" >1032.000000</td>\n            </tr>\n            <tr>\n                        <th id=\"T_fe8f6143_cdcd_11ea_b7fa_7989de7c49bflevel0_row95\" class=\"row_heading level0 row95\" >95</th>\n                        <td id=\"T_fe8f6143_cdcd_11ea_b7fa_7989de7c49bfrow95_col0\" class=\"data row95 col0\" >Central African Republic</td>\n                        <td id=\"T_fe8f6143_cdcd_11ea_b7fa_7989de7c49bfrow95_col1\" class=\"data row95 col1\" >4590.000000</td>\n                        <td id=\"T_fe8f6143_cdcd_11ea_b7fa_7989de7c49bfrow95_col2\" class=\"data row95 col2\" >58.000000</td>\n                        <td id=\"T_fe8f6143_cdcd_11ea_b7fa_7989de7c49bfrow95_col3\" class=\"data row95 col3\" >1452.000000</td>\n                        <td id=\"T_fe8f6143_cdcd_11ea_b7fa_7989de7c49bfrow95_col4\" class=\"data row95 col4\" >3080.000000</td>\n            </tr>\n            <tr>\n                        <th id=\"T_fe8f6143_cdcd_11ea_b7fa_7989de7c49bflevel0_row96\" class=\"row_heading level0 row96\" >96</th>\n                        <td id=\"T_fe8f6143_cdcd_11ea_b7fa_7989de7c49bfrow96_col0\" class=\"data row96 col0\" >Albania</td>\n                        <td id=\"T_fe8f6143_cdcd_11ea_b7fa_7989de7c49bfrow96_col1\" class=\"data row96 col1\" >4570.000000</td>\n                        <td id=\"T_fe8f6143_cdcd_11ea_b7fa_7989de7c49bfrow96_col2\" class=\"data row96 col2\" >128.000000</td>\n                        <td id=\"T_fe8f6143_cdcd_11ea_b7fa_7989de7c49bfrow96_col3\" class=\"data row96 col3\" >2608.000000</td>\n                        <td id=\"T_fe8f6143_cdcd_11ea_b7fa_7989de7c49bfrow96_col4\" class=\"data row96 col4\" >1834.000000</td>\n            </tr>\n            <tr>\n                        <th id=\"T_fe8f6143_cdcd_11ea_b7fa_7989de7c49bflevel0_row97\" class=\"row_heading level0 row97\" >97</th>\n                        <td id=\"T_fe8f6143_cdcd_11ea_b7fa_7989de7c49bfrow97_col0\" class=\"data row97 col0\" >Hungary</td>\n                        <td id=\"T_fe8f6143_cdcd_11ea_b7fa_7989de7c49bfrow97_col1\" class=\"data row97 col1\" >4398.000000</td>\n                        <td id=\"T_fe8f6143_cdcd_11ea_b7fa_7989de7c49bfrow97_col2\" class=\"data row97 col2\" >596.000000</td>\n                        <td id=\"T_fe8f6143_cdcd_11ea_b7fa_7989de7c49bfrow97_col3\" class=\"data row97 col3\" >3312.000000</td>\n                        <td id=\"T_fe8f6143_cdcd_11ea_b7fa_7989de7c49bfrow97_col4\" class=\"data row97 col4\" >490.000000</td>\n            </tr>\n            <tr>\n                        <th id=\"T_fe8f6143_cdcd_11ea_b7fa_7989de7c49bflevel0_row98\" class=\"row_heading level0 row98\" >98</th>\n                        <td id=\"T_fe8f6143_cdcd_11ea_b7fa_7989de7c49bfrow98_col0\" class=\"data row98 col0\" >Greece</td>\n                        <td id=\"T_fe8f6143_cdcd_11ea_b7fa_7989de7c49bfrow98_col1\" class=\"data row98 col1\" >4135.000000</td>\n                        <td id=\"T_fe8f6143_cdcd_11ea_b7fa_7989de7c49bfrow98_col2\" class=\"data row98 col2\" >201.000000</td>\n                        <td id=\"T_fe8f6143_cdcd_11ea_b7fa_7989de7c49bfrow98_col3\" class=\"data row98 col3\" >1374.000000</td>\n                        <td id=\"T_fe8f6143_cdcd_11ea_b7fa_7989de7c49bfrow98_col4\" class=\"data row98 col4\" >2560.000000</td>\n            </tr>\n            <tr>\n                        <th id=\"T_fe8f6143_cdcd_11ea_b7fa_7989de7c49bflevel0_row99\" class=\"row_heading level0 row99\" >99</th>\n                        <td id=\"T_fe8f6143_cdcd_11ea_b7fa_7989de7c49bfrow99_col0\" class=\"data row99 col0\" >Paraguay</td>\n                        <td id=\"T_fe8f6143_cdcd_11ea_b7fa_7989de7c49bfrow99_col1\" class=\"data row99 col1\" >4113.000000</td>\n                        <td id=\"T_fe8f6143_cdcd_11ea_b7fa_7989de7c49bfrow99_col2\" class=\"data row99 col2\" >36.000000</td>\n                        <td id=\"T_fe8f6143_cdcd_11ea_b7fa_7989de7c49bfrow99_col3\" class=\"data row99 col3\" >2487.000000</td>\n                        <td id=\"T_fe8f6143_cdcd_11ea_b7fa_7989de7c49bfrow99_col4\" class=\"data row99 col4\" >1590.000000</td>\n            </tr>\n            <tr>\n                        <th id=\"T_fe8f6143_cdcd_11ea_b7fa_7989de7c49bflevel0_row100\" class=\"row_heading level0 row100\" >100</th>\n                        <td id=\"T_fe8f6143_cdcd_11ea_b7fa_7989de7c49bfrow100_col0\" class=\"data row100 col0\" >Zambia</td>\n                        <td id=\"T_fe8f6143_cdcd_11ea_b7fa_7989de7c49bfrow100_col1\" class=\"data row100 col1\" >3789.000000</td>\n                        <td id=\"T_fe8f6143_cdcd_11ea_b7fa_7989de7c49bfrow100_col2\" class=\"data row100 col2\" >134.000000</td>\n                        <td id=\"T_fe8f6143_cdcd_11ea_b7fa_7989de7c49bfrow100_col3\" class=\"data row100 col3\" >1677.000000</td>\n                        <td id=\"T_fe8f6143_cdcd_11ea_b7fa_7989de7c49bfrow100_col4\" class=\"data row100 col4\" >1978.000000</td>\n            </tr>\n            <tr>\n                        <th id=\"T_fe8f6143_cdcd_11ea_b7fa_7989de7c49bflevel0_row101\" class=\"row_heading level0 row101\" >101</th>\n                        <td id=\"T_fe8f6143_cdcd_11ea_b7fa_7989de7c49bfrow101_col0\" class=\"data row101 col0\" >Nicaragua</td>\n                        <td id=\"T_fe8f6143_cdcd_11ea_b7fa_7989de7c49bfrow101_col1\" class=\"data row101 col1\" >3439.000000</td>\n                        <td id=\"T_fe8f6143_cdcd_11ea_b7fa_7989de7c49bfrow101_col2\" class=\"data row101 col2\" >108.000000</td>\n                        <td id=\"T_fe8f6143_cdcd_11ea_b7fa_7989de7c49bfrow101_col3\" class=\"data row101 col3\" >2492.000000</td>\n                        <td id=\"T_fe8f6143_cdcd_11ea_b7fa_7989de7c49bfrow101_col4\" class=\"data row101 col4\" >839.000000</td>\n            </tr>\n            <tr>\n                        <th id=\"T_fe8f6143_cdcd_11ea_b7fa_7989de7c49bflevel0_row102\" class=\"row_heading level0 row102\" >102</th>\n                        <td id=\"T_fe8f6143_cdcd_11ea_b7fa_7989de7c49bfrow102_col0\" class=\"data row102 col0\" >Malawi</td>\n                        <td id=\"T_fe8f6143_cdcd_11ea_b7fa_7989de7c49bfrow102_col1\" class=\"data row102 col1\" >3386.000000</td>\n                        <td id=\"T_fe8f6143_cdcd_11ea_b7fa_7989de7c49bfrow102_col2\" class=\"data row102 col2\" >79.000000</td>\n                        <td id=\"T_fe8f6143_cdcd_11ea_b7fa_7989de7c49bfrow102_col3\" class=\"data row102 col3\" >1328.000000</td>\n                        <td id=\"T_fe8f6143_cdcd_11ea_b7fa_7989de7c49bfrow102_col4\" class=\"data row102 col4\" >1979.000000</td>\n            </tr>\n            <tr>\n                        <th id=\"T_fe8f6143_cdcd_11ea_b7fa_7989de7c49bflevel0_row103\" class=\"row_heading level0 row103\" >103</th>\n                        <td id=\"T_fe8f6143_cdcd_11ea_b7fa_7989de7c49bfrow103_col0\" class=\"data row103 col0\" >Thailand</td>\n                        <td id=\"T_fe8f6143_cdcd_11ea_b7fa_7989de7c49bfrow103_col1\" class=\"data row103 col1\" >3279.000000</td>\n                        <td id=\"T_fe8f6143_cdcd_11ea_b7fa_7989de7c49bfrow103_col2\" class=\"data row103 col2\" >58.000000</td>\n                        <td id=\"T_fe8f6143_cdcd_11ea_b7fa_7989de7c49bfrow103_col3\" class=\"data row103 col3\" >3107.000000</td>\n                        <td id=\"T_fe8f6143_cdcd_11ea_b7fa_7989de7c49bfrow103_col4\" class=\"data row103 col4\" >114.000000</td>\n            </tr>\n            <tr>\n                        <th id=\"T_fe8f6143_cdcd_11ea_b7fa_7989de7c49bflevel0_row104\" class=\"row_heading level0 row104\" >104</th>\n                        <td id=\"T_fe8f6143_cdcd_11ea_b7fa_7989de7c49bfrow104_col0\" class=\"data row104 col0\" >Lebanon</td>\n                        <td id=\"T_fe8f6143_cdcd_11ea_b7fa_7989de7c49bfrow104_col1\" class=\"data row104 col1\" >3260.000000</td>\n                        <td id=\"T_fe8f6143_cdcd_11ea_b7fa_7989de7c49bfrow104_col2\" class=\"data row104 col2\" >43.000000</td>\n                        <td id=\"T_fe8f6143_cdcd_11ea_b7fa_7989de7c49bfrow104_col3\" class=\"data row104 col3\" >1619.000000</td>\n                        <td id=\"T_fe8f6143_cdcd_11ea_b7fa_7989de7c49bfrow104_col4\" class=\"data row104 col4\" >1598.000000</td>\n            </tr>\n            <tr>\n                        <th id=\"T_fe8f6143_cdcd_11ea_b7fa_7989de7c49bflevel0_row105\" class=\"row_heading level0 row105\" >105</th>\n                        <td id=\"T_fe8f6143_cdcd_11ea_b7fa_7989de7c49bfrow105_col0\" class=\"data row105 col0\" >Somalia</td>\n                        <td id=\"T_fe8f6143_cdcd_11ea_b7fa_7989de7c49bfrow105_col1\" class=\"data row105 col1\" >3171.000000</td>\n                        <td id=\"T_fe8f6143_cdcd_11ea_b7fa_7989de7c49bfrow105_col2\" class=\"data row105 col2\" >93.000000</td>\n                        <td id=\"T_fe8f6143_cdcd_11ea_b7fa_7989de7c49bfrow105_col3\" class=\"data row105 col3\" >1499.000000</td>\n                        <td id=\"T_fe8f6143_cdcd_11ea_b7fa_7989de7c49bfrow105_col4\" class=\"data row105 col4\" >1579.000000</td>\n            </tr>\n            <tr>\n                        <th id=\"T_fe8f6143_cdcd_11ea_b7fa_7989de7c49bflevel0_row106\" class=\"row_heading level0 row106\" >106</th>\n                        <td id=\"T_fe8f6143_cdcd_11ea_b7fa_7989de7c49bfrow106_col0\" class=\"data row106 col0\" >Maldives</td>\n                        <td id=\"T_fe8f6143_cdcd_11ea_b7fa_7989de7c49bfrow106_col1\" class=\"data row106 col1\" >3120.000000</td>\n                        <td id=\"T_fe8f6143_cdcd_11ea_b7fa_7989de7c49bfrow106_col2\" class=\"data row106 col2\" >15.000000</td>\n                        <td id=\"T_fe8f6143_cdcd_11ea_b7fa_7989de7c49bfrow106_col3\" class=\"data row106 col3\" >2428.000000</td>\n                        <td id=\"T_fe8f6143_cdcd_11ea_b7fa_7989de7c49bfrow106_col4\" class=\"data row106 col4\" >677.000000</td>\n            </tr>\n            <tr>\n                        <th id=\"T_fe8f6143_cdcd_11ea_b7fa_7989de7c49bflevel0_row107\" class=\"row_heading level0 row107\" >107</th>\n                        <td id=\"T_fe8f6143_cdcd_11ea_b7fa_7989de7c49bfrow107_col0\" class=\"data row107 col0\" >Equatorial Guinea</td>\n                        <td id=\"T_fe8f6143_cdcd_11ea_b7fa_7989de7c49bfrow107_col1\" class=\"data row107 col1\" >3071.000000</td>\n                        <td id=\"T_fe8f6143_cdcd_11ea_b7fa_7989de7c49bfrow107_col2\" class=\"data row107 col2\" >51.000000</td>\n                        <td id=\"T_fe8f6143_cdcd_11ea_b7fa_7989de7c49bfrow107_col3\" class=\"data row107 col3\" >842.000000</td>\n                        <td id=\"T_fe8f6143_cdcd_11ea_b7fa_7989de7c49bfrow107_col4\" class=\"data row107 col4\" >2178.000000</td>\n            </tr>\n            <tr>\n                        <th id=\"T_fe8f6143_cdcd_11ea_b7fa_7989de7c49bflevel0_row108\" class=\"row_heading level0 row108\" >108</th>\n                        <td id=\"T_fe8f6143_cdcd_11ea_b7fa_7989de7c49bfrow108_col0\" class=\"data row108 col0\" >Congo (Brazzaville)</td>\n                        <td id=\"T_fe8f6143_cdcd_11ea_b7fa_7989de7c49bfrow108_col1\" class=\"data row108 col1\" >3038.000000</td>\n                        <td id=\"T_fe8f6143_cdcd_11ea_b7fa_7989de7c49bfrow108_col2\" class=\"data row108 col2\" >51.000000</td>\n                        <td id=\"T_fe8f6143_cdcd_11ea_b7fa_7989de7c49bfrow108_col3\" class=\"data row108 col3\" >756.000000</td>\n                        <td id=\"T_fe8f6143_cdcd_11ea_b7fa_7989de7c49bfrow108_col4\" class=\"data row108 col4\" >2231.000000</td>\n            </tr>\n            <tr>\n                        <th id=\"T_fe8f6143_cdcd_11ea_b7fa_7989de7c49bflevel0_row109\" class=\"row_heading level0 row109\" >109</th>\n                        <td id=\"T_fe8f6143_cdcd_11ea_b7fa_7989de7c49bfrow109_col0\" class=\"data row109 col0\" >Sri Lanka</td>\n                        <td id=\"T_fe8f6143_cdcd_11ea_b7fa_7989de7c49bfrow109_col1\" class=\"data row109 col1\" >2763.000000</td>\n                        <td id=\"T_fe8f6143_cdcd_11ea_b7fa_7989de7c49bfrow109_col2\" class=\"data row109 col2\" >11.000000</td>\n                        <td id=\"T_fe8f6143_cdcd_11ea_b7fa_7989de7c49bfrow109_col3\" class=\"data row109 col3\" >2094.000000</td>\n                        <td id=\"T_fe8f6143_cdcd_11ea_b7fa_7989de7c49bfrow109_col4\" class=\"data row109 col4\" >658.000000</td>\n            </tr>\n            <tr>\n                        <th id=\"T_fe8f6143_cdcd_11ea_b7fa_7989de7c49bflevel0_row110\" class=\"row_heading level0 row110\" >110</th>\n                        <td id=\"T_fe8f6143_cdcd_11ea_b7fa_7989de7c49bfrow110_col0\" class=\"data row110 col0\" >Montenegro</td>\n                        <td id=\"T_fe8f6143_cdcd_11ea_b7fa_7989de7c49bfrow110_col1\" class=\"data row110 col1\" >2569.000000</td>\n                        <td id=\"T_fe8f6143_cdcd_11ea_b7fa_7989de7c49bfrow110_col2\" class=\"data row110 col2\" >40.000000</td>\n                        <td id=\"T_fe8f6143_cdcd_11ea_b7fa_7989de7c49bfrow110_col3\" class=\"data row110 col3\" >538.000000</td>\n                        <td id=\"T_fe8f6143_cdcd_11ea_b7fa_7989de7c49bfrow110_col4\" class=\"data row110 col4\" >1991.000000</td>\n            </tr>\n            <tr>\n                        <th id=\"T_fe8f6143_cdcd_11ea_b7fa_7989de7c49bflevel0_row111\" class=\"row_heading level0 row111\" >111</th>\n                        <td id=\"T_fe8f6143_cdcd_11ea_b7fa_7989de7c49bfrow111_col0\" class=\"data row111 col0\" >Mali</td>\n                        <td id=\"T_fe8f6143_cdcd_11ea_b7fa_7989de7c49bfrow111_col1\" class=\"data row111 col1\" >2503.000000</td>\n                        <td id=\"T_fe8f6143_cdcd_11ea_b7fa_7989de7c49bfrow111_col2\" class=\"data row111 col2\" >123.000000</td>\n                        <td id=\"T_fe8f6143_cdcd_11ea_b7fa_7989de7c49bfrow111_col3\" class=\"data row111 col3\" >1901.000000</td>\n                        <td id=\"T_fe8f6143_cdcd_11ea_b7fa_7989de7c49bfrow111_col4\" class=\"data row111 col4\" >479.000000</td>\n            </tr>\n            <tr>\n                        <th id=\"T_fe8f6143_cdcd_11ea_b7fa_7989de7c49bflevel0_row112\" class=\"row_heading level0 row112\" >112</th>\n                        <td id=\"T_fe8f6143_cdcd_11ea_b7fa_7989de7c49bfrow112_col0\" class=\"data row112 col0\" >Cuba</td>\n                        <td id=\"T_fe8f6143_cdcd_11ea_b7fa_7989de7c49bfrow112_col1\" class=\"data row112 col1\" >2469.000000</td>\n                        <td id=\"T_fe8f6143_cdcd_11ea_b7fa_7989de7c49bfrow112_col2\" class=\"data row112 col2\" >87.000000</td>\n                        <td id=\"T_fe8f6143_cdcd_11ea_b7fa_7989de7c49bfrow112_col3\" class=\"data row112 col3\" >2341.000000</td>\n                        <td id=\"T_fe8f6143_cdcd_11ea_b7fa_7989de7c49bfrow112_col4\" class=\"data row112 col4\" >41.000000</td>\n            </tr>\n            <tr>\n                        <th id=\"T_fe8f6143_cdcd_11ea_b7fa_7989de7c49bflevel0_row113\" class=\"row_heading level0 row113\" >113</th>\n                        <td id=\"T_fe8f6143_cdcd_11ea_b7fa_7989de7c49bfrow113_col0\" class=\"data row113 col0\" >Libya</td>\n                        <td id=\"T_fe8f6143_cdcd_11ea_b7fa_7989de7c49bfrow113_col1\" class=\"data row113 col1\" >2314.000000</td>\n                        <td id=\"T_fe8f6143_cdcd_11ea_b7fa_7989de7c49bfrow113_col2\" class=\"data row113 col2\" >56.000000</td>\n                        <td id=\"T_fe8f6143_cdcd_11ea_b7fa_7989de7c49bfrow113_col3\" class=\"data row113 col3\" >501.000000</td>\n                        <td id=\"T_fe8f6143_cdcd_11ea_b7fa_7989de7c49bfrow113_col4\" class=\"data row113 col4\" >1757.000000</td>\n            </tr>\n            <tr>\n                        <th id=\"T_fe8f6143_cdcd_11ea_b7fa_7989de7c49bflevel0_row114\" class=\"row_heading level0 row114\" >114</th>\n                        <td id=\"T_fe8f6143_cdcd_11ea_b7fa_7989de7c49bfrow114_col0\" class=\"data row114 col0\" >South Sudan</td>\n                        <td id=\"T_fe8f6143_cdcd_11ea_b7fa_7989de7c49bfrow114_col1\" class=\"data row114 col1\" >2239.000000</td>\n                        <td id=\"T_fe8f6143_cdcd_11ea_b7fa_7989de7c49bfrow114_col2\" class=\"data row114 col2\" >45.000000</td>\n                        <td id=\"T_fe8f6143_cdcd_11ea_b7fa_7989de7c49bfrow114_col3\" class=\"data row114 col3\" >1175.000000</td>\n                        <td id=\"T_fe8f6143_cdcd_11ea_b7fa_7989de7c49bfrow114_col4\" class=\"data row114 col4\" >1019.000000</td>\n            </tr>\n            <tr>\n                        <th id=\"T_fe8f6143_cdcd_11ea_b7fa_7989de7c49bflevel0_row115\" class=\"row_heading level0 row115\" >115</th>\n                        <td id=\"T_fe8f6143_cdcd_11ea_b7fa_7989de7c49bfrow115_col0\" class=\"data row115 col0\" >Cabo Verde</td>\n                        <td id=\"T_fe8f6143_cdcd_11ea_b7fa_7989de7c49bfrow115_col1\" class=\"data row115 col1\" >2190.000000</td>\n                        <td id=\"T_fe8f6143_cdcd_11ea_b7fa_7989de7c49bfrow115_col2\" class=\"data row115 col2\" >21.000000</td>\n                        <td id=\"T_fe8f6143_cdcd_11ea_b7fa_7989de7c49bfrow115_col3\" class=\"data row115 col3\" >1150.000000</td>\n                        <td id=\"T_fe8f6143_cdcd_11ea_b7fa_7989de7c49bfrow115_col4\" class=\"data row115 col4\" >1019.000000</td>\n            </tr>\n            <tr>\n                        <th id=\"T_fe8f6143_cdcd_11ea_b7fa_7989de7c49bflevel0_row116\" class=\"row_heading level0 row116\" >116</th>\n                        <td id=\"T_fe8f6143_cdcd_11ea_b7fa_7989de7c49bfrow116_col0\" class=\"data row116 col0\" >Zimbabwe</td>\n                        <td id=\"T_fe8f6143_cdcd_11ea_b7fa_7989de7c49bfrow116_col1\" class=\"data row116 col1\" >2124.000000</td>\n                        <td id=\"T_fe8f6143_cdcd_11ea_b7fa_7989de7c49bfrow116_col2\" class=\"data row116 col2\" >28.000000</td>\n                        <td id=\"T_fe8f6143_cdcd_11ea_b7fa_7989de7c49bfrow116_col3\" class=\"data row116 col3\" >510.000000</td>\n                        <td id=\"T_fe8f6143_cdcd_11ea_b7fa_7989de7c49bfrow116_col4\" class=\"data row116 col4\" >1586.000000</td>\n            </tr>\n            <tr>\n                        <th id=\"T_fe8f6143_cdcd_11ea_b7fa_7989de7c49bflevel0_row117\" class=\"row_heading level0 row117\" >117</th>\n                        <td id=\"T_fe8f6143_cdcd_11ea_b7fa_7989de7c49bfrow117_col0\" class=\"data row117 col0\" >Slovakia</td>\n                        <td id=\"T_fe8f6143_cdcd_11ea_b7fa_7989de7c49bfrow117_col1\" class=\"data row117 col1\" >2118.000000</td>\n                        <td id=\"T_fe8f6143_cdcd_11ea_b7fa_7989de7c49bfrow117_col2\" class=\"data row117 col2\" >28.000000</td>\n                        <td id=\"T_fe8f6143_cdcd_11ea_b7fa_7989de7c49bfrow117_col3\" class=\"data row117 col3\" >1577.000000</td>\n                        <td id=\"T_fe8f6143_cdcd_11ea_b7fa_7989de7c49bfrow117_col4\" class=\"data row117 col4\" >513.000000</td>\n            </tr>\n            <tr>\n                        <th id=\"T_fe8f6143_cdcd_11ea_b7fa_7989de7c49bflevel0_row118\" class=\"row_heading level0 row118\" >118</th>\n                        <td id=\"T_fe8f6143_cdcd_11ea_b7fa_7989de7c49bfrow118_col0\" class=\"data row118 col0\" >Slovenia</td>\n                        <td id=\"T_fe8f6143_cdcd_11ea_b7fa_7989de7c49bfrow118_col1\" class=\"data row118 col1\" >2052.000000</td>\n                        <td id=\"T_fe8f6143_cdcd_11ea_b7fa_7989de7c49bfrow118_col2\" class=\"data row118 col2\" >115.000000</td>\n                        <td id=\"T_fe8f6143_cdcd_11ea_b7fa_7989de7c49bfrow118_col3\" class=\"data row118 col3\" >1678.000000</td>\n                        <td id=\"T_fe8f6143_cdcd_11ea_b7fa_7989de7c49bfrow118_col4\" class=\"data row118 col4\" >259.000000</td>\n            </tr>\n            <tr>\n                        <th id=\"T_fe8f6143_cdcd_11ea_b7fa_7989de7c49bflevel0_row119\" class=\"row_heading level0 row119\" >119</th>\n                        <td id=\"T_fe8f6143_cdcd_11ea_b7fa_7989de7c49bfrow119_col0\" class=\"data row119 col0\" >Estonia</td>\n                        <td id=\"T_fe8f6143_cdcd_11ea_b7fa_7989de7c49bfrow119_col1\" class=\"data row119 col1\" >2028.000000</td>\n                        <td id=\"T_fe8f6143_cdcd_11ea_b7fa_7989de7c49bfrow119_col2\" class=\"data row119 col2\" >69.000000</td>\n                        <td id=\"T_fe8f6143_cdcd_11ea_b7fa_7989de7c49bfrow119_col3\" class=\"data row119 col3\" >1915.000000</td>\n                        <td id=\"T_fe8f6143_cdcd_11ea_b7fa_7989de7c49bfrow119_col4\" class=\"data row119 col4\" >44.000000</td>\n            </tr>\n            <tr>\n                        <th id=\"T_fe8f6143_cdcd_11ea_b7fa_7989de7c49bflevel0_row120\" class=\"row_heading level0 row120\" >120</th>\n                        <td id=\"T_fe8f6143_cdcd_11ea_b7fa_7989de7c49bfrow120_col0\" class=\"data row120 col0\" >Eswatini</td>\n                        <td id=\"T_fe8f6143_cdcd_11ea_b7fa_7989de7c49bfrow120_col1\" class=\"data row120 col1\" >2021.000000</td>\n                        <td id=\"T_fe8f6143_cdcd_11ea_b7fa_7989de7c49bfrow120_col2\" class=\"data row120 col2\" >28.000000</td>\n                        <td id=\"T_fe8f6143_cdcd_11ea_b7fa_7989de7c49bfrow120_col3\" class=\"data row120 col3\" >882.000000</td>\n                        <td id=\"T_fe8f6143_cdcd_11ea_b7fa_7989de7c49bfrow120_col4\" class=\"data row120 col4\" >1111.000000</td>\n            </tr>\n            <tr>\n                        <th id=\"T_fe8f6143_cdcd_11ea_b7fa_7989de7c49bflevel0_row121\" class=\"row_heading level0 row121\" >121</th>\n                        <td id=\"T_fe8f6143_cdcd_11ea_b7fa_7989de7c49bfrow121_col0\" class=\"data row121 col0\" >Lithuania</td>\n                        <td id=\"T_fe8f6143_cdcd_11ea_b7fa_7989de7c49bfrow121_col1\" class=\"data row121 col1\" >1986.000000</td>\n                        <td id=\"T_fe8f6143_cdcd_11ea_b7fa_7989de7c49bfrow121_col2\" class=\"data row121 col2\" >80.000000</td>\n                        <td id=\"T_fe8f6143_cdcd_11ea_b7fa_7989de7c49bfrow121_col3\" class=\"data row121 col3\" >1616.000000</td>\n                        <td id=\"T_fe8f6143_cdcd_11ea_b7fa_7989de7c49bfrow121_col4\" class=\"data row121 col4\" >290.000000</td>\n            </tr>\n            <tr>\n                        <th id=\"T_fe8f6143_cdcd_11ea_b7fa_7989de7c49bflevel0_row122\" class=\"row_heading level0 row122\" >122</th>\n                        <td id=\"T_fe8f6143_cdcd_11ea_b7fa_7989de7c49bfrow122_col0\" class=\"data row122 col0\" >Guinea-Bissau</td>\n                        <td id=\"T_fe8f6143_cdcd_11ea_b7fa_7989de7c49bfrow122_col1\" class=\"data row122 col1\" >1954.000000</td>\n                        <td id=\"T_fe8f6143_cdcd_11ea_b7fa_7989de7c49bfrow122_col2\" class=\"data row122 col2\" >26.000000</td>\n                        <td id=\"T_fe8f6143_cdcd_11ea_b7fa_7989de7c49bfrow122_col3\" class=\"data row122 col3\" >803.000000</td>\n                        <td id=\"T_fe8f6143_cdcd_11ea_b7fa_7989de7c49bfrow122_col4\" class=\"data row122 col4\" >1125.000000</td>\n            </tr>\n            <tr>\n                        <th id=\"T_fe8f6143_cdcd_11ea_b7fa_7989de7c49bflevel0_row123\" class=\"row_heading level0 row123\" >123</th>\n                        <td id=\"T_fe8f6143_cdcd_11ea_b7fa_7989de7c49bfrow123_col0\" class=\"data row123 col0\" >Iceland</td>\n                        <td id=\"T_fe8f6143_cdcd_11ea_b7fa_7989de7c49bfrow123_col1\" class=\"data row123 col1\" >1843.000000</td>\n                        <td id=\"T_fe8f6143_cdcd_11ea_b7fa_7989de7c49bfrow123_col2\" class=\"data row123 col2\" >10.000000</td>\n                        <td id=\"T_fe8f6143_cdcd_11ea_b7fa_7989de7c49bfrow123_col3\" class=\"data row123 col3\" >1823.000000</td>\n                        <td id=\"T_fe8f6143_cdcd_11ea_b7fa_7989de7c49bfrow123_col4\" class=\"data row123 col4\" >10.000000</td>\n            </tr>\n            <tr>\n                        <th id=\"T_fe8f6143_cdcd_11ea_b7fa_7989de7c49bflevel0_row124\" class=\"row_heading level0 row124\" >124</th>\n                        <td id=\"T_fe8f6143_cdcd_11ea_b7fa_7989de7c49bfrow124_col0\" class=\"data row124 col0\" >Sierra Leone</td>\n                        <td id=\"T_fe8f6143_cdcd_11ea_b7fa_7989de7c49bfrow124_col1\" class=\"data row124 col1\" >1752.000000</td>\n                        <td id=\"T_fe8f6143_cdcd_11ea_b7fa_7989de7c49bfrow124_col2\" class=\"data row124 col2\" >66.000000</td>\n                        <td id=\"T_fe8f6143_cdcd_11ea_b7fa_7989de7c49bfrow124_col3\" class=\"data row124 col3\" >1292.000000</td>\n                        <td id=\"T_fe8f6143_cdcd_11ea_b7fa_7989de7c49bfrow124_col4\" class=\"data row124 col4\" >394.000000</td>\n            </tr>\n            <tr>\n                        <th id=\"T_fe8f6143_cdcd_11ea_b7fa_7989de7c49bflevel0_row125\" class=\"row_heading level0 row125\" >125</th>\n                        <td id=\"T_fe8f6143_cdcd_11ea_b7fa_7989de7c49bfrow125_col0\" class=\"data row125 col0\" >Rwanda</td>\n                        <td id=\"T_fe8f6143_cdcd_11ea_b7fa_7989de7c49bfrow125_col1\" class=\"data row125 col1\" >1710.000000</td>\n                        <td id=\"T_fe8f6143_cdcd_11ea_b7fa_7989de7c49bfrow125_col2\" class=\"data row125 col2\" >5.000000</td>\n                        <td id=\"T_fe8f6143_cdcd_11ea_b7fa_7989de7c49bfrow125_col3\" class=\"data row125 col3\" >889.000000</td>\n                        <td id=\"T_fe8f6143_cdcd_11ea_b7fa_7989de7c49bfrow125_col4\" class=\"data row125 col4\" >816.000000</td>\n            </tr>\n            <tr>\n                        <th id=\"T_fe8f6143_cdcd_11ea_b7fa_7989de7c49bflevel0_row126\" class=\"row_heading level0 row126\" >126</th>\n                        <td id=\"T_fe8f6143_cdcd_11ea_b7fa_7989de7c49bfrow126_col0\" class=\"data row126 col0\" >Benin</td>\n                        <td id=\"T_fe8f6143_cdcd_11ea_b7fa_7989de7c49bfrow126_col1\" class=\"data row126 col1\" >1694.000000</td>\n                        <td id=\"T_fe8f6143_cdcd_11ea_b7fa_7989de7c49bfrow126_col2\" class=\"data row126 col2\" >34.000000</td>\n                        <td id=\"T_fe8f6143_cdcd_11ea_b7fa_7989de7c49bfrow126_col3\" class=\"data row126 col3\" >918.000000</td>\n                        <td id=\"T_fe8f6143_cdcd_11ea_b7fa_7989de7c49bfrow126_col4\" class=\"data row126 col4\" >742.000000</td>\n            </tr>\n            <tr>\n                        <th id=\"T_fe8f6143_cdcd_11ea_b7fa_7989de7c49bflevel0_row127\" class=\"row_heading level0 row127\" >127</th>\n                        <td id=\"T_fe8f6143_cdcd_11ea_b7fa_7989de7c49bfrow127_col0\" class=\"data row127 col0\" >Yemen</td>\n                        <td id=\"T_fe8f6143_cdcd_11ea_b7fa_7989de7c49bfrow127_col1\" class=\"data row127 col1\" >1654.000000</td>\n                        <td id=\"T_fe8f6143_cdcd_11ea_b7fa_7989de7c49bfrow127_col2\" class=\"data row127 col2\" >461.000000</td>\n                        <td id=\"T_fe8f6143_cdcd_11ea_b7fa_7989de7c49bfrow127_col3\" class=\"data row127 col3\" >762.000000</td>\n                        <td id=\"T_fe8f6143_cdcd_11ea_b7fa_7989de7c49bfrow127_col4\" class=\"data row127 col4\" >431.000000</td>\n            </tr>\n            <tr>\n                        <th id=\"T_fe8f6143_cdcd_11ea_b7fa_7989de7c49bflevel0_row128\" class=\"row_heading level0 row128\" >128</th>\n                        <td id=\"T_fe8f6143_cdcd_11ea_b7fa_7989de7c49bfrow128_col0\" class=\"data row128 col0\" >Namibia</td>\n                        <td id=\"T_fe8f6143_cdcd_11ea_b7fa_7989de7c49bfrow128_col1\" class=\"data row128 col1\" >1618.000000</td>\n                        <td id=\"T_fe8f6143_cdcd_11ea_b7fa_7989de7c49bfrow128_col2\" class=\"data row128 col2\" >7.000000</td>\n                        <td id=\"T_fe8f6143_cdcd_11ea_b7fa_7989de7c49bfrow128_col3\" class=\"data row128 col3\" >72.000000</td>\n                        <td id=\"T_fe8f6143_cdcd_11ea_b7fa_7989de7c49bfrow128_col4\" class=\"data row128 col4\" >1539.000000</td>\n            </tr>\n            <tr>\n                        <th id=\"T_fe8f6143_cdcd_11ea_b7fa_7989de7c49bflevel0_row129\" class=\"row_heading level0 row129\" >129</th>\n                        <td id=\"T_fe8f6143_cdcd_11ea_b7fa_7989de7c49bfrow129_col0\" class=\"data row129 col0\" >Mozambique</td>\n                        <td id=\"T_fe8f6143_cdcd_11ea_b7fa_7989de7c49bfrow129_col1\" class=\"data row129 col1\" >1590.000000</td>\n                        <td id=\"T_fe8f6143_cdcd_11ea_b7fa_7989de7c49bfrow129_col2\" class=\"data row129 col2\" >11.000000</td>\n                        <td id=\"T_fe8f6143_cdcd_11ea_b7fa_7989de7c49bfrow129_col3\" class=\"data row129 col3\" >532.000000</td>\n                        <td id=\"T_fe8f6143_cdcd_11ea_b7fa_7989de7c49bfrow129_col4\" class=\"data row129 col4\" >1047.000000</td>\n            </tr>\n            <tr>\n                        <th id=\"T_fe8f6143_cdcd_11ea_b7fa_7989de7c49bflevel0_row130\" class=\"row_heading level0 row130\" >130</th>\n                        <td id=\"T_fe8f6143_cdcd_11ea_b7fa_7989de7c49bfrow130_col0\" class=\"data row130 col0\" >New Zealand</td>\n                        <td id=\"T_fe8f6143_cdcd_11ea_b7fa_7989de7c49bfrow130_col1\" class=\"data row130 col1\" >1556.000000</td>\n                        <td id=\"T_fe8f6143_cdcd_11ea_b7fa_7989de7c49bfrow130_col2\" class=\"data row130 col2\" >22.000000</td>\n                        <td id=\"T_fe8f6143_cdcd_11ea_b7fa_7989de7c49bfrow130_col3\" class=\"data row130 col3\" >1513.000000</td>\n                        <td id=\"T_fe8f6143_cdcd_11ea_b7fa_7989de7c49bfrow130_col4\" class=\"data row130 col4\" >21.000000</td>\n            </tr>\n            <tr>\n                        <th id=\"T_fe8f6143_cdcd_11ea_b7fa_7989de7c49bflevel0_row131\" class=\"row_heading level0 row131\" >131</th>\n                        <td id=\"T_fe8f6143_cdcd_11ea_b7fa_7989de7c49bfrow131_col0\" class=\"data row131 col0\" >Tunisia</td>\n                        <td id=\"T_fe8f6143_cdcd_11ea_b7fa_7989de7c49bfrow131_col1\" class=\"data row131 col1\" >1406.000000</td>\n                        <td id=\"T_fe8f6143_cdcd_11ea_b7fa_7989de7c49bfrow131_col2\" class=\"data row131 col2\" >50.000000</td>\n                        <td id=\"T_fe8f6143_cdcd_11ea_b7fa_7989de7c49bfrow131_col3\" class=\"data row131 col3\" >1118.000000</td>\n                        <td id=\"T_fe8f6143_cdcd_11ea_b7fa_7989de7c49bfrow131_col4\" class=\"data row131 col4\" >238.000000</td>\n            </tr>\n            <tr>\n                        <th id=\"T_fe8f6143_cdcd_11ea_b7fa_7989de7c49bflevel0_row132\" class=\"row_heading level0 row132\" >132</th>\n                        <td id=\"T_fe8f6143_cdcd_11ea_b7fa_7989de7c49bfrow132_col0\" class=\"data row132 col0\" >Suriname</td>\n                        <td id=\"T_fe8f6143_cdcd_11ea_b7fa_7989de7c49bfrow132_col1\" class=\"data row132 col1\" >1234.000000</td>\n                        <td id=\"T_fe8f6143_cdcd_11ea_b7fa_7989de7c49bfrow132_col2\" class=\"data row132 col2\" >23.000000</td>\n                        <td id=\"T_fe8f6143_cdcd_11ea_b7fa_7989de7c49bfrow132_col3\" class=\"data row132 col3\" >774.000000</td>\n                        <td id=\"T_fe8f6143_cdcd_11ea_b7fa_7989de7c49bfrow132_col4\" class=\"data row132 col4\" >437.000000</td>\n            </tr>\n            <tr>\n                        <th id=\"T_fe8f6143_cdcd_11ea_b7fa_7989de7c49bflevel0_row133\" class=\"row_heading level0 row133\" >133</th>\n                        <td id=\"T_fe8f6143_cdcd_11ea_b7fa_7989de7c49bfrow133_col0\" class=\"data row133 col0\" >Latvia</td>\n                        <td id=\"T_fe8f6143_cdcd_11ea_b7fa_7989de7c49bfrow133_col1\" class=\"data row133 col1\" >1205.000000</td>\n                        <td id=\"T_fe8f6143_cdcd_11ea_b7fa_7989de7c49bfrow133_col2\" class=\"data row133 col2\" >31.000000</td>\n                        <td id=\"T_fe8f6143_cdcd_11ea_b7fa_7989de7c49bfrow133_col3\" class=\"data row133 col3\" >1045.000000</td>\n                        <td id=\"T_fe8f6143_cdcd_11ea_b7fa_7989de7c49bfrow133_col4\" class=\"data row133 col4\" >129.000000</td>\n            </tr>\n            <tr>\n                        <th id=\"T_fe8f6143_cdcd_11ea_b7fa_7989de7c49bflevel0_row134\" class=\"row_heading level0 row134\" >134</th>\n                        <td id=\"T_fe8f6143_cdcd_11ea_b7fa_7989de7c49bfrow134_col0\" class=\"data row134 col0\" >Uruguay</td>\n                        <td id=\"T_fe8f6143_cdcd_11ea_b7fa_7989de7c49bfrow134_col1\" class=\"data row134 col1\" >1141.000000</td>\n                        <td id=\"T_fe8f6143_cdcd_11ea_b7fa_7989de7c49bfrow134_col2\" class=\"data row134 col2\" >34.000000</td>\n                        <td id=\"T_fe8f6143_cdcd_11ea_b7fa_7989de7c49bfrow134_col3\" class=\"data row134 col3\" >940.000000</td>\n                        <td id=\"T_fe8f6143_cdcd_11ea_b7fa_7989de7c49bfrow134_col4\" class=\"data row134 col4\" >167.000000</td>\n            </tr>\n            <tr>\n                        <th id=\"T_fe8f6143_cdcd_11ea_b7fa_7989de7c49bflevel0_row135\" class=\"row_heading level0 row135\" >135</th>\n                        <td id=\"T_fe8f6143_cdcd_11ea_b7fa_7989de7c49bfrow135_col0\" class=\"data row135 col0\" >Liberia</td>\n                        <td id=\"T_fe8f6143_cdcd_11ea_b7fa_7989de7c49bfrow135_col1\" class=\"data row135 col1\" >1135.000000</td>\n                        <td id=\"T_fe8f6143_cdcd_11ea_b7fa_7989de7c49bfrow135_col2\" class=\"data row135 col2\" >71.000000</td>\n                        <td id=\"T_fe8f6143_cdcd_11ea_b7fa_7989de7c49bfrow135_col3\" class=\"data row135 col3\" >621.000000</td>\n                        <td id=\"T_fe8f6143_cdcd_11ea_b7fa_7989de7c49bfrow135_col4\" class=\"data row135 col4\" >443.000000</td>\n            </tr>\n            <tr>\n                        <th id=\"T_fe8f6143_cdcd_11ea_b7fa_7989de7c49bflevel0_row136\" class=\"row_heading level0 row136\" >136</th>\n                        <td id=\"T_fe8f6143_cdcd_11ea_b7fa_7989de7c49bfrow136_col0\" class=\"data row136 col0\" >Jordan</td>\n                        <td id=\"T_fe8f6143_cdcd_11ea_b7fa_7989de7c49bfrow136_col1\" class=\"data row136 col1\" >1131.000000</td>\n                        <td id=\"T_fe8f6143_cdcd_11ea_b7fa_7989de7c49bfrow136_col2\" class=\"data row136 col2\" >11.000000</td>\n                        <td id=\"T_fe8f6143_cdcd_11ea_b7fa_7989de7c49bfrow136_col3\" class=\"data row136 col3\" >1035.000000</td>\n                        <td id=\"T_fe8f6143_cdcd_11ea_b7fa_7989de7c49bfrow136_col4\" class=\"data row136 col4\" >85.000000</td>\n            </tr>\n            <tr>\n                        <th id=\"T_fe8f6143_cdcd_11ea_b7fa_7989de7c49bflevel0_row137\" class=\"row_heading level0 row137\" >137</th>\n                        <td id=\"T_fe8f6143_cdcd_11ea_b7fa_7989de7c49bfrow137_col0\" class=\"data row137 col0\" >Niger</td>\n                        <td id=\"T_fe8f6143_cdcd_11ea_b7fa_7989de7c49bfrow137_col1\" class=\"data row137 col1\" >1124.000000</td>\n                        <td id=\"T_fe8f6143_cdcd_11ea_b7fa_7989de7c49bfrow137_col2\" class=\"data row137 col2\" >69.000000</td>\n                        <td id=\"T_fe8f6143_cdcd_11ea_b7fa_7989de7c49bfrow137_col3\" class=\"data row137 col3\" >1022.000000</td>\n                        <td id=\"T_fe8f6143_cdcd_11ea_b7fa_7989de7c49bfrow137_col4\" class=\"data row137 col4\" >33.000000</td>\n            </tr>\n            <tr>\n                        <th id=\"T_fe8f6143_cdcd_11ea_b7fa_7989de7c49bflevel0_row138\" class=\"row_heading level0 row138\" >138</th>\n                        <td id=\"T_fe8f6143_cdcd_11ea_b7fa_7989de7c49bfrow138_col0\" class=\"data row138 col0\" >Georgia</td>\n                        <td id=\"T_fe8f6143_cdcd_11ea_b7fa_7989de7c49bfrow138_col1\" class=\"data row138 col1\" >1104.000000</td>\n                        <td id=\"T_fe8f6143_cdcd_11ea_b7fa_7989de7c49bfrow138_col2\" class=\"data row138 col2\" >16.000000</td>\n                        <td id=\"T_fe8f6143_cdcd_11ea_b7fa_7989de7c49bfrow138_col3\" class=\"data row138 col3\" >912.000000</td>\n                        <td id=\"T_fe8f6143_cdcd_11ea_b7fa_7989de7c49bfrow138_col4\" class=\"data row138 col4\" >176.000000</td>\n            </tr>\n            <tr>\n                        <th id=\"T_fe8f6143_cdcd_11ea_b7fa_7989de7c49bflevel0_row139\" class=\"row_heading level0 row139\" >139</th>\n                        <td id=\"T_fe8f6143_cdcd_11ea_b7fa_7989de7c49bfrow139_col0\" class=\"data row139 col0\" >Uganda</td>\n                        <td id=\"T_fe8f6143_cdcd_11ea_b7fa_7989de7c49bfrow139_col1\" class=\"data row139 col1\" >1089.000000</td>\n                        <td id=\"T_fe8f6143_cdcd_11ea_b7fa_7989de7c49bfrow139_col2\" class=\"data row139 col2\" >1.000000</td>\n                        <td id=\"T_fe8f6143_cdcd_11ea_b7fa_7989de7c49bfrow139_col3\" class=\"data row139 col3\" >975.000000</td>\n                        <td id=\"T_fe8f6143_cdcd_11ea_b7fa_7989de7c49bfrow139_col4\" class=\"data row139 col4\" >113.000000</td>\n            </tr>\n            <tr>\n                        <th id=\"T_fe8f6143_cdcd_11ea_b7fa_7989de7c49bflevel0_row140\" class=\"row_heading level0 row140\" >140</th>\n                        <td id=\"T_fe8f6143_cdcd_11ea_b7fa_7989de7c49bfrow140_col0\" class=\"data row140 col0\" >Burkina Faso</td>\n                        <td id=\"T_fe8f6143_cdcd_11ea_b7fa_7989de7c49bfrow140_col1\" class=\"data row140 col1\" >1075.000000</td>\n                        <td id=\"T_fe8f6143_cdcd_11ea_b7fa_7989de7c49bfrow140_col2\" class=\"data row140 col2\" >53.000000</td>\n                        <td id=\"T_fe8f6143_cdcd_11ea_b7fa_7989de7c49bfrow140_col3\" class=\"data row140 col3\" >920.000000</td>\n                        <td id=\"T_fe8f6143_cdcd_11ea_b7fa_7989de7c49bfrow140_col4\" class=\"data row140 col4\" >102.000000</td>\n            </tr>\n            <tr>\n                        <th id=\"T_fe8f6143_cdcd_11ea_b7fa_7989de7c49bflevel0_row141\" class=\"row_heading level0 row141\" >141</th>\n                        <td id=\"T_fe8f6143_cdcd_11ea_b7fa_7989de7c49bfrow141_col0\" class=\"data row141 col0\" >Cyprus</td>\n                        <td id=\"T_fe8f6143_cdcd_11ea_b7fa_7989de7c49bfrow141_col1\" class=\"data row141 col1\" >1047.000000</td>\n                        <td id=\"T_fe8f6143_cdcd_11ea_b7fa_7989de7c49bfrow141_col2\" class=\"data row141 col2\" >19.000000</td>\n                        <td id=\"T_fe8f6143_cdcd_11ea_b7fa_7989de7c49bfrow141_col3\" class=\"data row141 col3\" >847.000000</td>\n                        <td id=\"T_fe8f6143_cdcd_11ea_b7fa_7989de7c49bfrow141_col4\" class=\"data row141 col4\" >181.000000</td>\n            </tr>\n            <tr>\n                        <th id=\"T_fe8f6143_cdcd_11ea_b7fa_7989de7c49bflevel0_row142\" class=\"row_heading level0 row142\" >142</th>\n                        <td id=\"T_fe8f6143_cdcd_11ea_b7fa_7989de7c49bfrow142_col0\" class=\"data row142 col0\" >Chad</td>\n                        <td id=\"T_fe8f6143_cdcd_11ea_b7fa_7989de7c49bfrow142_col1\" class=\"data row142 col1\" >915.000000</td>\n                        <td id=\"T_fe8f6143_cdcd_11ea_b7fa_7989de7c49bfrow142_col2\" class=\"data row142 col2\" >75.000000</td>\n                        <td id=\"T_fe8f6143_cdcd_11ea_b7fa_7989de7c49bfrow142_col3\" class=\"data row142 col3\" >805.000000</td>\n                        <td id=\"T_fe8f6143_cdcd_11ea_b7fa_7989de7c49bfrow142_col4\" class=\"data row142 col4\" >35.000000</td>\n            </tr>\n            <tr>\n                        <th id=\"T_fe8f6143_cdcd_11ea_b7fa_7989de7c49bflevel0_row143\" class=\"row_heading level0 row143\" >143</th>\n                        <td id=\"T_fe8f6143_cdcd_11ea_b7fa_7989de7c49bfrow143_col0\" class=\"data row143 col0\" >Andorra</td>\n                        <td id=\"T_fe8f6143_cdcd_11ea_b7fa_7989de7c49bfrow143_col1\" class=\"data row143 col1\" >897.000000</td>\n                        <td id=\"T_fe8f6143_cdcd_11ea_b7fa_7989de7c49bfrow143_col2\" class=\"data row143 col2\" >52.000000</td>\n                        <td id=\"T_fe8f6143_cdcd_11ea_b7fa_7989de7c49bfrow143_col3\" class=\"data row143 col3\" >803.000000</td>\n                        <td id=\"T_fe8f6143_cdcd_11ea_b7fa_7989de7c49bfrow143_col4\" class=\"data row143 col4\" >42.000000</td>\n            </tr>\n            <tr>\n                        <th id=\"T_fe8f6143_cdcd_11ea_b7fa_7989de7c49bflevel0_row144\" class=\"row_heading level0 row144\" >144</th>\n                        <td id=\"T_fe8f6143_cdcd_11ea_b7fa_7989de7c49bfrow144_col0\" class=\"data row144 col0\" >Angola</td>\n                        <td id=\"T_fe8f6143_cdcd_11ea_b7fa_7989de7c49bfrow144_col1\" class=\"data row144 col1\" >851.000000</td>\n                        <td id=\"T_fe8f6143_cdcd_11ea_b7fa_7989de7c49bfrow144_col2\" class=\"data row144 col2\" >33.000000</td>\n                        <td id=\"T_fe8f6143_cdcd_11ea_b7fa_7989de7c49bfrow144_col3\" class=\"data row144 col3\" >236.000000</td>\n                        <td id=\"T_fe8f6143_cdcd_11ea_b7fa_7989de7c49bfrow144_col4\" class=\"data row144 col4\" >582.000000</td>\n            </tr>\n            <tr>\n                        <th id=\"T_fe8f6143_cdcd_11ea_b7fa_7989de7c49bflevel0_row145\" class=\"row_heading level0 row145\" >145</th>\n                        <td id=\"T_fe8f6143_cdcd_11ea_b7fa_7989de7c49bfrow145_col0\" class=\"data row145 col0\" >Togo</td>\n                        <td id=\"T_fe8f6143_cdcd_11ea_b7fa_7989de7c49bfrow145_col1\" class=\"data row145 col1\" >828.000000</td>\n                        <td id=\"T_fe8f6143_cdcd_11ea_b7fa_7989de7c49bfrow145_col2\" class=\"data row145 col2\" >16.000000</td>\n                        <td id=\"T_fe8f6143_cdcd_11ea_b7fa_7989de7c49bfrow145_col3\" class=\"data row145 col3\" >584.000000</td>\n                        <td id=\"T_fe8f6143_cdcd_11ea_b7fa_7989de7c49bfrow145_col4\" class=\"data row145 col4\" >228.000000</td>\n            </tr>\n            <tr>\n                        <th id=\"T_fe8f6143_cdcd_11ea_b7fa_7989de7c49bflevel0_row146\" class=\"row_heading level0 row146\" >146</th>\n                        <td id=\"T_fe8f6143_cdcd_11ea_b7fa_7989de7c49bfrow146_col0\" class=\"data row146 col0\" >Jamaica</td>\n                        <td id=\"T_fe8f6143_cdcd_11ea_b7fa_7989de7c49bfrow146_col1\" class=\"data row146 col1\" >821.000000</td>\n                        <td id=\"T_fe8f6143_cdcd_11ea_b7fa_7989de7c49bfrow146_col2\" class=\"data row146 col2\" >10.000000</td>\n                        <td id=\"T_fe8f6143_cdcd_11ea_b7fa_7989de7c49bfrow146_col3\" class=\"data row146 col3\" >711.000000</td>\n                        <td id=\"T_fe8f6143_cdcd_11ea_b7fa_7989de7c49bfrow146_col4\" class=\"data row146 col4\" >100.000000</td>\n            </tr>\n            <tr>\n                        <th id=\"T_fe8f6143_cdcd_11ea_b7fa_7989de7c49bflevel0_row147\" class=\"row_heading level0 row147\" >147</th>\n                        <td id=\"T_fe8f6143_cdcd_11ea_b7fa_7989de7c49bfrow147_col0\" class=\"data row147 col0\" >Sao Tome and Principe</td>\n                        <td id=\"T_fe8f6143_cdcd_11ea_b7fa_7989de7c49bfrow147_col1\" class=\"data row147 col1\" >749.000000</td>\n                        <td id=\"T_fe8f6143_cdcd_11ea_b7fa_7989de7c49bfrow147_col2\" class=\"data row147 col2\" >14.000000</td>\n                        <td id=\"T_fe8f6143_cdcd_11ea_b7fa_7989de7c49bfrow147_col3\" class=\"data row147 col3\" >604.000000</td>\n                        <td id=\"T_fe8f6143_cdcd_11ea_b7fa_7989de7c49bfrow147_col4\" class=\"data row147 col4\" >131.000000</td>\n            </tr>\n            <tr>\n                        <th id=\"T_fe8f6143_cdcd_11ea_b7fa_7989de7c49bflevel0_row148\" class=\"row_heading level0 row148\" >148</th>\n                        <td id=\"T_fe8f6143_cdcd_11ea_b7fa_7989de7c49bfrow148_col0\" class=\"data row148 col0\" >Diamond Princess</td>\n                        <td id=\"T_fe8f6143_cdcd_11ea_b7fa_7989de7c49bfrow148_col1\" class=\"data row148 col1\" >712.000000</td>\n                        <td id=\"T_fe8f6143_cdcd_11ea_b7fa_7989de7c49bfrow148_col2\" class=\"data row148 col2\" >13.000000</td>\n                        <td id=\"T_fe8f6143_cdcd_11ea_b7fa_7989de7c49bfrow148_col3\" class=\"data row148 col3\" >651.000000</td>\n                        <td id=\"T_fe8f6143_cdcd_11ea_b7fa_7989de7c49bfrow148_col4\" class=\"data row148 col4\" >48.000000</td>\n            </tr>\n            <tr>\n                        <th id=\"T_fe8f6143_cdcd_11ea_b7fa_7989de7c49bflevel0_row149\" class=\"row_heading level0 row149\" >149</th>\n                        <td id=\"T_fe8f6143_cdcd_11ea_b7fa_7989de7c49bfrow149_col0\" class=\"data row149 col0\" >San Marino</td>\n                        <td id=\"T_fe8f6143_cdcd_11ea_b7fa_7989de7c49bfrow149_col1\" class=\"data row149 col1\" >699.000000</td>\n                        <td id=\"T_fe8f6143_cdcd_11ea_b7fa_7989de7c49bfrow149_col2\" class=\"data row149 col2\" >42.000000</td>\n                        <td id=\"T_fe8f6143_cdcd_11ea_b7fa_7989de7c49bfrow149_col3\" class=\"data row149 col3\" >657.000000</td>\n                        <td id=\"T_fe8f6143_cdcd_11ea_b7fa_7989de7c49bfrow149_col4\" class=\"data row149 col4\" >0.000000</td>\n            </tr>\n            <tr>\n                        <th id=\"T_fe8f6143_cdcd_11ea_b7fa_7989de7c49bflevel0_row150\" class=\"row_heading level0 row150\" >150</th>\n                        <td id=\"T_fe8f6143_cdcd_11ea_b7fa_7989de7c49bfrow150_col0\" class=\"data row150 col0\" >Malta</td>\n                        <td id=\"T_fe8f6143_cdcd_11ea_b7fa_7989de7c49bfrow150_col1\" class=\"data row150 col1\" >686.000000</td>\n                        <td id=\"T_fe8f6143_cdcd_11ea_b7fa_7989de7c49bfrow150_col2\" class=\"data row150 col2\" >9.000000</td>\n                        <td id=\"T_fe8f6143_cdcd_11ea_b7fa_7989de7c49bfrow150_col3\" class=\"data row150 col3\" >665.000000</td>\n                        <td id=\"T_fe8f6143_cdcd_11ea_b7fa_7989de7c49bfrow150_col4\" class=\"data row150 col4\" >12.000000</td>\n            </tr>\n            <tr>\n                        <th id=\"T_fe8f6143_cdcd_11ea_b7fa_7989de7c49bflevel0_row151\" class=\"row_heading level0 row151\" >151</th>\n                        <td id=\"T_fe8f6143_cdcd_11ea_b7fa_7989de7c49bfrow151_col0\" class=\"data row151 col0\" >Botswana</td>\n                        <td id=\"T_fe8f6143_cdcd_11ea_b7fa_7989de7c49bfrow151_col1\" class=\"data row151 col1\" >686.000000</td>\n                        <td id=\"T_fe8f6143_cdcd_11ea_b7fa_7989de7c49bfrow151_col2\" class=\"data row151 col2\" >1.000000</td>\n                        <td id=\"T_fe8f6143_cdcd_11ea_b7fa_7989de7c49bfrow151_col3\" class=\"data row151 col3\" >52.000000</td>\n                        <td id=\"T_fe8f6143_cdcd_11ea_b7fa_7989de7c49bfrow151_col4\" class=\"data row151 col4\" >633.000000</td>\n            </tr>\n            <tr>\n                        <th id=\"T_fe8f6143_cdcd_11ea_b7fa_7989de7c49bflevel0_row152\" class=\"row_heading level0 row152\" >152</th>\n                        <td id=\"T_fe8f6143_cdcd_11ea_b7fa_7989de7c49bfrow152_col0\" class=\"data row152 col0\" >Syria</td>\n                        <td id=\"T_fe8f6143_cdcd_11ea_b7fa_7989de7c49bfrow152_col1\" class=\"data row152 col1\" >608.000000</td>\n                        <td id=\"T_fe8f6143_cdcd_11ea_b7fa_7989de7c49bfrow152_col2\" class=\"data row152 col2\" >35.000000</td>\n                        <td id=\"T_fe8f6143_cdcd_11ea_b7fa_7989de7c49bfrow152_col3\" class=\"data row152 col3\" >184.000000</td>\n                        <td id=\"T_fe8f6143_cdcd_11ea_b7fa_7989de7c49bfrow152_col4\" class=\"data row152 col4\" >389.000000</td>\n            </tr>\n            <tr>\n                        <th id=\"T_fe8f6143_cdcd_11ea_b7fa_7989de7c49bflevel0_row153\" class=\"row_heading level0 row153\" >153</th>\n                        <td id=\"T_fe8f6143_cdcd_11ea_b7fa_7989de7c49bfrow153_col0\" class=\"data row153 col0\" >Tanzania</td>\n                        <td id=\"T_fe8f6143_cdcd_11ea_b7fa_7989de7c49bfrow153_col1\" class=\"data row153 col1\" >509.000000</td>\n                        <td id=\"T_fe8f6143_cdcd_11ea_b7fa_7989de7c49bfrow153_col2\" class=\"data row153 col2\" >21.000000</td>\n                        <td id=\"T_fe8f6143_cdcd_11ea_b7fa_7989de7c49bfrow153_col3\" class=\"data row153 col3\" >183.000000</td>\n                        <td id=\"T_fe8f6143_cdcd_11ea_b7fa_7989de7c49bfrow153_col4\" class=\"data row153 col4\" >305.000000</td>\n            </tr>\n            <tr>\n                        <th id=\"T_fe8f6143_cdcd_11ea_b7fa_7989de7c49bflevel0_row154\" class=\"row_heading level0 row154\" >154</th>\n                        <td id=\"T_fe8f6143_cdcd_11ea_b7fa_7989de7c49bfrow154_col0\" class=\"data row154 col0\" >Taiwan*</td>\n                        <td id=\"T_fe8f6143_cdcd_11ea_b7fa_7989de7c49bfrow154_col1\" class=\"data row154 col1\" >455.000000</td>\n                        <td id=\"T_fe8f6143_cdcd_11ea_b7fa_7989de7c49bfrow154_col2\" class=\"data row154 col2\" >7.000000</td>\n                        <td id=\"T_fe8f6143_cdcd_11ea_b7fa_7989de7c49bfrow154_col3\" class=\"data row154 col3\" >440.000000</td>\n                        <td id=\"T_fe8f6143_cdcd_11ea_b7fa_7989de7c49bfrow154_col4\" class=\"data row154 col4\" >8.000000</td>\n            </tr>\n            <tr>\n                        <th id=\"T_fe8f6143_cdcd_11ea_b7fa_7989de7c49bflevel0_row155\" class=\"row_heading level0 row155\" >155</th>\n                        <td id=\"T_fe8f6143_cdcd_11ea_b7fa_7989de7c49bfrow155_col0\" class=\"data row155 col0\" >Vietnam</td>\n                        <td id=\"T_fe8f6143_cdcd_11ea_b7fa_7989de7c49bfrow155_col1\" class=\"data row155 col1\" >413.000000</td>\n                        <td id=\"T_fe8f6143_cdcd_11ea_b7fa_7989de7c49bfrow155_col2\" class=\"data row155 col2\" >0.000000</td>\n                        <td id=\"T_fe8f6143_cdcd_11ea_b7fa_7989de7c49bfrow155_col3\" class=\"data row155 col3\" >365.000000</td>\n                        <td id=\"T_fe8f6143_cdcd_11ea_b7fa_7989de7c49bfrow155_col4\" class=\"data row155 col4\" >48.000000</td>\n            </tr>\n            <tr>\n                        <th id=\"T_fe8f6143_cdcd_11ea_b7fa_7989de7c49bflevel0_row156\" class=\"row_heading level0 row156\" >156</th>\n                        <td id=\"T_fe8f6143_cdcd_11ea_b7fa_7989de7c49bfrow156_col0\" class=\"data row156 col0\" >Lesotho</td>\n                        <td id=\"T_fe8f6143_cdcd_11ea_b7fa_7989de7c49bfrow156_col1\" class=\"data row156 col1\" >359.000000</td>\n                        <td id=\"T_fe8f6143_cdcd_11ea_b7fa_7989de7c49bfrow156_col2\" class=\"data row156 col2\" >6.000000</td>\n                        <td id=\"T_fe8f6143_cdcd_11ea_b7fa_7989de7c49bfrow156_col3\" class=\"data row156 col3\" >69.000000</td>\n                        <td id=\"T_fe8f6143_cdcd_11ea_b7fa_7989de7c49bfrow156_col4\" class=\"data row156 col4\" >284.000000</td>\n            </tr>\n            <tr>\n                        <th id=\"T_fe8f6143_cdcd_11ea_b7fa_7989de7c49bflevel0_row157\" class=\"row_heading level0 row157\" >157</th>\n                        <td id=\"T_fe8f6143_cdcd_11ea_b7fa_7989de7c49bfrow157_col0\" class=\"data row157 col0\" >Guyana</td>\n                        <td id=\"T_fe8f6143_cdcd_11ea_b7fa_7989de7c49bfrow157_col1\" class=\"data row157 col1\" >351.000000</td>\n                        <td id=\"T_fe8f6143_cdcd_11ea_b7fa_7989de7c49bfrow157_col2\" class=\"data row157 col2\" >19.000000</td>\n                        <td id=\"T_fe8f6143_cdcd_11ea_b7fa_7989de7c49bfrow157_col3\" class=\"data row157 col3\" >176.000000</td>\n                        <td id=\"T_fe8f6143_cdcd_11ea_b7fa_7989de7c49bfrow157_col4\" class=\"data row157 col4\" >156.000000</td>\n            </tr>\n            <tr>\n                        <th id=\"T_fe8f6143_cdcd_11ea_b7fa_7989de7c49bflevel0_row158\" class=\"row_heading level0 row158\" >158</th>\n                        <td id=\"T_fe8f6143_cdcd_11ea_b7fa_7989de7c49bfrow158_col0\" class=\"data row158 col0\" >Burundi</td>\n                        <td id=\"T_fe8f6143_cdcd_11ea_b7fa_7989de7c49bfrow158_col1\" class=\"data row158 col1\" >345.000000</td>\n                        <td id=\"T_fe8f6143_cdcd_11ea_b7fa_7989de7c49bfrow158_col2\" class=\"data row158 col2\" >1.000000</td>\n                        <td id=\"T_fe8f6143_cdcd_11ea_b7fa_7989de7c49bfrow158_col3\" class=\"data row158 col3\" >270.000000</td>\n                        <td id=\"T_fe8f6143_cdcd_11ea_b7fa_7989de7c49bfrow158_col4\" class=\"data row158 col4\" >74.000000</td>\n            </tr>\n            <tr>\n                        <th id=\"T_fe8f6143_cdcd_11ea_b7fa_7989de7c49bflevel0_row159\" class=\"row_heading level0 row159\" >159</th>\n                        <td id=\"T_fe8f6143_cdcd_11ea_b7fa_7989de7c49bfrow159_col0\" class=\"data row159 col0\" >Mauritius</td>\n                        <td id=\"T_fe8f6143_cdcd_11ea_b7fa_7989de7c49bfrow159_col1\" class=\"data row159 col1\" >344.000000</td>\n                        <td id=\"T_fe8f6143_cdcd_11ea_b7fa_7989de7c49bfrow159_col2\" class=\"data row159 col2\" >10.000000</td>\n                        <td id=\"T_fe8f6143_cdcd_11ea_b7fa_7989de7c49bfrow159_col3\" class=\"data row159 col3\" >332.000000</td>\n                        <td id=\"T_fe8f6143_cdcd_11ea_b7fa_7989de7c49bfrow159_col4\" class=\"data row159 col4\" >2.000000</td>\n            </tr>\n            <tr>\n                        <th id=\"T_fe8f6143_cdcd_11ea_b7fa_7989de7c49bflevel0_row160\" class=\"row_heading level0 row160\" >160</th>\n                        <td id=\"T_fe8f6143_cdcd_11ea_b7fa_7989de7c49bfrow160_col0\" class=\"data row160 col0\" >Burma</td>\n                        <td id=\"T_fe8f6143_cdcd_11ea_b7fa_7989de7c49bfrow160_col1\" class=\"data row160 col1\" >343.000000</td>\n                        <td id=\"T_fe8f6143_cdcd_11ea_b7fa_7989de7c49bfrow160_col2\" class=\"data row160 col2\" >6.000000</td>\n                        <td id=\"T_fe8f6143_cdcd_11ea_b7fa_7989de7c49bfrow160_col3\" class=\"data row160 col3\" >282.000000</td>\n                        <td id=\"T_fe8f6143_cdcd_11ea_b7fa_7989de7c49bfrow160_col4\" class=\"data row160 col4\" >55.000000</td>\n            </tr>\n            <tr>\n                        <th id=\"T_fe8f6143_cdcd_11ea_b7fa_7989de7c49bflevel0_row161\" class=\"row_heading level0 row161\" >161</th>\n                        <td id=\"T_fe8f6143_cdcd_11ea_b7fa_7989de7c49bfrow161_col0\" class=\"data row161 col0\" >Comoros</td>\n                        <td id=\"T_fe8f6143_cdcd_11ea_b7fa_7989de7c49bfrow161_col1\" class=\"data row161 col1\" >340.000000</td>\n                        <td id=\"T_fe8f6143_cdcd_11ea_b7fa_7989de7c49bfrow161_col2\" class=\"data row161 col2\" >7.000000</td>\n                        <td id=\"T_fe8f6143_cdcd_11ea_b7fa_7989de7c49bfrow161_col3\" class=\"data row161 col3\" >324.000000</td>\n                        <td id=\"T_fe8f6143_cdcd_11ea_b7fa_7989de7c49bfrow161_col4\" class=\"data row161 col4\" >9.000000</td>\n            </tr>\n            <tr>\n                        <th id=\"T_fe8f6143_cdcd_11ea_b7fa_7989de7c49bflevel0_row162\" class=\"row_heading level0 row162\" >162</th>\n                        <td id=\"T_fe8f6143_cdcd_11ea_b7fa_7989de7c49bfrow162_col0\" class=\"data row162 col0\" >Mongolia</td>\n                        <td id=\"T_fe8f6143_cdcd_11ea_b7fa_7989de7c49bfrow162_col1\" class=\"data row162 col1\" >288.000000</td>\n                        <td id=\"T_fe8f6143_cdcd_11ea_b7fa_7989de7c49bfrow162_col2\" class=\"data row162 col2\" >0.000000</td>\n                        <td id=\"T_fe8f6143_cdcd_11ea_b7fa_7989de7c49bfrow162_col3\" class=\"data row162 col3\" >217.000000</td>\n                        <td id=\"T_fe8f6143_cdcd_11ea_b7fa_7989de7c49bfrow162_col4\" class=\"data row162 col4\" >71.000000</td>\n            </tr>\n            <tr>\n                        <th id=\"T_fe8f6143_cdcd_11ea_b7fa_7989de7c49bflevel0_row163\" class=\"row_heading level0 row163\" >163</th>\n                        <td id=\"T_fe8f6143_cdcd_11ea_b7fa_7989de7c49bfrow163_col0\" class=\"data row163 col0\" >Bahamas</td>\n                        <td id=\"T_fe8f6143_cdcd_11ea_b7fa_7989de7c49bfrow163_col1\" class=\"data row163 col1\" >274.000000</td>\n                        <td id=\"T_fe8f6143_cdcd_11ea_b7fa_7989de7c49bfrow163_col2\" class=\"data row163 col2\" >11.000000</td>\n                        <td id=\"T_fe8f6143_cdcd_11ea_b7fa_7989de7c49bfrow163_col3\" class=\"data row163 col3\" >91.000000</td>\n                        <td id=\"T_fe8f6143_cdcd_11ea_b7fa_7989de7c49bfrow163_col4\" class=\"data row163 col4\" >172.000000</td>\n            </tr>\n            <tr>\n                        <th id=\"T_fe8f6143_cdcd_11ea_b7fa_7989de7c49bflevel0_row164\" class=\"row_heading level0 row164\" >164</th>\n                        <td id=\"T_fe8f6143_cdcd_11ea_b7fa_7989de7c49bfrow164_col0\" class=\"data row164 col0\" >Eritrea</td>\n                        <td id=\"T_fe8f6143_cdcd_11ea_b7fa_7989de7c49bfrow164_col1\" class=\"data row164 col1\" >261.000000</td>\n                        <td id=\"T_fe8f6143_cdcd_11ea_b7fa_7989de7c49bfrow164_col2\" class=\"data row164 col2\" >0.000000</td>\n                        <td id=\"T_fe8f6143_cdcd_11ea_b7fa_7989de7c49bfrow164_col3\" class=\"data row164 col3\" >189.000000</td>\n                        <td id=\"T_fe8f6143_cdcd_11ea_b7fa_7989de7c49bfrow164_col4\" class=\"data row164 col4\" >72.000000</td>\n            </tr>\n            <tr>\n                        <th id=\"T_fe8f6143_cdcd_11ea_b7fa_7989de7c49bflevel0_row165\" class=\"row_heading level0 row165\" >165</th>\n                        <td id=\"T_fe8f6143_cdcd_11ea_b7fa_7989de7c49bfrow165_col0\" class=\"data row165 col0\" >Cambodia</td>\n                        <td id=\"T_fe8f6143_cdcd_11ea_b7fa_7989de7c49bfrow165_col1\" class=\"data row165 col1\" >202.000000</td>\n                        <td id=\"T_fe8f6143_cdcd_11ea_b7fa_7989de7c49bfrow165_col2\" class=\"data row165 col2\" >0.000000</td>\n                        <td id=\"T_fe8f6143_cdcd_11ea_b7fa_7989de7c49bfrow165_col3\" class=\"data row165 col3\" >142.000000</td>\n                        <td id=\"T_fe8f6143_cdcd_11ea_b7fa_7989de7c49bfrow165_col4\" class=\"data row165 col4\" >60.000000</td>\n            </tr>\n            <tr>\n                        <th id=\"T_fe8f6143_cdcd_11ea_b7fa_7989de7c49bflevel0_row166\" class=\"row_heading level0 row166\" >166</th>\n                        <td id=\"T_fe8f6143_cdcd_11ea_b7fa_7989de7c49bfrow166_col0\" class=\"data row166 col0\" >Gambia</td>\n                        <td id=\"T_fe8f6143_cdcd_11ea_b7fa_7989de7c49bfrow166_col1\" class=\"data row166 col1\" >170.000000</td>\n                        <td id=\"T_fe8f6143_cdcd_11ea_b7fa_7989de7c49bfrow166_col2\" class=\"data row166 col2\" >5.000000</td>\n                        <td id=\"T_fe8f6143_cdcd_11ea_b7fa_7989de7c49bfrow166_col3\" class=\"data row166 col3\" >58.000000</td>\n                        <td id=\"T_fe8f6143_cdcd_11ea_b7fa_7989de7c49bfrow166_col4\" class=\"data row166 col4\" >107.000000</td>\n            </tr>\n            <tr>\n                        <th id=\"T_fe8f6143_cdcd_11ea_b7fa_7989de7c49bflevel0_row167\" class=\"row_heading level0 row167\" >167</th>\n                        <td id=\"T_fe8f6143_cdcd_11ea_b7fa_7989de7c49bfrow167_col0\" class=\"data row167 col0\" >Trinidad and Tobago</td>\n                        <td id=\"T_fe8f6143_cdcd_11ea_b7fa_7989de7c49bfrow167_col1\" class=\"data row167 col1\" >142.000000</td>\n                        <td id=\"T_fe8f6143_cdcd_11ea_b7fa_7989de7c49bfrow167_col2\" class=\"data row167 col2\" >8.000000</td>\n                        <td id=\"T_fe8f6143_cdcd_11ea_b7fa_7989de7c49bfrow167_col3\" class=\"data row167 col3\" >128.000000</td>\n                        <td id=\"T_fe8f6143_cdcd_11ea_b7fa_7989de7c49bfrow167_col4\" class=\"data row167 col4\" >6.000000</td>\n            </tr>\n            <tr>\n                        <th id=\"T_fe8f6143_cdcd_11ea_b7fa_7989de7c49bflevel0_row168\" class=\"row_heading level0 row168\" >168</th>\n                        <td id=\"T_fe8f6143_cdcd_11ea_b7fa_7989de7c49bfrow168_col0\" class=\"data row168 col0\" >Brunei</td>\n                        <td id=\"T_fe8f6143_cdcd_11ea_b7fa_7989de7c49bfrow168_col1\" class=\"data row168 col1\" >141.000000</td>\n                        <td id=\"T_fe8f6143_cdcd_11ea_b7fa_7989de7c49bfrow168_col2\" class=\"data row168 col2\" >3.000000</td>\n                        <td id=\"T_fe8f6143_cdcd_11ea_b7fa_7989de7c49bfrow168_col3\" class=\"data row168 col3\" >138.000000</td>\n                        <td id=\"T_fe8f6143_cdcd_11ea_b7fa_7989de7c49bfrow168_col4\" class=\"data row168 col4\" >0.000000</td>\n            </tr>\n            <tr>\n                        <th id=\"T_fe8f6143_cdcd_11ea_b7fa_7989de7c49bflevel0_row169\" class=\"row_heading level0 row169\" >169</th>\n                        <td id=\"T_fe8f6143_cdcd_11ea_b7fa_7989de7c49bfrow169_col0\" class=\"data row169 col0\" >Monaco</td>\n                        <td id=\"T_fe8f6143_cdcd_11ea_b7fa_7989de7c49bfrow169_col1\" class=\"data row169 col1\" >114.000000</td>\n                        <td id=\"T_fe8f6143_cdcd_11ea_b7fa_7989de7c49bfrow169_col2\" class=\"data row169 col2\" >4.000000</td>\n                        <td id=\"T_fe8f6143_cdcd_11ea_b7fa_7989de7c49bfrow169_col3\" class=\"data row169 col3\" >100.000000</td>\n                        <td id=\"T_fe8f6143_cdcd_11ea_b7fa_7989de7c49bfrow169_col4\" class=\"data row169 col4\" >10.000000</td>\n            </tr>\n            <tr>\n                        <th id=\"T_fe8f6143_cdcd_11ea_b7fa_7989de7c49bflevel0_row170\" class=\"row_heading level0 row170\" >170</th>\n                        <td id=\"T_fe8f6143_cdcd_11ea_b7fa_7989de7c49bfrow170_col0\" class=\"data row170 col0\" >Seychelles</td>\n                        <td id=\"T_fe8f6143_cdcd_11ea_b7fa_7989de7c49bfrow170_col1\" class=\"data row170 col1\" >108.000000</td>\n                        <td id=\"T_fe8f6143_cdcd_11ea_b7fa_7989de7c49bfrow170_col2\" class=\"data row170 col2\" >0.000000</td>\n                        <td id=\"T_fe8f6143_cdcd_11ea_b7fa_7989de7c49bfrow170_col3\" class=\"data row170 col3\" >27.000000</td>\n                        <td id=\"T_fe8f6143_cdcd_11ea_b7fa_7989de7c49bfrow170_col4\" class=\"data row170 col4\" >81.000000</td>\n            </tr>\n            <tr>\n                        <th id=\"T_fe8f6143_cdcd_11ea_b7fa_7989de7c49bflevel0_row171\" class=\"row_heading level0 row171\" >171</th>\n                        <td id=\"T_fe8f6143_cdcd_11ea_b7fa_7989de7c49bfrow171_col0\" class=\"data row171 col0\" >Barbados</td>\n                        <td id=\"T_fe8f6143_cdcd_11ea_b7fa_7989de7c49bfrow171_col1\" class=\"data row171 col1\" >106.000000</td>\n                        <td id=\"T_fe8f6143_cdcd_11ea_b7fa_7989de7c49bfrow171_col2\" class=\"data row171 col2\" >7.000000</td>\n                        <td id=\"T_fe8f6143_cdcd_11ea_b7fa_7989de7c49bfrow171_col3\" class=\"data row171 col3\" >94.000000</td>\n                        <td id=\"T_fe8f6143_cdcd_11ea_b7fa_7989de7c49bfrow171_col4\" class=\"data row171 col4\" >5.000000</td>\n            </tr>\n            <tr>\n                        <th id=\"T_fe8f6143_cdcd_11ea_b7fa_7989de7c49bflevel0_row172\" class=\"row_heading level0 row172\" >172</th>\n                        <td id=\"T_fe8f6143_cdcd_11ea_b7fa_7989de7c49bfrow172_col0\" class=\"data row172 col0\" >Bhutan</td>\n                        <td id=\"T_fe8f6143_cdcd_11ea_b7fa_7989de7c49bfrow172_col1\" class=\"data row172 col1\" >92.000000</td>\n                        <td id=\"T_fe8f6143_cdcd_11ea_b7fa_7989de7c49bfrow172_col2\" class=\"data row172 col2\" >0.000000</td>\n                        <td id=\"T_fe8f6143_cdcd_11ea_b7fa_7989de7c49bfrow172_col3\" class=\"data row172 col3\" >83.000000</td>\n                        <td id=\"T_fe8f6143_cdcd_11ea_b7fa_7989de7c49bfrow172_col4\" class=\"data row172 col4\" >9.000000</td>\n            </tr>\n            <tr>\n                        <th id=\"T_fe8f6143_cdcd_11ea_b7fa_7989de7c49bflevel0_row173\" class=\"row_heading level0 row173\" >173</th>\n                        <td id=\"T_fe8f6143_cdcd_11ea_b7fa_7989de7c49bfrow173_col0\" class=\"data row173 col0\" >Liechtenstein</td>\n                        <td id=\"T_fe8f6143_cdcd_11ea_b7fa_7989de7c49bfrow173_col1\" class=\"data row173 col1\" >86.000000</td>\n                        <td id=\"T_fe8f6143_cdcd_11ea_b7fa_7989de7c49bfrow173_col2\" class=\"data row173 col2\" >1.000000</td>\n                        <td id=\"T_fe8f6143_cdcd_11ea_b7fa_7989de7c49bfrow173_col3\" class=\"data row173 col3\" >81.000000</td>\n                        <td id=\"T_fe8f6143_cdcd_11ea_b7fa_7989de7c49bfrow173_col4\" class=\"data row173 col4\" >4.000000</td>\n            </tr>\n            <tr>\n                        <th id=\"T_fe8f6143_cdcd_11ea_b7fa_7989de7c49bflevel0_row174\" class=\"row_heading level0 row174\" >174</th>\n                        <td id=\"T_fe8f6143_cdcd_11ea_b7fa_7989de7c49bfrow174_col0\" class=\"data row174 col0\" >Antigua and Barbuda</td>\n                        <td id=\"T_fe8f6143_cdcd_11ea_b7fa_7989de7c49bfrow174_col1\" class=\"data row174 col1\" >76.000000</td>\n                        <td id=\"T_fe8f6143_cdcd_11ea_b7fa_7989de7c49bfrow174_col2\" class=\"data row174 col2\" >3.000000</td>\n                        <td id=\"T_fe8f6143_cdcd_11ea_b7fa_7989de7c49bfrow174_col3\" class=\"data row174 col3\" >58.000000</td>\n                        <td id=\"T_fe8f6143_cdcd_11ea_b7fa_7989de7c49bfrow174_col4\" class=\"data row174 col4\" >15.000000</td>\n            </tr>\n            <tr>\n                        <th id=\"T_fe8f6143_cdcd_11ea_b7fa_7989de7c49bflevel0_row175\" class=\"row_heading level0 row175\" >175</th>\n                        <td id=\"T_fe8f6143_cdcd_11ea_b7fa_7989de7c49bfrow175_col0\" class=\"data row175 col0\" >Saint Vincent and the Grenadines</td>\n                        <td id=\"T_fe8f6143_cdcd_11ea_b7fa_7989de7c49bfrow175_col1\" class=\"data row175 col1\" >52.000000</td>\n                        <td id=\"T_fe8f6143_cdcd_11ea_b7fa_7989de7c49bfrow175_col2\" class=\"data row175 col2\" >0.000000</td>\n                        <td id=\"T_fe8f6143_cdcd_11ea_b7fa_7989de7c49bfrow175_col3\" class=\"data row175 col3\" >37.000000</td>\n                        <td id=\"T_fe8f6143_cdcd_11ea_b7fa_7989de7c49bfrow175_col4\" class=\"data row175 col4\" >15.000000</td>\n            </tr>\n            <tr>\n                        <th id=\"T_fe8f6143_cdcd_11ea_b7fa_7989de7c49bflevel0_row176\" class=\"row_heading level0 row176\" >176</th>\n                        <td id=\"T_fe8f6143_cdcd_11ea_b7fa_7989de7c49bfrow176_col0\" class=\"data row176 col0\" >Belize</td>\n                        <td id=\"T_fe8f6143_cdcd_11ea_b7fa_7989de7c49bfrow176_col1\" class=\"data row176 col1\" >47.000000</td>\n                        <td id=\"T_fe8f6143_cdcd_11ea_b7fa_7989de7c49bfrow176_col2\" class=\"data row176 col2\" >2.000000</td>\n                        <td id=\"T_fe8f6143_cdcd_11ea_b7fa_7989de7c49bfrow176_col3\" class=\"data row176 col3\" >25.000000</td>\n                        <td id=\"T_fe8f6143_cdcd_11ea_b7fa_7989de7c49bfrow176_col4\" class=\"data row176 col4\" >20.000000</td>\n            </tr>\n            <tr>\n                        <th id=\"T_fe8f6143_cdcd_11ea_b7fa_7989de7c49bflevel0_row177\" class=\"row_heading level0 row177\" >177</th>\n                        <td id=\"T_fe8f6143_cdcd_11ea_b7fa_7989de7c49bfrow177_col0\" class=\"data row177 col0\" >Papua New Guinea</td>\n                        <td id=\"T_fe8f6143_cdcd_11ea_b7fa_7989de7c49bfrow177_col1\" class=\"data row177 col1\" >31.000000</td>\n                        <td id=\"T_fe8f6143_cdcd_11ea_b7fa_7989de7c49bfrow177_col2\" class=\"data row177 col2\" >0.000000</td>\n                        <td id=\"T_fe8f6143_cdcd_11ea_b7fa_7989de7c49bfrow177_col3\" class=\"data row177 col3\" >11.000000</td>\n                        <td id=\"T_fe8f6143_cdcd_11ea_b7fa_7989de7c49bfrow177_col4\" class=\"data row177 col4\" >20.000000</td>\n            </tr>\n            <tr>\n                        <th id=\"T_fe8f6143_cdcd_11ea_b7fa_7989de7c49bflevel0_row178\" class=\"row_heading level0 row178\" >178</th>\n                        <td id=\"T_fe8f6143_cdcd_11ea_b7fa_7989de7c49bfrow178_col0\" class=\"data row178 col0\" >Fiji</td>\n                        <td id=\"T_fe8f6143_cdcd_11ea_b7fa_7989de7c49bfrow178_col1\" class=\"data row178 col1\" >27.000000</td>\n                        <td id=\"T_fe8f6143_cdcd_11ea_b7fa_7989de7c49bfrow178_col2\" class=\"data row178 col2\" >0.000000</td>\n                        <td id=\"T_fe8f6143_cdcd_11ea_b7fa_7989de7c49bfrow178_col3\" class=\"data row178 col3\" >18.000000</td>\n                        <td id=\"T_fe8f6143_cdcd_11ea_b7fa_7989de7c49bfrow178_col4\" class=\"data row178 col4\" >9.000000</td>\n            </tr>\n            <tr>\n                        <th id=\"T_fe8f6143_cdcd_11ea_b7fa_7989de7c49bflevel0_row179\" class=\"row_heading level0 row179\" >179</th>\n                        <td id=\"T_fe8f6143_cdcd_11ea_b7fa_7989de7c49bfrow179_col0\" class=\"data row179 col0\" >Saint Lucia</td>\n                        <td id=\"T_fe8f6143_cdcd_11ea_b7fa_7989de7c49bfrow179_col1\" class=\"data row179 col1\" >24.000000</td>\n                        <td id=\"T_fe8f6143_cdcd_11ea_b7fa_7989de7c49bfrow179_col2\" class=\"data row179 col2\" >0.000000</td>\n                        <td id=\"T_fe8f6143_cdcd_11ea_b7fa_7989de7c49bfrow179_col3\" class=\"data row179 col3\" >22.000000</td>\n                        <td id=\"T_fe8f6143_cdcd_11ea_b7fa_7989de7c49bfrow179_col4\" class=\"data row179 col4\" >2.000000</td>\n            </tr>\n            <tr>\n                        <th id=\"T_fe8f6143_cdcd_11ea_b7fa_7989de7c49bflevel0_row180\" class=\"row_heading level0 row180\" >180</th>\n                        <td id=\"T_fe8f6143_cdcd_11ea_b7fa_7989de7c49bfrow180_col0\" class=\"data row180 col0\" >Timor-Leste</td>\n                        <td id=\"T_fe8f6143_cdcd_11ea_b7fa_7989de7c49bfrow180_col1\" class=\"data row180 col1\" >24.000000</td>\n                        <td id=\"T_fe8f6143_cdcd_11ea_b7fa_7989de7c49bfrow180_col2\" class=\"data row180 col2\" >0.000000</td>\n                        <td id=\"T_fe8f6143_cdcd_11ea_b7fa_7989de7c49bfrow180_col3\" class=\"data row180 col3\" >24.000000</td>\n                        <td id=\"T_fe8f6143_cdcd_11ea_b7fa_7989de7c49bfrow180_col4\" class=\"data row180 col4\" >0.000000</td>\n            </tr>\n            <tr>\n                        <th id=\"T_fe8f6143_cdcd_11ea_b7fa_7989de7c49bflevel0_row181\" class=\"row_heading level0 row181\" >181</th>\n                        <td id=\"T_fe8f6143_cdcd_11ea_b7fa_7989de7c49bfrow181_col0\" class=\"data row181 col0\" >Grenada</td>\n                        <td id=\"T_fe8f6143_cdcd_11ea_b7fa_7989de7c49bfrow181_col1\" class=\"data row181 col1\" >23.000000</td>\n                        <td id=\"T_fe8f6143_cdcd_11ea_b7fa_7989de7c49bfrow181_col2\" class=\"data row181 col2\" >0.000000</td>\n                        <td id=\"T_fe8f6143_cdcd_11ea_b7fa_7989de7c49bfrow181_col3\" class=\"data row181 col3\" >23.000000</td>\n                        <td id=\"T_fe8f6143_cdcd_11ea_b7fa_7989de7c49bfrow181_col4\" class=\"data row181 col4\" >0.000000</td>\n            </tr>\n            <tr>\n                        <th id=\"T_fe8f6143_cdcd_11ea_b7fa_7989de7c49bflevel0_row182\" class=\"row_heading level0 row182\" >182</th>\n                        <td id=\"T_fe8f6143_cdcd_11ea_b7fa_7989de7c49bfrow182_col0\" class=\"data row182 col0\" >Laos</td>\n                        <td id=\"T_fe8f6143_cdcd_11ea_b7fa_7989de7c49bfrow182_col1\" class=\"data row182 col1\" >20.000000</td>\n                        <td id=\"T_fe8f6143_cdcd_11ea_b7fa_7989de7c49bfrow182_col2\" class=\"data row182 col2\" >0.000000</td>\n                        <td id=\"T_fe8f6143_cdcd_11ea_b7fa_7989de7c49bfrow182_col3\" class=\"data row182 col3\" >19.000000</td>\n                        <td id=\"T_fe8f6143_cdcd_11ea_b7fa_7989de7c49bfrow182_col4\" class=\"data row182 col4\" >1.000000</td>\n            </tr>\n            <tr>\n                        <th id=\"T_fe8f6143_cdcd_11ea_b7fa_7989de7c49bflevel0_row183\" class=\"row_heading level0 row183\" >183</th>\n                        <td id=\"T_fe8f6143_cdcd_11ea_b7fa_7989de7c49bfrow183_col0\" class=\"data row183 col0\" >Dominica</td>\n                        <td id=\"T_fe8f6143_cdcd_11ea_b7fa_7989de7c49bfrow183_col1\" class=\"data row183 col1\" >18.000000</td>\n                        <td id=\"T_fe8f6143_cdcd_11ea_b7fa_7989de7c49bfrow183_col2\" class=\"data row183 col2\" >0.000000</td>\n                        <td id=\"T_fe8f6143_cdcd_11ea_b7fa_7989de7c49bfrow183_col3\" class=\"data row183 col3\" >18.000000</td>\n                        <td id=\"T_fe8f6143_cdcd_11ea_b7fa_7989de7c49bfrow183_col4\" class=\"data row183 col4\" >0.000000</td>\n            </tr>\n            <tr>\n                        <th id=\"T_fe8f6143_cdcd_11ea_b7fa_7989de7c49bflevel0_row184\" class=\"row_heading level0 row184\" >184</th>\n                        <td id=\"T_fe8f6143_cdcd_11ea_b7fa_7989de7c49bfrow184_col0\" class=\"data row184 col0\" >Saint Kitts and Nevis</td>\n                        <td id=\"T_fe8f6143_cdcd_11ea_b7fa_7989de7c49bfrow184_col1\" class=\"data row184 col1\" >17.000000</td>\n                        <td id=\"T_fe8f6143_cdcd_11ea_b7fa_7989de7c49bfrow184_col2\" class=\"data row184 col2\" >0.000000</td>\n                        <td id=\"T_fe8f6143_cdcd_11ea_b7fa_7989de7c49bfrow184_col3\" class=\"data row184 col3\" >15.000000</td>\n                        <td id=\"T_fe8f6143_cdcd_11ea_b7fa_7989de7c49bfrow184_col4\" class=\"data row184 col4\" >2.000000</td>\n            </tr>\n            <tr>\n                        <th id=\"T_fe8f6143_cdcd_11ea_b7fa_7989de7c49bflevel0_row185\" class=\"row_heading level0 row185\" >185</th>\n                        <td id=\"T_fe8f6143_cdcd_11ea_b7fa_7989de7c49bfrow185_col0\" class=\"data row185 col0\" >Holy See</td>\n                        <td id=\"T_fe8f6143_cdcd_11ea_b7fa_7989de7c49bfrow185_col1\" class=\"data row185 col1\" >12.000000</td>\n                        <td id=\"T_fe8f6143_cdcd_11ea_b7fa_7989de7c49bfrow185_col2\" class=\"data row185 col2\" >0.000000</td>\n                        <td id=\"T_fe8f6143_cdcd_11ea_b7fa_7989de7c49bfrow185_col3\" class=\"data row185 col3\" >12.000000</td>\n                        <td id=\"T_fe8f6143_cdcd_11ea_b7fa_7989de7c49bfrow185_col4\" class=\"data row185 col4\" >0.000000</td>\n            </tr>\n            <tr>\n                        <th id=\"T_fe8f6143_cdcd_11ea_b7fa_7989de7c49bflevel0_row186\" class=\"row_heading level0 row186\" >186</th>\n                        <td id=\"T_fe8f6143_cdcd_11ea_b7fa_7989de7c49bfrow186_col0\" class=\"data row186 col0\" >Western Sahara</td>\n                        <td id=\"T_fe8f6143_cdcd_11ea_b7fa_7989de7c49bfrow186_col1\" class=\"data row186 col1\" >10.000000</td>\n                        <td id=\"T_fe8f6143_cdcd_11ea_b7fa_7989de7c49bfrow186_col2\" class=\"data row186 col2\" >1.000000</td>\n                        <td id=\"T_fe8f6143_cdcd_11ea_b7fa_7989de7c49bfrow186_col3\" class=\"data row186 col3\" >8.000000</td>\n                        <td id=\"T_fe8f6143_cdcd_11ea_b7fa_7989de7c49bfrow186_col4\" class=\"data row186 col4\" >1.000000</td>\n            </tr>\n            <tr>\n                        <th id=\"T_fe8f6143_cdcd_11ea_b7fa_7989de7c49bflevel0_row187\" class=\"row_heading level0 row187\" >187</th>\n                        <td id=\"T_fe8f6143_cdcd_11ea_b7fa_7989de7c49bfrow187_col0\" class=\"data row187 col0\" >MS Zaandam</td>\n                        <td id=\"T_fe8f6143_cdcd_11ea_b7fa_7989de7c49bfrow187_col1\" class=\"data row187 col1\" >9.000000</td>\n                        <td id=\"T_fe8f6143_cdcd_11ea_b7fa_7989de7c49bfrow187_col2\" class=\"data row187 col2\" >2.000000</td>\n                        <td id=\"T_fe8f6143_cdcd_11ea_b7fa_7989de7c49bfrow187_col3\" class=\"data row187 col3\" >nan</td>\n                        <td id=\"T_fe8f6143_cdcd_11ea_b7fa_7989de7c49bfrow187_col4\" class=\"data row187 col4\" >7.000000</td>\n            </tr>\n    </tbody></table>"
     },
     "metadata": {},
     "execution_count": 7
    }
   ],
   "source": [
    "cases_country_df.copy().drop(['Last_Update', 'Lat', 'Long_','Incident_Rate', 'People_Tested','People_Hospitalized', 'Mortality_Rate', 'UID', 'ISO3'],axis=1).sort_values('Confirmed',ascending=False).reset_index(drop=True).style.bar(align='left',width=98,color='#d65f5f')"
   ]
  },
  {
   "cell_type": "code",
   "execution_count": 25,
   "metadata": {},
   "outputs": [],
   "source": [
    "color_arr = px.colors.qualitative.Dark24"
   ]
  },
  {
   "cell_type": "code",
   "execution_count": 26,
   "metadata": {},
   "outputs": [],
   "source": [
    "def draw_plot(ts_array,ts_label,title,colors,mode_size,line_size,x_axis_title,y_axis_title,tickangle=0,yaxis_type=\"\",additional_annotations=[]):\n",
    "    fig = go.Figure()\n",
    "    for index,ts in enumerate(ts_array):\n",
    "        fig.add_trace(go.Scatter(x = ts.index,y = ts.values,name = ts_label[index],line=dict(color=colors[index],width=line_size[index]),connectgaps=True,))\n",
    "    x_axis_dict = dict(showline=True,showgrid=True,showticklabels=True,linecolor='rgb(204,204,204)',linewidth=2,ticks='outside',tickfont=dict(family='Arial',size=12,color='rgb(82,82,82)',))\n",
    "    if x_axis_title:\n",
    "        x_axis_dict['title'] =x_axis_title\n",
    "    if tickangle > 0:\n",
    "        x_axis_dict['tickangle'] = tickangle\n",
    "    y_axis_dict = dict(showline = True,showgrid=True,showticklabels=True,linecolor='rgb(204,204,204)',linewidth=2,)\n",
    "    if yaxis_type != \"\":\n",
    "        y_axis_dict['type'] = yaxis_type\n",
    "    if y_axis_title:\n",
    "        y_axis_dict['title'] = y_axis_title\n",
    "    fig.update_layout(xaxis = x_axis_dict,yaxis=y_axis_dict,autosize=True,margin=dict(autoexpand=True,l=100,r=20,t=110,),showlegend=True,)\n",
    "    annotations = []\n",
    "    annotations.append(dict(xref='paper',yref='paper',x = 0.0,y = 1.05,xanchor='left',yanchor='bottom',text=title,font=dict(family='Arial',size=16,color='rgb(37,37,37)'),showarrow=False))\n",
    "    if len(additional_annotations) > 0:\n",
    "        annotations.append(additional_annotations)\n",
    "    fig.update_layout(annotations=annotations)\n",
    "    return fig\n",
    "\n",
    "\n",
    "\n",
    "\n"
   ]
  },
  {
   "cell_type": "code",
   "execution_count": 32,
   "metadata": {},
   "outputs": [],
   "source": [
    "confirmed_agg_ts = confirmed_df.copy().drop(['Lat', 'Long','Country/Region', 'Lat', 'Long','Province/State'],axis=1).sum()\n",
    "death_agg_ts = death_df.copy().drop(['Lat', 'Long','Country/Region', 'Lat', 'Long','Province/State'],axis=1).sum()\n",
    "recovered_agg_ts = recovered_df.copy().drop(['Lat', 'Long','Country/Region', 'Lat', 'Long','Province/State'],axis=1).sum()\n",
    "active_agg_ts = pd.Series(\n",
    "    data=np.array(\n",
    "        [x1 - x2 - x3 for [x1,x2,x3] in zip(confirmed_agg_ts.values,death_agg_ts.values,recovered_agg_ts.values)]\n",
    "    ),index=confirmed_agg_ts.index\n",
    ")"
   ]
  },
  {
   "cell_type": "code",
   "execution_count": 38,
   "metadata": {},
   "outputs": [
    {
     "output_type": "display_data",
     "data": {
      "application/vnd.plotly.v1+json": {
       "config": {
        "plotlyServerURL": "https://plot.ly"
       },
       "data": [
        {
         "connectgaps": true,
         "line": {
          "color": "#222A2A",
          "width": 2
         },
         "name": "Confirmed",
         "type": "scatter",
         "x": [
          "1/22/20",
          "1/23/20",
          "1/24/20",
          "1/25/20",
          "1/26/20",
          "1/27/20",
          "1/28/20",
          "1/29/20",
          "1/30/20",
          "1/31/20",
          "2/1/20",
          "2/2/20",
          "2/3/20",
          "2/4/20",
          "2/5/20",
          "2/6/20",
          "2/7/20",
          "2/8/20",
          "2/9/20",
          "2/10/20",
          "2/11/20",
          "2/12/20",
          "2/13/20",
          "2/14/20",
          "2/15/20",
          "2/16/20",
          "2/17/20",
          "2/18/20",
          "2/19/20",
          "2/20/20",
          "2/21/20",
          "2/22/20",
          "2/23/20",
          "2/24/20",
          "2/25/20",
          "2/26/20",
          "2/27/20",
          "2/28/20",
          "2/29/20",
          "3/1/20",
          "3/2/20",
          "3/3/20",
          "3/4/20",
          "3/5/20",
          "3/6/20",
          "3/7/20",
          "3/8/20",
          "3/9/20",
          "3/10/20",
          "3/11/20",
          "3/12/20",
          "3/13/20",
          "3/14/20",
          "3/15/20",
          "3/16/20",
          "3/17/20",
          "3/18/20",
          "3/19/20",
          "3/20/20",
          "3/21/20",
          "3/22/20",
          "3/23/20",
          "3/24/20",
          "3/25/20",
          "3/26/20",
          "3/27/20",
          "3/28/20",
          "3/29/20",
          "3/30/20",
          "3/31/20",
          "4/1/20",
          "4/2/20",
          "4/3/20",
          "4/4/20",
          "4/5/20",
          "4/6/20",
          "4/7/20",
          "4/8/20",
          "4/9/20",
          "4/10/20",
          "4/11/20",
          "4/12/20",
          "4/13/20",
          "4/14/20",
          "4/15/20",
          "4/16/20",
          "4/17/20",
          "4/18/20",
          "4/19/20",
          "4/20/20",
          "4/21/20",
          "4/22/20",
          "4/23/20",
          "4/24/20",
          "4/25/20",
          "4/26/20",
          "4/27/20",
          "4/28/20",
          "4/29/20",
          "4/30/20",
          "5/1/20",
          "5/2/20",
          "5/3/20",
          "5/4/20",
          "5/5/20",
          "5/6/20",
          "5/7/20",
          "5/8/20",
          "5/9/20",
          "5/10/20",
          "5/11/20",
          "5/12/20",
          "5/13/20",
          "5/14/20",
          "5/15/20",
          "5/16/20",
          "5/17/20",
          "5/18/20",
          "5/19/20",
          "5/20/20",
          "5/21/20",
          "5/22/20",
          "5/23/20",
          "5/24/20",
          "5/25/20",
          "5/26/20",
          "5/27/20",
          "5/28/20",
          "5/29/20",
          "5/30/20",
          "5/31/20",
          "6/1/20",
          "6/2/20",
          "6/3/20",
          "6/4/20",
          "6/5/20",
          "6/6/20",
          "6/7/20",
          "6/8/20",
          "6/9/20",
          "6/10/20",
          "6/11/20",
          "6/12/20",
          "6/13/20",
          "6/14/20",
          "6/15/20",
          "6/16/20",
          "6/17/20",
          "6/18/20",
          "6/19/20",
          "6/20/20",
          "6/21/20",
          "6/22/20",
          "6/23/20",
          "6/24/20",
          "6/25/20",
          "6/26/20",
          "6/27/20",
          "6/28/20",
          "6/29/20",
          "6/30/20",
          "7/1/20",
          "7/2/20",
          "7/3/20",
          "7/4/20",
          "7/5/20",
          "7/6/20",
          "7/7/20",
          "7/8/20",
          "7/9/20",
          "7/10/20",
          "7/11/20",
          "7/12/20",
          "7/13/20",
          "7/14/20",
          "7/15/20",
          "7/16/20",
          "7/17/20",
          "7/18/20",
          "7/19/20",
          "7/20/20",
          "7/21/20",
          "7/22/20",
          "7/23/20"
         ],
         "y": [
          555,
          654,
          941,
          1434,
          2118,
          2927,
          5578,
          6166,
          8234,
          9927,
          12038,
          16787,
          19887,
          23898,
          27643,
          30802,
          34395,
          37129,
          40159,
          42768,
          44810,
          45228,
          60381,
          66908,
          69050,
          71234,
          73269,
          75151,
          75651,
          76211,
          76840,
          78601,
          78979,
          79543,
          80396,
          81373,
          82737,
          84114,
          86009,
          88386,
          90360,
          92938,
          95237,
          98028,
          101971,
          106009,
          109960,
          113860,
          118884,
          126547,
          132297,
          146704,
          157795,
          168941,
          183600,
          199444,
          219037,
          246955,
          276564,
          308842,
          342255,
          384420,
          425559,
          476376,
          539336,
          603736,
          671344,
          730921,
          795560,
          871976,
          948197,
          1029598,
          1112753,
          1193128,
          1264846,
          1337518,
          1414391,
          1498166,
          1584791,
          1672449,
          1749169,
          1845951,
          1915545,
          1985472,
          2066301,
          2163013,
          2250737,
          2324265,
          2404790,
          2478129,
          2553379,
          2630185,
          2719198,
          2806138,
          2890259,
          2963206,
          3031910,
          3107209,
          3184255,
          3267936,
          3354984,
          3435571,
          3513207,
          3589284,
          3669273,
          3759295,
          3848381,
          3939898,
          4023533,
          4099779,
          4176020,
          4259619,
          4344371,
          4441476,
          4537825,
          4629638,
          4708147,
          4796431,
          4892855,
          4995883,
          5102217,
          5209117,
          5308100,
          5403426,
          5490389,
          5582911,
          5685511,
          5804825,
          5925992,
          6054857,
          6162409,
          6257605,
          6378415,
          6497803,
          6624740,
          6755603,
          6882801,
          6995060,
          7097285,
          7221627,
          7355652,
          7493766,
          7622860,
          7757197,
          7890618,
          8010256,
          8151659,
          8327791,
          8467719,
          8648525,
          8806077,
          8934616,
          9072474,
          9237812,
          9408995,
          9586882,
          9778228,
          9956338,
          10117968,
          10276540,
          10450438,
          10668127,
          10875832,
          11079326,
          11272893,
          11455588,
          11622931,
          11833775,
          12045577,
          12273804,
          12506381,
          12722709,
          12915377,
          13108156,
          13329608,
          13560727,
          13813268,
          14055307,
          14292942,
          14507589,
          14714367,
          14947822,
          15228433,
          15511157
         ]
        },
        {
         "connectgaps": true,
         "line": {
          "color": "#2E91E5",
          "width": 2
         },
         "name": "Active",
         "type": "scatter",
         "x": [
          "1/22/20",
          "1/23/20",
          "1/24/20",
          "1/25/20",
          "1/26/20",
          "1/27/20",
          "1/28/20",
          "1/29/20",
          "1/30/20",
          "1/31/20",
          "2/1/20",
          "2/2/20",
          "2/3/20",
          "2/4/20",
          "2/5/20",
          "2/6/20",
          "2/7/20",
          "2/8/20",
          "2/9/20",
          "2/10/20",
          "2/11/20",
          "2/12/20",
          "2/13/20",
          "2/14/20",
          "2/15/20",
          "2/16/20",
          "2/17/20",
          "2/18/20",
          "2/19/20",
          "2/20/20",
          "2/21/20",
          "2/22/20",
          "2/23/20",
          "2/24/20",
          "2/25/20",
          "2/26/20",
          "2/27/20",
          "2/28/20",
          "2/29/20",
          "3/1/20",
          "3/2/20",
          "3/3/20",
          "3/4/20",
          "3/5/20",
          "3/6/20",
          "3/7/20",
          "3/8/20",
          "3/9/20",
          "3/10/20",
          "3/11/20",
          "3/12/20",
          "3/13/20",
          "3/14/20",
          "3/15/20",
          "3/16/20",
          "3/17/20",
          "3/18/20",
          "3/19/20",
          "3/20/20",
          "3/21/20",
          "3/22/20",
          "3/23/20",
          "3/24/20",
          "3/25/20",
          "3/26/20",
          "3/27/20",
          "3/28/20",
          "3/29/20",
          "3/30/20",
          "3/31/20",
          "4/1/20",
          "4/2/20",
          "4/3/20",
          "4/4/20",
          "4/5/20",
          "4/6/20",
          "4/7/20",
          "4/8/20",
          "4/9/20",
          "4/10/20",
          "4/11/20",
          "4/12/20",
          "4/13/20",
          "4/14/20",
          "4/15/20",
          "4/16/20",
          "4/17/20",
          "4/18/20",
          "4/19/20",
          "4/20/20",
          "4/21/20",
          "4/22/20",
          "4/23/20",
          "4/24/20",
          "4/25/20",
          "4/26/20",
          "4/27/20",
          "4/28/20",
          "4/29/20",
          "4/30/20",
          "5/1/20",
          "5/2/20",
          "5/3/20",
          "5/4/20",
          "5/5/20",
          "5/6/20",
          "5/7/20",
          "5/8/20",
          "5/9/20",
          "5/10/20",
          "5/11/20",
          "5/12/20",
          "5/13/20",
          "5/14/20",
          "5/15/20",
          "5/16/20",
          "5/17/20",
          "5/18/20",
          "5/19/20",
          "5/20/20",
          "5/21/20",
          "5/22/20",
          "5/23/20",
          "5/24/20",
          "5/25/20",
          "5/26/20",
          "5/27/20",
          "5/28/20",
          "5/29/20",
          "5/30/20",
          "5/31/20",
          "6/1/20",
          "6/2/20",
          "6/3/20",
          "6/4/20",
          "6/5/20",
          "6/6/20",
          "6/7/20",
          "6/8/20",
          "6/9/20",
          "6/10/20",
          "6/11/20",
          "6/12/20",
          "6/13/20",
          "6/14/20",
          "6/15/20",
          "6/16/20",
          "6/17/20",
          "6/18/20",
          "6/19/20",
          "6/20/20",
          "6/21/20",
          "6/22/20",
          "6/23/20",
          "6/24/20",
          "6/25/20",
          "6/26/20",
          "6/27/20",
          "6/28/20",
          "6/29/20",
          "6/30/20",
          "7/1/20",
          "7/2/20",
          "7/3/20",
          "7/4/20",
          "7/5/20",
          "7/6/20",
          "7/7/20",
          "7/8/20",
          "7/9/20",
          "7/10/20",
          "7/11/20",
          "7/12/20",
          "7/13/20",
          "7/14/20",
          "7/15/20",
          "7/16/20",
          "7/17/20",
          "7/18/20",
          "7/19/20",
          "7/20/20",
          "7/21/20",
          "7/22/20",
          "7/23/20"
         ],
         "y": [
          510,
          606,
          879,
          1353,
          2010,
          2784,
          5340,
          5907,
          7920,
          9492,
          11495,
          15953,
          18838,
          22554,
          25955,
          28681,
          31665,
          33707,
          36009,
          37809,
          39014,
          38960,
          52715,
          57327,
          57989,
          58599,
          58818,
          58791,
          57407,
          55786,
          55698,
          53256,
          53115,
          51686,
          49781,
          48218,
          46646,
          44530,
          43285,
          42674,
          41673,
          41550,
          40812,
          40884,
          42646,
          44091,
          45463,
          47380,
          50214,
          54934,
          59057,
          71040,
          79343,
          86438,
          98363,
          110651,
          126864,
          152039,
          177725,
          204030,
          229530,
          269312,
          298540,
          340797,
          392380,
          444486,
          499912,
          546549,
          591578,
          649657,
          705232,
          763283,
          825005,
          879122,
          931979,
          982239,
          1027819,
          1076143,
          1129798,
          1188361,
          1232763,
          1304406,
          1341087,
          1379022,
          1414872,
          1473473,
          1526186,
          1569320,
          1613620,
          1659514,
          1692780,
          1732401,
          1785773,
          1816006,
          1866770,
          1907231,
          1943483,
          1979052,
          2007162,
          2019910,
          2063550,
          2097895,
          2139755,
          2177640,
          2215153,
          2252587,
          2296767,
          2346194,
          2372015,
          2411101,
          2436875,
          2477892,
          2501574,
          2553676,
          2596821,
          2627872,
          2662166,
          2694261,
          2733736,
          2772966,
          2823249,
          2816214,
          2856237,
          2892983,
          2915045,
          2948150,
          2982144,
          3029900,
          3068998,
          3123235,
          3151591,
          3188824,
          3200688,
          3235362,
          3287121,
          3344052,
          3395167,
          3449591,
          3396521,
          3433681,
          3483362,
          3530813,
          3575894,
          3620052,
          3679321,
          3715326,
          3752032,
          3804127,
          3857884,
          3937407,
          3974892,
          4030769,
          4073365,
          4129339,
          4179540,
          4258007,
          4337887,
          4405207,
          4474715,
          4534653,
          4586026,
          4682782,
          4600494,
          4689156,
          4682638,
          4742449,
          4782383,
          4842095,
          4890629,
          4978884,
          5066758,
          5152409,
          5229475,
          5278032,
          5351727,
          5417572,
          5512027,
          5563930,
          5644981,
          5767722,
          5811456,
          5864197,
          5961281,
          6063875
         ]
        },
        {
         "connectgaps": true,
         "line": {
          "color": "#1CA71C",
          "width": 4
         },
         "name": "Recovered",
         "type": "scatter",
         "x": [
          "1/22/20",
          "1/23/20",
          "1/24/20",
          "1/25/20",
          "1/26/20",
          "1/27/20",
          "1/28/20",
          "1/29/20",
          "1/30/20",
          "1/31/20",
          "2/1/20",
          "2/2/20",
          "2/3/20",
          "2/4/20",
          "2/5/20",
          "2/6/20",
          "2/7/20",
          "2/8/20",
          "2/9/20",
          "2/10/20",
          "2/11/20",
          "2/12/20",
          "2/13/20",
          "2/14/20",
          "2/15/20",
          "2/16/20",
          "2/17/20",
          "2/18/20",
          "2/19/20",
          "2/20/20",
          "2/21/20",
          "2/22/20",
          "2/23/20",
          "2/24/20",
          "2/25/20",
          "2/26/20",
          "2/27/20",
          "2/28/20",
          "2/29/20",
          "3/1/20",
          "3/2/20",
          "3/3/20",
          "3/4/20",
          "3/5/20",
          "3/6/20",
          "3/7/20",
          "3/8/20",
          "3/9/20",
          "3/10/20",
          "3/11/20",
          "3/12/20",
          "3/13/20",
          "3/14/20",
          "3/15/20",
          "3/16/20",
          "3/17/20",
          "3/18/20",
          "3/19/20",
          "3/20/20",
          "3/21/20",
          "3/22/20",
          "3/23/20",
          "3/24/20",
          "3/25/20",
          "3/26/20",
          "3/27/20",
          "3/28/20",
          "3/29/20",
          "3/30/20",
          "3/31/20",
          "4/1/20",
          "4/2/20",
          "4/3/20",
          "4/4/20",
          "4/5/20",
          "4/6/20",
          "4/7/20",
          "4/8/20",
          "4/9/20",
          "4/10/20",
          "4/11/20",
          "4/12/20",
          "4/13/20",
          "4/14/20",
          "4/15/20",
          "4/16/20",
          "4/17/20",
          "4/18/20",
          "4/19/20",
          "4/20/20",
          "4/21/20",
          "4/22/20",
          "4/23/20",
          "4/24/20",
          "4/25/20",
          "4/26/20",
          "4/27/20",
          "4/28/20",
          "4/29/20",
          "4/30/20",
          "5/1/20",
          "5/2/20",
          "5/3/20",
          "5/4/20",
          "5/5/20",
          "5/6/20",
          "5/7/20",
          "5/8/20",
          "5/9/20",
          "5/10/20",
          "5/11/20",
          "5/12/20",
          "5/13/20",
          "5/14/20",
          "5/15/20",
          "5/16/20",
          "5/17/20",
          "5/18/20",
          "5/19/20",
          "5/20/20",
          "5/21/20",
          "5/22/20",
          "5/23/20",
          "5/24/20",
          "5/25/20",
          "5/26/20",
          "5/27/20",
          "5/28/20",
          "5/29/20",
          "5/30/20",
          "5/31/20",
          "6/1/20",
          "6/2/20",
          "6/3/20",
          "6/4/20",
          "6/5/20",
          "6/6/20",
          "6/7/20",
          "6/8/20",
          "6/9/20",
          "6/10/20",
          "6/11/20",
          "6/12/20",
          "6/13/20",
          "6/14/20",
          "6/15/20",
          "6/16/20",
          "6/17/20",
          "6/18/20",
          "6/19/20",
          "6/20/20",
          "6/21/20",
          "6/22/20",
          "6/23/20",
          "6/24/20",
          "6/25/20",
          "6/26/20",
          "6/27/20",
          "6/28/20",
          "6/29/20",
          "6/30/20",
          "7/1/20",
          "7/2/20",
          "7/3/20",
          "7/4/20",
          "7/5/20",
          "7/6/20",
          "7/7/20",
          "7/8/20",
          "7/9/20",
          "7/10/20",
          "7/11/20",
          "7/12/20",
          "7/13/20",
          "7/14/20",
          "7/15/20",
          "7/16/20",
          "7/17/20",
          "7/18/20",
          "7/19/20",
          "7/20/20",
          "7/21/20",
          "7/22/20",
          "7/23/20"
         ],
         "y": [
          28,
          30,
          36,
          39,
          52,
          61,
          107,
          126,
          143,
          222,
          284,
          472,
          623,
          852,
          1124,
          1487,
          2011,
          2616,
          3244,
          3946,
          4683,
          5150,
          6295,
          8058,
          9395,
          10865,
          12583,
          14352,
          16121,
          18177,
          18890,
          22886,
          23394,
          25227,
          27905,
          30384,
          33277,
          36711,
          39782,
          42716,
          45602,
          48228,
          51170,
          53796,
          55865,
          58359,
          60694,
          62493,
          64404,
          67002,
          68324,
          70251,
          72622,
          76032,
          78086,
          80838,
          83321,
          84958,
          87403,
          91670,
          97885,
          98351,
          107992,
          113775,
          122145,
          130921,
          139424,
          148891,
          164337,
          177830,
          192922,
          209967,
          225415,
          245832,
          259672,
          276252,
          299643,
          328359,
          353700,
          375523,
          401772,
          421180,
          448346,
          473439,
          510106,
          540934,
          567054,
          590977,
          622632,
          644634,
          679461,
          709891,
          738682,
          788715,
          816494,
          845097,
          872900,
          906167,
          948335,
          1013306,
          1051537,
          1092454,
          1124777,
          1158841,
          1195446,
          1241365,
          1280862,
          1317384,
          1370933,
          1404527,
          1451521,
          1488556,
          1544398,
          1584133,
          1632122,
          1688713,
          1729599,
          1782497,
          1834662,
          1893575,
          1944840,
          2053491,
          2108462,
          2163902,
          2227625,
          2282839,
          2346232,
          2413089,
          2490416,
          2560888,
          2637196,
          2692091,
          2796214,
          2875356,
          2945385,
          3014541,
          3086743,
          3141836,
          3293434,
          3375694,
          3454833,
          3540722,
          3620438,
          3706379,
          3777157,
          3857365,
          3955195,
          4073977,
          4155119,
          4250129,
          4365947,
          4434646,
          4526337,
          4630390,
          4746111,
          4838904,
          4945543,
          5051847,
          5140880,
          5235793,
          5353186,
          5469108,
          5753981,
          5863818,
          6059534,
          6178973,
          6302585,
          6447610,
          6605559,
          6740073,
          6879465,
          7005245,
          7116893,
          7257300,
          7399397,
          7559178,
          7711465,
          7894858,
          8045815,
          8133692,
          8292688,
          8467178,
          8643722,
          8813886
         ]
        },
        {
         "connectgaps": true,
         "line": {
          "color": "#FB0D0D",
          "width": 2
         },
         "name": "Deaths",
         "type": "scatter",
         "x": [
          "1/22/20",
          "1/23/20",
          "1/24/20",
          "1/25/20",
          "1/26/20",
          "1/27/20",
          "1/28/20",
          "1/29/20",
          "1/30/20",
          "1/31/20",
          "2/1/20",
          "2/2/20",
          "2/3/20",
          "2/4/20",
          "2/5/20",
          "2/6/20",
          "2/7/20",
          "2/8/20",
          "2/9/20",
          "2/10/20",
          "2/11/20",
          "2/12/20",
          "2/13/20",
          "2/14/20",
          "2/15/20",
          "2/16/20",
          "2/17/20",
          "2/18/20",
          "2/19/20",
          "2/20/20",
          "2/21/20",
          "2/22/20",
          "2/23/20",
          "2/24/20",
          "2/25/20",
          "2/26/20",
          "2/27/20",
          "2/28/20",
          "2/29/20",
          "3/1/20",
          "3/2/20",
          "3/3/20",
          "3/4/20",
          "3/5/20",
          "3/6/20",
          "3/7/20",
          "3/8/20",
          "3/9/20",
          "3/10/20",
          "3/11/20",
          "3/12/20",
          "3/13/20",
          "3/14/20",
          "3/15/20",
          "3/16/20",
          "3/17/20",
          "3/18/20",
          "3/19/20",
          "3/20/20",
          "3/21/20",
          "3/22/20",
          "3/23/20",
          "3/24/20",
          "3/25/20",
          "3/26/20",
          "3/27/20",
          "3/28/20",
          "3/29/20",
          "3/30/20",
          "3/31/20",
          "4/1/20",
          "4/2/20",
          "4/3/20",
          "4/4/20",
          "4/5/20",
          "4/6/20",
          "4/7/20",
          "4/8/20",
          "4/9/20",
          "4/10/20",
          "4/11/20",
          "4/12/20",
          "4/13/20",
          "4/14/20",
          "4/15/20",
          "4/16/20",
          "4/17/20",
          "4/18/20",
          "4/19/20",
          "4/20/20",
          "4/21/20",
          "4/22/20",
          "4/23/20",
          "4/24/20",
          "4/25/20",
          "4/26/20",
          "4/27/20",
          "4/28/20",
          "4/29/20",
          "4/30/20",
          "5/1/20",
          "5/2/20",
          "5/3/20",
          "5/4/20",
          "5/5/20",
          "5/6/20",
          "5/7/20",
          "5/8/20",
          "5/9/20",
          "5/10/20",
          "5/11/20",
          "5/12/20",
          "5/13/20",
          "5/14/20",
          "5/15/20",
          "5/16/20",
          "5/17/20",
          "5/18/20",
          "5/19/20",
          "5/20/20",
          "5/21/20",
          "5/22/20",
          "5/23/20",
          "5/24/20",
          "5/25/20",
          "5/26/20",
          "5/27/20",
          "5/28/20",
          "5/29/20",
          "5/30/20",
          "5/31/20",
          "6/1/20",
          "6/2/20",
          "6/3/20",
          "6/4/20",
          "6/5/20",
          "6/6/20",
          "6/7/20",
          "6/8/20",
          "6/9/20",
          "6/10/20",
          "6/11/20",
          "6/12/20",
          "6/13/20",
          "6/14/20",
          "6/15/20",
          "6/16/20",
          "6/17/20",
          "6/18/20",
          "6/19/20",
          "6/20/20",
          "6/21/20",
          "6/22/20",
          "6/23/20",
          "6/24/20",
          "6/25/20",
          "6/26/20",
          "6/27/20",
          "6/28/20",
          "6/29/20",
          "6/30/20",
          "7/1/20",
          "7/2/20",
          "7/3/20",
          "7/4/20",
          "7/5/20",
          "7/6/20",
          "7/7/20",
          "7/8/20",
          "7/9/20",
          "7/10/20",
          "7/11/20",
          "7/12/20",
          "7/13/20",
          "7/14/20",
          "7/15/20",
          "7/16/20",
          "7/17/20",
          "7/18/20",
          "7/19/20",
          "7/20/20",
          "7/21/20",
          "7/22/20",
          "7/23/20"
         ],
         "y": [
          17,
          18,
          26,
          42,
          56,
          82,
          131,
          133,
          171,
          213,
          259,
          362,
          426,
          492,
          564,
          634,
          719,
          806,
          906,
          1013,
          1113,
          1118,
          1371,
          1523,
          1666,
          1770,
          1868,
          2008,
          2123,
          2248,
          2252,
          2459,
          2470,
          2630,
          2710,
          2771,
          2814,
          2873,
          2942,
          2996,
          3085,
          3160,
          3255,
          3348,
          3460,
          3559,
          3803,
          3987,
          4266,
          4611,
          4916,
          5413,
          5830,
          6471,
          7151,
          7955,
          8852,
          9958,
          11436,
          13142,
          14840,
          16757,
          19027,
          21804,
          24811,
          28329,
          32008,
          35481,
          39645,
          44489,
          50043,
          56348,
          62333,
          68174,
          73195,
          79027,
          86929,
          93664,
          101293,
          108565,
          114634,
          120365,
          126112,
          133011,
          141323,
          148606,
          157497,
          163968,
          168538,
          173981,
          181138,
          187893,
          194743,
          201417,
          206995,
          210878,
          215527,
          221990,
          228758,
          234720,
          239897,
          245222,
          248675,
          252803,
          258674,
          265343,
          270752,
          276320,
          280585,
          284151,
          287624,
          293171,
          298399,
          303667,
          308882,
          313053,
          316382,
          319673,
          324457,
          329342,
          334128,
          339412,
          343401,
          346541,
          347719,
          351922,
          357135,
          361836,
          366578,
          370734,
          373622,
          376690,
          381513,
          387085,
          392234,
          397010,
          400891,
          403633,
          407330,
          412252,
          417457,
          422231,
          426528,
          430766,
          434140,
          437565,
          444432,
          449687,
          454716,
          460989,
          465238,
          469201,
          472772,
          478083,
          483344,
          489971,
          494798,
          499284,
          502373,
          506094,
          511226,
          516237,
          521357,
          526352,
          530721,
          534166,
          537963,
          544070,
          549389,
          554847,
          560158,
          565055,
          569009,
          572824,
          578484,
          583977,
          589776,
          596519,
          602146,
          606175,
          610223,
          616447,
          623430,
          633396
         ]
        }
       ],
       "layout": {
        "annotations": [
         {
          "font": {
           "color": "rgb(37,37,37)",
           "family": "Arial",
           "size": 16
          },
          "showarrow": false,
          "text": "Covid-19 Case Status(Globally)",
          "x": 0,
          "xanchor": "left",
          "xref": "paper",
          "y": 1.05,
          "yanchor": "bottom",
          "yref": "paper"
         }
        ],
        "autosize": true,
        "margin": {
         "autoexpand": true,
         "l": 100,
         "r": 20,
         "t": 110
        },
        "showlegend": true,
        "template": {
         "data": {
          "bar": [
           {
            "error_x": {
             "color": "#2a3f5f"
            },
            "error_y": {
             "color": "#2a3f5f"
            },
            "marker": {
             "line": {
              "color": "#E5ECF6",
              "width": 0.5
             }
            },
            "type": "bar"
           }
          ],
          "barpolar": [
           {
            "marker": {
             "line": {
              "color": "#E5ECF6",
              "width": 0.5
             }
            },
            "type": "barpolar"
           }
          ],
          "carpet": [
           {
            "aaxis": {
             "endlinecolor": "#2a3f5f",
             "gridcolor": "white",
             "linecolor": "white",
             "minorgridcolor": "white",
             "startlinecolor": "#2a3f5f"
            },
            "baxis": {
             "endlinecolor": "#2a3f5f",
             "gridcolor": "white",
             "linecolor": "white",
             "minorgridcolor": "white",
             "startlinecolor": "#2a3f5f"
            },
            "type": "carpet"
           }
          ],
          "choropleth": [
           {
            "colorbar": {
             "outlinewidth": 0,
             "ticks": ""
            },
            "type": "choropleth"
           }
          ],
          "contour": [
           {
            "colorbar": {
             "outlinewidth": 0,
             "ticks": ""
            },
            "colorscale": [
             [
              0,
              "#0d0887"
             ],
             [
              0.1111111111111111,
              "#46039f"
             ],
             [
              0.2222222222222222,
              "#7201a8"
             ],
             [
              0.3333333333333333,
              "#9c179e"
             ],
             [
              0.4444444444444444,
              "#bd3786"
             ],
             [
              0.5555555555555556,
              "#d8576b"
             ],
             [
              0.6666666666666666,
              "#ed7953"
             ],
             [
              0.7777777777777778,
              "#fb9f3a"
             ],
             [
              0.8888888888888888,
              "#fdca26"
             ],
             [
              1,
              "#f0f921"
             ]
            ],
            "type": "contour"
           }
          ],
          "contourcarpet": [
           {
            "colorbar": {
             "outlinewidth": 0,
             "ticks": ""
            },
            "type": "contourcarpet"
           }
          ],
          "heatmap": [
           {
            "colorbar": {
             "outlinewidth": 0,
             "ticks": ""
            },
            "colorscale": [
             [
              0,
              "#0d0887"
             ],
             [
              0.1111111111111111,
              "#46039f"
             ],
             [
              0.2222222222222222,
              "#7201a8"
             ],
             [
              0.3333333333333333,
              "#9c179e"
             ],
             [
              0.4444444444444444,
              "#bd3786"
             ],
             [
              0.5555555555555556,
              "#d8576b"
             ],
             [
              0.6666666666666666,
              "#ed7953"
             ],
             [
              0.7777777777777778,
              "#fb9f3a"
             ],
             [
              0.8888888888888888,
              "#fdca26"
             ],
             [
              1,
              "#f0f921"
             ]
            ],
            "type": "heatmap"
           }
          ],
          "heatmapgl": [
           {
            "colorbar": {
             "outlinewidth": 0,
             "ticks": ""
            },
            "colorscale": [
             [
              0,
              "#0d0887"
             ],
             [
              0.1111111111111111,
              "#46039f"
             ],
             [
              0.2222222222222222,
              "#7201a8"
             ],
             [
              0.3333333333333333,
              "#9c179e"
             ],
             [
              0.4444444444444444,
              "#bd3786"
             ],
             [
              0.5555555555555556,
              "#d8576b"
             ],
             [
              0.6666666666666666,
              "#ed7953"
             ],
             [
              0.7777777777777778,
              "#fb9f3a"
             ],
             [
              0.8888888888888888,
              "#fdca26"
             ],
             [
              1,
              "#f0f921"
             ]
            ],
            "type": "heatmapgl"
           }
          ],
          "histogram": [
           {
            "marker": {
             "colorbar": {
              "outlinewidth": 0,
              "ticks": ""
             }
            },
            "type": "histogram"
           }
          ],
          "histogram2d": [
           {
            "colorbar": {
             "outlinewidth": 0,
             "ticks": ""
            },
            "colorscale": [
             [
              0,
              "#0d0887"
             ],
             [
              0.1111111111111111,
              "#46039f"
             ],
             [
              0.2222222222222222,
              "#7201a8"
             ],
             [
              0.3333333333333333,
              "#9c179e"
             ],
             [
              0.4444444444444444,
              "#bd3786"
             ],
             [
              0.5555555555555556,
              "#d8576b"
             ],
             [
              0.6666666666666666,
              "#ed7953"
             ],
             [
              0.7777777777777778,
              "#fb9f3a"
             ],
             [
              0.8888888888888888,
              "#fdca26"
             ],
             [
              1,
              "#f0f921"
             ]
            ],
            "type": "histogram2d"
           }
          ],
          "histogram2dcontour": [
           {
            "colorbar": {
             "outlinewidth": 0,
             "ticks": ""
            },
            "colorscale": [
             [
              0,
              "#0d0887"
             ],
             [
              0.1111111111111111,
              "#46039f"
             ],
             [
              0.2222222222222222,
              "#7201a8"
             ],
             [
              0.3333333333333333,
              "#9c179e"
             ],
             [
              0.4444444444444444,
              "#bd3786"
             ],
             [
              0.5555555555555556,
              "#d8576b"
             ],
             [
              0.6666666666666666,
              "#ed7953"
             ],
             [
              0.7777777777777778,
              "#fb9f3a"
             ],
             [
              0.8888888888888888,
              "#fdca26"
             ],
             [
              1,
              "#f0f921"
             ]
            ],
            "type": "histogram2dcontour"
           }
          ],
          "mesh3d": [
           {
            "colorbar": {
             "outlinewidth": 0,
             "ticks": ""
            },
            "type": "mesh3d"
           }
          ],
          "parcoords": [
           {
            "line": {
             "colorbar": {
              "outlinewidth": 0,
              "ticks": ""
             }
            },
            "type": "parcoords"
           }
          ],
          "pie": [
           {
            "automargin": true,
            "type": "pie"
           }
          ],
          "scatter": [
           {
            "marker": {
             "colorbar": {
              "outlinewidth": 0,
              "ticks": ""
             }
            },
            "type": "scatter"
           }
          ],
          "scatter3d": [
           {
            "line": {
             "colorbar": {
              "outlinewidth": 0,
              "ticks": ""
             }
            },
            "marker": {
             "colorbar": {
              "outlinewidth": 0,
              "ticks": ""
             }
            },
            "type": "scatter3d"
           }
          ],
          "scattercarpet": [
           {
            "marker": {
             "colorbar": {
              "outlinewidth": 0,
              "ticks": ""
             }
            },
            "type": "scattercarpet"
           }
          ],
          "scattergeo": [
           {
            "marker": {
             "colorbar": {
              "outlinewidth": 0,
              "ticks": ""
             }
            },
            "type": "scattergeo"
           }
          ],
          "scattergl": [
           {
            "marker": {
             "colorbar": {
              "outlinewidth": 0,
              "ticks": ""
             }
            },
            "type": "scattergl"
           }
          ],
          "scattermapbox": [
           {
            "marker": {
             "colorbar": {
              "outlinewidth": 0,
              "ticks": ""
             }
            },
            "type": "scattermapbox"
           }
          ],
          "scatterpolar": [
           {
            "marker": {
             "colorbar": {
              "outlinewidth": 0,
              "ticks": ""
             }
            },
            "type": "scatterpolar"
           }
          ],
          "scatterpolargl": [
           {
            "marker": {
             "colorbar": {
              "outlinewidth": 0,
              "ticks": ""
             }
            },
            "type": "scatterpolargl"
           }
          ],
          "scatterternary": [
           {
            "marker": {
             "colorbar": {
              "outlinewidth": 0,
              "ticks": ""
             }
            },
            "type": "scatterternary"
           }
          ],
          "surface": [
           {
            "colorbar": {
             "outlinewidth": 0,
             "ticks": ""
            },
            "colorscale": [
             [
              0,
              "#0d0887"
             ],
             [
              0.1111111111111111,
              "#46039f"
             ],
             [
              0.2222222222222222,
              "#7201a8"
             ],
             [
              0.3333333333333333,
              "#9c179e"
             ],
             [
              0.4444444444444444,
              "#bd3786"
             ],
             [
              0.5555555555555556,
              "#d8576b"
             ],
             [
              0.6666666666666666,
              "#ed7953"
             ],
             [
              0.7777777777777778,
              "#fb9f3a"
             ],
             [
              0.8888888888888888,
              "#fdca26"
             ],
             [
              1,
              "#f0f921"
             ]
            ],
            "type": "surface"
           }
          ],
          "table": [
           {
            "cells": {
             "fill": {
              "color": "#EBF0F8"
             },
             "line": {
              "color": "white"
             }
            },
            "header": {
             "fill": {
              "color": "#C8D4E3"
             },
             "line": {
              "color": "white"
             }
            },
            "type": "table"
           }
          ]
         },
         "layout": {
          "annotationdefaults": {
           "arrowcolor": "#2a3f5f",
           "arrowhead": 0,
           "arrowwidth": 1
          },
          "coloraxis": {
           "colorbar": {
            "outlinewidth": 0,
            "ticks": ""
           }
          },
          "colorscale": {
           "diverging": [
            [
             0,
             "#8e0152"
            ],
            [
             0.1,
             "#c51b7d"
            ],
            [
             0.2,
             "#de77ae"
            ],
            [
             0.3,
             "#f1b6da"
            ],
            [
             0.4,
             "#fde0ef"
            ],
            [
             0.5,
             "#f7f7f7"
            ],
            [
             0.6,
             "#e6f5d0"
            ],
            [
             0.7,
             "#b8e186"
            ],
            [
             0.8,
             "#7fbc41"
            ],
            [
             0.9,
             "#4d9221"
            ],
            [
             1,
             "#276419"
            ]
           ],
           "sequential": [
            [
             0,
             "#0d0887"
            ],
            [
             0.1111111111111111,
             "#46039f"
            ],
            [
             0.2222222222222222,
             "#7201a8"
            ],
            [
             0.3333333333333333,
             "#9c179e"
            ],
            [
             0.4444444444444444,
             "#bd3786"
            ],
            [
             0.5555555555555556,
             "#d8576b"
            ],
            [
             0.6666666666666666,
             "#ed7953"
            ],
            [
             0.7777777777777778,
             "#fb9f3a"
            ],
            [
             0.8888888888888888,
             "#fdca26"
            ],
            [
             1,
             "#f0f921"
            ]
           ],
           "sequentialminus": [
            [
             0,
             "#0d0887"
            ],
            [
             0.1111111111111111,
             "#46039f"
            ],
            [
             0.2222222222222222,
             "#7201a8"
            ],
            [
             0.3333333333333333,
             "#9c179e"
            ],
            [
             0.4444444444444444,
             "#bd3786"
            ],
            [
             0.5555555555555556,
             "#d8576b"
            ],
            [
             0.6666666666666666,
             "#ed7953"
            ],
            [
             0.7777777777777778,
             "#fb9f3a"
            ],
            [
             0.8888888888888888,
             "#fdca26"
            ],
            [
             1,
             "#f0f921"
            ]
           ]
          },
          "colorway": [
           "#636efa",
           "#EF553B",
           "#00cc96",
           "#ab63fa",
           "#FFA15A",
           "#19d3f3",
           "#FF6692",
           "#B6E880",
           "#FF97FF",
           "#FECB52"
          ],
          "font": {
           "color": "#2a3f5f"
          },
          "geo": {
           "bgcolor": "white",
           "lakecolor": "white",
           "landcolor": "#E5ECF6",
           "showlakes": true,
           "showland": true,
           "subunitcolor": "white"
          },
          "hoverlabel": {
           "align": "left"
          },
          "hovermode": "closest",
          "mapbox": {
           "style": "light"
          },
          "paper_bgcolor": "white",
          "plot_bgcolor": "#E5ECF6",
          "polar": {
           "angularaxis": {
            "gridcolor": "white",
            "linecolor": "white",
            "ticks": ""
           },
           "bgcolor": "#E5ECF6",
           "radialaxis": {
            "gridcolor": "white",
            "linecolor": "white",
            "ticks": ""
           }
          },
          "scene": {
           "xaxis": {
            "backgroundcolor": "#E5ECF6",
            "gridcolor": "white",
            "gridwidth": 2,
            "linecolor": "white",
            "showbackground": true,
            "ticks": "",
            "zerolinecolor": "white"
           },
           "yaxis": {
            "backgroundcolor": "#E5ECF6",
            "gridcolor": "white",
            "gridwidth": 2,
            "linecolor": "white",
            "showbackground": true,
            "ticks": "",
            "zerolinecolor": "white"
           },
           "zaxis": {
            "backgroundcolor": "#E5ECF6",
            "gridcolor": "white",
            "gridwidth": 2,
            "linecolor": "white",
            "showbackground": true,
            "ticks": "",
            "zerolinecolor": "white"
           }
          },
          "shapedefaults": {
           "line": {
            "color": "#2a3f5f"
           }
          },
          "ternary": {
           "aaxis": {
            "gridcolor": "white",
            "linecolor": "white",
            "ticks": ""
           },
           "baxis": {
            "gridcolor": "white",
            "linecolor": "white",
            "ticks": ""
           },
           "bgcolor": "#E5ECF6",
           "caxis": {
            "gridcolor": "white",
            "linecolor": "white",
            "ticks": ""
           }
          },
          "title": {
           "x": 0.05
          },
          "xaxis": {
           "automargin": true,
           "gridcolor": "white",
           "linecolor": "white",
           "ticks": "",
           "title": {
            "standoff": 15
           },
           "zerolinecolor": "white",
           "zerolinewidth": 2
          },
          "yaxis": {
           "automargin": true,
           "gridcolor": "white",
           "linecolor": "white",
           "ticks": "",
           "title": {
            "standoff": 15
           },
           "zerolinecolor": "white",
           "zerolinewidth": 2
          }
         }
        },
        "xaxis": {
         "linecolor": "rgb(204,204,204)",
         "linewidth": 2,
         "showgrid": true,
         "showline": true,
         "showticklabels": true,
         "tickangle": -45,
         "tickfont": {
          "color": "rgb(82,82,82)",
          "family": "Arial",
          "size": 12
         },
         "ticks": "outside",
         "title": {
          "text": "Date"
         }
        },
        "yaxis": {
         "linecolor": "rgb(204,204,204)",
         "linewidth": 2,
         "showgrid": true,
         "showline": true,
         "showticklabels": true,
         "title": {
          "text": "Case Count"
         }
        }
       }
      }
     },
     "metadata": {}
    }
   ],
   "source": [
    "ts_array = [confirmed_agg_ts,active_agg_ts,recovered_agg_ts,death_agg_ts]\n",
    "labels = ['Confirmed','Active','Recovered','Deaths']\n",
    "colors = [color_arr[5],color_arr[0],color_arr[2],color_arr[3]]\n",
    "mode_size = [8,8,12,8]\n",
    "line_size = [2,2,4,2]\n",
    "\n",
    "fig2 = draw_plot(ts_array=ts_array,ts_label=labels,title=\"Covid-19 Case Status(Globally)\",colors=colors,mode_size = mode_size,line_size=line_size,x_axis_title=\"Date\",y_axis_title=\"Case Count\",tickangle=315,yaxis_type=\"\",additional_annotations=[])\n",
    "\n",
    "fig2.show()"
   ]
  },
  {
   "cell_type": "code",
   "execution_count": 36,
   "metadata": {},
   "outputs": [],
   "source": [
    "confirmed_India_ts = confirmed_df[confirmed_df['Country/Region']=='India']\n",
    "confirmed_India_ts = confirmed_India_ts.drop(['Lat', 'Long','Country/Region','Province/State'],axis=1).reset_index(drop=True).sum()\n",
    "\n",
    "death_India_ts = death_df[confirmed_df['Country/Region']=='India']\n",
    "death_India_ts = death_India_ts.drop(['Lat', 'Long','Country/Region','Province/State'],axis=1).reset_index(drop=True).sum()\n",
    "\n",
    "recovered_India_ts = recovered_df[confirmed_df['Country/Region']=='India']\n",
    "recovered_India_ts = recovered_India_ts.drop(['Lat', 'Long','Country/Region','Province/State'],axis=1).reset_index(drop=True).sum()\n",
    "\n",
    "active_India_ts = pd.Series(\n",
    "    data=np.array(\n",
    "        [x1 - x2 - x3 for [x1,x2,x3] in zip(confirmed_India_ts.values,death_India_ts.values,recovered_India_ts.values)]\n",
    "    ),index=confirmed_India_ts.index\n",
    ")\n",
    "\n"
   ]
  },
  {
   "cell_type": "code",
   "execution_count": 37,
   "metadata": {},
   "outputs": [
    {
     "output_type": "display_data",
     "data": {
      "application/vnd.plotly.v1+json": {
       "config": {
        "plotlyServerURL": "https://plot.ly"
       },
       "data": [
        {
         "connectgaps": true,
         "line": {
          "color": "#222A2A",
          "width": 2
         },
         "name": "Confirmed",
         "type": "scatter",
         "x": [
          "1/22/20",
          "1/23/20",
          "1/24/20",
          "1/25/20",
          "1/26/20",
          "1/27/20",
          "1/28/20",
          "1/29/20",
          "1/30/20",
          "1/31/20",
          "2/1/20",
          "2/2/20",
          "2/3/20",
          "2/4/20",
          "2/5/20",
          "2/6/20",
          "2/7/20",
          "2/8/20",
          "2/9/20",
          "2/10/20",
          "2/11/20",
          "2/12/20",
          "2/13/20",
          "2/14/20",
          "2/15/20",
          "2/16/20",
          "2/17/20",
          "2/18/20",
          "2/19/20",
          "2/20/20",
          "2/21/20",
          "2/22/20",
          "2/23/20",
          "2/24/20",
          "2/25/20",
          "2/26/20",
          "2/27/20",
          "2/28/20",
          "2/29/20",
          "3/1/20",
          "3/2/20",
          "3/3/20",
          "3/4/20",
          "3/5/20",
          "3/6/20",
          "3/7/20",
          "3/8/20",
          "3/9/20",
          "3/10/20",
          "3/11/20",
          "3/12/20",
          "3/13/20",
          "3/14/20",
          "3/15/20",
          "3/16/20",
          "3/17/20",
          "3/18/20",
          "3/19/20",
          "3/20/20",
          "3/21/20",
          "3/22/20",
          "3/23/20",
          "3/24/20",
          "3/25/20",
          "3/26/20",
          "3/27/20",
          "3/28/20",
          "3/29/20",
          "3/30/20",
          "3/31/20",
          "4/1/20",
          "4/2/20",
          "4/3/20",
          "4/4/20",
          "4/5/20",
          "4/6/20",
          "4/7/20",
          "4/8/20",
          "4/9/20",
          "4/10/20",
          "4/11/20",
          "4/12/20",
          "4/13/20",
          "4/14/20",
          "4/15/20",
          "4/16/20",
          "4/17/20",
          "4/18/20",
          "4/19/20",
          "4/20/20",
          "4/21/20",
          "4/22/20",
          "4/23/20",
          "4/24/20",
          "4/25/20",
          "4/26/20",
          "4/27/20",
          "4/28/20",
          "4/29/20",
          "4/30/20",
          "5/1/20",
          "5/2/20",
          "5/3/20",
          "5/4/20",
          "5/5/20",
          "5/6/20",
          "5/7/20",
          "5/8/20",
          "5/9/20",
          "5/10/20",
          "5/11/20",
          "5/12/20",
          "5/13/20",
          "5/14/20",
          "5/15/20",
          "5/16/20",
          "5/17/20",
          "5/18/20",
          "5/19/20",
          "5/20/20",
          "5/21/20",
          "5/22/20",
          "5/23/20",
          "5/24/20",
          "5/25/20",
          "5/26/20",
          "5/27/20",
          "5/28/20",
          "5/29/20",
          "5/30/20",
          "5/31/20",
          "6/1/20",
          "6/2/20",
          "6/3/20",
          "6/4/20",
          "6/5/20",
          "6/6/20",
          "6/7/20",
          "6/8/20",
          "6/9/20",
          "6/10/20",
          "6/11/20",
          "6/12/20",
          "6/13/20",
          "6/14/20",
          "6/15/20",
          "6/16/20",
          "6/17/20",
          "6/18/20",
          "6/19/20",
          "6/20/20",
          "6/21/20",
          "6/22/20",
          "6/23/20",
          "6/24/20",
          "6/25/20",
          "6/26/20",
          "6/27/20",
          "6/28/20",
          "6/29/20",
          "6/30/20",
          "7/1/20",
          "7/2/20",
          "7/3/20",
          "7/4/20",
          "7/5/20",
          "7/6/20",
          "7/7/20",
          "7/8/20",
          "7/9/20",
          "7/10/20",
          "7/11/20",
          "7/12/20",
          "7/13/20",
          "7/14/20",
          "7/15/20",
          "7/16/20",
          "7/17/20",
          "7/18/20",
          "7/19/20",
          "7/20/20",
          "7/21/20",
          "7/22/20",
          "7/23/20"
         ],
         "y": [
          0,
          0,
          0,
          0,
          0,
          0,
          0,
          0,
          1,
          1,
          1,
          2,
          3,
          3,
          3,
          3,
          3,
          3,
          3,
          3,
          3,
          3,
          3,
          3,
          3,
          3,
          3,
          3,
          3,
          3,
          3,
          3,
          3,
          3,
          3,
          3,
          3,
          3,
          3,
          3,
          5,
          5,
          28,
          30,
          31,
          34,
          39,
          43,
          56,
          62,
          73,
          82,
          102,
          113,
          119,
          142,
          156,
          194,
          244,
          330,
          396,
          499,
          536,
          657,
          727,
          887,
          987,
          1024,
          1251,
          1397,
          1998,
          2543,
          2567,
          3082,
          3588,
          4778,
          5311,
          5916,
          6725,
          7598,
          8446,
          9205,
          10453,
          11487,
          12322,
          13430,
          14352,
          15722,
          17615,
          18539,
          20080,
          21370,
          23077,
          24530,
          26283,
          27890,
          29451,
          31324,
          33062,
          34863,
          37257,
          39699,
          42505,
          46437,
          49400,
          52987,
          56351,
          59695,
          62808,
          67161,
          70768,
          74292,
          78055,
          81997,
          85784,
          90648,
          95698,
          100328,
          106475,
          112028,
          118226,
          124794,
          131423,
          138536,
          144950,
          150793,
          158086,
          165386,
          173491,
          181827,
          190609,
          198370,
          207191,
          216824,
          226713,
          236184,
          246622,
          257486,
          265928,
          276146,
          286605,
          297535,
          308993,
          320922,
          332424,
          343091,
          354065,
          366946,
          380532,
          395048,
          410451,
          425282,
          440215,
          456183,
          473105,
          490401,
          508953,
          528859,
          548318,
          566840,
          585481,
          604641,
          625544,
          648315,
          673165,
          697413,
          719664,
          742417,
          767296,
          793802,
          820916,
          849522,
          878254,
          906752,
          936181,
          968857,
          1003832,
          1039084,
          1077781,
          1118206,
          1155338,
          1193078,
          1238798,
          1288108
         ]
        },
        {
         "connectgaps": true,
         "line": {
          "color": "#2E91E5",
          "width": 2
         },
         "name": "Active",
         "type": "scatter",
         "x": [
          "1/22/20",
          "1/23/20",
          "1/24/20",
          "1/25/20",
          "1/26/20",
          "1/27/20",
          "1/28/20",
          "1/29/20",
          "1/30/20",
          "1/31/20",
          "2/1/20",
          "2/2/20",
          "2/3/20",
          "2/4/20",
          "2/5/20",
          "2/6/20",
          "2/7/20",
          "2/8/20",
          "2/9/20",
          "2/10/20",
          "2/11/20",
          "2/12/20",
          "2/13/20",
          "2/14/20",
          "2/15/20",
          "2/16/20",
          "2/17/20",
          "2/18/20",
          "2/19/20",
          "2/20/20",
          "2/21/20",
          "2/22/20",
          "2/23/20",
          "2/24/20",
          "2/25/20",
          "2/26/20",
          "2/27/20",
          "2/28/20",
          "2/29/20",
          "3/1/20",
          "3/2/20",
          "3/3/20",
          "3/4/20",
          "3/5/20",
          "3/6/20",
          "3/7/20",
          "3/8/20",
          "3/9/20",
          "3/10/20",
          "3/11/20",
          "3/12/20",
          "3/13/20",
          "3/14/20",
          "3/15/20",
          "3/16/20",
          "3/17/20",
          "3/18/20",
          "3/19/20",
          "3/20/20",
          "3/21/20",
          "3/22/20",
          "3/23/20",
          "3/24/20",
          "3/25/20",
          "3/26/20",
          "3/27/20",
          "3/28/20",
          "3/29/20",
          "3/30/20",
          "3/31/20",
          "4/1/20",
          "4/2/20",
          "4/3/20",
          "4/4/20",
          "4/5/20",
          "4/6/20",
          "4/7/20",
          "4/8/20",
          "4/9/20",
          "4/10/20",
          "4/11/20",
          "4/12/20",
          "4/13/20",
          "4/14/20",
          "4/15/20",
          "4/16/20",
          "4/17/20",
          "4/18/20",
          "4/19/20",
          "4/20/20",
          "4/21/20",
          "4/22/20",
          "4/23/20",
          "4/24/20",
          "4/25/20",
          "4/26/20",
          "4/27/20",
          "4/28/20",
          "4/29/20",
          "4/30/20",
          "5/1/20",
          "5/2/20",
          "5/3/20",
          "5/4/20",
          "5/5/20",
          "5/6/20",
          "5/7/20",
          "5/8/20",
          "5/9/20",
          "5/10/20",
          "5/11/20",
          "5/12/20",
          "5/13/20",
          "5/14/20",
          "5/15/20",
          "5/16/20",
          "5/17/20",
          "5/18/20",
          "5/19/20",
          "5/20/20",
          "5/21/20",
          "5/22/20",
          "5/23/20",
          "5/24/20",
          "5/25/20",
          "5/26/20",
          "5/27/20",
          "5/28/20",
          "5/29/20",
          "5/30/20",
          "5/31/20",
          "6/1/20",
          "6/2/20",
          "6/3/20",
          "6/4/20",
          "6/5/20",
          "6/6/20",
          "6/7/20",
          "6/8/20",
          "6/9/20",
          "6/10/20",
          "6/11/20",
          "6/12/20",
          "6/13/20",
          "6/14/20",
          "6/15/20",
          "6/16/20",
          "6/17/20",
          "6/18/20",
          "6/19/20",
          "6/20/20",
          "6/21/20",
          "6/22/20",
          "6/23/20",
          "6/24/20",
          "6/25/20",
          "6/26/20",
          "6/27/20",
          "6/28/20",
          "6/29/20",
          "6/30/20",
          "7/1/20",
          "7/2/20",
          "7/3/20",
          "7/4/20",
          "7/5/20",
          "7/6/20",
          "7/7/20",
          "7/8/20",
          "7/9/20",
          "7/10/20",
          "7/11/20",
          "7/12/20",
          "7/13/20",
          "7/14/20",
          "7/15/20",
          "7/16/20",
          "7/17/20",
          "7/18/20",
          "7/19/20",
          "7/20/20",
          "7/21/20",
          "7/22/20",
          "7/23/20"
         ],
         "y": [
          0,
          0,
          0,
          0,
          0,
          0,
          0,
          0,
          1,
          1,
          1,
          2,
          3,
          3,
          3,
          3,
          3,
          3,
          3,
          3,
          3,
          3,
          3,
          3,
          3,
          3,
          3,
          3,
          3,
          3,
          3,
          2,
          1,
          2,
          2,
          0,
          -42,
          -43,
          -43,
          -80,
          -144,
          -155,
          -248,
          -384,
          -492,
          -555,
          -583,
          -681,
          -668,
          -984,
          -973,
          -1359,
          -1866,
          -2224,
          -2632,
          -2802,
          -3872,
          -4250,
          -4201,
          -5746,
          -6635,
          -6535,
          -7800,
          -8717,
          -9654,
          -10083,
          -11421,
          -12033,
          -13401,
          -14367,
          -14907,
          -15807,
          -17263,
          -18000,
          -18326,
          -18195,
          -19231,
          -20753,
          -21971,
          -23103,
          -24376,
          -25337,
          -25340,
          -26036,
          -26175,
          -27182,
          -28861,
          -29726,
          -29999,
          -30930,
          -32165,
          -33854,
          -35220,
          -36748,
          -37662,
          -37919,
          -38112,
          -38625,
          -39269,
          -42236,
          -42215,
          -41538,
          -40540,
          -38008,
          -37524,
          -42043,
          -41814,
          -41313,
          -42324,
          -40237,
          -38113,
          -37162,
          -37037,
          -35940,
          -37174,
          -35033,
          -32503,
          -30154,
          -26228,
          -23688,
          -19918,
          -15652,
          -11285,
          -5967,
          -1203,
          1791,
          6451,
          10071,
          15667,
          21009,
          27694,
          34407,
          41270,
          49798,
          58455,
          65754,
          74598,
          84442,
          91871,
          99750,
          108564,
          117699,
          127024,
          136862,
          146534,
          156181,
          163636,
          175254,
          187415,
          200193,
          214744,
          228690,
          242778,
          257122,
          272100,
          288375,
          305653,
          324180,
          342952,
          360751,
          377833,
          396090,
          416248,
          438193,
          461953,
          485612,
          507264,
          528960,
          552527,
          578220,
          604520,
          632270,
          660152,
          687919,
          716431,
          747927,
          781984,
          816328,
          854159,
          893760,
          930094,
          966915,
          1011309,
          1059665
         ]
        },
        {
         "connectgaps": true,
         "line": {
          "color": "#1CA71C",
          "width": 4
         },
         "name": "Recovered",
         "type": "scatter",
         "x": [
          "1/22/20",
          "1/23/20",
          "1/24/20",
          "1/25/20",
          "1/26/20",
          "1/27/20",
          "1/28/20",
          "1/29/20",
          "1/30/20",
          "1/31/20",
          "2/1/20",
          "2/2/20",
          "2/3/20",
          "2/4/20",
          "2/5/20",
          "2/6/20",
          "2/7/20",
          "2/8/20",
          "2/9/20",
          "2/10/20",
          "2/11/20",
          "2/12/20",
          "2/13/20",
          "2/14/20",
          "2/15/20",
          "2/16/20",
          "2/17/20",
          "2/18/20",
          "2/19/20",
          "2/20/20",
          "2/21/20",
          "2/22/20",
          "2/23/20",
          "2/24/20",
          "2/25/20",
          "2/26/20",
          "2/27/20",
          "2/28/20",
          "2/29/20",
          "3/1/20",
          "3/2/20",
          "3/3/20",
          "3/4/20",
          "3/5/20",
          "3/6/20",
          "3/7/20",
          "3/8/20",
          "3/9/20",
          "3/10/20",
          "3/11/20",
          "3/12/20",
          "3/13/20",
          "3/14/20",
          "3/15/20",
          "3/16/20",
          "3/17/20",
          "3/18/20",
          "3/19/20",
          "3/20/20",
          "3/21/20",
          "3/22/20",
          "3/23/20",
          "3/24/20",
          "3/25/20",
          "3/26/20",
          "3/27/20",
          "3/28/20",
          "3/29/20",
          "3/30/20",
          "3/31/20",
          "4/1/20",
          "4/2/20",
          "4/3/20",
          "4/4/20",
          "4/5/20",
          "4/6/20",
          "4/7/20",
          "4/8/20",
          "4/9/20",
          "4/10/20",
          "4/11/20",
          "4/12/20",
          "4/13/20",
          "4/14/20",
          "4/15/20",
          "4/16/20",
          "4/17/20",
          "4/18/20",
          "4/19/20",
          "4/20/20",
          "4/21/20",
          "4/22/20",
          "4/23/20",
          "4/24/20",
          "4/25/20",
          "4/26/20",
          "4/27/20",
          "4/28/20",
          "4/29/20",
          "4/30/20",
          "5/1/20",
          "5/2/20",
          "5/3/20",
          "5/4/20",
          "5/5/20",
          "5/6/20",
          "5/7/20",
          "5/8/20",
          "5/9/20",
          "5/10/20",
          "5/11/20",
          "5/12/20",
          "5/13/20",
          "5/14/20",
          "5/15/20",
          "5/16/20",
          "5/17/20",
          "5/18/20",
          "5/19/20",
          "5/20/20",
          "5/21/20",
          "5/22/20",
          "5/23/20",
          "5/24/20",
          "5/25/20",
          "5/26/20",
          "5/27/20",
          "5/28/20",
          "5/29/20",
          "5/30/20",
          "5/31/20",
          "6/1/20",
          "6/2/20",
          "6/3/20",
          "6/4/20",
          "6/5/20",
          "6/6/20",
          "6/7/20",
          "6/8/20",
          "6/9/20",
          "6/10/20",
          "6/11/20",
          "6/12/20",
          "6/13/20",
          "6/14/20",
          "6/15/20",
          "6/16/20",
          "6/17/20",
          "6/18/20",
          "6/19/20",
          "6/20/20",
          "6/21/20",
          "6/22/20",
          "6/23/20",
          "6/24/20",
          "6/25/20",
          "6/26/20",
          "6/27/20",
          "6/28/20",
          "6/29/20",
          "6/30/20",
          "7/1/20",
          "7/2/20",
          "7/3/20",
          "7/4/20",
          "7/5/20",
          "7/6/20",
          "7/7/20",
          "7/8/20",
          "7/9/20",
          "7/10/20",
          "7/11/20",
          "7/12/20",
          "7/13/20",
          "7/14/20",
          "7/15/20",
          "7/16/20",
          "7/17/20",
          "7/18/20",
          "7/19/20",
          "7/20/20",
          "7/21/20",
          "7/22/20",
          "7/23/20"
         ],
         "y": [
          0,
          0,
          0,
          0,
          0,
          0,
          0,
          0,
          0,
          0,
          0,
          0,
          0,
          0,
          0,
          0,
          0,
          0,
          0,
          0,
          0,
          0,
          0,
          0,
          0,
          0,
          0,
          0,
          0,
          0,
          0,
          1,
          2,
          1,
          1,
          3,
          45,
          46,
          46,
          83,
          149,
          160,
          276,
          414,
          523,
          589,
          622,
          724,
          724,
          1045,
          1045,
          1439,
          1966,
          2335,
          2749,
          2941,
          4025,
          4440,
          4440,
          6072,
          7024,
          7024,
          8326,
          9362,
          10361,
          10950,
          12384,
          13030,
          14620,
          15729,
          16847,
          18278,
          19758,
          20996,
          21815,
          22837,
          24392,
          26491,
          28470,
          30455,
          32534,
          34211,
          35435,
          37130,
          38092,
          40164,
          42727,
          44927,
          47055,
          48877,
          51600,
          54543,
          57576,
          60498,
          63120,
          64928,
          66624,
          68941,
          71252,
          75945,
          78249,
          79914,
          81654,
          82879,
          85231,
          93245,
          96276,
          99023,
          103031,
          105186,
          106587,
          109039,
          112541,
          115288,
          120205,
          122810,
          125176,
          127326,
          129401,
          132282,
          134560,
          136720,
          138840,
          140479,
          141981,
          144658,
          147101,
          150604,
          152844,
          155633,
          157507,
          158355,
          160092,
          160938,
          161895,
          163781,
          165078,
          165837,
          166584,
          168646,
          169939,
          171338,
          173085,
          174865,
          176370,
          177010,
          178526,
          179455,
          180544,
          181907,
          182453,
          182893,
          183426,
          184585,
          186111,
          186725,
          187615,
          188584,
          188891,
          189196,
          190248,
          190717,
          191083,
          191467,
          191944,
          192108,
          192241,
          192815,
          193640,
          193978,
          194273,
          194579,
          194928,
          195106,
          195441,
          196016,
          196246,
          196483,
          196806,
          196949,
          197162,
          197431,
          197628,
          197842
         ]
        },
        {
         "connectgaps": true,
         "line": {
          "color": "#FB0D0D",
          "width": 2
         },
         "name": "Deaths",
         "type": "scatter",
         "x": [
          "1/22/20",
          "1/23/20",
          "1/24/20",
          "1/25/20",
          "1/26/20",
          "1/27/20",
          "1/28/20",
          "1/29/20",
          "1/30/20",
          "1/31/20",
          "2/1/20",
          "2/2/20",
          "2/3/20",
          "2/4/20",
          "2/5/20",
          "2/6/20",
          "2/7/20",
          "2/8/20",
          "2/9/20",
          "2/10/20",
          "2/11/20",
          "2/12/20",
          "2/13/20",
          "2/14/20",
          "2/15/20",
          "2/16/20",
          "2/17/20",
          "2/18/20",
          "2/19/20",
          "2/20/20",
          "2/21/20",
          "2/22/20",
          "2/23/20",
          "2/24/20",
          "2/25/20",
          "2/26/20",
          "2/27/20",
          "2/28/20",
          "2/29/20",
          "3/1/20",
          "3/2/20",
          "3/3/20",
          "3/4/20",
          "3/5/20",
          "3/6/20",
          "3/7/20",
          "3/8/20",
          "3/9/20",
          "3/10/20",
          "3/11/20",
          "3/12/20",
          "3/13/20",
          "3/14/20",
          "3/15/20",
          "3/16/20",
          "3/17/20",
          "3/18/20",
          "3/19/20",
          "3/20/20",
          "3/21/20",
          "3/22/20",
          "3/23/20",
          "3/24/20",
          "3/25/20",
          "3/26/20",
          "3/27/20",
          "3/28/20",
          "3/29/20",
          "3/30/20",
          "3/31/20",
          "4/1/20",
          "4/2/20",
          "4/3/20",
          "4/4/20",
          "4/5/20",
          "4/6/20",
          "4/7/20",
          "4/8/20",
          "4/9/20",
          "4/10/20",
          "4/11/20",
          "4/12/20",
          "4/13/20",
          "4/14/20",
          "4/15/20",
          "4/16/20",
          "4/17/20",
          "4/18/20",
          "4/19/20",
          "4/20/20",
          "4/21/20",
          "4/22/20",
          "4/23/20",
          "4/24/20",
          "4/25/20",
          "4/26/20",
          "4/27/20",
          "4/28/20",
          "4/29/20",
          "4/30/20",
          "5/1/20",
          "5/2/20",
          "5/3/20",
          "5/4/20",
          "5/5/20",
          "5/6/20",
          "5/7/20",
          "5/8/20",
          "5/9/20",
          "5/10/20",
          "5/11/20",
          "5/12/20",
          "5/13/20",
          "5/14/20",
          "5/15/20",
          "5/16/20",
          "5/17/20",
          "5/18/20",
          "5/19/20",
          "5/20/20",
          "5/21/20",
          "5/22/20",
          "5/23/20",
          "5/24/20",
          "5/25/20",
          "5/26/20",
          "5/27/20",
          "5/28/20",
          "5/29/20",
          "5/30/20",
          "5/31/20",
          "6/1/20",
          "6/2/20",
          "6/3/20",
          "6/4/20",
          "6/5/20",
          "6/6/20",
          "6/7/20",
          "6/8/20",
          "6/9/20",
          "6/10/20",
          "6/11/20",
          "6/12/20",
          "6/13/20",
          "6/14/20",
          "6/15/20",
          "6/16/20",
          "6/17/20",
          "6/18/20",
          "6/19/20",
          "6/20/20",
          "6/21/20",
          "6/22/20",
          "6/23/20",
          "6/24/20",
          "6/25/20",
          "6/26/20",
          "6/27/20",
          "6/28/20",
          "6/29/20",
          "6/30/20",
          "7/1/20",
          "7/2/20",
          "7/3/20",
          "7/4/20",
          "7/5/20",
          "7/6/20",
          "7/7/20",
          "7/8/20",
          "7/9/20",
          "7/10/20",
          "7/11/20",
          "7/12/20",
          "7/13/20",
          "7/14/20",
          "7/15/20",
          "7/16/20",
          "7/17/20",
          "7/18/20",
          "7/19/20",
          "7/20/20",
          "7/21/20",
          "7/22/20",
          "7/23/20"
         ],
         "y": [
          0,
          0,
          0,
          0,
          0,
          0,
          0,
          0,
          0,
          0,
          0,
          0,
          0,
          0,
          0,
          0,
          0,
          0,
          0,
          0,
          0,
          0,
          0,
          0,
          0,
          0,
          0,
          0,
          0,
          0,
          0,
          0,
          0,
          0,
          0,
          0,
          0,
          0,
          0,
          0,
          0,
          0,
          0,
          0,
          0,
          0,
          0,
          0,
          0,
          1,
          1,
          2,
          2,
          2,
          2,
          3,
          3,
          4,
          5,
          4,
          7,
          10,
          10,
          12,
          20,
          20,
          24,
          27,
          32,
          35,
          58,
          72,
          72,
          86,
          99,
          136,
          150,
          178,
          226,
          246,
          288,
          331,
          358,
          393,
          405,
          448,
          486,
          521,
          559,
          592,
          645,
          681,
          721,
          780,
          825,
          881,
          939,
          1008,
          1079,
          1154,
          1223,
          1323,
          1391,
          1566,
          1693,
          1785,
          1889,
          1985,
          2101,
          2212,
          2294,
          2415,
          2551,
          2649,
          2753,
          2871,
          3025,
          3156,
          3302,
          3434,
          3584,
          3726,
          3868,
          4024,
          4172,
          4344,
          4534,
          4711,
          4980,
          5185,
          5408,
          5608,
          5829,
          6088,
          6363,
          6649,
          6946,
          7207,
          7473,
          7750,
          8102,
          8498,
          8884,
          9195,
          9520,
          9900,
          11903,
          12237,
          12573,
          12948,
          13254,
          13699,
          14011,
          14476,
          14894,
          15301,
          15685,
          16095,
          16475,
          16893,
          17400,
          17834,
          18213,
          18655,
          19268,
          19693,
          20159,
          20642,
          21129,
          21604,
          22123,
          22673,
          23174,
          23727,
          24309,
          24914,
          25602,
          26273,
          26816,
          27497,
          28082,
          28732,
          29861,
          30601
         ]
        }
       ],
       "layout": {
        "annotations": [
         {
          "font": {
           "color": "rgb(37,37,37)",
           "family": "Arial",
           "size": 16
          },
          "showarrow": false,
          "text": "Covid-19 Case Status(India)",
          "x": 0,
          "xanchor": "left",
          "xref": "paper",
          "y": 1.05,
          "yanchor": "bottom",
          "yref": "paper"
         }
        ],
        "autosize": true,
        "margin": {
         "autoexpand": true,
         "l": 100,
         "r": 20,
         "t": 110
        },
        "showlegend": true,
        "template": {
         "data": {
          "bar": [
           {
            "error_x": {
             "color": "#2a3f5f"
            },
            "error_y": {
             "color": "#2a3f5f"
            },
            "marker": {
             "line": {
              "color": "#E5ECF6",
              "width": 0.5
             }
            },
            "type": "bar"
           }
          ],
          "barpolar": [
           {
            "marker": {
             "line": {
              "color": "#E5ECF6",
              "width": 0.5
             }
            },
            "type": "barpolar"
           }
          ],
          "carpet": [
           {
            "aaxis": {
             "endlinecolor": "#2a3f5f",
             "gridcolor": "white",
             "linecolor": "white",
             "minorgridcolor": "white",
             "startlinecolor": "#2a3f5f"
            },
            "baxis": {
             "endlinecolor": "#2a3f5f",
             "gridcolor": "white",
             "linecolor": "white",
             "minorgridcolor": "white",
             "startlinecolor": "#2a3f5f"
            },
            "type": "carpet"
           }
          ],
          "choropleth": [
           {
            "colorbar": {
             "outlinewidth": 0,
             "ticks": ""
            },
            "type": "choropleth"
           }
          ],
          "contour": [
           {
            "colorbar": {
             "outlinewidth": 0,
             "ticks": ""
            },
            "colorscale": [
             [
              0,
              "#0d0887"
             ],
             [
              0.1111111111111111,
              "#46039f"
             ],
             [
              0.2222222222222222,
              "#7201a8"
             ],
             [
              0.3333333333333333,
              "#9c179e"
             ],
             [
              0.4444444444444444,
              "#bd3786"
             ],
             [
              0.5555555555555556,
              "#d8576b"
             ],
             [
              0.6666666666666666,
              "#ed7953"
             ],
             [
              0.7777777777777778,
              "#fb9f3a"
             ],
             [
              0.8888888888888888,
              "#fdca26"
             ],
             [
              1,
              "#f0f921"
             ]
            ],
            "type": "contour"
           }
          ],
          "contourcarpet": [
           {
            "colorbar": {
             "outlinewidth": 0,
             "ticks": ""
            },
            "type": "contourcarpet"
           }
          ],
          "heatmap": [
           {
            "colorbar": {
             "outlinewidth": 0,
             "ticks": ""
            },
            "colorscale": [
             [
              0,
              "#0d0887"
             ],
             [
              0.1111111111111111,
              "#46039f"
             ],
             [
              0.2222222222222222,
              "#7201a8"
             ],
             [
              0.3333333333333333,
              "#9c179e"
             ],
             [
              0.4444444444444444,
              "#bd3786"
             ],
             [
              0.5555555555555556,
              "#d8576b"
             ],
             [
              0.6666666666666666,
              "#ed7953"
             ],
             [
              0.7777777777777778,
              "#fb9f3a"
             ],
             [
              0.8888888888888888,
              "#fdca26"
             ],
             [
              1,
              "#f0f921"
             ]
            ],
            "type": "heatmap"
           }
          ],
          "heatmapgl": [
           {
            "colorbar": {
             "outlinewidth": 0,
             "ticks": ""
            },
            "colorscale": [
             [
              0,
              "#0d0887"
             ],
             [
              0.1111111111111111,
              "#46039f"
             ],
             [
              0.2222222222222222,
              "#7201a8"
             ],
             [
              0.3333333333333333,
              "#9c179e"
             ],
             [
              0.4444444444444444,
              "#bd3786"
             ],
             [
              0.5555555555555556,
              "#d8576b"
             ],
             [
              0.6666666666666666,
              "#ed7953"
             ],
             [
              0.7777777777777778,
              "#fb9f3a"
             ],
             [
              0.8888888888888888,
              "#fdca26"
             ],
             [
              1,
              "#f0f921"
             ]
            ],
            "type": "heatmapgl"
           }
          ],
          "histogram": [
           {
            "marker": {
             "colorbar": {
              "outlinewidth": 0,
              "ticks": ""
             }
            },
            "type": "histogram"
           }
          ],
          "histogram2d": [
           {
            "colorbar": {
             "outlinewidth": 0,
             "ticks": ""
            },
            "colorscale": [
             [
              0,
              "#0d0887"
             ],
             [
              0.1111111111111111,
              "#46039f"
             ],
             [
              0.2222222222222222,
              "#7201a8"
             ],
             [
              0.3333333333333333,
              "#9c179e"
             ],
             [
              0.4444444444444444,
              "#bd3786"
             ],
             [
              0.5555555555555556,
              "#d8576b"
             ],
             [
              0.6666666666666666,
              "#ed7953"
             ],
             [
              0.7777777777777778,
              "#fb9f3a"
             ],
             [
              0.8888888888888888,
              "#fdca26"
             ],
             [
              1,
              "#f0f921"
             ]
            ],
            "type": "histogram2d"
           }
          ],
          "histogram2dcontour": [
           {
            "colorbar": {
             "outlinewidth": 0,
             "ticks": ""
            },
            "colorscale": [
             [
              0,
              "#0d0887"
             ],
             [
              0.1111111111111111,
              "#46039f"
             ],
             [
              0.2222222222222222,
              "#7201a8"
             ],
             [
              0.3333333333333333,
              "#9c179e"
             ],
             [
              0.4444444444444444,
              "#bd3786"
             ],
             [
              0.5555555555555556,
              "#d8576b"
             ],
             [
              0.6666666666666666,
              "#ed7953"
             ],
             [
              0.7777777777777778,
              "#fb9f3a"
             ],
             [
              0.8888888888888888,
              "#fdca26"
             ],
             [
              1,
              "#f0f921"
             ]
            ],
            "type": "histogram2dcontour"
           }
          ],
          "mesh3d": [
           {
            "colorbar": {
             "outlinewidth": 0,
             "ticks": ""
            },
            "type": "mesh3d"
           }
          ],
          "parcoords": [
           {
            "line": {
             "colorbar": {
              "outlinewidth": 0,
              "ticks": ""
             }
            },
            "type": "parcoords"
           }
          ],
          "pie": [
           {
            "automargin": true,
            "type": "pie"
           }
          ],
          "scatter": [
           {
            "marker": {
             "colorbar": {
              "outlinewidth": 0,
              "ticks": ""
             }
            },
            "type": "scatter"
           }
          ],
          "scatter3d": [
           {
            "line": {
             "colorbar": {
              "outlinewidth": 0,
              "ticks": ""
             }
            },
            "marker": {
             "colorbar": {
              "outlinewidth": 0,
              "ticks": ""
             }
            },
            "type": "scatter3d"
           }
          ],
          "scattercarpet": [
           {
            "marker": {
             "colorbar": {
              "outlinewidth": 0,
              "ticks": ""
             }
            },
            "type": "scattercarpet"
           }
          ],
          "scattergeo": [
           {
            "marker": {
             "colorbar": {
              "outlinewidth": 0,
              "ticks": ""
             }
            },
            "type": "scattergeo"
           }
          ],
          "scattergl": [
           {
            "marker": {
             "colorbar": {
              "outlinewidth": 0,
              "ticks": ""
             }
            },
            "type": "scattergl"
           }
          ],
          "scattermapbox": [
           {
            "marker": {
             "colorbar": {
              "outlinewidth": 0,
              "ticks": ""
             }
            },
            "type": "scattermapbox"
           }
          ],
          "scatterpolar": [
           {
            "marker": {
             "colorbar": {
              "outlinewidth": 0,
              "ticks": ""
             }
            },
            "type": "scatterpolar"
           }
          ],
          "scatterpolargl": [
           {
            "marker": {
             "colorbar": {
              "outlinewidth": 0,
              "ticks": ""
             }
            },
            "type": "scatterpolargl"
           }
          ],
          "scatterternary": [
           {
            "marker": {
             "colorbar": {
              "outlinewidth": 0,
              "ticks": ""
             }
            },
            "type": "scatterternary"
           }
          ],
          "surface": [
           {
            "colorbar": {
             "outlinewidth": 0,
             "ticks": ""
            },
            "colorscale": [
             [
              0,
              "#0d0887"
             ],
             [
              0.1111111111111111,
              "#46039f"
             ],
             [
              0.2222222222222222,
              "#7201a8"
             ],
             [
              0.3333333333333333,
              "#9c179e"
             ],
             [
              0.4444444444444444,
              "#bd3786"
             ],
             [
              0.5555555555555556,
              "#d8576b"
             ],
             [
              0.6666666666666666,
              "#ed7953"
             ],
             [
              0.7777777777777778,
              "#fb9f3a"
             ],
             [
              0.8888888888888888,
              "#fdca26"
             ],
             [
              1,
              "#f0f921"
             ]
            ],
            "type": "surface"
           }
          ],
          "table": [
           {
            "cells": {
             "fill": {
              "color": "#EBF0F8"
             },
             "line": {
              "color": "white"
             }
            },
            "header": {
             "fill": {
              "color": "#C8D4E3"
             },
             "line": {
              "color": "white"
             }
            },
            "type": "table"
           }
          ]
         },
         "layout": {
          "annotationdefaults": {
           "arrowcolor": "#2a3f5f",
           "arrowhead": 0,
           "arrowwidth": 1
          },
          "coloraxis": {
           "colorbar": {
            "outlinewidth": 0,
            "ticks": ""
           }
          },
          "colorscale": {
           "diverging": [
            [
             0,
             "#8e0152"
            ],
            [
             0.1,
             "#c51b7d"
            ],
            [
             0.2,
             "#de77ae"
            ],
            [
             0.3,
             "#f1b6da"
            ],
            [
             0.4,
             "#fde0ef"
            ],
            [
             0.5,
             "#f7f7f7"
            ],
            [
             0.6,
             "#e6f5d0"
            ],
            [
             0.7,
             "#b8e186"
            ],
            [
             0.8,
             "#7fbc41"
            ],
            [
             0.9,
             "#4d9221"
            ],
            [
             1,
             "#276419"
            ]
           ],
           "sequential": [
            [
             0,
             "#0d0887"
            ],
            [
             0.1111111111111111,
             "#46039f"
            ],
            [
             0.2222222222222222,
             "#7201a8"
            ],
            [
             0.3333333333333333,
             "#9c179e"
            ],
            [
             0.4444444444444444,
             "#bd3786"
            ],
            [
             0.5555555555555556,
             "#d8576b"
            ],
            [
             0.6666666666666666,
             "#ed7953"
            ],
            [
             0.7777777777777778,
             "#fb9f3a"
            ],
            [
             0.8888888888888888,
             "#fdca26"
            ],
            [
             1,
             "#f0f921"
            ]
           ],
           "sequentialminus": [
            [
             0,
             "#0d0887"
            ],
            [
             0.1111111111111111,
             "#46039f"
            ],
            [
             0.2222222222222222,
             "#7201a8"
            ],
            [
             0.3333333333333333,
             "#9c179e"
            ],
            [
             0.4444444444444444,
             "#bd3786"
            ],
            [
             0.5555555555555556,
             "#d8576b"
            ],
            [
             0.6666666666666666,
             "#ed7953"
            ],
            [
             0.7777777777777778,
             "#fb9f3a"
            ],
            [
             0.8888888888888888,
             "#fdca26"
            ],
            [
             1,
             "#f0f921"
            ]
           ]
          },
          "colorway": [
           "#636efa",
           "#EF553B",
           "#00cc96",
           "#ab63fa",
           "#FFA15A",
           "#19d3f3",
           "#FF6692",
           "#B6E880",
           "#FF97FF",
           "#FECB52"
          ],
          "font": {
           "color": "#2a3f5f"
          },
          "geo": {
           "bgcolor": "white",
           "lakecolor": "white",
           "landcolor": "#E5ECF6",
           "showlakes": true,
           "showland": true,
           "subunitcolor": "white"
          },
          "hoverlabel": {
           "align": "left"
          },
          "hovermode": "closest",
          "mapbox": {
           "style": "light"
          },
          "paper_bgcolor": "white",
          "plot_bgcolor": "#E5ECF6",
          "polar": {
           "angularaxis": {
            "gridcolor": "white",
            "linecolor": "white",
            "ticks": ""
           },
           "bgcolor": "#E5ECF6",
           "radialaxis": {
            "gridcolor": "white",
            "linecolor": "white",
            "ticks": ""
           }
          },
          "scene": {
           "xaxis": {
            "backgroundcolor": "#E5ECF6",
            "gridcolor": "white",
            "gridwidth": 2,
            "linecolor": "white",
            "showbackground": true,
            "ticks": "",
            "zerolinecolor": "white"
           },
           "yaxis": {
            "backgroundcolor": "#E5ECF6",
            "gridcolor": "white",
            "gridwidth": 2,
            "linecolor": "white",
            "showbackground": true,
            "ticks": "",
            "zerolinecolor": "white"
           },
           "zaxis": {
            "backgroundcolor": "#E5ECF6",
            "gridcolor": "white",
            "gridwidth": 2,
            "linecolor": "white",
            "showbackground": true,
            "ticks": "",
            "zerolinecolor": "white"
           }
          },
          "shapedefaults": {
           "line": {
            "color": "#2a3f5f"
           }
          },
          "ternary": {
           "aaxis": {
            "gridcolor": "white",
            "linecolor": "white",
            "ticks": ""
           },
           "baxis": {
            "gridcolor": "white",
            "linecolor": "white",
            "ticks": ""
           },
           "bgcolor": "#E5ECF6",
           "caxis": {
            "gridcolor": "white",
            "linecolor": "white",
            "ticks": ""
           }
          },
          "title": {
           "x": 0.05
          },
          "xaxis": {
           "automargin": true,
           "gridcolor": "white",
           "linecolor": "white",
           "ticks": "",
           "title": {
            "standoff": 15
           },
           "zerolinecolor": "white",
           "zerolinewidth": 2
          },
          "yaxis": {
           "automargin": true,
           "gridcolor": "white",
           "linecolor": "white",
           "ticks": "",
           "title": {
            "standoff": 15
           },
           "zerolinecolor": "white",
           "zerolinewidth": 2
          }
         }
        },
        "xaxis": {
         "linecolor": "rgb(204,204,204)",
         "linewidth": 2,
         "showgrid": true,
         "showline": true,
         "showticklabels": true,
         "tickangle": -45,
         "tickfont": {
          "color": "rgb(82,82,82)",
          "family": "Arial",
          "size": 12
         },
         "ticks": "outside",
         "title": {
          "text": "Date"
         }
        },
        "yaxis": {
         "linecolor": "rgb(204,204,204)",
         "linewidth": 2,
         "showgrid": true,
         "showline": true,
         "showticklabels": true,
         "title": {
          "text": "Case Count"
         }
        }
       }
      }
     },
     "metadata": {}
    }
   ],
   "source": [
    "ts_array = [confirmed_India_ts,active_India_ts,recovered_India_ts,death_India_ts]\n",
    "labels = ['Confirmed','Active','Recovered','Deaths']\n",
    "colors = [color_arr[5],color_arr[0],color_arr[2],color_arr[3]]\n",
    "mode_size = [8,8,12,8]\n",
    "line_size = [2,2,4,2]\n",
    "\n",
    "fig3 = draw_plot(ts_array=ts_array,ts_label=labels,title=\"Covid-19 Case Status(India)\",colors=colors,mode_size = mode_size,line_size=line_size,x_axis_title=\"Date\",y_axis_title=\"Case Count\",tickangle=315,yaxis_type=\"\",additional_annotations=[])\n",
    "\n",
    "fig3.show()"
   ]
  },
  {
   "cell_type": "code",
   "execution_count": null,
   "metadata": {},
   "outputs": [],
   "source": []
  }
 ]
}